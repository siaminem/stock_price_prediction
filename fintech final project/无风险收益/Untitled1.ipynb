{
 "cells": [
  {
   "cell_type": "code",
   "execution_count": 86,
   "id": "adb7677c",
   "metadata": {},
   "outputs": [],
   "source": [
    "import pandas as pd\n",
    "import pandas as pd\n",
    "import matplotlib.pyplot as plt\n",
    "import matplotlib.ticker as ticker\n",
    "import statsmodels.api as sm\n",
    "from pyfinance.ols import PandasRollingOLS"
   ]
  },
  {
   "cell_type": "code",
   "execution_count": 2,
   "id": "2b89d931",
   "metadata": {},
   "outputs": [
    {
     "name": "stderr",
     "output_type": "stream",
     "text": [
      "D:\\anaconda3\\lib\\site-packages\\openpyxl\\styles\\stylesheet.py:221: UserWarning: Workbook contains no default style, apply openpyxl's default\n",
      "  warn(\"Workbook contains no default style, apply openpyxl's default\")\n"
     ]
    }
   ],
   "source": [
    "df1=pd.read_excel(\"财政部-中国国债收益率曲线历史数据2016年01月01日—2016年12月30日.xlsx\")\n",
    "df2=pd.read_excel(\"17年.xlsx\")\n",
    "df3=pd.read_excel(\"18年.xlsx\")\n",
    "df4=pd.read_excel(\"19年.xlsx\")\n",
    "df5=pd.read_excel(\"20年.xlsx\")\n",
    "df6=pd.read_excel(\"21年.xlsx\")\n",
    "df7=pd.read_excel(\"21年.2.xlsx\")\n",
    "df8=pd.read_excel(\"22年.xlsx\")\n",
    "df=pd.concat([df1,df2,df3,df4,df5,df6,df7,df8]).reset_index().drop(\"index\",1).sort_values(\"日期\")\n",
    "df[\"无风险利率\"]=(df[\"5年\"]+2.65)/2"
   ]
  },
  {
   "cell_type": "code",
   "execution_count": 3,
   "id": "682bdd6e",
   "metadata": {},
   "outputs": [],
   "source": [
    "CSI300=pd.read_csv(\"../Shanghai Shenzhen CSI 300 Historical Data (1).csv\")\n",
    "SSEC=pd.read_csv(\"../Shanghai Composite Historical Data (2).csv\")"
   ]
  },
  {
   "cell_type": "code",
   "execution_count": 4,
   "id": "63682c74",
   "metadata": {},
   "outputs": [],
   "source": [
    "CSI300[\"日期\"]=CSI300[\"Date\"].astype('datetime64[D]')\n",
    "SSEC[\"日期\"]=SSEC[\"Date\"].astype('datetime64[D]')\n",
    "df[\"日期\"]=df[\"日期\"].astype('datetime64[D]')\n",
    "CSI300[\"Price\"]=CSI300[\"Price\"].str.replace(\",\",\"\")\n",
    "CSI300[\"Price\"]=CSI300[\"Price\"].astype(float)\n",
    "CSI300[\"Change\"]=CSI300[\"Change %\"].str.replace(\"%\",\"\").astype(float)\n",
    "CSI=CSI300[[\"日期\",\"Price\",\"Change\"]].sort_values(\"日期\")"
   ]
  },
  {
   "cell_type": "code",
   "execution_count": 5,
   "id": "e559e54c",
   "metadata": {},
   "outputs": [],
   "source": [
    "SSEC[\"Price\"]=SSEC[\"Price\"].str.replace(\",\",\"\").astype(float)\n",
    "SSEC[\"Change\"]=SSEC[\"Change %\"].str.replace(\"%\",\"\").astype(float)\n",
    "ssec=SSEC[[\"日期\",\"Price\",\"Change\"]].sort_values(\"日期\")"
   ]
  },
  {
   "cell_type": "code",
   "execution_count": 6,
   "id": "0bef8476",
   "metadata": {},
   "outputs": [],
   "source": [
    "CSI=CSI.rename(columns={\"Price\":\"CSI_pri\",\"Change\":\"CSI_ch\"})"
   ]
  },
  {
   "cell_type": "code",
   "execution_count": 7,
   "id": "ea32b294",
   "metadata": {},
   "outputs": [],
   "source": [
    "ssec=ssec.rename(columns={\"Price\":\"ssec_pri\",\"Change\":\"ssec_ch\"})"
   ]
  },
  {
   "cell_type": "code",
   "execution_count": 8,
   "id": "f21c79d1",
   "metadata": {},
   "outputs": [],
   "source": [
    "indexes=pd.concat([CSI.set_index(\"日期\"),ssec.set_index(\"日期\")],axis=1)\n",
    "indexes[\"组合大盘指数\"]=(indexes[\"CSI_pri\"]*2+indexes[\"ssec_pri\"]*4)/6\n",
    "#无风险利率的计算规则：中国银行五年期定期存款利率+5年期国债取平均\n",
    "norisk=df[[\"日期\",\"无风险利率\"]]\n",
    "rm_rf=pd.concat([df.set_index(\"日期\")[[\"无风险利率\"]],indexes[[\"组合大盘指数\"]]],axis=1)"
   ]
  },
  {
   "cell_type": "code",
   "execution_count": 9,
   "id": "4dc0a6f8",
   "metadata": {},
   "outputs": [],
   "source": [
    "#上下两个值的平均值进行填充\n",
    "rm_rf=rm_rf.fillna(rm_rf.interpolate())\n",
    "#在此详细介绍下interpolate函数的参数：'nearest', 'zero', 'slinear', 'quadratic', 'cubic', 'spline', 'barycentric', 'polynomial'"
   ]
  },
  {
   "cell_type": "code",
   "execution_count": 10,
   "id": "1f201d75",
   "metadata": {},
   "outputs": [],
   "source": [
    "rm_rf[\"Rf\"]=rm_rf[\"无风险利率\"]/360"
   ]
  },
  {
   "cell_type": "code",
   "execution_count": 11,
   "id": "c4030e0c",
   "metadata": {},
   "outputs": [],
   "source": [
    "rm_rf[\"Rm\"]=rm_rf[\"组合大盘指数\"].pct_change(1)*100"
   ]
  },
  {
   "cell_type": "code",
   "execution_count": 12,
   "id": "8bf594aa",
   "metadata": {},
   "outputs": [],
   "source": [
    "#做一阶滞后\n",
    "rm_rfL1=rm_rf.shift(1).dropna()"
   ]
  },
  {
   "cell_type": "code",
   "execution_count": 13,
   "id": "e5e326b5",
   "metadata": {},
   "outputs": [],
   "source": [
    "cz1=pd.read_excel(\"C:/Users/Administrator/Desktop/fintech final project/stock_chosen/成长/002415.SZ.xlsx\")\n",
    "cz2=pd.read_excel(\"C:/Users/Administrator/Desktop/fintech final project/stock_chosen/成长/002475.SZ.xlsx\")\n",
    "cz3=pd.read_excel(\"C:/Users/Administrator/Desktop/fintech final project/stock_chosen/成长/601012.SH.xlsx\")\n",
    "s002415=cz1[[\"日期\",\"收盘价(元)\",\"涨跌幅(%)\"]].drop_duplicates(\"日期\").set_index(\"日期\").rename(columns={\"收盘价(元)\":\"002415_price\",\"涨跌幅(%)\":\"002415_r\"})\n",
    "s002475=cz2[[\"日期\",\"收盘价(元)\",\"涨跌幅(%)\"]].drop_duplicates(\"日期\").set_index(\"日期\").rename(columns={\"收盘价(元)\":\"002475_price\",\"涨跌幅(%)\":\"002475_r\"})\n",
    "s601012=cz3[[\"日期\",\"收盘价(元)\",\"涨跌幅(%)\"]].drop_duplicates(\"日期\").set_index(\"日期\").rename(columns={\"收盘价(元)\":\"601012_price\",\"涨跌幅(%)\":\"601012_r\"})\n",
    "cz_all=pd.concat([s002415,s002475,s601012],axis=1).dropna()"
   ]
  },
  {
   "cell_type": "code",
   "execution_count": 14,
   "id": "920cf7ff",
   "metadata": {},
   "outputs": [],
   "source": [
    "wd1=pd.read_excel(\"C:/Users/Administrator/Desktop/fintech final project/stock_chosen/稳定/600009.SH.xlsx\")\n",
    "wd2=pd.read_excel(\"C:/Users/Administrator/Desktop/fintech final project/stock_chosen/稳定/601390.SH.xlsx\")\n",
    "wd3=pd.read_excel(\"C:/Users/Administrator/Desktop/fintech final project/stock_chosen/稳定/601668.SH.xlsx\")\n",
    "s600009=wd1[[\"日期\",\"收盘价(元)\",\"涨跌幅(%)\"]].drop_duplicates(\"日期\").set_index(\"日期\").rename(columns={\"收盘价(元)\":\"600009_price\",\"涨跌幅(%)\":\"600009_r\"})\n",
    "s601390=wd2[[\"日期\",\"收盘价(元)\",\"涨跌幅(%)\"]].drop_duplicates(\"日期\").set_index(\"日期\").rename(columns={\"收盘价(元)\":\"601390_price\",\"涨跌幅(%)\":\"601390_r\"})\n",
    "s601668=wd3[[\"日期\",\"收盘价(元)\",\"涨跌幅(%)\"]].drop_duplicates(\"日期\").set_index(\"日期\").rename(columns={\"收盘价(元)\":\"601668_price\",\"涨跌幅(%)\":\"601668_r\"})\n",
    "wd_all=pd.concat([s600009,s601390,s601668],axis=1).dropna()"
   ]
  },
  {
   "attachments": {
    "image.png": {
     "image/png": "[encoded data removed]"
    }
   },
   "cell_type": "markdown",
   "id": "85a6e6d4",
   "metadata": {},
   "source": [
    "### Use 1-term lag Rm & Rf to predict future return\n",
    "![image.png](attachment:image.png)"
   ]
  },
  {
   "cell_type": "code",
   "execution_count": 216,
   "id": "e492c50e",
   "metadata": {},
   "outputs": [],
   "source": [
    "#长期预测\n",
    "import warnings\n",
    "def longterm(s002415):\n",
    "    warnings.filterwarnings('ignore')\n",
    "    tore=pd.concat([s002415,rm_rfL1],axis=1).dropna()\n",
    "    tore[\"risk_flow\"]=tore.iloc[:,1]-tore[\"Rf\"]\n",
    "    tore[\"mkt_flow\"]=tore[\"Rm\"]-tore[\"Rf\"]\n",
    "    #训练集\n",
    "    train=tore.iloc[:1459,:]\n",
    "    #预测集\n",
    "    pred=tore.iloc[1459:,:]\n",
    "    X=train[\"mkt_flow\"]\n",
    "    Y=train[\"risk_flow\"]\n",
    "    X2 = sm.add_constant(X)\n",
    "    est = sm.OLS(Y,X2).fit()\n",
    "    pred[\"risk_flow预测值\"]=est.predict(sm.add_constant(pred[\"mkt_flow\"]))\n",
    "    u=((pred[\"risk_flow\"]-pred[\"risk_flow预测值\"])**2).sum()\n",
    "    v=((pred[\"risk_flow\"]-pred[\"risk_flow\"].mean())**2).sum()\n",
    "    r2_score=1-u/v\n",
    "    pred[\"是否买入\"]=pred[\"risk_flow预测值\"].apply(lambda x:1 if x>0 else 0)\n",
    "    pred[\"实际是否涨\"]=pred[\"risk_flow\"].apply(lambda x:1 if x>0 else 0)\n",
    "    Accuracy=len(pred[(pred[\"是否买入\"]==pred[\"实际是否涨\"])==True])/len(pred)\n",
    "    return r2_score,Accuracy"
   ]
  },
  {
   "cell_type": "code",
   "execution_count": 197,
   "id": "91252918",
   "metadata": {},
   "outputs": [],
   "source": [
    "#长期预测(无差分)\n",
    "import warnings\n",
    "def longterm_2(s002415):\n",
    "    warnings.filterwarnings('ignore')\n",
    "    tore=pd.concat([s002415,rm_rf],axis=1).dropna()\n",
    "    tore[\"risk_flow\"]=tore.iloc[:,1]-tore[\"Rf\"]\n",
    "    tore[\"mkt_flow\"]=tore[\"Rm\"]-tore[\"Rf\"]\n",
    "    #训练集\n",
    "    train=tore.iloc[:1459,:]\n",
    "    #预测集\n",
    "    pred=tore.iloc[1459:,:]\n",
    "    X=train[\"mkt_flow\"]\n",
    "    Y=train[\"risk_flow\"]\n",
    "    X2 = sm.add_constant(X)\n",
    "    est = sm.OLS(Y,X2).fit()\n",
    "    pred[\"risk_flow预测值\"]=est.predict(sm.add_constant(pred[\"mkt_flow\"]))\n",
    "    u=((pred[\"risk_flow\"]-pred[\"risk_flow预测值\"])**2).sum()\n",
    "    v=((pred[\"risk_flow\"]-pred[\"risk_flow\"].mean())**2).sum()\n",
    "    r2_score=1-u/v\n",
    "    pred[\"是否买入\"]=pred[\"risk_flow预测值\"].apply(lambda x:1 if x>0 else 0)\n",
    "    pred[\"实际是否涨\"]=pred[\"risk_flow\"].apply(lambda x:1 if x>0 else 0)\n",
    "    Accuracy=len(pred[(pred[\"是否买入\"]==pred[\"实际是否涨\"])==True])/len(pred)\n",
    "    return r2_score,Accuracy"
   ]
  },
  {
   "cell_type": "code",
   "execution_count": 105,
   "id": "959091a8",
   "metadata": {},
   "outputs": [],
   "source": [
    "#滚动回归-60天\n",
    "import warnings\n",
    "def gundong(s002415):\n",
    "    tore=pd.concat([s002415,rm_rfL1],axis=1).dropna()\n",
    "    tore[\"risk_flow\"]=tore.iloc[:,1]-tore[\"Rf\"]\n",
    "    tore[\"mkt_flow\"]=tore[\"Rm\"]-tore[\"Rf\"]\n",
    "    X=tore[\"mkt_flow\"]\n",
    "    Y=tore[\"risk_flow\"]\n",
    "    results = PandasRollingOLS(X, Y, 60)  # window 是滚动回归的自变量个数\n",
    "    tore[\"peri_beta\"]=results.beta\n",
    "    tore[\"peri_alpha\"]=results.alpha\n",
    "    tore[\"risk_flow预测值\"]=tore[\"peri_beta\"]*tore[\"mkt_flow\"]-tore[\"peri_alpha\"]+tore[\"Rf\"]\n",
    "\n",
    "    to_pred=tore.iloc[1459:,:]\n",
    "    u=((to_pred[\"risk_flow\"]-to_pred[\"risk_flow预测值\"])**2).sum()\n",
    "    v=((to_pred[\"risk_flow\"]-to_pred[\"risk_flow\"].mean())**2).sum()\n",
    "    r2_score=1-u/v\n",
    "    to_pred[\"是否买入\"]=to_pred[\"risk_flow预测值\"].apply(lambda x:1 if x>0 else 0)\n",
    "    to_pred[\"实际是否涨\"]=to_pred[\"risk_flow\"].apply(lambda x:1 if x>0 else 0)\n",
    "    Accuracy=len(to_pred[(to_pred[\"是否买入\"]==to_pred[\"实际是否涨\"])==True])/len(to_pred)\n",
    "    return r2_score,Accuracy"
   ]
  },
  {
   "cell_type": "code",
   "execution_count": 107,
   "id": "9e44235c",
   "metadata": {},
   "outputs": [],
   "source": [
    "#滚动回归-180天\n",
    "import warnings\n",
    "def gundong(s002415):\n",
    "    tore=pd.concat([s002415,rm_rfL1],axis=1).dropna()\n",
    "    tore[\"risk_flow\"]=tore.iloc[:,1]-tore[\"Rf\"]\n",
    "    tore[\"mkt_flow\"]=tore[\"Rm\"]-tore[\"Rf\"]\n",
    "    X=tore[\"mkt_flow\"]\n",
    "    Y=tore[\"risk_flow\"]\n",
    "    results = PandasRollingOLS(X, Y, 180)  # window 是滚动回归的自变量个数\n",
    "    tore[\"peri_beta\"]=results.beta\n",
    "    tore[\"peri_alpha\"]=results.alpha\n",
    "    tore[\"risk_flow预测值\"]=tore[\"peri_beta\"]*tore[\"mkt_flow\"]-tore[\"peri_alpha\"]+tore[\"Rf\"]\n",
    "\n",
    "    to_pred=tore.iloc[1459:,:]\n",
    "    u=((to_pred[\"risk_flow\"]-to_pred[\"risk_flow预测值\"])**2).sum()\n",
    "    v=((to_pred[\"risk_flow\"]-to_pred[\"risk_flow\"].mean())**2).sum()\n",
    "    r2_score=1-u/v\n",
    "    to_pred[\"是否买入\"]=to_pred[\"risk_flow预测值\"].apply(lambda x:1 if x>0 else 0)\n",
    "    to_pred[\"实际是否涨\"]=to_pred[\"risk_flow\"].apply(lambda x:1 if x>0 else 0)\n",
    "    Accuracy=len(to_pred[(to_pred[\"是否买入\"]==to_pred[\"实际是否涨\"])==True])/len(to_pred)\n",
    "    return r2_score,Accuracy"
   ]
  },
  {
   "cell_type": "code",
   "execution_count": 92,
   "id": "d7111693",
   "metadata": {},
   "outputs": [],
   "source": [
    "warnings.filterwarnings('ignore')\n",
    "tore=pd.concat([s002415,rm_rfL1],axis=1).dropna()\n",
    "tore[\"risk_flow\"]=tore.iloc[:,1]-tore[\"Rf\"]\n",
    "tore[\"mkt_flow\"]=tore[\"Rm\"]-tore[\"Rf\"]\n",
    "X=tore[\"mkt_flow\"]\n",
    "Y=tore[\"risk_flow\"]\n",
    "results = PandasRollingOLS(X, Y, 60)\n",
    "\n",
    "tore[\"risk_flow预测值\"]=est.toreict(sm.add_constant(tore[\"mkt_flow\"]))\n",
    "u=((tore[\"risk_flow\"]-tore[\"risk_flow预测值\"])**2).sum()\n",
    "v=((tore[\"risk_flow\"]-tore[\"risk_flow\"].mean())**2).sum()\n",
    "r2_score=1-u/v\n",
    "tore[\"是否买入\"]=tore[\"risk_flow预测值\"].apply(lambda x:1 if x>0 else 0)\n",
    "tore[\"实际是否涨\"]=tore[\"risk_flow\"].apply(lambda x:1 if x>0 else 0)\n",
    "Accuracy=len(tore[(tore[\"是否买入\"]==tore[\"实际是否涨\"])==True])/len(tore)\n",
    "return r2_score,Accuracy"
   ]
  },
  {
   "attachments": {
    "image.png": {
     "image/png": "[encoded data removed]"
    }
   },
   "cell_type": "markdown",
   "id": "b2474aa6",
   "metadata": {},
   "source": [
    "### Use 1-term lag Rm & Rf to predict future return\n",
    "![image.png](attachment:image.png)"
   ]
  },
  {
   "cell_type": "code",
   "execution_count": 100,
   "id": "0b5ea29f",
   "metadata": {},
   "outputs": [],
   "source": [
    "results = PandasRollingOLS(X, Y, 60)  # window 是滚动回归的自变量个数\n",
    "tore[\"peri_beta\"]=results.beta\n",
    "tore[\"peri_alpha\"]=results.alpha\n",
    "tore[\"risk_flow预测值\"]=tore[\"peri_beta\"]*tore[\"mkt_flow\"]-tore[\"peri_alpha\"]+tore[\"Rf\"]\n",
    "\n",
    "to_pred=tore.iloc[1459:,:]\n",
    "u=((to_pred[\"risk_flow\"]-to_pred[\"risk_flow预测值\"])**2).sum()\n",
    "v=((to_pred[\"risk_flow\"]-to_pred[\"risk_flow\"].mean())**2).sum()\n",
    "r2_score=1-u/v\n",
    "to_pred[\"是否买入\"]=to_pred[\"risk_flow预测值\"].apply(lambda x:1 if x>0 else 0)\n",
    "to_pred[\"实际是否涨\"]=to_pred[\"risk_flow\"].apply(lambda x:1 if x>0 else 0)\n",
    "Accuracy=len(to_pred[(to_pred[\"是否买入\"]==to_pred[\"实际是否涨\"])==True])/len(to_pred)\n"
   ]
  },
  {
   "cell_type": "code",
   "execution_count": 68,
   "id": "ce4e8ab5",
   "metadata": {},
   "outputs": [],
   "source": [
    "#(1+(pred[\"risk_flow预测值\"]+pred[\"Rf\"]))*tore.iloc[1458,0]\n",
    "pred[\"Er\"]=pred[\"risk_flow预测值\"]+pred[\"Rf\"]\n",
    "pred[\"Cum_Er\"]=round(round(pred[\"Er\"],2).cumprod(axis=0),2)\n",
    "pred[\"future_price\"]=pred[\"Cum_Er\"]*tore.iloc[1458,0]"
   ]
  },
  {
   "cell_type": "code",
   "execution_count": 56,
   "id": "bdbd13a3",
   "metadata": {},
   "outputs": [],
   "source": []
  },
  {
   "cell_type": "code",
   "execution_count": 60,
   "id": "91a4ced0",
   "metadata": {},
   "outputs": [],
   "source": []
  },
  {
   "cell_type": "code",
   "execution_count": 70,
   "id": "b7a63458",
   "metadata": {
    "scrolled": true
   },
   "outputs": [
    {
     "data": {
      "text/plain": [
       "[<matplotlib.lines.Line2D at 0x1e1f122de20>]"
      ]
     },
     "execution_count": 70,
     "metadata": {},
     "output_type": "execute_result"
    },
    {
     "data": {
      "image/png": "[encoded data removed]",
      "text/plain": [
       "<Figure size 432x288 with 1 Axes>"
      ]
     },
     "metadata": {
      "needs_background": "light"
     },
     "output_type": "display_data"
    }
   ],
   "source": [
    "plt.plot(pred[\"Er\"])"
   ]
  },
  {
   "cell_type": "code",
   "execution_count": 74,
   "id": "4de431e3",
   "metadata": {},
   "outputs": [
    {
     "data": {
      "text/plain": [
       "52.32"
      ]
     },
     "execution_count": 74,
     "metadata": {},
     "output_type": "execute_result"
    }
   ],
   "source": [
    "tore.iloc[1458,0]"
   ]
  },
  {
   "cell_type": "code",
   "execution_count": 84,
   "id": "f7250ec4",
   "metadata": {},
   "outputs": [
    {
     "data": {
      "text/plain": [
       "[<matplotlib.lines.Line2D at 0x1e1f392feb0>]"
      ]
     },
     "execution_count": 84,
     "metadata": {},
     "output_type": "execute_result"
    },
    {
     "data": {
      "image/png": "[encoded data removed]",
      "text/plain": [
       "<Figure size 432x288 with 1 Axes>"
      ]
     },
     "metadata": {
      "needs_background": "light"
     },
     "output_type": "display_data"
    }
   ],
   "source": [
    "plt.plot(pred.iloc[:10,:][\"002415_price\"])\n",
    "plt.plot(pred.iloc[:10,:][\"future_price\"])"
   ]
  },
  {
   "cell_type": "code",
   "execution_count": 28,
   "id": "e3778514",
   "metadata": {},
   "outputs": [
    {
     "data": {
      "text/html": [
       "<div>\n",
       "<style scoped>\n",
       "    .dataframe tbody tr th:only-of-type {\n",
       "        vertical-align: middle;\n",
       "    }\n",
       "\n",
       "    .dataframe tbody tr th {\n",
       "        vertical-align: top;\n",
       "    }\n",
       "\n",
       "    .dataframe thead th {\n",
       "        text-align: right;\n",
       "    }\n",
       "</style>\n",
       "<table border=\"1\" class=\"dataframe\">\n",
       "  <thead>\n",
       "    <tr style=\"text-align: right;\">\n",
       "      <th></th>\n",
       "      <th>002415_price</th>\n",
       "      <th>002415_r</th>\n",
       "      <th>无风险利率</th>\n",
       "      <th>组合大盘指数</th>\n",
       "      <th>Rf</th>\n",
       "      <th>Rm</th>\n",
       "      <th>risk_flow</th>\n",
       "      <th>mkt_flow</th>\n",
       "      <th>risk_flow预测值</th>\n",
       "      <th>是否买入</th>\n",
       "      <th>实际是否涨</th>\n",
       "    </tr>\n",
       "    <tr>\n",
       "      <th>日期</th>\n",
       "      <th></th>\n",
       "      <th></th>\n",
       "      <th></th>\n",
       "      <th></th>\n",
       "      <th></th>\n",
       "      <th></th>\n",
       "      <th></th>\n",
       "      <th></th>\n",
       "      <th></th>\n",
       "      <th></th>\n",
       "      <th></th>\n",
       "    </tr>\n",
       "  </thead>\n",
       "  <tbody>\n",
       "    <tr>\n",
       "      <th>2022-01-04</th>\n",
       "      <td>52.41</td>\n",
       "      <td>0.1720</td>\n",
       "      <td>2.630</td>\n",
       "      <td>4073.310000</td>\n",
       "      <td>0.007306</td>\n",
       "      <td>0.493754</td>\n",
       "      <td>0.164694</td>\n",
       "      <td>0.486449</td>\n",
       "      <td>0.058649</td>\n",
       "      <td>1</td>\n",
       "      <td>1</td>\n",
       "    </tr>\n",
       "    <tr>\n",
       "      <th>2022-01-05</th>\n",
       "      <td>51.33</td>\n",
       "      <td>-2.0607</td>\n",
       "      <td>2.630</td>\n",
       "      <td>4060.810000</td>\n",
       "      <td>0.007306</td>\n",
       "      <td>-0.306876</td>\n",
       "      <td>-2.068006</td>\n",
       "      <td>-0.314181</td>\n",
       "      <td>0.156774</td>\n",
       "      <td>1</td>\n",
       "      <td>0</td>\n",
       "    </tr>\n",
       "    <tr>\n",
       "      <th>2022-01-06</th>\n",
       "      <td>49.97</td>\n",
       "      <td>-2.6495</td>\n",
       "      <td>2.645</td>\n",
       "      <td>4019.493333</td>\n",
       "      <td>0.007347</td>\n",
       "      <td>-1.017449</td>\n",
       "      <td>-2.656847</td>\n",
       "      <td>-1.024796</td>\n",
       "      <td>0.243867</td>\n",
       "      <td>1</td>\n",
       "      <td>0</td>\n",
       "    </tr>\n",
       "    <tr>\n",
       "      <th>2022-01-07</th>\n",
       "      <td>49.87</td>\n",
       "      <td>-0.2001</td>\n",
       "      <td>2.655</td>\n",
       "      <td>3996.796667</td>\n",
       "      <td>0.007375</td>\n",
       "      <td>-0.564665</td>\n",
       "      <td>-0.207475</td>\n",
       "      <td>-0.572040</td>\n",
       "      <td>0.188377</td>\n",
       "      <td>1</td>\n",
       "      <td>0</td>\n",
       "    </tr>\n",
       "    <tr>\n",
       "      <th>2022-01-10</th>\n",
       "      <td>50.28</td>\n",
       "      <td>0.8221</td>\n",
       "      <td>2.650</td>\n",
       "      <td>3993.816667</td>\n",
       "      <td>0.007361</td>\n",
       "      <td>-0.074560</td>\n",
       "      <td>0.814739</td>\n",
       "      <td>-0.081921</td>\n",
       "      <td>0.128308</td>\n",
       "      <td>1</td>\n",
       "      <td>1</td>\n",
       "    </tr>\n",
       "    <tr>\n",
       "      <th>...</th>\n",
       "      <td>...</td>\n",
       "      <td>...</td>\n",
       "      <td>...</td>\n",
       "      <td>...</td>\n",
       "      <td>...</td>\n",
       "      <td>...</td>\n",
       "      <td>...</td>\n",
       "      <td>...</td>\n",
       "      <td>...</td>\n",
       "      <td>...</td>\n",
       "      <td>...</td>\n",
       "    </tr>\n",
       "    <tr>\n",
       "      <th>2022-11-28</th>\n",
       "      <td>30.37</td>\n",
       "      <td>-1.7152</td>\n",
       "      <td>2.630</td>\n",
       "      <td>3326.386667</td>\n",
       "      <td>0.007306</td>\n",
       "      <td>0.440142</td>\n",
       "      <td>-1.722506</td>\n",
       "      <td>0.432836</td>\n",
       "      <td>0.065219</td>\n",
       "      <td>1</td>\n",
       "      <td>0</td>\n",
       "    </tr>\n",
       "    <tr>\n",
       "      <th>2022-11-29</th>\n",
       "      <td>31.64</td>\n",
       "      <td>4.1818</td>\n",
       "      <td>2.650</td>\n",
       "      <td>3296.780000</td>\n",
       "      <td>0.007361</td>\n",
       "      <td>-0.890055</td>\n",
       "      <td>4.174439</td>\n",
       "      <td>-0.897416</td>\n",
       "      <td>0.228255</td>\n",
       "      <td>1</td>\n",
       "      <td>1</td>\n",
       "    </tr>\n",
       "    <tr>\n",
       "      <th>2022-11-30</th>\n",
       "      <td>31.51</td>\n",
       "      <td>-0.4109</td>\n",
       "      <td>2.675</td>\n",
       "      <td>3382.640000</td>\n",
       "      <td>0.007431</td>\n",
       "      <td>2.604359</td>\n",
       "      <td>-0.418331</td>\n",
       "      <td>2.596929</td>\n",
       "      <td>-0.200012</td>\n",
       "      <td>0</td>\n",
       "      <td>0</td>\n",
       "    </tr>\n",
       "    <tr>\n",
       "      <th>2022-12-01</th>\n",
       "      <td>32.05</td>\n",
       "      <td>1.7137</td>\n",
       "      <td>2.670</td>\n",
       "      <td>3385.240000</td>\n",
       "      <td>0.007417</td>\n",
       "      <td>0.076863</td>\n",
       "      <td>1.706283</td>\n",
       "      <td>0.069446</td>\n",
       "      <td>0.109756</td>\n",
       "      <td>1</td>\n",
       "      <td>1</td>\n",
       "    </tr>\n",
       "    <tr>\n",
       "      <th>2022-12-02</th>\n",
       "      <td>31.95</td>\n",
       "      <td>-0.3120</td>\n",
       "      <td>2.660</td>\n",
       "      <td>3408.570000</td>\n",
       "      <td>0.007389</td>\n",
       "      <td>0.689168</td>\n",
       "      <td>-0.319389</td>\n",
       "      <td>0.681779</td>\n",
       "      <td>0.034709</td>\n",
       "      <td>1</td>\n",
       "      <td>0</td>\n",
       "    </tr>\n",
       "  </tbody>\n",
       "</table>\n",
       "<p>222 rows × 11 columns</p>\n",
       "</div>"
      ],
      "text/plain": [
       "            002415_price  002415_r  无风险利率       组合大盘指数        Rf        Rm  \\\n",
       "日期                                                                           \n",
       "2022-01-04         52.41    0.1720  2.630  4073.310000  0.007306  0.493754   \n",
       "2022-01-05         51.33   -2.0607  2.630  4060.810000  0.007306 -0.306876   \n",
       "2022-01-06         49.97   -2.6495  2.645  4019.493333  0.007347 -1.017449   \n",
       "2022-01-07         49.87   -0.2001  2.655  3996.796667  0.007375 -0.564665   \n",
       "2022-01-10         50.28    0.8221  2.650  3993.816667  0.007361 -0.074560   \n",
       "...                  ...       ...    ...          ...       ...       ...   \n",
       "2022-11-28         30.37   -1.7152  2.630  3326.386667  0.007306  0.440142   \n",
       "2022-11-29         31.64    4.1818  2.650  3296.780000  0.007361 -0.890055   \n",
       "2022-11-30         31.51   -0.4109  2.675  3382.640000  0.007431  2.604359   \n",
       "2022-12-01         32.05    1.7137  2.670  3385.240000  0.007417  0.076863   \n",
       "2022-12-02         31.95   -0.3120  2.660  3408.570000  0.007389  0.689168   \n",
       "\n",
       "            risk_flow  mkt_flow  risk_flow预测值  是否买入  实际是否涨  \n",
       "日期                                                          \n",
       "2022-01-04   0.164694  0.486449      0.058649     1      1  \n",
       "2022-01-05  -2.068006 -0.314181      0.156774     1      0  \n",
       "2022-01-06  -2.656847 -1.024796      0.243867     1      0  \n",
       "2022-01-07  -0.207475 -0.572040      0.188377     1      0  \n",
       "2022-01-10   0.814739 -0.081921      0.128308     1      1  \n",
       "...               ...       ...           ...   ...    ...  \n",
       "2022-11-28  -1.722506  0.432836      0.065219     1      0  \n",
       "2022-11-29   4.174439 -0.897416      0.228255     1      1  \n",
       "2022-11-30  -0.418331  2.596929     -0.200012     0      0  \n",
       "2022-12-01   1.706283  0.069446      0.109756     1      1  \n",
       "2022-12-02  -0.319389  0.681779      0.034709     1      0  \n",
       "\n",
       "[222 rows x 11 columns]"
      ]
     },
     "execution_count": 28,
     "metadata": {},
     "output_type": "execute_result"
    }
   ],
   "source": [
    "warnings.filterwarnings('ignore')\n",
    "tore=pd.concat([s002415,rm_rfL1],axis=1).dropna()\n",
    "tore[\"risk_flow\"]=tore.iloc[:,1]-tore[\"Rf\"]\n",
    "tore[\"mkt_flow\"]=tore[\"Rm\"]-tore[\"Rf\"]\n",
    "#训练集\n",
    "train=tore.iloc[:1459,:]\n",
    "#预测集\n",
    "pred=tore.iloc[1459:,:]\n",
    "X=train[\"mkt_flow\"]\n",
    "Y=train[\"risk_flow\"]\n",
    "X2 = sm.add_constant(X)\n",
    "est = sm.OLS(Y,X2).fit()\n",
    "pred[\"risk_flow预测值\"]=est.predict(sm.add_constant(pred[\"mkt_flow\"]))\n",
    "u=((pred[\"risk_flow\"]-pred[\"risk_flow预测值\"])**2).sum()\n",
    "v=((pred[\"risk_flow\"]-pred[\"risk_flow\"].mean())**2).sum()\n",
    "r2_score=1-u/v\n",
    "pred[\"是否买入\"]=pred[\"risk_flow预测值\"].apply(lambda x:1 if x>0 else 0)\n",
    "pred[\"实际是否涨\"]=pred[\"risk_flow\"].apply(lambda x:1 if x>0 else 0)\n",
    "Accuracy=len(pred[(pred[\"是否买入\"]==pred[\"实际是否涨\"])==True])/len(pred)"
   ]
  },
  {
   "cell_type": "code",
   "execution_count": null,
   "id": "adb54f7b",
   "metadata": {},
   "outputs": [],
   "source": [
    "pred[\"risk_flow预测值\"]"
   ]
  },
  {
   "cell_type": "code",
   "execution_count": 16,
   "id": "114425ec",
   "metadata": {},
   "outputs": [
    {
     "data": {
      "text/plain": [
       "(-0.029732376741647304, 0.45495495495495497)"
      ]
     },
     "execution_count": 16,
     "metadata": {},
     "output_type": "execute_result"
    }
   ],
   "source": [
    "longterm(s002415)"
   ]
  },
  {
   "cell_type": "code",
   "execution_count": 17,
   "id": "e2325bca",
   "metadata": {},
   "outputs": [
    {
     "data": {
      "text/plain": [
       "(-0.010293494811097537, 0.42792792792792794)"
      ]
     },
     "execution_count": 17,
     "metadata": {},
     "output_type": "execute_result"
    }
   ],
   "source": [
    "longterm(s002475)"
   ]
  },
  {
   "cell_type": "code",
   "execution_count": 18,
   "id": "83b6ae46",
   "metadata": {},
   "outputs": [
    {
     "data": {
      "text/plain": [
       "(-0.01213976700103081, 0.46396396396396394)"
      ]
     },
     "execution_count": 18,
     "metadata": {},
     "output_type": "execute_result"
    }
   ],
   "source": [
    "longterm(s601012)"
   ]
  },
  {
   "cell_type": "code",
   "execution_count": 19,
   "id": "6bc9c03a",
   "metadata": {},
   "outputs": [
    {
     "data": {
      "text/plain": [
       "(-0.0028805310018251706, 0.46846846846846846)"
      ]
     },
     "execution_count": 19,
     "metadata": {},
     "output_type": "execute_result"
    }
   ],
   "source": [
    "longterm(s600009)"
   ]
  },
  {
   "cell_type": "code",
   "execution_count": 20,
   "id": "70e3c2c0",
   "metadata": {},
   "outputs": [
    {
     "data": {
      "text/plain": [
       "(-0.0003466785631625058, 0.527027027027027)"
      ]
     },
     "execution_count": 20,
     "metadata": {},
     "output_type": "execute_result"
    }
   ],
   "source": [
    "longterm(s601390)"
   ]
  },
  {
   "cell_type": "code",
   "execution_count": 21,
   "id": "0cf4caa3",
   "metadata": {},
   "outputs": [
    {
     "data": {
      "text/plain": [
       "(-0.002673897859305052, 0.5336322869955157)"
      ]
     },
     "execution_count": 21,
     "metadata": {},
     "output_type": "execute_result"
    }
   ],
   "source": [
    "longterm(s601668)"
   ]
  },
  {
   "cell_type": "code",
   "execution_count": 22,
   "id": "a2f76bce",
   "metadata": {},
   "outputs": [
    {
     "data": {
      "text/plain": [
       "[(-0.029732376741647304, 0.45495495495495497),\n",
       " (-0.010293494811097537, 0.42792792792792794),\n",
       " (-0.01213976700103081, 0.46396396396396394),\n",
       " (-0.0028805310018251706, 0.46846846846846846),\n",
       " (-0.0003466785631625058, 0.527027027027027),\n",
       " (-0.002673897859305052, 0.5336322869955157)]"
      ]
     },
     "execution_count": 22,
     "metadata": {},
     "output_type": "execute_result"
    }
   ],
   "source": [
    "data=(longterm(s002415),longterm(s002475),longterm(s601012),longterm(s600009),longterm(s601390),longterm(s601668))\n",
    "list(data)"
   ]
  },
  {
   "cell_type": "code",
   "execution_count": 23,
   "id": "7f97bf1f",
   "metadata": {},
   "outputs": [
    {
     "data": {
      "text/html": [
       "<div>\n",
       "<style scoped>\n",
       "    .dataframe tbody tr th:only-of-type {\n",
       "        vertical-align: middle;\n",
       "    }\n",
       "\n",
       "    .dataframe tbody tr th {\n",
       "        vertical-align: top;\n",
       "    }\n",
       "\n",
       "    .dataframe thead th {\n",
       "        text-align: right;\n",
       "    }\n",
       "</style>\n",
       "<table border=\"1\" class=\"dataframe\">\n",
       "  <thead>\n",
       "    <tr style=\"text-align: right;\">\n",
       "      <th></th>\n",
       "      <th>R2-score</th>\n",
       "      <th>Accuracy</th>\n",
       "    </tr>\n",
       "  </thead>\n",
       "  <tbody>\n",
       "    <tr>\n",
       "      <th>002415</th>\n",
       "      <td>-0.029732</td>\n",
       "      <td>0.454955</td>\n",
       "    </tr>\n",
       "    <tr>\n",
       "      <th>002475</th>\n",
       "      <td>-0.010293</td>\n",
       "      <td>0.427928</td>\n",
       "    </tr>\n",
       "    <tr>\n",
       "      <th>601012</th>\n",
       "      <td>-0.012140</td>\n",
       "      <td>0.463964</td>\n",
       "    </tr>\n",
       "    <tr>\n",
       "      <th>600009</th>\n",
       "      <td>-0.002881</td>\n",
       "      <td>0.468468</td>\n",
       "    </tr>\n",
       "    <tr>\n",
       "      <th>601390</th>\n",
       "      <td>-0.000347</td>\n",
       "      <td>0.527027</td>\n",
       "    </tr>\n",
       "    <tr>\n",
       "      <th>601668</th>\n",
       "      <td>-0.002674</td>\n",
       "      <td>0.533632</td>\n",
       "    </tr>\n",
       "  </tbody>\n",
       "</table>\n",
       "</div>"
      ],
      "text/plain": [
       "        R2-score  Accuracy\n",
       "002415 -0.029732  0.454955\n",
       "002475 -0.010293  0.427928\n",
       "601012 -0.012140  0.463964\n",
       "600009 -0.002881  0.468468\n",
       "601390 -0.000347  0.527027\n",
       "601668 -0.002674  0.533632"
      ]
     },
     "execution_count": 23,
     "metadata": {},
     "output_type": "execute_result"
    }
   ],
   "source": [
    "pd.DataFrame(list(data),columns=[\"R2-score\",\"Accuracy\"],index=[\"002415\",\"002475\",\"601012\",\"600009\",\"601390\",\"601668\"])"
   ]
  },
  {
   "cell_type": "code",
   "execution_count": 24,
   "id": "d101351b",
   "metadata": {},
   "outputs": [],
   "source": [
    "#长期预测\n",
    "def shorterm(s002415):\n",
    "    tore=pd.concat([s002415,rm_rfL1],axis=1).dropna()\n",
    "    tore[\"risk_flow\"]=tore.iloc[:,1]-tore[\"Rf\"]\n",
    "    tore[\"mkt_flow\"]=tore[\"Rm\"]-tore[\"Rf\"]\n",
    "    #训练集\n",
    "    train=tore.iloc[:1459,:]\n",
    "    #预测集\n",
    "    pred=tore.iloc[1459:,:]\n",
    "    X=train[\"mkt_flow\"]\n",
    "    Y=train[\"risk_flow\"]\n",
    "    X2 = sm.add_constant(X)\n",
    "    est = sm.OLS(Y,X2).fit()\n",
    "    pred[\"risk_flow预测值\"]=est.predict(sm.add_constant(pred[\"mkt_flow\"]))\n",
    "    predi=pred.iloc[:7,:]\n",
    "    u=((predi[\"risk_flow\"]-predi[\"risk_flow预测值\"])**2).sum()\n",
    "    v=((predi[\"risk_flow\"]-predi[\"risk_flow\"].mean())**2).sum()\n",
    "    r2_score=1-u/v\n",
    "    pred[\"是否买入\"]=pred[\"risk_flow预测值\"].apply(lambda x:1 if x>0 else 0)\n",
    "    pred[\"实际是否涨\"]=pred[\"risk_flow\"].apply(lambda x:1 if x>0 else 0)\n",
    "    Accuracy=len(pred[(pred[\"是否买入\"]==pred[\"实际是否涨\"])==True])/len(pred)\n",
    "    return r2_score,Accuracy"
   ]
  },
  {
   "cell_type": "code",
   "execution_count": 25,
   "id": "c2973671",
   "metadata": {},
   "outputs": [
    {
     "data": {
      "text/html": [
       "<div>\n",
       "<style scoped>\n",
       "    .dataframe tbody tr th:only-of-type {\n",
       "        vertical-align: middle;\n",
       "    }\n",
       "\n",
       "    .dataframe tbody tr th {\n",
       "        vertical-align: top;\n",
       "    }\n",
       "\n",
       "    .dataframe thead th {\n",
       "        text-align: right;\n",
       "    }\n",
       "</style>\n",
       "<table border=\"1\" class=\"dataframe\">\n",
       "  <thead>\n",
       "    <tr style=\"text-align: right;\">\n",
       "      <th></th>\n",
       "      <th>R2-score</th>\n",
       "      <th>Accuracy</th>\n",
       "    </tr>\n",
       "  </thead>\n",
       "  <tbody>\n",
       "    <tr>\n",
       "      <th>002415</th>\n",
       "      <td>-0.853469</td>\n",
       "      <td>0.454955</td>\n",
       "    </tr>\n",
       "    <tr>\n",
       "      <th>002475</th>\n",
       "      <td>-0.057874</td>\n",
       "      <td>0.427928</td>\n",
       "    </tr>\n",
       "    <tr>\n",
       "      <th>601012</th>\n",
       "      <td>-0.418573</td>\n",
       "      <td>0.463964</td>\n",
       "    </tr>\n",
       "    <tr>\n",
       "      <th>600009</th>\n",
       "      <td>-0.352959</td>\n",
       "      <td>0.468468</td>\n",
       "    </tr>\n",
       "    <tr>\n",
       "      <th>601390</th>\n",
       "      <td>-0.177817</td>\n",
       "      <td>0.527027</td>\n",
       "    </tr>\n",
       "    <tr>\n",
       "      <th>601668</th>\n",
       "      <td>-0.195425</td>\n",
       "      <td>0.533632</td>\n",
       "    </tr>\n",
       "  </tbody>\n",
       "</table>\n",
       "</div>"
      ],
      "text/plain": [
       "        R2-score  Accuracy\n",
       "002415 -0.853469  0.454955\n",
       "002475 -0.057874  0.427928\n",
       "601012 -0.418573  0.463964\n",
       "600009 -0.352959  0.468468\n",
       "601390 -0.177817  0.527027\n",
       "601668 -0.195425  0.533632"
      ]
     },
     "execution_count": 25,
     "metadata": {},
     "output_type": "execute_result"
    }
   ],
   "source": [
    "data=(shorterm(s002415),shorterm(s002475),shorterm(s601012),shorterm(s600009),shorterm(s601390),shorterm(s601668))\n",
    "pd.DataFrame(list(data),columns=[\"R2-score\",\"Accuracy\"],index=[\"002415\",\"002475\",\"601012\",\"600009\",\"601390\",\"601668\"])"
   ]
  },
  {
   "cell_type": "code",
   "execution_count": 106,
   "id": "6a88780d",
   "metadata": {},
   "outputs": [
    {
     "data": {
      "text/html": [
       "<div>\n",
       "<style scoped>\n",
       "    .dataframe tbody tr th:only-of-type {\n",
       "        vertical-align: middle;\n",
       "    }\n",
       "\n",
       "    .dataframe tbody tr th {\n",
       "        vertical-align: top;\n",
       "    }\n",
       "\n",
       "    .dataframe thead th {\n",
       "        text-align: right;\n",
       "    }\n",
       "</style>\n",
       "<table border=\"1\" class=\"dataframe\">\n",
       "  <thead>\n",
       "    <tr style=\"text-align: right;\">\n",
       "      <th></th>\n",
       "      <th>R2-score</th>\n",
       "      <th>Accuracy</th>\n",
       "    </tr>\n",
       "  </thead>\n",
       "  <tbody>\n",
       "    <tr>\n",
       "      <th>002415</th>\n",
       "      <td>-0.006452</td>\n",
       "      <td>0.545045</td>\n",
       "    </tr>\n",
       "    <tr>\n",
       "      <th>002475</th>\n",
       "      <td>-0.009949</td>\n",
       "      <td>0.432432</td>\n",
       "    </tr>\n",
       "    <tr>\n",
       "      <th>601012</th>\n",
       "      <td>0.005066</td>\n",
       "      <td>0.450450</td>\n",
       "    </tr>\n",
       "    <tr>\n",
       "      <th>600009</th>\n",
       "      <td>0.003861</td>\n",
       "      <td>0.504505</td>\n",
       "    </tr>\n",
       "    <tr>\n",
       "      <th>601390</th>\n",
       "      <td>0.009270</td>\n",
       "      <td>0.545045</td>\n",
       "    </tr>\n",
       "    <tr>\n",
       "      <th>601668</th>\n",
       "      <td>0.006065</td>\n",
       "      <td>0.547085</td>\n",
       "    </tr>\n",
       "  </tbody>\n",
       "</table>\n",
       "</div>"
      ],
      "text/plain": [
       "        R2-score  Accuracy\n",
       "002415 -0.006452  0.545045\n",
       "002475 -0.009949  0.432432\n",
       "601012  0.005066  0.450450\n",
       "600009  0.003861  0.504505\n",
       "601390  0.009270  0.545045\n",
       "601668  0.006065  0.547085"
      ]
     },
     "execution_count": 106,
     "metadata": {},
     "output_type": "execute_result"
    }
   ],
   "source": [
    "data=(gundong(s002415),gundong(s002475),gundong(s601012),gundong(s600009),gundong(s601390),gundong(s601668))\n",
    "pd.DataFrame(list(data),columns=[\"R2-score\",\"Accuracy\"],index=[\"002415\",\"002475\",\"601012\",\"600009\",\"601390\",\"601668\"])"
   ]
  },
  {
   "cell_type": "code",
   "execution_count": 108,
   "id": "71b34573",
   "metadata": {},
   "outputs": [
    {
     "data": {
      "text/html": [
       "<div>\n",
       "<style scoped>\n",
       "    .dataframe tbody tr th:only-of-type {\n",
       "        vertical-align: middle;\n",
       "    }\n",
       "\n",
       "    .dataframe tbody tr th {\n",
       "        vertical-align: top;\n",
       "    }\n",
       "\n",
       "    .dataframe thead th {\n",
       "        text-align: right;\n",
       "    }\n",
       "</style>\n",
       "<table border=\"1\" class=\"dataframe\">\n",
       "  <thead>\n",
       "    <tr style=\"text-align: right;\">\n",
       "      <th></th>\n",
       "      <th>R2-score</th>\n",
       "      <th>Accuracy</th>\n",
       "    </tr>\n",
       "  </thead>\n",
       "  <tbody>\n",
       "    <tr>\n",
       "      <th>002415</th>\n",
       "      <td>-0.007640</td>\n",
       "      <td>0.509009</td>\n",
       "    </tr>\n",
       "    <tr>\n",
       "      <th>002475</th>\n",
       "      <td>-0.004515</td>\n",
       "      <td>0.405405</td>\n",
       "    </tr>\n",
       "    <tr>\n",
       "      <th>601012</th>\n",
       "      <td>0.000620</td>\n",
       "      <td>0.477477</td>\n",
       "    </tr>\n",
       "    <tr>\n",
       "      <th>600009</th>\n",
       "      <td>0.004068</td>\n",
       "      <td>0.481982</td>\n",
       "    </tr>\n",
       "    <tr>\n",
       "      <th>601390</th>\n",
       "      <td>0.003411</td>\n",
       "      <td>0.486486</td>\n",
       "    </tr>\n",
       "    <tr>\n",
       "      <th>601668</th>\n",
       "      <td>0.003446</td>\n",
       "      <td>0.511211</td>\n",
       "    </tr>\n",
       "  </tbody>\n",
       "</table>\n",
       "</div>"
      ],
      "text/plain": [
       "        R2-score  Accuracy\n",
       "002415 -0.007640  0.509009\n",
       "002475 -0.004515  0.405405\n",
       "601012  0.000620  0.477477\n",
       "600009  0.004068  0.481982\n",
       "601390  0.003411  0.486486\n",
       "601668  0.003446  0.511211"
      ]
     },
     "execution_count": 108,
     "metadata": {},
     "output_type": "execute_result"
    }
   ],
   "source": [
    "data=(gundong(s002415),gundong(s002475),gundong(s601012),gundong(s600009),gundong(s601390),gundong(s601668))\n",
    "pd.DataFrame(list(data),columns=[\"R2-score\",\"Accuracy\"],index=[\"002415\",\"002475\",\"601012\",\"600009\",\"601390\",\"601668\"])"
   ]
  },
  {
   "cell_type": "code",
   "execution_count": 27,
   "id": "7a82b320",
   "metadata": {},
   "outputs": [],
   "source": [
    "# plt.rcParams['font.sans-serif'] = ['Arial']\n",
    "# plt.rcParams['axes.unicode_minus'] = False\n",
    "\n",
    "# rkreal = pred[\"risk_flow\"]\n",
    "# predct = pred[\"risk_flow预测值\"]\n",
    "# #根据ticker的功能改变第一个为初始的数据，第二个则为距离\n",
    "# ticker_spacing = 70\n",
    "\n",
    "# #创建画布\n",
    "# fig, ax = plt.subplots(figsize = (20, 10))\n",
    "# ax.plot(rkreal,c='red', label=\"real risk_flow\")\n",
    "# ax.plot(predct, c='green',  label=\"risk_flow pred\")\n",
    "# ax.xaxis.set_major_locator(ticker.MultipleLocator(ticker_spacing))\n",
    "\n",
    "# plt.legend(loc='best')\n",
    "\n",
    "# plt.grid(True, linestyle='--', alpha=0.5)\n",
    "# plt.xlabel(\"Date\", fontdict={'size': 16})\n",
    "# plt.ylabel(\"Return\", fontdict={'size': 16})\n",
    "# plt.title(\"Hkvision Prediction\", fontdict={'size': 20})\n",
    "# plt.show()"
   ]
  },
  {
   "cell_type": "code",
   "execution_count": null,
   "id": "a0d7a4d0",
   "metadata": {},
   "outputs": [],
   "source": []
  },
  {
   "cell_type": "code",
   "execution_count": 120,
   "id": "5c784063",
   "metadata": {},
   "outputs": [],
   "source": [
    "def gundong(s002415,n):\n",
    "    tore=pd.concat([s002415,rm_rfL1],axis=1).dropna()\n",
    "    tore[\"risk_flow\"]=tore.iloc[:,1]-tore[\"Rf\"]\n",
    "    tore[\"mkt_flow\"]=tore[\"Rm\"]-tore[\"Rf\"]\n",
    "    X=tore[\"mkt_flow\"]\n",
    "    Y=tore[\"risk_flow\"]\n",
    "    results = PandasRollingOLS(X, Y, n)  # window 是滚动回归的自变量个数\n",
    "    tore[\"peri_beta\"]=results.beta\n",
    "    tore[\"peri_alpha\"]=results.alpha\n",
    "    tore[\"risk_flow预测值\"]=tore[\"peri_beta\"]*tore[\"mkt_flow\"]-tore[\"peri_alpha\"]+tore[\"Rf\"]\n",
    "\n",
    "    to_pred=tore.iloc[1459:,:]\n",
    "    u=((to_pred[\"risk_flow\"]-to_pred[\"risk_flow预测值\"])**2).sum()\n",
    "    v=((to_pred[\"risk_flow\"]-to_pred[\"risk_flow\"].mean())**2).sum()\n",
    "    r2_score=1-u/v\n",
    "    to_pred[\"是否买入\"]=to_pred[\"risk_flow预测值\"].apply(lambda x:1 if x>0 else 0)\n",
    "    to_pred[\"实际是否涨\"]=to_pred[\"risk_flow\"].apply(lambda x:1 if x>0 else 0)\n",
    "    Accuracy=len(to_pred[(to_pred[\"是否买入\"]==to_pred[\"实际是否涨\"])==True])/len(to_pred)\n",
    "    \n",
    "    return r2_score,Accuracy,n"
   ]
  },
  {
   "cell_type": "code",
   "execution_count": 168,
   "id": "9005266b",
   "metadata": {},
   "outputs": [],
   "source": [
    "def choose_n(s002415):\n",
    "    list1=[]\n",
    "    for n in range(10,200,10):\n",
    "        list1.append(gundong(s002415,n))\n",
    "    model_choose=pd.DataFrame(list1,columns=[\"R2-score\",\"Accuracy\",\"n\"],index=np.arange(10,200,10))\n",
    "    bestn=model_choose[model_choose[\"R2-score\"]==model_choose[\"R2-score\"].max()].iloc[0,2]\n",
    "    return bestn"
   ]
  },
  {
   "cell_type": "code",
   "execution_count": 169,
   "id": "ec745be9",
   "metadata": {},
   "outputs": [],
   "source": [
    "def best_gundong(s002415):\n",
    "    tore=pd.concat([s002415,rm_rfL1],axis=1).dropna()\n",
    "    tore[\"risk_flow\"]=tore.iloc[:,1]-tore[\"Rf\"]\n",
    "    tore[\"mkt_flow\"]=tore[\"Rm\"]-tore[\"Rf\"]\n",
    "    X=tore[\"mkt_flow\"]\n",
    "    Y=tore[\"risk_flow\"]\n",
    "    results = PandasRollingOLS(X, Y, choose_n(s002415))  # window 是滚动回归的自变量个数\n",
    "    tore[\"peri_beta\"]=results.beta\n",
    "    tore[\"peri_alpha\"]=results.alpha\n",
    "    tore[\"risk_flow预测值\"]=tore[\"peri_beta\"]*tore[\"mkt_flow\"]-tore[\"peri_alpha\"]+tore[\"Rf\"]\n",
    "\n",
    "    to_pred=tore.iloc[1459:,:]\n",
    "    u=((to_pred[\"risk_flow\"]-to_pred[\"risk_flow预测值\"])**2).sum()\n",
    "    v=((to_pred[\"risk_flow\"]-to_pred[\"risk_flow\"].mean())**2).sum()\n",
    "    r2_score=1-u/v\n",
    "    to_pred[\"是否买入\"]=to_pred[\"risk_flow预测值\"].apply(lambda x:1 if x>0 else 0)\n",
    "    to_pred[\"实际是否涨\"]=to_pred[\"risk_flow\"].apply(lambda x:1 if x>0 else 0)\n",
    "    Accuracy=len(to_pred[(to_pred[\"是否买入\"]==to_pred[\"实际是否涨\"])==True])/len(to_pred)\n",
    "    \n",
    "    return r2_score,Accuracy,bestn"
   ]
  },
  {
   "cell_type": "code",
   "execution_count": 172,
   "id": "2dd4ede1",
   "metadata": {},
   "outputs": [
    {
     "data": {
      "text/html": [
       "<div>\n",
       "<style scoped>\n",
       "    .dataframe tbody tr th:only-of-type {\n",
       "        vertical-align: middle;\n",
       "    }\n",
       "\n",
       "    .dataframe tbody tr th {\n",
       "        vertical-align: top;\n",
       "    }\n",
       "\n",
       "    .dataframe thead th {\n",
       "        text-align: right;\n",
       "    }\n",
       "</style>\n",
       "<table border=\"1\" class=\"dataframe\">\n",
       "  <thead>\n",
       "    <tr style=\"text-align: right;\">\n",
       "      <th></th>\n",
       "      <th>R2-score</th>\n",
       "      <th>Accuracy</th>\n",
       "      <th>best_n</th>\n",
       "    </tr>\n",
       "  </thead>\n",
       "  <tbody>\n",
       "    <tr>\n",
       "      <th>002415</th>\n",
       "      <td>0.007312</td>\n",
       "      <td>0.576577</td>\n",
       "      <td>10</td>\n",
       "    </tr>\n",
       "    <tr>\n",
       "      <th>002475</th>\n",
       "      <td>-0.001150</td>\n",
       "      <td>0.463964</td>\n",
       "      <td>10</td>\n",
       "    </tr>\n",
       "    <tr>\n",
       "      <th>601012</th>\n",
       "      <td>0.020006</td>\n",
       "      <td>0.513514</td>\n",
       "      <td>10</td>\n",
       "    </tr>\n",
       "    <tr>\n",
       "      <th>600009</th>\n",
       "      <td>0.042911</td>\n",
       "      <td>0.540541</td>\n",
       "      <td>10</td>\n",
       "    </tr>\n",
       "    <tr>\n",
       "      <th>601390</th>\n",
       "      <td>0.022301</td>\n",
       "      <td>0.603604</td>\n",
       "      <td>10</td>\n",
       "    </tr>\n",
       "    <tr>\n",
       "      <th>601668</th>\n",
       "      <td>0.008107</td>\n",
       "      <td>0.538117</td>\n",
       "      <td>10</td>\n",
       "    </tr>\n",
       "  </tbody>\n",
       "</table>\n",
       "</div>"
      ],
      "text/plain": [
       "        R2-score  Accuracy  best_n\n",
       "002415  0.007312  0.576577      10\n",
       "002475 -0.001150  0.463964      10\n",
       "601012  0.020006  0.513514      10\n",
       "600009  0.042911  0.540541      10\n",
       "601390  0.022301  0.603604      10\n",
       "601668  0.008107  0.538117      10"
      ]
     },
     "execution_count": 172,
     "metadata": {},
     "output_type": "execute_result"
    }
   ],
   "source": [
    "data=(best_gundong(s002415),best_gundong(s002475),best_gundong(s601012),best_gundong(s600009),best_gundong(s601390),best_gundong(s601668))\n",
    "pd.DataFrame(data,columns=[\"R2-score\",\"Accuracy\",\"best_n\"],index=[\"002415\",\"002475\",\"601012\",\"600009\",\"601390\",\"601668\"])"
   ]
  },
  {
   "cell_type": "code",
   "execution_count": 174,
   "id": "d8d325a8",
   "metadata": {},
   "outputs": [],
   "source": [
    "def gundong_table(s002415):\n",
    "    tore=pd.concat([s002415,rm_rfL1],axis=1).dropna()\n",
    "    tore[\"risk_flow\"]=tore.iloc[:,1]-tore[\"Rf\"]\n",
    "    tore[\"mkt_flow\"]=tore[\"Rm\"]-tore[\"Rf\"]\n",
    "    X=tore[\"mkt_flow\"]\n",
    "    Y=tore[\"risk_flow\"]\n",
    "    results = PandasRollingOLS(X, Y, choose_n(s002415))  # window 是滚动回归的自变量个数\n",
    "    tore[\"peri_beta\"]=results.beta\n",
    "    tore[\"peri_alpha\"]=results.alpha\n",
    "    tore[\"risk_flow预测值\"]=tore[\"peri_beta\"]*tore[\"mkt_flow\"]-tore[\"peri_alpha\"]+tore[\"Rf\"]\n",
    "\n",
    "    to_pred=tore.iloc[1459:,:]\n",
    "    u=((to_pred[\"risk_flow\"]-to_pred[\"risk_flow预测值\"])**2).sum()\n",
    "    v=((to_pred[\"risk_flow\"]-to_pred[\"risk_flow\"].mean())**2).sum()\n",
    "    r2_score=1-u/v\n",
    "    to_pred[\"是否买入\"]=to_pred[\"risk_flow预测值\"].apply(lambda x:1 if x>0 else 0)\n",
    "    to_pred[\"实际是否涨\"]=to_pred[\"risk_flow\"].apply(lambda x:1 if x>0 else 0)\n",
    "    Accuracy=len(to_pred[(to_pred[\"是否买入\"]==to_pred[\"实际是否涨\"])==True])/len(to_pred)\n",
    "    \n",
    "    return to_pred"
   ]
  },
  {
   "cell_type": "code",
   "execution_count": 176,
   "id": "b24f3887",
   "metadata": {},
   "outputs": [],
   "source": [
    "s002415_pred=gundong_table(s002415)"
   ]
  },
  {
   "cell_type": "code",
   "execution_count": 192,
   "id": "0f719f3a",
   "metadata": {},
   "outputs": [],
   "source": [
    "s002415_pred[\"Er\"]=(s002415_pred[\"risk_flow预测值\"]+s002415_pred[\"Rf\"])+1\n",
    "s002415_pred[\"Cum_Er\"]=round(round(s002415_pred[\"Er\"],2).cumprod(axis=0),2)\n",
    "s002415_pred[\"future_price\"]=s002415_pred[\"Cum_Er\"]*s002415.iloc[1460,0]"
   ]
  },
  {
   "cell_type": "code",
   "execution_count": 195,
   "id": "69e10c3c",
   "metadata": {},
   "outputs": [
    {
     "data": {
      "text/plain": [
       "[<matplotlib.lines.Line2D at 0x1e1f7dcb190>]"
      ]
     },
     "execution_count": 195,
     "metadata": {},
     "output_type": "execute_result"
    },
    {
     "data": {
      "image/png": "[encoded data removed]",
      "text/plain": [
       "<Figure size 432x288 with 1 Axes>"
      ]
     },
     "metadata": {
      "needs_background": "light"
     },
     "output_type": "display_data"
    }
   ],
   "source": [
    "plt.plot(s002415_pred[\"future_price\"],c=\"red\")\n",
    "plt.plot(s002415_pred[\"002415_price\"],c=\"green\")"
   ]
  },
  {
   "cell_type": "code",
   "execution_count": 200,
   "id": "97062a7f",
   "metadata": {},
   "outputs": [],
   "source": [
    "#长期预测(无差分)\n",
    "import warnings\n",
    "def longterm_2_table(s002415):\n",
    "    warnings.filterwarnings('ignore')\n",
    "    tore=pd.concat([s002415,rm_rf],axis=1).dropna()\n",
    "    tore[\"risk_flow\"]=tore.iloc[:,1]-tore[\"Rf\"]\n",
    "    tore[\"mkt_flow\"]=tore[\"Rm\"]-tore[\"Rf\"]\n",
    "    #训练集\n",
    "    train=tore.iloc[:1459,:]\n",
    "    #预测集\n",
    "    pred=tore.iloc[1459:,:]\n",
    "    X=train[\"mkt_flow\"]\n",
    "    Y=train[\"risk_flow\"]\n",
    "    X2 = sm.add_constant(X)\n",
    "    est = sm.OLS(Y,X2).fit()\n",
    "    pred[\"risk_flow预测值\"]=est.predict(sm.add_constant(pred[\"mkt_flow\"]))\n",
    "    u=((pred[\"risk_flow\"]-pred[\"risk_flow预测值\"])**2).sum()\n",
    "    v=((pred[\"risk_flow\"]-pred[\"risk_flow\"].mean())**2).sum()\n",
    "    r2_score=1-u/v\n",
    "    pred[\"是否买入\"]=pred[\"risk_flow预测值\"].apply(lambda x:1 if x>0 else 0)\n",
    "    pred[\"实际是否涨\"]=pred[\"risk_flow\"].apply(lambda x:1 if x>0 else 0)\n",
    "    Accuracy=len(pred[(pred[\"是否买入\"]==pred[\"实际是否涨\"])==True])/len(pred)\n",
    "    print(r2_score)\n",
    "    print(Accuracy)\n",
    "    return pred"
   ]
  },
  {
   "cell_type": "code",
   "execution_count": 202,
   "id": "2e36e679",
   "metadata": {},
   "outputs": [],
   "source": [
    "def plot_stock(s002415):\n",
    "    s002415_pred=longterm_2_table(s002415)\n",
    "    s002415_pred[\"Er\"]=(s002415_pred[\"risk_flow预测值\"]+s002415_pred[\"Rf\"])+1\n",
    "    s002415_pred[\"Cum_Er\"]=round(round(s002415_pred[\"Er\"],2).cumprod(axis=0),2)\n",
    "    s002415_pred[\"future_price\"]=s002415_pred[\"Cum_Er\"]*s002415.iloc[1460,0]\n",
    "    plt.plot(s002415_pred[\"future_price\"],c=\"red\")\n",
    "    plt.plot(s002415_pred[\"002415_price\"],c=\"green\")"
   ]
  },
  {
   "cell_type": "code",
   "execution_count": 205,
   "id": "04ab8151",
   "metadata": {},
   "outputs": [
    {
     "name": "stdout",
     "output_type": "stream",
     "text": [
      "0.30388630915872705\n",
      "0.6591928251121076\n"
     ]
    },
    {
     "data": {
      "image/png": "[encoded data removed]",
      "text/plain": [
       "<Figure size 432x288 with 1 Axes>"
      ]
     },
     "metadata": {
      "needs_background": "light"
     },
     "output_type": "display_data"
    }
   ],
   "source": [
    "plot_stock(s002415)"
   ]
  },
  {
   "cell_type": "code",
   "execution_count": 207,
   "id": "41a40bbd",
   "metadata": {},
   "outputs": [
    {
     "data": {
      "text/html": [
       "<div>\n",
       "<style scoped>\n",
       "    .dataframe tbody tr th:only-of-type {\n",
       "        vertical-align: middle;\n",
       "    }\n",
       "\n",
       "    .dataframe tbody tr th {\n",
       "        vertical-align: top;\n",
       "    }\n",
       "\n",
       "    .dataframe thead th {\n",
       "        text-align: right;\n",
       "    }\n",
       "</style>\n",
       "<table border=\"1\" class=\"dataframe\">\n",
       "  <thead>\n",
       "    <tr style=\"text-align: right;\">\n",
       "      <th></th>\n",
       "      <th>R2-score</th>\n",
       "      <th>Accuracy</th>\n",
       "    </tr>\n",
       "  </thead>\n",
       "  <tbody>\n",
       "    <tr>\n",
       "      <th>002415</th>\n",
       "      <td>0.303886</td>\n",
       "      <td>0.659193</td>\n",
       "    </tr>\n",
       "    <tr>\n",
       "      <th>002475</th>\n",
       "      <td>0.284178</td>\n",
       "      <td>0.713004</td>\n",
       "    </tr>\n",
       "    <tr>\n",
       "      <th>601012</th>\n",
       "      <td>0.304481</td>\n",
       "      <td>0.704036</td>\n",
       "    </tr>\n",
       "    <tr>\n",
       "      <th>600009</th>\n",
       "      <td>0.259479</td>\n",
       "      <td>0.677130</td>\n",
       "    </tr>\n",
       "    <tr>\n",
       "      <th>601390</th>\n",
       "      <td>0.163732</td>\n",
       "      <td>0.645740</td>\n",
       "    </tr>\n",
       "    <tr>\n",
       "      <th>601668</th>\n",
       "      <td>0.180805</td>\n",
       "      <td>0.602679</td>\n",
       "    </tr>\n",
       "  </tbody>\n",
       "</table>\n",
       "</div>"
      ],
      "text/plain": [
       "        R2-score  Accuracy\n",
       "002415  0.303886  0.659193\n",
       "002475  0.284178  0.713004\n",
       "601012  0.304481  0.704036\n",
       "600009  0.259479  0.677130\n",
       "601390  0.163732  0.645740\n",
       "601668  0.180805  0.602679"
      ]
     },
     "execution_count": 207,
     "metadata": {},
     "output_type": "execute_result"
    }
   ],
   "source": [
    "data=(longterm_2(s002415),longterm_2(s002475),longterm_2(s601012),longterm_2(s600009),longterm_2(s601390),longterm_2(s601668))\n",
    "pd.DataFrame(data,columns=[\"R2-score\",\"Accuracy\"],index=[\"002415\",\"002475\",\"601012\",\"600009\",\"601390\",\"601668\"])"
   ]
  },
  {
   "cell_type": "markdown",
   "id": "7cd9d540",
   "metadata": {},
   "source": [
    "## CAPM 最终版"
   ]
  },
  {
   "cell_type": "code",
   "execution_count": 211,
   "id": "095e2e9b",
   "metadata": {},
   "outputs": [],
   "source": [
    "#长期预测\n",
    "import warnings\n",
    "def longterm_table(s002415):\n",
    "    warnings.filterwarnings('ignore')\n",
    "    tore=pd.concat([s002415,rm_rfL1],axis=1).dropna()\n",
    "    tore[\"risk_flow\"]=tore.iloc[:,1]-tore[\"Rf\"]\n",
    "    tore[\"mkt_flow\"]=tore[\"Rm\"]-tore[\"Rf\"]\n",
    "    #训练集\n",
    "    train=tore.iloc[:1459,:]\n",
    "    #预测集\n",
    "    pred=tore.iloc[1459:,:]\n",
    "    X=train[\"mkt_flow\"]\n",
    "    Y=train[\"risk_flow\"]\n",
    "    X2 = sm.add_constant(X)\n",
    "    est = sm.OLS(Y,X2).fit()\n",
    "    pred[\"risk_flow预测值\"]=est.predict(sm.add_constant(pred[\"mkt_flow\"]))\n",
    "    u=((pred[\"risk_flow\"]-pred[\"risk_flow预测值\"])**2).sum()\n",
    "    v=((pred[\"risk_flow\"]-pred[\"risk_flow\"].mean())**2).sum()\n",
    "    r2_score=1-u/v\n",
    "    pred[\"是否买入\"]=pred[\"risk_flow预测值\"].apply(lambda x:1 if x>0 else 0)\n",
    "    pred[\"实际是否涨\"]=pred[\"risk_flow\"].apply(lambda x:1 if x>0 else 0)\n",
    "    Accuracy=len(pred[(pred[\"是否买入\"]==pred[\"实际是否涨\"])==True])/len(pred)\n",
    "    return pred"
   ]
  },
  {
   "cell_type": "code",
   "execution_count": 221,
   "id": "fcb3998a",
   "metadata": {},
   "outputs": [],
   "source": [
    "def plot_stock(s002415):\n",
    "    s002415_pred=longterm_table(s002415)\n",
    "    s002415_pred[\"Er\"]=(s002415_pred[\"risk_flow预测值\"]+s002415_pred[\"Rf\"])+1\n",
    "    s002415_pred[\"Cum_Er\"]=round(round(s002415_pred[\"Er\"],2).cumprod(axis=0),2)\n",
    "    s002415_pred[\"future_price\"]=s002415_pred[\"Cum_Er\"]*s002415.iloc[1460,0]\n",
    "    plt.plot(s002415_pred[\"future_price\"],c=\"red\")\n",
    "    plt.plot(s002415_pred.iloc[:,0],c=\"green\")"
   ]
  },
  {
   "cell_type": "code",
   "execution_count": 213,
   "id": "385b9347",
   "metadata": {},
   "outputs": [
    {
     "data": {
      "image/png": "[encoded data removed]",
      "text/plain": [
       "<Figure size 432x288 with 1 Axes>"
      ]
     },
     "metadata": {
      "needs_background": "light"
     },
     "output_type": "display_data"
    }
   ],
   "source": [
    "plot_stock(s002415)"
   ]
  },
  {
   "cell_type": "code",
   "execution_count": 222,
   "id": "0af27747",
   "metadata": {},
   "outputs": [
    {
     "data": {
      "image/png": "[encoded data removed]",
      "text/plain": [
       "<Figure size 432x288 with 1 Axes>"
      ]
     },
     "metadata": {
      "needs_background": "light"
     },
     "output_type": "display_data"
    }
   ],
   "source": [
    "plot_stock(s002475)"
   ]
  },
  {
   "cell_type": "code",
   "execution_count": 223,
   "id": "d52003a9",
   "metadata": {},
   "outputs": [
    {
     "data": {
      "image/png": "[encoded data removed]",
      "text/plain": [
       "<Figure size 432x288 with 1 Axes>"
      ]
     },
     "metadata": {
      "needs_background": "light"
     },
     "output_type": "display_data"
    }
   ],
   "source": [
    "plot_stock(s601012)"
   ]
  },
  {
   "cell_type": "code",
   "execution_count": 225,
   "id": "71fb8005",
   "metadata": {},
   "outputs": [
    {
     "data": {
      "image/png": "[encoded data removed]",
      "text/plain": [
       "<Figure size 432x288 with 1 Axes>"
      ]
     },
     "metadata": {
      "needs_background": "light"
     },
     "output_type": "display_data"
    }
   ],
   "source": [
    "plot_stock(s600009)"
   ]
  },
  {
   "cell_type": "code",
   "execution_count": 226,
   "id": "f5986f0e",
   "metadata": {},
   "outputs": [
    {
     "data": {
      "image/png": "[encoded data removed]",
      "text/plain": [
       "<Figure size 432x288 with 1 Axes>"
      ]
     },
     "metadata": {
      "needs_background": "light"
     },
     "output_type": "display_data"
    }
   ],
   "source": [
    "plot_stock(s601390)"
   ]
  },
  {
   "cell_type": "code",
   "execution_count": 227,
   "id": "50a00a44",
   "metadata": {},
   "outputs": [
    {
     "data": {
      "image/png": "[encoded data removed]",
      "text/plain": [
       "<Figure size 432x288 with 1 Axes>"
      ]
     },
     "metadata": {
      "needs_background": "light"
     },
     "output_type": "display_data"
    }
   ],
   "source": [
    "plot_stock(s601668)"
   ]
  },
  {
   "cell_type": "code",
   "execution_count": null,
   "id": "e6ec1277",
   "metadata": {},
   "outputs": [],
   "source": []
  },
  {
   "cell_type": "code",
   "execution_count": 217,
   "id": "555973b7",
   "metadata": {},
   "outputs": [
    {
     "data": {
      "text/html": [
       "<div>\n",
       "<style scoped>\n",
       "    .dataframe tbody tr th:only-of-type {\n",
       "        vertical-align: middle;\n",
       "    }\n",
       "\n",
       "    .dataframe tbody tr th {\n",
       "        vertical-align: top;\n",
       "    }\n",
       "\n",
       "    .dataframe thead th {\n",
       "        text-align: right;\n",
       "    }\n",
       "</style>\n",
       "<table border=\"1\" class=\"dataframe\">\n",
       "  <thead>\n",
       "    <tr style=\"text-align: right;\">\n",
       "      <th></th>\n",
       "      <th>R2-score</th>\n",
       "      <th>Accuracy</th>\n",
       "    </tr>\n",
       "  </thead>\n",
       "  <tbody>\n",
       "    <tr>\n",
       "      <th>002415</th>\n",
       "      <td>-0.029732</td>\n",
       "      <td>0.454955</td>\n",
       "    </tr>\n",
       "    <tr>\n",
       "      <th>002475</th>\n",
       "      <td>-0.010293</td>\n",
       "      <td>0.427928</td>\n",
       "    </tr>\n",
       "    <tr>\n",
       "      <th>601012</th>\n",
       "      <td>-0.012140</td>\n",
       "      <td>0.463964</td>\n",
       "    </tr>\n",
       "    <tr>\n",
       "      <th>600009</th>\n",
       "      <td>-0.002881</td>\n",
       "      <td>0.468468</td>\n",
       "    </tr>\n",
       "    <tr>\n",
       "      <th>601390</th>\n",
       "      <td>-0.000347</td>\n",
       "      <td>0.527027</td>\n",
       "    </tr>\n",
       "    <tr>\n",
       "      <th>601668</th>\n",
       "      <td>-0.002674</td>\n",
       "      <td>0.533632</td>\n",
       "    </tr>\n",
       "  </tbody>\n",
       "</table>\n",
       "</div>"
      ],
      "text/plain": [
       "        R2-score  Accuracy\n",
       "002415 -0.029732  0.454955\n",
       "002475 -0.010293  0.427928\n",
       "601012 -0.012140  0.463964\n",
       "600009 -0.002881  0.468468\n",
       "601390 -0.000347  0.527027\n",
       "601668 -0.002674  0.533632"
      ]
     },
     "execution_count": 217,
     "metadata": {},
     "output_type": "execute_result"
    }
   ],
   "source": [
    "data=(longterm(s002415),longterm(s002475),longterm(s601012),longterm(s600009),longterm(s601390),longterm(s601668))\n",
    "pd.DataFrame(data,columns=[\"R2-score\",\"Accuracy\"],index=[\"002415\",\"002475\",\"601012\",\"600009\",\"601390\",\"601668\"])"
   ]
  },
  {
   "cell_type": "code",
   "execution_count": null,
   "id": "fe9b04f8",
   "metadata": {},
   "outputs": [],
   "source": []
  }
 ],
 "metadata": {
  "kernelspec": {
   "display_name": "Python 3",
   "language": "python",
   "name": "python3"
  },
  "language_info": {
   "codemirror_mode": {
    "name": "ipython",
    "version": 3
   },
   "file_extension": ".py",
   "mimetype": "text/x-python",
   "name": "python",
   "nbconvert_exporter": "python",
   "pygments_lexer": "ipython3",
   "version": "3.8.8"
  }
 },
 "nbformat": 4,
 "nbformat_minor": 5
}
