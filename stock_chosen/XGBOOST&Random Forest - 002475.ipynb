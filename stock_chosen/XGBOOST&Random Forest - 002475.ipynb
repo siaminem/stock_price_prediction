{
 "cells": [
  {
   "cell_type": "code",
   "execution_count": 1,
   "id": "51329ca0",
   "metadata": {},
   "outputs": [],
   "source": [
    "import pandas as pd\n",
    "import numpy as np\n",
    "import os\n",
    "import matplotlib.pyplot as plt\n",
    "import time\n",
    "from xgboost import XGBRegressor\n",
    "import math\n",
    "import plotly.graph_objs as go\n",
    "import chart_studio.plotly as py\n",
    "from collections import defaultdict\n",
    "from sklearn.decomposition import PCA\n",
    "from xgboost import XGBRegressor\n",
    "from sklearn.ensemble import RandomForestRegressor"
   ]
  },
  {
   "cell_type": "code",
   "execution_count": 2,
   "id": "ad7acf68",
   "metadata": {},
   "outputs": [],
   "source": [
    "def get_mae(a, b):\n",
    "    return np.mean(abs(np.array(a)-np.array(b)))\n",
    "\n",
    "def get_rmse(a, b):\n",
    "    return math.sqrt(np.mean((np.array(a)-np.array(b))**2))"
   ]
  },
  {
   "cell_type": "markdown",
   "id": "ff567b43",
   "metadata": {},
   "source": [
    "# 002475"
   ]
  },
  {
   "cell_type": "markdown",
   "id": "81095baa",
   "metadata": {},
   "source": [
    "## 1. Load Data"
   ]
  },
  {
   "cell_type": "code",
   "execution_count": 3,
   "id": "fe875101",
   "metadata": {},
   "outputs": [
    {
     "data": {
      "text/html": [
       "<div>\n",
       "<style scoped>\n",
       "    .dataframe tbody tr th:only-of-type {\n",
       "        vertical-align: middle;\n",
       "    }\n",
       "\n",
       "    .dataframe tbody tr th {\n",
       "        vertical-align: top;\n",
       "    }\n",
       "\n",
       "    .dataframe thead th {\n",
       "        text-align: right;\n",
       "    }\n",
       "</style>\n",
       "<table border=\"1\" class=\"dataframe\">\n",
       "  <thead>\n",
       "    <tr style=\"text-align: right;\">\n",
       "      <th></th>\n",
       "      <th>日期</th>\n",
       "      <th>收益率</th>\n",
       "      <th>ret_lag1</th>\n",
       "      <th>ret_lag2</th>\n",
       "      <th>ret_lag3</th>\n",
       "      <th>ret_lag4</th>\n",
       "      <th>ret_lag5</th>\n",
       "      <th>ret_lag6</th>\n",
       "      <th>ret_lag7</th>\n",
       "      <th>前收盘价(元)_diff1</th>\n",
       "      <th>...</th>\n",
       "      <th>宏观_PPI_diff1</th>\n",
       "      <th>宏观_出口价格指数(总)</th>\n",
       "      <th>宏观_出口价格指数(车船航)</th>\n",
       "      <th>宏观_进口价格指数(总)_diff1</th>\n",
       "      <th>宏观_进口价格指数(车船航)</th>\n",
       "      <th>宏观_固定资产投资完成额</th>\n",
       "      <th>宏观_社会消费品零售总额_diff1</th>\n",
       "      <th>宏观_M2_diff2</th>\n",
       "      <th>宏观_金融机构各项贷款余额_diff1</th>\n",
       "      <th>宏观_社会融资规模_diff1</th>\n",
       "    </tr>\n",
       "  </thead>\n",
       "  <tbody>\n",
       "    <tr>\n",
       "      <th>0</th>\n",
       "      <td>2016-01-22</td>\n",
       "      <td>-0.000769</td>\n",
       "      <td>-0.021805</td>\n",
       "      <td>-0.020979</td>\n",
       "      <td>-0.016293</td>\n",
       "      <td>0.021072</td>\n",
       "      <td>0.001852</td>\n",
       "      <td>-0.029126</td>\n",
       "      <td>0.018681</td>\n",
       "      <td>-0.832367</td>\n",
       "      <td>...</td>\n",
       "      <td>-0.051989</td>\n",
       "      <td>-2.162753</td>\n",
       "      <td>-0.746224</td>\n",
       "      <td>-0.028079</td>\n",
       "      <td>-0.53487</td>\n",
       "      <td>-0.820241</td>\n",
       "      <td>-0.149665</td>\n",
       "      <td>0.0</td>\n",
       "      <td>0.031278</td>\n",
       "      <td>0.018098</td>\n",
       "    </tr>\n",
       "    <tr>\n",
       "      <th>1</th>\n",
       "      <td>2016-01-25</td>\n",
       "      <td>-0.038462</td>\n",
       "      <td>-0.000769</td>\n",
       "      <td>-0.021805</td>\n",
       "      <td>-0.020979</td>\n",
       "      <td>-0.016293</td>\n",
       "      <td>0.021072</td>\n",
       "      <td>0.001852</td>\n",
       "      <td>-0.029126</td>\n",
       "      <td>-0.845862</td>\n",
       "      <td>...</td>\n",
       "      <td>-0.051989</td>\n",
       "      <td>-2.162753</td>\n",
       "      <td>-0.746224</td>\n",
       "      <td>-0.028079</td>\n",
       "      <td>-0.53487</td>\n",
       "      <td>-0.820241</td>\n",
       "      <td>-0.149665</td>\n",
       "      <td>0.0</td>\n",
       "      <td>0.031278</td>\n",
       "      <td>0.018098</td>\n",
       "    </tr>\n",
       "    <tr>\n",
       "      <th>2</th>\n",
       "      <td>2016-01-26</td>\n",
       "      <td>0.032000</td>\n",
       "      <td>-0.038462</td>\n",
       "      <td>-0.000769</td>\n",
       "      <td>-0.021805</td>\n",
       "      <td>-0.020979</td>\n",
       "      <td>-0.016293</td>\n",
       "      <td>0.021072</td>\n",
       "      <td>0.001852</td>\n",
       "      <td>-0.090156</td>\n",
       "      <td>...</td>\n",
       "      <td>-0.051989</td>\n",
       "      <td>-2.162753</td>\n",
       "      <td>-0.746224</td>\n",
       "      <td>-0.028079</td>\n",
       "      <td>-0.53487</td>\n",
       "      <td>-0.820241</td>\n",
       "      <td>-0.149665</td>\n",
       "      <td>0.0</td>\n",
       "      <td>0.031278</td>\n",
       "      <td>0.018098</td>\n",
       "    </tr>\n",
       "    <tr>\n",
       "      <th>3</th>\n",
       "      <td>2016-01-27</td>\n",
       "      <td>0.011628</td>\n",
       "      <td>0.032000</td>\n",
       "      <td>-0.038462</td>\n",
       "      <td>-0.000769</td>\n",
       "      <td>-0.021805</td>\n",
       "      <td>-0.020979</td>\n",
       "      <td>-0.016293</td>\n",
       "      <td>0.021072</td>\n",
       "      <td>-1.412641</td>\n",
       "      <td>...</td>\n",
       "      <td>-0.051989</td>\n",
       "      <td>-2.162753</td>\n",
       "      <td>-0.746224</td>\n",
       "      <td>-0.028079</td>\n",
       "      <td>-0.53487</td>\n",
       "      <td>-0.820241</td>\n",
       "      <td>-0.149665</td>\n",
       "      <td>0.0</td>\n",
       "      <td>0.031278</td>\n",
       "      <td>0.018098</td>\n",
       "    </tr>\n",
       "    <tr>\n",
       "      <th>4</th>\n",
       "      <td>2016-01-28</td>\n",
       "      <td>0.064368</td>\n",
       "      <td>0.011628</td>\n",
       "      <td>0.032000</td>\n",
       "      <td>-0.038462</td>\n",
       "      <td>-0.000769</td>\n",
       "      <td>-0.021805</td>\n",
       "      <td>-0.020979</td>\n",
       "      <td>-0.016293</td>\n",
       "      <td>1.016413</td>\n",
       "      <td>...</td>\n",
       "      <td>-0.051989</td>\n",
       "      <td>-2.162753</td>\n",
       "      <td>-0.746224</td>\n",
       "      <td>-0.028079</td>\n",
       "      <td>-0.53487</td>\n",
       "      <td>-0.820241</td>\n",
       "      <td>-0.149665</td>\n",
       "      <td>0.0</td>\n",
       "      <td>0.031278</td>\n",
       "      <td>0.018098</td>\n",
       "    </tr>\n",
       "  </tbody>\n",
       "</table>\n",
       "<p>5 rows × 73 columns</p>\n",
       "</div>"
      ],
      "text/plain": [
       "          日期       收益率  ret_lag1  ret_lag2  ret_lag3  ret_lag4  ret_lag5  \\\n",
       "0 2016-01-22 -0.000769 -0.021805 -0.020979 -0.016293  0.021072  0.001852   \n",
       "1 2016-01-25 -0.038462 -0.000769 -0.021805 -0.020979 -0.016293  0.021072   \n",
       "2 2016-01-26  0.032000 -0.038462 -0.000769 -0.021805 -0.020979 -0.016293   \n",
       "3 2016-01-27  0.011628  0.032000 -0.038462 -0.000769 -0.021805 -0.020979   \n",
       "4 2016-01-28  0.064368  0.011628  0.032000 -0.038462 -0.000769 -0.021805   \n",
       "\n",
       "   ret_lag6  ret_lag7  前收盘价(元)_diff1  ...  宏观_PPI_diff1  宏观_出口价格指数(总)  \\\n",
       "0 -0.029126  0.018681      -0.832367  ...     -0.051989     -2.162753   \n",
       "1  0.001852 -0.029126      -0.845862  ...     -0.051989     -2.162753   \n",
       "2  0.021072  0.001852      -0.090156  ...     -0.051989     -2.162753   \n",
       "3 -0.016293  0.021072      -1.412641  ...     -0.051989     -2.162753   \n",
       "4 -0.020979 -0.016293       1.016413  ...     -0.051989     -2.162753   \n",
       "\n",
       "   宏观_出口价格指数(车船航)  宏观_进口价格指数(总)_diff1  宏观_进口价格指数(车船航)  宏观_固定资产投资完成额  \\\n",
       "0       -0.746224           -0.028079        -0.53487     -0.820241   \n",
       "1       -0.746224           -0.028079        -0.53487     -0.820241   \n",
       "2       -0.746224           -0.028079        -0.53487     -0.820241   \n",
       "3       -0.746224           -0.028079        -0.53487     -0.820241   \n",
       "4       -0.746224           -0.028079        -0.53487     -0.820241   \n",
       "\n",
       "   宏观_社会消费品零售总额_diff1  宏观_M2_diff2  宏观_金融机构各项贷款余额_diff1  宏观_社会融资规模_diff1  \n",
       "0           -0.149665          0.0             0.031278         0.018098  \n",
       "1           -0.149665          0.0             0.031278         0.018098  \n",
       "2           -0.149665          0.0             0.031278         0.018098  \n",
       "3           -0.149665          0.0             0.031278         0.018098  \n",
       "4           -0.149665          0.0             0.031278         0.018098  \n",
       "\n",
       "[5 rows x 73 columns]"
      ]
     },
     "execution_count": 3,
     "metadata": {},
     "output_type": "execute_result"
    }
   ],
   "source": [
    "hkws_path = 'D:/DeskTop-Files/CUHK-SZ/2022-2023 Fall term/1-Wed-14~17-IBA6 Fintech and Application/Group_final/data_new5_withdiff_withlag/data_new5_withdiff_withlag/002475_growth.xlsx'\n",
    "df = pd.DataFrame(pd.read_excel(hkws_path)) \n",
    "df.head()"
   ]
  },
  {
   "cell_type": "code",
   "execution_count": 4,
   "id": "d3515363",
   "metadata": {
    "scrolled": true
   },
   "outputs": [],
   "source": [
    "# hkws_path = 'D:/DeskTop-Files/CUHK-SZ/2022-2023 Fall term/1-Wed-14~17-IBA6 Fintech and Application/Group_final/data_new4_withdiff/data_new4_withdiff/海康威视_002415_成长.xlsx'\n",
    "# df = pd.DataFrame(pd.read_excel(hkws_path)) \n",
    "# df.head()"
   ]
  },
  {
   "cell_type": "code",
   "execution_count": 5,
   "id": "981e9900",
   "metadata": {
    "scrolled": true
   },
   "outputs": [
    {
     "name": "stdout",
     "output_type": "stream",
     "text": [
      "1204 1447\n"
     ]
    }
   ],
   "source": [
    "index_val = df[df.日期 == '2021-01-04'].index[0]\n",
    "index_test = df[df.日期 == '2022-01-04'].index[0]\n",
    "print(index_val,index_test)"
   ]
  },
  {
   "cell_type": "code",
   "execution_count": 6,
   "id": "bbff1294",
   "metadata": {},
   "outputs": [],
   "source": [
    "df.dropna(inplace=True)\n",
    "df = df.drop(['日期'], axis=1)\n",
    "y = df['收益率']\n",
    "X = df.drop('收益率', axis=1) "
   ]
  },
  {
   "cell_type": "markdown",
   "id": "2afa52b6",
   "metadata": {},
   "source": [
    "## 2. Split train set，validation set and test set "
   ]
  },
  {
   "cell_type": "code",
   "execution_count": 7,
   "id": "4d1e757e",
   "metadata": {},
   "outputs": [
    {
     "name": "stdout",
     "output_type": "stream",
     "text": [
      "X_train.shape = (1204, 71)\n",
      "X_val.shape = (243, 71)\n",
      "X_test.shape = (221, 71)\n"
     ]
    }
   ],
   "source": [
    "X_train = X[0:index_val].copy()\n",
    "X_val = X[index_val:index_test].copy()\n",
    "X_test = X[index_test:].copy()\n",
    "y_train = y[0:index_val].copy()\n",
    "y_val = y[index_val:index_test].copy()\n",
    "y_test = y[index_test:].copy()\n",
    "print(\"X_train.shape = \" + str(X_train.shape))\n",
    "print(\"X_val.shape = \" + str(X_val.shape))\n",
    "print(\"X_test.shape = \" + str(X_test.shape))"
   ]
  },
  {
   "cell_type": "markdown",
   "id": "fa69420d",
   "metadata": {},
   "source": [
    "## 3. Model cinstruction_XGBOOST"
   ]
  },
  {
   "cell_type": "code",
   "execution_count": 8,
   "id": "06be6ce6",
   "metadata": {},
   "outputs": [],
   "source": [
    "def xgb_model_train_val(X_train, y_train, X_val, y_val,\n",
    "                          seed=100, n_estimators=100, max_depth=3, learning_rate=0.1,\n",
    "                          min_child_weight=1, subsample=1, colsample_bytree=1, colsample_bylevel=1, gamma=0):\n",
    "\n",
    "    model = XGBRegressor(objective ='reg:squarederror',\n",
    "                         seed=seed, n_estimators=n_estimators,\n",
    "                         max_depth=max_depth,\n",
    "                         learning_rate=learning_rate,\n",
    "                         min_child_weight=min_child_weight,\n",
    "                         subsample=subsample,\n",
    "                         colsample_bytree=colsample_bytree,\n",
    "                         colsample_bylevel=colsample_bylevel,\n",
    "                         gamma=gamma)\n",
    "        \n",
    "    # Train the model\n",
    "    model.fit(X_train, y_train)\n",
    "    \n",
    "    # Get predicted labels\n",
    "    est = model.predict(X_val)\n",
    "\n",
    "    # Calculate RMSE, MAPE, MAE\n",
    "    rmse = get_rmse(y_val, est)\n",
    "    mae = get_mae(y_val, est)\n",
    "    \n",
    "    return rmse, mae, model"
   ]
  },
  {
   "cell_type": "code",
   "execution_count": 9,
   "id": "c785fb15",
   "metadata": {},
   "outputs": [],
   "source": [
    "def model_test_eval(X_test, y_test, model):\n",
    "    \n",
    "    # Get predicted labels\n",
    "    est = model.predict(X_test)\n",
    "\n",
    "    # Calculate RMSE, MAPE, MAE\n",
    "    rmse = get_rmse(y_test, est)\n",
    "    mae = get_mae(y_test, est)\n",
    "    \n",
    "    return rmse, mae, est"
   ]
  },
  {
   "cell_type": "markdown",
   "id": "766bb19d",
   "metadata": {},
   "source": [
    "### 1) Prediction before tuning on validation set"
   ]
  },
  {
   "cell_type": "code",
   "execution_count": 10,
   "id": "5ecf16b2",
   "metadata": {},
   "outputs": [
    {
     "name": "stdout",
     "output_type": "stream",
     "text": [
      "RMSE = 0.032\n",
      "MAE = 0.025\n"
     ]
    }
   ],
   "source": [
    "# Get error metrics on validation set before hyperparameter tuning\n",
    "xgb_rmse_bef_tuning, xgb_mae_bef_tuning,xgb_model_bef_tuning = xgb_model_train_val(X_train, y_train, X_val, y_val)\n",
    "                                                                \n",
    "print(\"RMSE = %0.3f\" % xgb_rmse_bef_tuning)\n",
    "print(\"MAE = %0.3f\" % xgb_mae_bef_tuning)"
   ]
  },
  {
   "cell_type": "markdown",
   "id": "9eeeeef4",
   "metadata": {},
   "source": [
    "### 2) Tuning parameters"
   ]
  },
  {
   "cell_type": "markdown",
   "id": "0cea71c3",
   "metadata": {},
   "source": [
    "#### Tuning n_estimators (default=100) and max_depth (default=3)"
   ]
  },
  {
   "cell_type": "code",
   "execution_count": 17,
   "id": "b427f939",
   "metadata": {
    "scrolled": true
   },
   "outputs": [
    {
     "name": "stderr",
     "output_type": "stream",
     "text": [
      "<ipython-input-17-19292d984fa0>:11: TqdmDeprecationWarning: This function will be removed in tqdm==5.0.0\n",
      "Please use `tqdm.notebook.tqdm` instead of `tqdm.tqdm_notebook`\n",
      "  for param in tqdm_notebook(param_list):\n"
     ]
    },
    {
     "data": {
      "application/vnd.jupyter.widget-view+json": {
       "model_id": "60f70d503b0c4f4eb54d5b08dab7b816",
       "version_major": 2,
       "version_minor": 0
      },
      "text/plain": [
       "  0%|          | 0/5 [00:00<?, ?it/s]"
      ]
     },
     "metadata": {},
     "output_type": "display_data"
    },
    {
     "name": "stdout",
     "output_type": "stream",
     "text": [
      "Minutes taken = 0.36\n"
     ]
    },
    {
     "data": {
      "text/html": [
       "<div>\n",
       "<style scoped>\n",
       "    .dataframe tbody tr th:only-of-type {\n",
       "        vertical-align: middle;\n",
       "    }\n",
       "\n",
       "    .dataframe tbody tr th {\n",
       "        vertical-align: top;\n",
       "    }\n",
       "\n",
       "    .dataframe thead th {\n",
       "        text-align: right;\n",
       "    }\n",
       "</style>\n",
       "<table border=\"1\" class=\"dataframe\">\n",
       "  <thead>\n",
       "    <tr style=\"text-align: right;\">\n",
       "      <th></th>\n",
       "      <th>n_estimators</th>\n",
       "      <th>max_depth</th>\n",
       "      <th>rmse</th>\n",
       "      <th>mae</th>\n",
       "    </tr>\n",
       "  </thead>\n",
       "  <tbody>\n",
       "    <tr>\n",
       "      <th>0</th>\n",
       "      <td>25</td>\n",
       "      <td>3</td>\n",
       "      <td>0.048282</td>\n",
       "      <td>0.041499</td>\n",
       "    </tr>\n",
       "    <tr>\n",
       "      <th>1</th>\n",
       "      <td>25</td>\n",
       "      <td>4</td>\n",
       "      <td>0.048483</td>\n",
       "      <td>0.041772</td>\n",
       "    </tr>\n",
       "    <tr>\n",
       "      <th>2</th>\n",
       "      <td>25</td>\n",
       "      <td>5</td>\n",
       "      <td>0.048633</td>\n",
       "      <td>0.041832</td>\n",
       "    </tr>\n",
       "    <tr>\n",
       "      <th>3</th>\n",
       "      <td>25</td>\n",
       "      <td>6</td>\n",
       "      <td>0.048218</td>\n",
       "      <td>0.041408</td>\n",
       "    </tr>\n",
       "    <tr>\n",
       "      <th>4</th>\n",
       "      <td>25</td>\n",
       "      <td>7</td>\n",
       "      <td>0.049257</td>\n",
       "      <td>0.042291</td>\n",
       "    </tr>\n",
       "    <tr>\n",
       "      <th>5</th>\n",
       "      <td>25</td>\n",
       "      <td>8</td>\n",
       "      <td>0.049398</td>\n",
       "      <td>0.042399</td>\n",
       "    </tr>\n",
       "    <tr>\n",
       "      <th>6</th>\n",
       "      <td>25</td>\n",
       "      <td>9</td>\n",
       "      <td>0.050080</td>\n",
       "      <td>0.043264</td>\n",
       "    </tr>\n",
       "    <tr>\n",
       "      <th>7</th>\n",
       "      <td>50</td>\n",
       "      <td>3</td>\n",
       "      <td>0.030845</td>\n",
       "      <td>0.024664</td>\n",
       "    </tr>\n",
       "    <tr>\n",
       "      <th>8</th>\n",
       "      <td>50</td>\n",
       "      <td>4</td>\n",
       "      <td>0.031174</td>\n",
       "      <td>0.024843</td>\n",
       "    </tr>\n",
       "    <tr>\n",
       "      <th>9</th>\n",
       "      <td>50</td>\n",
       "      <td>5</td>\n",
       "      <td>0.031768</td>\n",
       "      <td>0.025274</td>\n",
       "    </tr>\n",
       "    <tr>\n",
       "      <th>10</th>\n",
       "      <td>50</td>\n",
       "      <td>6</td>\n",
       "      <td>0.032488</td>\n",
       "      <td>0.026018</td>\n",
       "    </tr>\n",
       "    <tr>\n",
       "      <th>11</th>\n",
       "      <td>50</td>\n",
       "      <td>7</td>\n",
       "      <td>0.033541</td>\n",
       "      <td>0.026872</td>\n",
       "    </tr>\n",
       "    <tr>\n",
       "      <th>12</th>\n",
       "      <td>50</td>\n",
       "      <td>8</td>\n",
       "      <td>0.033299</td>\n",
       "      <td>0.026677</td>\n",
       "    </tr>\n",
       "    <tr>\n",
       "      <th>13</th>\n",
       "      <td>50</td>\n",
       "      <td>9</td>\n",
       "      <td>0.034506</td>\n",
       "      <td>0.028041</td>\n",
       "    </tr>\n",
       "    <tr>\n",
       "      <th>14</th>\n",
       "      <td>75</td>\n",
       "      <td>3</td>\n",
       "      <td>0.031237</td>\n",
       "      <td>0.024813</td>\n",
       "    </tr>\n",
       "    <tr>\n",
       "      <th>15</th>\n",
       "      <td>75</td>\n",
       "      <td>4</td>\n",
       "      <td>0.031387</td>\n",
       "      <td>0.024780</td>\n",
       "    </tr>\n",
       "    <tr>\n",
       "      <th>16</th>\n",
       "      <td>75</td>\n",
       "      <td>5</td>\n",
       "      <td>0.032855</td>\n",
       "      <td>0.026155</td>\n",
       "    </tr>\n",
       "    <tr>\n",
       "      <th>17</th>\n",
       "      <td>75</td>\n",
       "      <td>6</td>\n",
       "      <td>0.033554</td>\n",
       "      <td>0.026830</td>\n",
       "    </tr>\n",
       "    <tr>\n",
       "      <th>18</th>\n",
       "      <td>75</td>\n",
       "      <td>7</td>\n",
       "      <td>0.034297</td>\n",
       "      <td>0.027328</td>\n",
       "    </tr>\n",
       "    <tr>\n",
       "      <th>19</th>\n",
       "      <td>75</td>\n",
       "      <td>8</td>\n",
       "      <td>0.033400</td>\n",
       "      <td>0.026556</td>\n",
       "    </tr>\n",
       "    <tr>\n",
       "      <th>20</th>\n",
       "      <td>75</td>\n",
       "      <td>9</td>\n",
       "      <td>0.034355</td>\n",
       "      <td>0.027815</td>\n",
       "    </tr>\n",
       "    <tr>\n",
       "      <th>21</th>\n",
       "      <td>100</td>\n",
       "      <td>3</td>\n",
       "      <td>0.031575</td>\n",
       "      <td>0.025129</td>\n",
       "    </tr>\n",
       "    <tr>\n",
       "      <th>22</th>\n",
       "      <td>100</td>\n",
       "      <td>4</td>\n",
       "      <td>0.032220</td>\n",
       "      <td>0.025330</td>\n",
       "    </tr>\n",
       "    <tr>\n",
       "      <th>23</th>\n",
       "      <td>100</td>\n",
       "      <td>5</td>\n",
       "      <td>0.033583</td>\n",
       "      <td>0.026810</td>\n",
       "    </tr>\n",
       "    <tr>\n",
       "      <th>24</th>\n",
       "      <td>100</td>\n",
       "      <td>6</td>\n",
       "      <td>0.034520</td>\n",
       "      <td>0.027552</td>\n",
       "    </tr>\n",
       "    <tr>\n",
       "      <th>25</th>\n",
       "      <td>100</td>\n",
       "      <td>7</td>\n",
       "      <td>0.034765</td>\n",
       "      <td>0.027436</td>\n",
       "    </tr>\n",
       "    <tr>\n",
       "      <th>26</th>\n",
       "      <td>100</td>\n",
       "      <td>8</td>\n",
       "      <td>0.033668</td>\n",
       "      <td>0.026650</td>\n",
       "    </tr>\n",
       "    <tr>\n",
       "      <th>27</th>\n",
       "      <td>100</td>\n",
       "      <td>9</td>\n",
       "      <td>0.034554</td>\n",
       "      <td>0.027903</td>\n",
       "    </tr>\n",
       "    <tr>\n",
       "      <th>28</th>\n",
       "      <td>200</td>\n",
       "      <td>3</td>\n",
       "      <td>0.033953</td>\n",
       "      <td>0.026372</td>\n",
       "    </tr>\n",
       "    <tr>\n",
       "      <th>29</th>\n",
       "      <td>200</td>\n",
       "      <td>4</td>\n",
       "      <td>0.033496</td>\n",
       "      <td>0.026452</td>\n",
       "    </tr>\n",
       "    <tr>\n",
       "      <th>30</th>\n",
       "      <td>200</td>\n",
       "      <td>5</td>\n",
       "      <td>0.034706</td>\n",
       "      <td>0.027759</td>\n",
       "    </tr>\n",
       "    <tr>\n",
       "      <th>31</th>\n",
       "      <td>200</td>\n",
       "      <td>6</td>\n",
       "      <td>0.035336</td>\n",
       "      <td>0.028069</td>\n",
       "    </tr>\n",
       "    <tr>\n",
       "      <th>32</th>\n",
       "      <td>200</td>\n",
       "      <td>7</td>\n",
       "      <td>0.035249</td>\n",
       "      <td>0.027846</td>\n",
       "    </tr>\n",
       "    <tr>\n",
       "      <th>33</th>\n",
       "      <td>200</td>\n",
       "      <td>8</td>\n",
       "      <td>0.033869</td>\n",
       "      <td>0.026812</td>\n",
       "    </tr>\n",
       "    <tr>\n",
       "      <th>34</th>\n",
       "      <td>200</td>\n",
       "      <td>9</td>\n",
       "      <td>0.034683</td>\n",
       "      <td>0.028035</td>\n",
       "    </tr>\n",
       "  </tbody>\n",
       "</table>\n",
       "</div>"
      ],
      "text/plain": [
       "    n_estimators  max_depth      rmse       mae\n",
       "0             25          3  0.048282  0.041499\n",
       "1             25          4  0.048483  0.041772\n",
       "2             25          5  0.048633  0.041832\n",
       "3             25          6  0.048218  0.041408\n",
       "4             25          7  0.049257  0.042291\n",
       "5             25          8  0.049398  0.042399\n",
       "6             25          9  0.050080  0.043264\n",
       "7             50          3  0.030845  0.024664\n",
       "8             50          4  0.031174  0.024843\n",
       "9             50          5  0.031768  0.025274\n",
       "10            50          6  0.032488  0.026018\n",
       "11            50          7  0.033541  0.026872\n",
       "12            50          8  0.033299  0.026677\n",
       "13            50          9  0.034506  0.028041\n",
       "14            75          3  0.031237  0.024813\n",
       "15            75          4  0.031387  0.024780\n",
       "16            75          5  0.032855  0.026155\n",
       "17            75          6  0.033554  0.026830\n",
       "18            75          7  0.034297  0.027328\n",
       "19            75          8  0.033400  0.026556\n",
       "20            75          9  0.034355  0.027815\n",
       "21           100          3  0.031575  0.025129\n",
       "22           100          4  0.032220  0.025330\n",
       "23           100          5  0.033583  0.026810\n",
       "24           100          6  0.034520  0.027552\n",
       "25           100          7  0.034765  0.027436\n",
       "26           100          8  0.033668  0.026650\n",
       "27           100          9  0.034554  0.027903\n",
       "28           200          3  0.033953  0.026372\n",
       "29           200          4  0.033496  0.026452\n",
       "30           200          5  0.034706  0.027759\n",
       "31           200          6  0.035336  0.028069\n",
       "32           200          7  0.035249  0.027846\n",
       "33           200          8  0.033869  0.026812\n",
       "34           200          9  0.034683  0.028035"
      ]
     },
     "execution_count": 17,
     "metadata": {},
     "output_type": "execute_result"
    }
   ],
   "source": [
    "from tqdm import tqdm_notebook\n",
    "param_label = 'n_estimators'\n",
    "param_list = [25,50,75,100,200]\n",
    "\n",
    "param2_label = 'max_depth'\n",
    "param2_list = [3,4, 5, 6, 7, 8, 9]\n",
    "\n",
    "error_rate = defaultdict(list)\n",
    "\n",
    "tic = time.time()\n",
    "for param in tqdm_notebook(param_list):\n",
    "    for param2 in param2_list:\n",
    "        rmse_mean, mae_mean,m = xgb_model_train_val(X_train, y_train, X_val, y_val,\n",
    "                                                            seed = 100,n_estimators=param,max_depth=param2)\n",
    "    \n",
    "        # Collect results\n",
    "        error_rate[param_label].append(param)\n",
    "        error_rate[param2_label].append(param2)\n",
    "        error_rate['rmse'].append(rmse_mean)\n",
    "        error_rate['mae'].append(mae_mean)\n",
    "    \n",
    "error_rate = pd.DataFrame(error_rate)\n",
    "toc = time.time()\n",
    "print(\"Minutes taken = {0:.2f}\".format((toc-tic)/60.0))\n",
    "\n",
    "error_rate   "
   ]
  },
  {
   "cell_type": "code",
   "execution_count": 18,
   "id": "93a532be",
   "metadata": {},
   "outputs": [
    {
     "data": {
      "text/plain": [
       "<matplotlib.legend.Legend at 0x27f24e783d0>"
      ]
     },
     "execution_count": 18,
     "metadata": {},
     "output_type": "execute_result"
    },
    {
     "data": {
      "image/png": "[encoded data removed]",
      "text/plain": [
       "<Figure size 720x576 with 1 Axes>"
      ]
     },
     "metadata": {
      "needs_background": "light"
     },
     "output_type": "display_data"
    }
   ],
   "source": [
    "# Plot performance versus params\n",
    "from pylab import rcParams\n",
    "import matplotlib\n",
    "rcParams['figure.figsize'] = 10, 8 # width 10, height 8\n",
    "temp = error_rate[error_rate[param2_label]==param2_list[0]]\n",
    "ax = temp.plot(x=param_label, y='rmse', style='bs-', grid=True)\n",
    "legend_list = [param2_label + '_' + str(param2_list[0])]\n",
    "\n",
    "color_list = ['r', 'g', 'k', 'y', 'm', 'c', '0.75']\n",
    "for i in range(1,len(param2_list)):\n",
    "    temp = error_rate[error_rate[param2_label]==param2_list[i]]\n",
    "    ax = temp.plot(x=param_label, y='rmse', color=color_list[i%len(color_list)], marker='s', grid=True, ax=ax)\n",
    "    legend_list.append(param2_label + '_' + str(param2_list[i]))\n",
    "\n",
    "ax.set_xlabel(param_label)\n",
    "ax.set_ylabel(\"RMSE\")\n",
    "# ax.set_ylim([0, 20])\n",
    "matplotlib.rcParams.update({'font.size': 14})\n",
    "plt.legend(legend_list, loc='center left', bbox_to_anchor=(1.0, 0.5)) # positions legend outside figure"
   ]
  },
  {
   "cell_type": "code",
   "execution_count": 19,
   "id": "7d9b8e7f",
   "metadata": {},
   "outputs": [
    {
     "name": "stdout",
     "output_type": "stream",
     "text": [
      "min RMSE = 0.031\n",
      "optimum params = \n"
     ]
    },
    {
     "data": {
      "text/plain": [
       "(50, 3)"
      ]
     },
     "execution_count": 19,
     "metadata": {},
     "output_type": "execute_result"
    }
   ],
   "source": [
    "# Get optimum value for param and param2, using RMSE\n",
    "temp = error_rate[error_rate['rmse'] == error_rate['rmse'].min()]\n",
    "n_estimators_opt = temp['n_estimators'].values[0]\n",
    "max_depth_opt = temp['max_depth'].values[0]\n",
    "print(\"min RMSE = %0.3f\" % error_rate['rmse'].min())\n",
    "print(\"optimum params = \")\n",
    "n_estimators_opt, max_depth_opt"
   ]
  },
  {
   "cell_type": "markdown",
   "id": "42150f1c",
   "metadata": {},
   "source": [
    "#### Tuning learning_rate(default=0.1) and min_child_weight(default=1)"
   ]
  },
  {
   "cell_type": "code",
   "execution_count": 21,
   "id": "7d78d856",
   "metadata": {
    "scrolled": true
   },
   "outputs": [
    {
     "name": "stderr",
     "output_type": "stream",
     "text": [
      "<ipython-input-21-6dd8cafe6c94>:10: TqdmDeprecationWarning: This function will be removed in tqdm==5.0.0\n",
      "Please use `tqdm.notebook.tqdm` instead of `tqdm.tqdm_notebook`\n",
      "  for param in tqdm_notebook(param_list):\n"
     ]
    },
    {
     "data": {
      "application/vnd.jupyter.widget-view+json": {
       "model_id": "0c66303118144f14b4e38142d21531db",
       "version_major": 2,
       "version_minor": 0
      },
      "text/plain": [
       "  0%|          | 0/5 [00:00<?, ?it/s]"
      ]
     },
     "metadata": {},
     "output_type": "display_data"
    },
    {
     "name": "stdout",
     "output_type": "stream",
     "text": [
      "Minutes taken = 0.17\n"
     ]
    },
    {
     "data": {
      "text/html": [
       "<div>\n",
       "<style scoped>\n",
       "    .dataframe tbody tr th:only-of-type {\n",
       "        vertical-align: middle;\n",
       "    }\n",
       "\n",
       "    .dataframe tbody tr th {\n",
       "        vertical-align: top;\n",
       "    }\n",
       "\n",
       "    .dataframe thead th {\n",
       "        text-align: right;\n",
       "    }\n",
       "</style>\n",
       "<table border=\"1\" class=\"dataframe\">\n",
       "  <thead>\n",
       "    <tr style=\"text-align: right;\">\n",
       "      <th></th>\n",
       "      <th>learning_rate</th>\n",
       "      <th>min_child_weight</th>\n",
       "      <th>rmse</th>\n",
       "      <th>mae</th>\n",
       "    </tr>\n",
       "  </thead>\n",
       "  <tbody>\n",
       "    <tr>\n",
       "      <th>0</th>\n",
       "      <td>0.01</td>\n",
       "      <td>1</td>\n",
       "      <td>0.304380</td>\n",
       "      <td>0.302885</td>\n",
       "    </tr>\n",
       "    <tr>\n",
       "      <th>1</th>\n",
       "      <td>0.01</td>\n",
       "      <td>2</td>\n",
       "      <td>0.304380</td>\n",
       "      <td>0.302885</td>\n",
       "    </tr>\n",
       "    <tr>\n",
       "      <th>2</th>\n",
       "      <td>0.01</td>\n",
       "      <td>3</td>\n",
       "      <td>0.304380</td>\n",
       "      <td>0.302885</td>\n",
       "    </tr>\n",
       "    <tr>\n",
       "      <th>3</th>\n",
       "      <td>0.01</td>\n",
       "      <td>4</td>\n",
       "      <td>0.304380</td>\n",
       "      <td>0.302885</td>\n",
       "    </tr>\n",
       "    <tr>\n",
       "      <th>4</th>\n",
       "      <td>0.01</td>\n",
       "      <td>5</td>\n",
       "      <td>0.304380</td>\n",
       "      <td>0.302885</td>\n",
       "    </tr>\n",
       "    <tr>\n",
       "      <th>5</th>\n",
       "      <td>0.01</td>\n",
       "      <td>6</td>\n",
       "      <td>0.304380</td>\n",
       "      <td>0.302885</td>\n",
       "    </tr>\n",
       "    <tr>\n",
       "      <th>6</th>\n",
       "      <td>0.01</td>\n",
       "      <td>7</td>\n",
       "      <td>0.304380</td>\n",
       "      <td>0.302885</td>\n",
       "    </tr>\n",
       "    <tr>\n",
       "      <th>7</th>\n",
       "      <td>0.01</td>\n",
       "      <td>8</td>\n",
       "      <td>0.304380</td>\n",
       "      <td>0.302885</td>\n",
       "    </tr>\n",
       "    <tr>\n",
       "      <th>8</th>\n",
       "      <td>0.01</td>\n",
       "      <td>9</td>\n",
       "      <td>0.304380</td>\n",
       "      <td>0.302885</td>\n",
       "    </tr>\n",
       "    <tr>\n",
       "      <th>9</th>\n",
       "      <td>0.05</td>\n",
       "      <td>1</td>\n",
       "      <td>0.050194</td>\n",
       "      <td>0.043419</td>\n",
       "    </tr>\n",
       "    <tr>\n",
       "      <th>10</th>\n",
       "      <td>0.05</td>\n",
       "      <td>2</td>\n",
       "      <td>0.050270</td>\n",
       "      <td>0.043465</td>\n",
       "    </tr>\n",
       "    <tr>\n",
       "      <th>11</th>\n",
       "      <td>0.05</td>\n",
       "      <td>3</td>\n",
       "      <td>0.050285</td>\n",
       "      <td>0.043536</td>\n",
       "    </tr>\n",
       "    <tr>\n",
       "      <th>12</th>\n",
       "      <td>0.05</td>\n",
       "      <td>4</td>\n",
       "      <td>0.050123</td>\n",
       "      <td>0.043318</td>\n",
       "    </tr>\n",
       "    <tr>\n",
       "      <th>13</th>\n",
       "      <td>0.05</td>\n",
       "      <td>5</td>\n",
       "      <td>0.050095</td>\n",
       "      <td>0.043230</td>\n",
       "    </tr>\n",
       "    <tr>\n",
       "      <th>14</th>\n",
       "      <td>0.05</td>\n",
       "      <td>6</td>\n",
       "      <td>0.050177</td>\n",
       "      <td>0.043315</td>\n",
       "    </tr>\n",
       "    <tr>\n",
       "      <th>15</th>\n",
       "      <td>0.05</td>\n",
       "      <td>7</td>\n",
       "      <td>0.050365</td>\n",
       "      <td>0.043563</td>\n",
       "    </tr>\n",
       "    <tr>\n",
       "      <th>16</th>\n",
       "      <td>0.05</td>\n",
       "      <td>8</td>\n",
       "      <td>0.050569</td>\n",
       "      <td>0.043764</td>\n",
       "    </tr>\n",
       "    <tr>\n",
       "      <th>17</th>\n",
       "      <td>0.05</td>\n",
       "      <td>9</td>\n",
       "      <td>0.050485</td>\n",
       "      <td>0.043707</td>\n",
       "    </tr>\n",
       "    <tr>\n",
       "      <th>18</th>\n",
       "      <td>0.10</td>\n",
       "      <td>1</td>\n",
       "      <td>0.030845</td>\n",
       "      <td>0.024664</td>\n",
       "    </tr>\n",
       "    <tr>\n",
       "      <th>19</th>\n",
       "      <td>0.10</td>\n",
       "      <td>2</td>\n",
       "      <td>0.031002</td>\n",
       "      <td>0.025128</td>\n",
       "    </tr>\n",
       "    <tr>\n",
       "      <th>20</th>\n",
       "      <td>0.10</td>\n",
       "      <td>3</td>\n",
       "      <td>0.031185</td>\n",
       "      <td>0.024839</td>\n",
       "    </tr>\n",
       "    <tr>\n",
       "      <th>21</th>\n",
       "      <td>0.10</td>\n",
       "      <td>4</td>\n",
       "      <td>0.031041</td>\n",
       "      <td>0.025071</td>\n",
       "    </tr>\n",
       "    <tr>\n",
       "      <th>22</th>\n",
       "      <td>0.10</td>\n",
       "      <td>5</td>\n",
       "      <td>0.031598</td>\n",
       "      <td>0.025346</td>\n",
       "    </tr>\n",
       "    <tr>\n",
       "      <th>23</th>\n",
       "      <td>0.10</td>\n",
       "      <td>6</td>\n",
       "      <td>0.031500</td>\n",
       "      <td>0.025302</td>\n",
       "    </tr>\n",
       "    <tr>\n",
       "      <th>24</th>\n",
       "      <td>0.10</td>\n",
       "      <td>7</td>\n",
       "      <td>0.031492</td>\n",
       "      <td>0.025169</td>\n",
       "    </tr>\n",
       "    <tr>\n",
       "      <th>25</th>\n",
       "      <td>0.10</td>\n",
       "      <td>8</td>\n",
       "      <td>0.031093</td>\n",
       "      <td>0.024520</td>\n",
       "    </tr>\n",
       "    <tr>\n",
       "      <th>26</th>\n",
       "      <td>0.10</td>\n",
       "      <td>9</td>\n",
       "      <td>0.031397</td>\n",
       "      <td>0.024879</td>\n",
       "    </tr>\n",
       "    <tr>\n",
       "      <th>27</th>\n",
       "      <td>0.20</td>\n",
       "      <td>1</td>\n",
       "      <td>0.032731</td>\n",
       "      <td>0.026246</td>\n",
       "    </tr>\n",
       "    <tr>\n",
       "      <th>28</th>\n",
       "      <td>0.20</td>\n",
       "      <td>2</td>\n",
       "      <td>0.033763</td>\n",
       "      <td>0.026701</td>\n",
       "    </tr>\n",
       "    <tr>\n",
       "      <th>29</th>\n",
       "      <td>0.20</td>\n",
       "      <td>3</td>\n",
       "      <td>0.031995</td>\n",
       "      <td>0.025412</td>\n",
       "    </tr>\n",
       "    <tr>\n",
       "      <th>30</th>\n",
       "      <td>0.20</td>\n",
       "      <td>4</td>\n",
       "      <td>0.032627</td>\n",
       "      <td>0.026214</td>\n",
       "    </tr>\n",
       "    <tr>\n",
       "      <th>31</th>\n",
       "      <td>0.20</td>\n",
       "      <td>5</td>\n",
       "      <td>0.032844</td>\n",
       "      <td>0.026231</td>\n",
       "    </tr>\n",
       "    <tr>\n",
       "      <th>32</th>\n",
       "      <td>0.20</td>\n",
       "      <td>6</td>\n",
       "      <td>0.033420</td>\n",
       "      <td>0.026845</td>\n",
       "    </tr>\n",
       "    <tr>\n",
       "      <th>33</th>\n",
       "      <td>0.20</td>\n",
       "      <td>7</td>\n",
       "      <td>0.032832</td>\n",
       "      <td>0.026382</td>\n",
       "    </tr>\n",
       "    <tr>\n",
       "      <th>34</th>\n",
       "      <td>0.20</td>\n",
       "      <td>8</td>\n",
       "      <td>0.031912</td>\n",
       "      <td>0.025365</td>\n",
       "    </tr>\n",
       "    <tr>\n",
       "      <th>35</th>\n",
       "      <td>0.20</td>\n",
       "      <td>9</td>\n",
       "      <td>0.032827</td>\n",
       "      <td>0.026043</td>\n",
       "    </tr>\n",
       "    <tr>\n",
       "      <th>36</th>\n",
       "      <td>0.30</td>\n",
       "      <td>1</td>\n",
       "      <td>0.033687</td>\n",
       "      <td>0.026585</td>\n",
       "    </tr>\n",
       "    <tr>\n",
       "      <th>37</th>\n",
       "      <td>0.30</td>\n",
       "      <td>2</td>\n",
       "      <td>0.033528</td>\n",
       "      <td>0.026760</td>\n",
       "    </tr>\n",
       "    <tr>\n",
       "      <th>38</th>\n",
       "      <td>0.30</td>\n",
       "      <td>3</td>\n",
       "      <td>0.035071</td>\n",
       "      <td>0.028375</td>\n",
       "    </tr>\n",
       "    <tr>\n",
       "      <th>39</th>\n",
       "      <td>0.30</td>\n",
       "      <td>4</td>\n",
       "      <td>0.032299</td>\n",
       "      <td>0.026151</td>\n",
       "    </tr>\n",
       "    <tr>\n",
       "      <th>40</th>\n",
       "      <td>0.30</td>\n",
       "      <td>5</td>\n",
       "      <td>0.033429</td>\n",
       "      <td>0.026943</td>\n",
       "    </tr>\n",
       "    <tr>\n",
       "      <th>41</th>\n",
       "      <td>0.30</td>\n",
       "      <td>6</td>\n",
       "      <td>0.033419</td>\n",
       "      <td>0.026866</td>\n",
       "    </tr>\n",
       "    <tr>\n",
       "      <th>42</th>\n",
       "      <td>0.30</td>\n",
       "      <td>7</td>\n",
       "      <td>0.033613</td>\n",
       "      <td>0.026680</td>\n",
       "    </tr>\n",
       "    <tr>\n",
       "      <th>43</th>\n",
       "      <td>0.30</td>\n",
       "      <td>8</td>\n",
       "      <td>0.034256</td>\n",
       "      <td>0.027257</td>\n",
       "    </tr>\n",
       "    <tr>\n",
       "      <th>44</th>\n",
       "      <td>0.30</td>\n",
       "      <td>9</td>\n",
       "      <td>0.034238</td>\n",
       "      <td>0.027033</td>\n",
       "    </tr>\n",
       "  </tbody>\n",
       "</table>\n",
       "</div>"
      ],
      "text/plain": [
       "    learning_rate  min_child_weight      rmse       mae\n",
       "0            0.01                 1  0.304380  0.302885\n",
       "1            0.01                 2  0.304380  0.302885\n",
       "2            0.01                 3  0.304380  0.302885\n",
       "3            0.01                 4  0.304380  0.302885\n",
       "4            0.01                 5  0.304380  0.302885\n",
       "5            0.01                 6  0.304380  0.302885\n",
       "6            0.01                 7  0.304380  0.302885\n",
       "7            0.01                 8  0.304380  0.302885\n",
       "8            0.01                 9  0.304380  0.302885\n",
       "9            0.05                 1  0.050194  0.043419\n",
       "10           0.05                 2  0.050270  0.043465\n",
       "11           0.05                 3  0.050285  0.043536\n",
       "12           0.05                 4  0.050123  0.043318\n",
       "13           0.05                 5  0.050095  0.043230\n",
       "14           0.05                 6  0.050177  0.043315\n",
       "15           0.05                 7  0.050365  0.043563\n",
       "16           0.05                 8  0.050569  0.043764\n",
       "17           0.05                 9  0.050485  0.043707\n",
       "18           0.10                 1  0.030845  0.024664\n",
       "19           0.10                 2  0.031002  0.025128\n",
       "20           0.10                 3  0.031185  0.024839\n",
       "21           0.10                 4  0.031041  0.025071\n",
       "22           0.10                 5  0.031598  0.025346\n",
       "23           0.10                 6  0.031500  0.025302\n",
       "24           0.10                 7  0.031492  0.025169\n",
       "25           0.10                 8  0.031093  0.024520\n",
       "26           0.10                 9  0.031397  0.024879\n",
       "27           0.20                 1  0.032731  0.026246\n",
       "28           0.20                 2  0.033763  0.026701\n",
       "29           0.20                 3  0.031995  0.025412\n",
       "30           0.20                 4  0.032627  0.026214\n",
       "31           0.20                 5  0.032844  0.026231\n",
       "32           0.20                 6  0.033420  0.026845\n",
       "33           0.20                 7  0.032832  0.026382\n",
       "34           0.20                 8  0.031912  0.025365\n",
       "35           0.20                 9  0.032827  0.026043\n",
       "36           0.30                 1  0.033687  0.026585\n",
       "37           0.30                 2  0.033528  0.026760\n",
       "38           0.30                 3  0.035071  0.028375\n",
       "39           0.30                 4  0.032299  0.026151\n",
       "40           0.30                 5  0.033429  0.026943\n",
       "41           0.30                 6  0.033419  0.026866\n",
       "42           0.30                 7  0.033613  0.026680\n",
       "43           0.30                 8  0.034256  0.027257\n",
       "44           0.30                 9  0.034238  0.027033"
      ]
     },
     "execution_count": 21,
     "metadata": {},
     "output_type": "execute_result"
    }
   ],
   "source": [
    "param_label = 'learning_rate'\n",
    "param_list = [ 0.01, 0.05, 0.1, 0.2, 0.3]\n",
    "\n",
    "param2_label = 'min_child_weight'\n",
    "param2_list = range(1, 10, 1)\n",
    "\n",
    "error_rate = defaultdict(list)\n",
    "\n",
    "tic = time.time()\n",
    "for param in tqdm_notebook(param_list):\n",
    "    for param2 in param2_list:\n",
    "        rmse_mean, mae_mean,m = xgb_model_train_val(X_train, y_train, X_val, y_val,                                                        \n",
    "                                                              n_estimators=n_estimators_opt,\n",
    "                                                              max_depth=max_depth_opt,\n",
    "                                                              learning_rate=param,\n",
    "                                                              min_child_weight=param2)\n",
    "    \n",
    "        # Collect results\n",
    "        error_rate[param_label].append(param)\n",
    "        error_rate[param2_label].append(param2)\n",
    "        error_rate['rmse'].append(rmse_mean)\n",
    "        error_rate['mae'].append(mae_mean)\n",
    "    \n",
    "error_rate = pd.DataFrame(error_rate)\n",
    "toc = time.time()\n",
    "print(\"Minutes taken = {0:.2f}\".format((toc-tic)/60.0))\n",
    "\n",
    "error_rate   "
   ]
  },
  {
   "cell_type": "code",
   "execution_count": 22,
   "id": "a71d4a47",
   "metadata": {},
   "outputs": [
    {
     "data": {
      "text/plain": [
       "<matplotlib.legend.Legend at 0x27f27d5bfa0>"
      ]
     },
     "execution_count": 22,
     "metadata": {},
     "output_type": "execute_result"
    },
    {
     "data": {
      "image/png": "[encoded data removed]",
      "text/plain": [
       "<Figure size 720x576 with 1 Axes>"
      ]
     },
     "metadata": {
      "needs_background": "light"
     },
     "output_type": "display_data"
    }
   ],
   "source": [
    "# Plot performance versus params\n",
    "rcParams['figure.figsize'] = 10, 8 # width 10, height 8\n",
    "temp = error_rate[error_rate[param2_label]==param2_list[0]]\n",
    "ax = temp.plot(x=param_label, y='rmse', style='bs-', grid=True)\n",
    "legend_list = [param2_label + '_' + str(param2_list[0])]\n",
    "\n",
    "color_list = ['r', 'g', 'k', 'y', 'm', 'c', '0.75']\n",
    "for i in range(1,len(param2_list)):\n",
    "    temp = error_rate[error_rate[param2_label]==param2_list[i]]\n",
    "    ax = temp.plot(x=param_label, y='rmse', color=color_list[i%len(color_list)], marker='s', grid=True, ax=ax)\n",
    "    legend_list.append(param2_label + '_' + str(param2_list[i]))\n",
    "\n",
    "ax.set_xlabel(param_label)\n",
    "ax.set_ylabel(\"RMSE\")\n",
    "# ax.set_ylim([0, 4])\n",
    "matplotlib.rcParams.update({'font.size': 14})\n",
    "plt.legend(legend_list, loc='center left', bbox_to_anchor=(1.0, 0.5)) # positions legend outside figure"
   ]
  },
  {
   "cell_type": "code",
   "execution_count": 23,
   "id": "e67c63c0",
   "metadata": {},
   "outputs": [
    {
     "name": "stdout",
     "output_type": "stream",
     "text": [
      "min RMSE = 0.031\n",
      "optimum params = \n"
     ]
    },
    {
     "data": {
      "text/plain": [
       "(0.1, 1)"
      ]
     },
     "execution_count": 23,
     "metadata": {},
     "output_type": "execute_result"
    }
   ],
   "source": [
    "# Get optimum value for param and param2, using RMSE\n",
    "temp = error_rate[error_rate['rmse'] == error_rate['rmse'].min()]\n",
    "learning_rate_opt = temp['learning_rate'].values[0]\n",
    "min_child_weight_opt = temp['min_child_weight'].values[0]\n",
    "print(\"min RMSE = %0.3f\" % error_rate['rmse'].min())\n",
    "print(\"optimum params = \")\n",
    "learning_rate_opt, min_child_weight_opt"
   ]
  },
  {
   "cell_type": "markdown",
   "id": "01bb267a",
   "metadata": {},
   "source": [
    "#### Tuning subsample(default=1) and gamma(default=0)"
   ]
  },
  {
   "cell_type": "code",
   "execution_count": 24,
   "id": "f4631ccd",
   "metadata": {
    "scrolled": true
   },
   "outputs": [
    {
     "name": "stderr",
     "output_type": "stream",
     "text": [
      "<ipython-input-24-d9f5d0e5dbc7>:10: TqdmDeprecationWarning: This function will be removed in tqdm==5.0.0\n",
      "Please use `tqdm.notebook.tqdm` instead of `tqdm.tqdm_notebook`\n",
      "  for param in tqdm_notebook(param_list):\n"
     ]
    },
    {
     "data": {
      "application/vnd.jupyter.widget-view+json": {
       "model_id": "8d592e521e064a3d9ba9d2f92c3704a5",
       "version_major": 2,
       "version_minor": 0
      },
      "text/plain": [
       "  0%|          | 0/10 [00:00<?, ?it/s]"
      ]
     },
     "metadata": {},
     "output_type": "display_data"
    },
    {
     "name": "stdout",
     "output_type": "stream",
     "text": [
      "Minutes taken = 0.48\n"
     ]
    },
    {
     "data": {
      "text/html": [
       "<div>\n",
       "<style scoped>\n",
       "    .dataframe tbody tr th:only-of-type {\n",
       "        vertical-align: middle;\n",
       "    }\n",
       "\n",
       "    .dataframe tbody tr th {\n",
       "        vertical-align: top;\n",
       "    }\n",
       "\n",
       "    .dataframe thead th {\n",
       "        text-align: right;\n",
       "    }\n",
       "</style>\n",
       "<table border=\"1\" class=\"dataframe\">\n",
       "  <thead>\n",
       "    <tr style=\"text-align: right;\">\n",
       "      <th></th>\n",
       "      <th>subsample</th>\n",
       "      <th>gamma</th>\n",
       "      <th>rmse</th>\n",
       "      <th>mae</th>\n",
       "    </tr>\n",
       "  </thead>\n",
       "  <tbody>\n",
       "    <tr>\n",
       "      <th>0</th>\n",
       "      <td>0.1</td>\n",
       "      <td>0.0</td>\n",
       "      <td>0.034523</td>\n",
       "      <td>0.027699</td>\n",
       "    </tr>\n",
       "    <tr>\n",
       "      <th>1</th>\n",
       "      <td>0.1</td>\n",
       "      <td>0.1</td>\n",
       "      <td>0.030422</td>\n",
       "      <td>0.024544</td>\n",
       "    </tr>\n",
       "    <tr>\n",
       "      <th>2</th>\n",
       "      <td>0.1</td>\n",
       "      <td>0.2</td>\n",
       "      <td>0.030422</td>\n",
       "      <td>0.024544</td>\n",
       "    </tr>\n",
       "    <tr>\n",
       "      <th>3</th>\n",
       "      <td>0.1</td>\n",
       "      <td>0.3</td>\n",
       "      <td>0.030422</td>\n",
       "      <td>0.024544</td>\n",
       "    </tr>\n",
       "    <tr>\n",
       "      <th>4</th>\n",
       "      <td>0.1</td>\n",
       "      <td>0.4</td>\n",
       "      <td>0.030422</td>\n",
       "      <td>0.024544</td>\n",
       "    </tr>\n",
       "    <tr>\n",
       "      <th>...</th>\n",
       "      <td>...</td>\n",
       "      <td>...</td>\n",
       "      <td>...</td>\n",
       "      <td>...</td>\n",
       "    </tr>\n",
       "    <tr>\n",
       "      <th>105</th>\n",
       "      <td>1.0</td>\n",
       "      <td>0.6</td>\n",
       "      <td>0.030337</td>\n",
       "      <td>0.024426</td>\n",
       "    </tr>\n",
       "    <tr>\n",
       "      <th>106</th>\n",
       "      <td>1.0</td>\n",
       "      <td>0.7</td>\n",
       "      <td>0.030337</td>\n",
       "      <td>0.024426</td>\n",
       "    </tr>\n",
       "    <tr>\n",
       "      <th>107</th>\n",
       "      <td>1.0</td>\n",
       "      <td>0.8</td>\n",
       "      <td>0.030337</td>\n",
       "      <td>0.024426</td>\n",
       "    </tr>\n",
       "    <tr>\n",
       "      <th>108</th>\n",
       "      <td>1.0</td>\n",
       "      <td>0.9</td>\n",
       "      <td>0.030337</td>\n",
       "      <td>0.024426</td>\n",
       "    </tr>\n",
       "    <tr>\n",
       "      <th>109</th>\n",
       "      <td>1.0</td>\n",
       "      <td>1.0</td>\n",
       "      <td>0.030337</td>\n",
       "      <td>0.024426</td>\n",
       "    </tr>\n",
       "  </tbody>\n",
       "</table>\n",
       "<p>110 rows × 4 columns</p>\n",
       "</div>"
      ],
      "text/plain": [
       "     subsample  gamma      rmse       mae\n",
       "0          0.1    0.0  0.034523  0.027699\n",
       "1          0.1    0.1  0.030422  0.024544\n",
       "2          0.1    0.2  0.030422  0.024544\n",
       "3          0.1    0.3  0.030422  0.024544\n",
       "4          0.1    0.4  0.030422  0.024544\n",
       "..         ...    ...       ...       ...\n",
       "105        1.0    0.6  0.030337  0.024426\n",
       "106        1.0    0.7  0.030337  0.024426\n",
       "107        1.0    0.8  0.030337  0.024426\n",
       "108        1.0    0.9  0.030337  0.024426\n",
       "109        1.0    1.0  0.030337  0.024426\n",
       "\n",
       "[110 rows x 4 columns]"
      ]
     },
     "execution_count": 24,
     "metadata": {},
     "output_type": "execute_result"
    }
   ],
   "source": [
    "param_label = 'subsample'\n",
    "param_list = [0.1, 0.2, 0.3, 0.4, 0.5, 0.6, 0.7, 0.8, 0.9, 1]\n",
    "\n",
    "param2_label = 'gamma'\n",
    "param2_list = [0, 0.1, 0.2, 0.3, 0.4, 0.5, 0.6, 0.7, 0.8, 0.9, 1]\n",
    "\n",
    "error_rate = defaultdict(list)\n",
    "\n",
    "tic = time.time()\n",
    "for param in tqdm_notebook(param_list):\n",
    "    for param2 in param2_list:\n",
    "        rmse_mean,  mae_mean,m = xgb_model_train_val(X_train, y_train, X_val, y_val,                                                        \n",
    "                                                              n_estimators=n_estimators_opt,\n",
    "                                                              max_depth=max_depth_opt,\n",
    "                                                              learning_rate=learning_rate_opt,\n",
    "                                                              min_child_weight=min_child_weight_opt,\n",
    "                                                              subsample=param,\n",
    "                                                              gamma=param2)\n",
    "\n",
    "        # Collect results\n",
    "        error_rate[param_label].append(param)\n",
    "        error_rate[param2_label].append(param2)\n",
    "        error_rate['rmse'].append(rmse_mean)\n",
    "        error_rate['mae'].append(mae_mean)\n",
    "    \n",
    "error_rate = pd.DataFrame(error_rate)\n",
    "toc = time.time()\n",
    "print(\"Minutes taken = {0:.2f}\".format((toc-tic)/60.0))\n",
    "\n",
    "error_rate   "
   ]
  },
  {
   "cell_type": "code",
   "execution_count": 25,
   "id": "4455c693",
   "metadata": {},
   "outputs": [
    {
     "data": {
      "text/plain": [
       "<matplotlib.legend.Legend at 0x27f27e7cb80>"
      ]
     },
     "execution_count": 25,
     "metadata": {},
     "output_type": "execute_result"
    },
    {
     "data": {
      "image/png": "[encoded data removed]",
      "text/plain": [
       "<Figure size 720x576 with 1 Axes>"
      ]
     },
     "metadata": {
      "needs_background": "light"
     },
     "output_type": "display_data"
    }
   ],
   "source": [
    "# Plot performance versus params\n",
    "rcParams['figure.figsize'] = 10, 8 # width 10, height 8\n",
    "temp = error_rate[error_rate[param2_label]==param2_list[0]]\n",
    "ax = temp.plot(x=param_label, y='rmse', style='bs-', grid=True)\n",
    "legend_list = [param2_label + '_' + str(param2_list[0])]\n",
    "\n",
    "color_list = ['r', 'g', 'k', 'y', 'm', 'c', '0.75']\n",
    "for i in range(1,len(param2_list)):\n",
    "    temp = error_rate[error_rate[param2_label]==param2_list[i]]\n",
    "    ax = temp.plot(x=param_label, y='rmse', color=color_list[i%len(color_list)], marker='s', grid=True, ax=ax)\n",
    "    legend_list.append(param2_label + '_' + str(param2_list[i]))\n",
    "\n",
    "ax.set_xlabel(param_label)\n",
    "ax.set_ylabel(\"RMSE\")\n",
    "matplotlib.rcParams.update({'font.size': 14})\n",
    "plt.legend(legend_list, loc='center left', bbox_to_anchor=(1.0, 0.5)) # positions legend outside figure"
   ]
  },
  {
   "cell_type": "code",
   "execution_count": 26,
   "id": "1faa8dcb",
   "metadata": {},
   "outputs": [
    {
     "name": "stdout",
     "output_type": "stream",
     "text": [
      "min RMSE = 0.030\n",
      "optimum params = \n"
     ]
    },
    {
     "data": {
      "text/plain": [
       "(0.7, 0.1)"
      ]
     },
     "execution_count": 26,
     "metadata": {},
     "output_type": "execute_result"
    }
   ],
   "source": [
    "# Get optimum value for param and param2, using RMSE\n",
    "temp = error_rate[error_rate['rmse'] == error_rate['rmse'].min()]\n",
    "subsample_opt = temp['subsample'].values[0]\n",
    "gamma_opt = temp['gamma'].values[0]\n",
    "print(\"min RMSE = %0.3f\" % error_rate['rmse'].min())\n",
    "print(\"optimum params = \")\n",
    "subsample_opt, gamma_opt"
   ]
  },
  {
   "cell_type": "markdown",
   "id": "98a9297f",
   "metadata": {},
   "source": [
    "#### Tuning colsample_bytree(default=1) and colsample_bylevel(default=1)"
   ]
  },
  {
   "cell_type": "code",
   "execution_count": 39,
   "id": "568973f5",
   "metadata": {
    "scrolled": true
   },
   "outputs": [
    {
     "name": "stderr",
     "output_type": "stream",
     "text": [
      "<ipython-input-39-ef8f136c2f08>:10: TqdmDeprecationWarning: This function will be removed in tqdm==5.0.0\n",
      "Please use `tqdm.notebook.tqdm` instead of `tqdm.tqdm_notebook`\n",
      "  for param in tqdm_notebook(param_list):\n"
     ]
    },
    {
     "data": {
      "application/vnd.jupyter.widget-view+json": {
       "model_id": "a63fcf56329a45f5ad7c1796cc71f567",
       "version_major": 2,
       "version_minor": 0
      },
      "text/plain": [
       "  0%|          | 0/5 [00:00<?, ?it/s]"
      ]
     },
     "metadata": {},
     "output_type": "display_data"
    },
    {
     "name": "stdout",
     "output_type": "stream",
     "text": [
      "Minutes taken = 0.09\n"
     ]
    },
    {
     "data": {
      "text/html": [
       "<div>\n",
       "<style scoped>\n",
       "    .dataframe tbody tr th:only-of-type {\n",
       "        vertical-align: middle;\n",
       "    }\n",
       "\n",
       "    .dataframe tbody tr th {\n",
       "        vertical-align: top;\n",
       "    }\n",
       "\n",
       "    .dataframe thead th {\n",
       "        text-align: right;\n",
       "    }\n",
       "</style>\n",
       "<table border=\"1\" class=\"dataframe\">\n",
       "  <thead>\n",
       "    <tr style=\"text-align: right;\">\n",
       "      <th></th>\n",
       "      <th>colsample_bytree</th>\n",
       "      <th>colsample_bylevel</th>\n",
       "      <th>rmse</th>\n",
       "      <th>mae</th>\n",
       "    </tr>\n",
       "  </thead>\n",
       "  <tbody>\n",
       "    <tr>\n",
       "      <th>0</th>\n",
       "      <td>0.01</td>\n",
       "      <td>0.01</td>\n",
       "      <td>0.030331</td>\n",
       "      <td>0.024418</td>\n",
       "    </tr>\n",
       "    <tr>\n",
       "      <th>1</th>\n",
       "      <td>0.01</td>\n",
       "      <td>0.05</td>\n",
       "      <td>0.030331</td>\n",
       "      <td>0.024418</td>\n",
       "    </tr>\n",
       "    <tr>\n",
       "      <th>2</th>\n",
       "      <td>0.01</td>\n",
       "      <td>0.10</td>\n",
       "      <td>0.030331</td>\n",
       "      <td>0.024418</td>\n",
       "    </tr>\n",
       "    <tr>\n",
       "      <th>3</th>\n",
       "      <td>0.01</td>\n",
       "      <td>0.50</td>\n",
       "      <td>0.030331</td>\n",
       "      <td>0.024418</td>\n",
       "    </tr>\n",
       "    <tr>\n",
       "      <th>4</th>\n",
       "      <td>0.01</td>\n",
       "      <td>1.00</td>\n",
       "      <td>0.030331</td>\n",
       "      <td>0.024418</td>\n",
       "    </tr>\n",
       "    <tr>\n",
       "      <th>5</th>\n",
       "      <td>0.05</td>\n",
       "      <td>0.01</td>\n",
       "      <td>0.030331</td>\n",
       "      <td>0.024418</td>\n",
       "    </tr>\n",
       "    <tr>\n",
       "      <th>6</th>\n",
       "      <td>0.05</td>\n",
       "      <td>0.05</td>\n",
       "      <td>0.030331</td>\n",
       "      <td>0.024418</td>\n",
       "    </tr>\n",
       "    <tr>\n",
       "      <th>7</th>\n",
       "      <td>0.05</td>\n",
       "      <td>0.10</td>\n",
       "      <td>0.030331</td>\n",
       "      <td>0.024418</td>\n",
       "    </tr>\n",
       "    <tr>\n",
       "      <th>8</th>\n",
       "      <td>0.05</td>\n",
       "      <td>0.50</td>\n",
       "      <td>0.030331</td>\n",
       "      <td>0.024418</td>\n",
       "    </tr>\n",
       "    <tr>\n",
       "      <th>9</th>\n",
       "      <td>0.05</td>\n",
       "      <td>1.00</td>\n",
       "      <td>0.030331</td>\n",
       "      <td>0.024418</td>\n",
       "    </tr>\n",
       "    <tr>\n",
       "      <th>10</th>\n",
       "      <td>0.10</td>\n",
       "      <td>0.01</td>\n",
       "      <td>0.030331</td>\n",
       "      <td>0.024418</td>\n",
       "    </tr>\n",
       "    <tr>\n",
       "      <th>11</th>\n",
       "      <td>0.10</td>\n",
       "      <td>0.05</td>\n",
       "      <td>0.030331</td>\n",
       "      <td>0.024418</td>\n",
       "    </tr>\n",
       "    <tr>\n",
       "      <th>12</th>\n",
       "      <td>0.10</td>\n",
       "      <td>0.10</td>\n",
       "      <td>0.030331</td>\n",
       "      <td>0.024418</td>\n",
       "    </tr>\n",
       "    <tr>\n",
       "      <th>13</th>\n",
       "      <td>0.10</td>\n",
       "      <td>0.50</td>\n",
       "      <td>0.030331</td>\n",
       "      <td>0.024418</td>\n",
       "    </tr>\n",
       "    <tr>\n",
       "      <th>14</th>\n",
       "      <td>0.10</td>\n",
       "      <td>1.00</td>\n",
       "      <td>0.030331</td>\n",
       "      <td>0.024418</td>\n",
       "    </tr>\n",
       "    <tr>\n",
       "      <th>15</th>\n",
       "      <td>0.50</td>\n",
       "      <td>0.01</td>\n",
       "      <td>0.030331</td>\n",
       "      <td>0.024418</td>\n",
       "    </tr>\n",
       "    <tr>\n",
       "      <th>16</th>\n",
       "      <td>0.50</td>\n",
       "      <td>0.05</td>\n",
       "      <td>0.030331</td>\n",
       "      <td>0.024418</td>\n",
       "    </tr>\n",
       "    <tr>\n",
       "      <th>17</th>\n",
       "      <td>0.50</td>\n",
       "      <td>0.10</td>\n",
       "      <td>0.030331</td>\n",
       "      <td>0.024418</td>\n",
       "    </tr>\n",
       "    <tr>\n",
       "      <th>18</th>\n",
       "      <td>0.50</td>\n",
       "      <td>0.50</td>\n",
       "      <td>0.030331</td>\n",
       "      <td>0.024418</td>\n",
       "    </tr>\n",
       "    <tr>\n",
       "      <th>19</th>\n",
       "      <td>0.50</td>\n",
       "      <td>1.00</td>\n",
       "      <td>0.030331</td>\n",
       "      <td>0.024418</td>\n",
       "    </tr>\n",
       "    <tr>\n",
       "      <th>20</th>\n",
       "      <td>1.00</td>\n",
       "      <td>0.01</td>\n",
       "      <td>0.030331</td>\n",
       "      <td>0.024418</td>\n",
       "    </tr>\n",
       "    <tr>\n",
       "      <th>21</th>\n",
       "      <td>1.00</td>\n",
       "      <td>0.05</td>\n",
       "      <td>0.030331</td>\n",
       "      <td>0.024418</td>\n",
       "    </tr>\n",
       "    <tr>\n",
       "      <th>22</th>\n",
       "      <td>1.00</td>\n",
       "      <td>0.10</td>\n",
       "      <td>0.030331</td>\n",
       "      <td>0.024418</td>\n",
       "    </tr>\n",
       "    <tr>\n",
       "      <th>23</th>\n",
       "      <td>1.00</td>\n",
       "      <td>0.50</td>\n",
       "      <td>0.030331</td>\n",
       "      <td>0.024418</td>\n",
       "    </tr>\n",
       "    <tr>\n",
       "      <th>24</th>\n",
       "      <td>1.00</td>\n",
       "      <td>1.00</td>\n",
       "      <td>0.030331</td>\n",
       "      <td>0.024418</td>\n",
       "    </tr>\n",
       "  </tbody>\n",
       "</table>\n",
       "</div>"
      ],
      "text/plain": [
       "    colsample_bytree  colsample_bylevel      rmse       mae\n",
       "0               0.01               0.01  0.030331  0.024418\n",
       "1               0.01               0.05  0.030331  0.024418\n",
       "2               0.01               0.10  0.030331  0.024418\n",
       "3               0.01               0.50  0.030331  0.024418\n",
       "4               0.01               1.00  0.030331  0.024418\n",
       "5               0.05               0.01  0.030331  0.024418\n",
       "6               0.05               0.05  0.030331  0.024418\n",
       "7               0.05               0.10  0.030331  0.024418\n",
       "8               0.05               0.50  0.030331  0.024418\n",
       "9               0.05               1.00  0.030331  0.024418\n",
       "10              0.10               0.01  0.030331  0.024418\n",
       "11              0.10               0.05  0.030331  0.024418\n",
       "12              0.10               0.10  0.030331  0.024418\n",
       "13              0.10               0.50  0.030331  0.024418\n",
       "14              0.10               1.00  0.030331  0.024418\n",
       "15              0.50               0.01  0.030331  0.024418\n",
       "16              0.50               0.05  0.030331  0.024418\n",
       "17              0.50               0.10  0.030331  0.024418\n",
       "18              0.50               0.50  0.030331  0.024418\n",
       "19              0.50               1.00  0.030331  0.024418\n",
       "20              1.00               0.01  0.030331  0.024418\n",
       "21              1.00               0.05  0.030331  0.024418\n",
       "22              1.00               0.10  0.030331  0.024418\n",
       "23              1.00               0.50  0.030331  0.024418\n",
       "24              1.00               1.00  0.030331  0.024418"
      ]
     },
     "execution_count": 39,
     "metadata": {},
     "output_type": "execute_result"
    }
   ],
   "source": [
    "param_label = 'colsample_bytree'\n",
    "param_list = [0.01, 0.05, 0.1,0.5,1]\n",
    "\n",
    "param2_label = 'colsample_bylevel'\n",
    "param2_list = [0.01, 0.05, 0.1,0.5,1]\n",
    "\n",
    "error_rate = defaultdict(list)\n",
    "\n",
    "tic = time.time()\n",
    "for param in tqdm_notebook(param_list):    \n",
    "    for param2 in param2_list:\n",
    "        rmse_mean, mae_mean,m = xgb_model_train_val(X_train, y_train, X_val, y_val,                                                        \n",
    "                                                              n_estimators=n_estimators_opt,\n",
    "                                                              max_depth=max_depth_opt,\n",
    "                                                              learning_rate=learning_rate_opt,\n",
    "                                                              min_child_weight=min_child_weight_opt,\n",
    "                                                              subsample=subsample_opt,\n",
    "                                                              colsample_bytree=param,\n",
    "                                                              colsample_bylevel=param2,\n",
    "                                                              gamma=gamma_opt)\n",
    "    \n",
    "        # Collect results\n",
    "        error_rate[param_label].append(param)\n",
    "        error_rate[param2_label].append(param2)\n",
    "        error_rate['rmse'].append(rmse_mean)\n",
    "        error_rate['mae'].append(mae_mean)\n",
    "    \n",
    "error_rate = pd.DataFrame(error_rate)\n",
    "toc = time.time()\n",
    "print(\"Minutes taken = {0:.2f}\".format((toc-tic)/60.0))\n",
    "\n",
    "error_rate   "
   ]
  },
  {
   "cell_type": "code",
   "execution_count": 40,
   "id": "eea1f510",
   "metadata": {},
   "outputs": [
    {
     "data": {
      "text/plain": [
       "<matplotlib.legend.Legend at 0x27f24c83970>"
      ]
     },
     "execution_count": 40,
     "metadata": {},
     "output_type": "execute_result"
    },
    {
     "data": {
      "image/png": "[encoded data removed]",
      "text/plain": [
       "<Figure size 720x576 with 1 Axes>"
      ]
     },
     "metadata": {
      "needs_background": "light"
     },
     "output_type": "display_data"
    }
   ],
   "source": [
    "# Plot performance versus params\n",
    "rcParams['figure.figsize'] = 10, 8 # width 10, height 8\n",
    "temp = error_rate[error_rate[param2_label]==param2_list[0]]\n",
    "ax = temp.plot(x=param_label, y='rmse', style='bs-', grid=True)\n",
    "legend_list = [param2_label + '_' + str(param2_list[0])]\n",
    "\n",
    "color_list = ['r', 'g', 'k', 'y', 'm', 'c', '0.75']\n",
    "for i in range(1,len(param2_list)):\n",
    "    temp = error_rate[error_rate[param2_label]==param2_list[i]]\n",
    "    ax = temp.plot(x=param_label, y='rmse', color=color_list[i%len(color_list)], marker='s', grid=True, ax=ax)\n",
    "    legend_list.append(param2_label + '_' + str(param2_list[i]))\n",
    "\n",
    "ax.set_xlabel(param_label)\n",
    "ax.set_ylabel(\"RMSE\")\n",
    "matplotlib.rcParams.update({'font.size': 14})\n",
    "plt.legend(legend_list, loc='center left', bbox_to_anchor=(1.0, 0.5)) # positions legend outside figure"
   ]
  },
  {
   "cell_type": "code",
   "execution_count": 41,
   "id": "619306eb",
   "metadata": {},
   "outputs": [
    {
     "name": "stdout",
     "output_type": "stream",
     "text": [
      "min RMSE = 0.030\n",
      "optimum params = \n"
     ]
    },
    {
     "data": {
      "text/plain": [
       "(0.01, 0.01)"
      ]
     },
     "execution_count": 41,
     "metadata": {},
     "output_type": "execute_result"
    }
   ],
   "source": [
    "# Get optimum value for param and param2, using RMSE\n",
    "temp = error_rate[error_rate['rmse'] == error_rate['rmse'].min()]\n",
    "colsample_bytree_opt = temp['colsample_bytree'].values[0]\n",
    "colsample_bylevel_opt = temp['colsample_bylevel'].values[0]\n",
    "print(\"min RMSE = %0.3f\" % error_rate['rmse'].min())\n",
    "print(\"optimum params = \")\n",
    "colsample_bytree_opt, colsample_bylevel_opt"
   ]
  },
  {
   "cell_type": "markdown",
   "id": "bc0425f9",
   "metadata": {},
   "source": [
    "#### Final model"
   ]
  },
  {
   "cell_type": "code",
   "execution_count": 42,
   "id": "a9abc2b4",
   "metadata": {},
   "outputs": [
    {
     "name": "stdout",
     "output_type": "stream",
     "text": [
      "RMSE = 0.030\n",
      "MAE = 0.024\n"
     ]
    }
   ],
   "source": [
    "# Get error metrics on validation set after hyperparameter tuning\n",
    "xgb_rmse_aft_tuning, xgb_mae_aft_tuning, xgb_model_aft_tuning = \\\n",
    "                                                                        xgb_model_train_val(X_train, y_train, X_val, y_val,                                                        \n",
    "                                                                        n_estimators=n_estimators_opt,\n",
    "                                                                        max_depth=max_depth_opt,\n",
    "                                                                        learning_rate=learning_rate_opt,\n",
    "                                                                        min_child_weight=min_child_weight_opt,\n",
    "                                                                        subsample=subsample_opt,\n",
    "                                                                        colsample_bytree=colsample_bytree_opt,\n",
    "                                                                        colsample_bylevel=colsample_bylevel_opt,\n",
    "                                                                        gamma=gamma_opt)\n",
    "print(\"RMSE = %0.3f\" % xgb_rmse_aft_tuning)\n",
    "print(\"MAE = %0.3f\" % xgb_mae_aft_tuning)"
   ]
  },
  {
   "cell_type": "markdown",
   "id": "49e497b4",
   "metadata": {},
   "source": [
    "#### Tuned params"
   ]
  },
  {
   "cell_type": "code",
   "execution_count": 43,
   "id": "0589497f",
   "metadata": {},
   "outputs": [],
   "source": [
    "n_estimators = 100             # Number of boosted trees to fit. default = 100\n",
    "max_depth = 3                  # Maximum tree depth for base learners. default = 3\n",
    "learning_rate = 0.1            # Boosting learning rate (xgb’s “eta”). default = 0.1\n",
    "min_child_weight = 1           # Minimum sum of instance weight(hessian) needed in a child. default = 1\n",
    "subsample = 1                  # Subsample ratio of the training instance. default = 1\n",
    "colsample_bytree = 1           # Subsample ratio of columns when constructing each tree. default = 1\n",
    "colsample_bylevel = 1          # Subsample ratio of columns for each split, in each level. default = 1\n",
    "gamma = 0 "
   ]
  },
  {
   "cell_type": "code",
   "execution_count": 44,
   "id": "8ecfd67e",
   "metadata": {},
   "outputs": [
    {
     "data": {
      "text/html": [
       "<div>\n",
       "<style scoped>\n",
       "    .dataframe tbody tr th:only-of-type {\n",
       "        vertical-align: middle;\n",
       "    }\n",
       "\n",
       "    .dataframe tbody tr th {\n",
       "        vertical-align: top;\n",
       "    }\n",
       "\n",
       "    .dataframe thead th {\n",
       "        text-align: right;\n",
       "    }\n",
       "</style>\n",
       "<table border=\"1\" class=\"dataframe\">\n",
       "  <thead>\n",
       "    <tr style=\"text-align: right;\">\n",
       "      <th></th>\n",
       "      <th>param</th>\n",
       "      <th>before_tuning</th>\n",
       "      <th>after_tuning</th>\n",
       "    </tr>\n",
       "  </thead>\n",
       "  <tbody>\n",
       "    <tr>\n",
       "      <th>0</th>\n",
       "      <td>n_estimators</td>\n",
       "      <td>100.000</td>\n",
       "      <td>50.000</td>\n",
       "    </tr>\n",
       "    <tr>\n",
       "      <th>1</th>\n",
       "      <td>max_depth</td>\n",
       "      <td>3.000</td>\n",
       "      <td>3.000</td>\n",
       "    </tr>\n",
       "    <tr>\n",
       "      <th>2</th>\n",
       "      <td>learning_rate</td>\n",
       "      <td>0.100</td>\n",
       "      <td>0.100</td>\n",
       "    </tr>\n",
       "    <tr>\n",
       "      <th>3</th>\n",
       "      <td>min_child_weight</td>\n",
       "      <td>1.000</td>\n",
       "      <td>1.000</td>\n",
       "    </tr>\n",
       "    <tr>\n",
       "      <th>4</th>\n",
       "      <td>subsample</td>\n",
       "      <td>1.000</td>\n",
       "      <td>0.700</td>\n",
       "    </tr>\n",
       "    <tr>\n",
       "      <th>5</th>\n",
       "      <td>colsample_bytree</td>\n",
       "      <td>1.000</td>\n",
       "      <td>0.010</td>\n",
       "    </tr>\n",
       "    <tr>\n",
       "      <th>6</th>\n",
       "      <td>colsample_bylevel</td>\n",
       "      <td>1.000</td>\n",
       "      <td>0.010</td>\n",
       "    </tr>\n",
       "    <tr>\n",
       "      <th>7</th>\n",
       "      <td>gamma</td>\n",
       "      <td>0.000</td>\n",
       "      <td>0.100</td>\n",
       "    </tr>\n",
       "    <tr>\n",
       "      <th>8</th>\n",
       "      <td>val_rmse</td>\n",
       "      <td>0.032</td>\n",
       "      <td>0.030</td>\n",
       "    </tr>\n",
       "    <tr>\n",
       "      <th>9</th>\n",
       "      <td>val_mae</td>\n",
       "      <td>0.025</td>\n",
       "      <td>0.024</td>\n",
       "    </tr>\n",
       "  </tbody>\n",
       "</table>\n",
       "</div>"
      ],
      "text/plain": [
       "               param  before_tuning  after_tuning\n",
       "0       n_estimators        100.000        50.000\n",
       "1          max_depth          3.000         3.000\n",
       "2      learning_rate          0.100         0.100\n",
       "3   min_child_weight          1.000         1.000\n",
       "4          subsample          1.000         0.700\n",
       "5   colsample_bytree          1.000         0.010\n",
       "6  colsample_bylevel          1.000         0.010\n",
       "7              gamma          0.000         0.100\n",
       "8           val_rmse          0.032         0.030\n",
       "9            val_mae          0.025         0.024"
      ]
     },
     "execution_count": 44,
     "metadata": {},
     "output_type": "execute_result"
    }
   ],
   "source": [
    "# Tuned params and before and after error metrics\n",
    "d = {'param': ['n_estimators', 'max_depth', 'learning_rate', 'min_child_weight', 'subsample', 'colsample_bytree', 'colsample_bylevel', 'gamma', 'val_rmse', 'val_mae'],\n",
    "     'before_tuning': [n_estimators, max_depth, learning_rate, min_child_weight, subsample, colsample_bytree, colsample_bylevel, gamma, xgb_rmse_bef_tuning, xgb_mae_bef_tuning],\n",
    "     'after_tuning': [n_estimators_opt, max_depth_opt, learning_rate_opt, min_child_weight_opt, subsample_opt, colsample_bytree_opt, colsample_bylevel_opt, gamma_opt, xgb_rmse_aft_tuning, xgb_mae_aft_tuning]}\n",
    "tuned_params = pd.DataFrame(d)\n",
    "tuned_params = tuned_params.round(3)\n",
    "tuned_params"
   ]
  },
  {
   "cell_type": "markdown",
   "id": "c487ea8a",
   "metadata": {},
   "source": [
    "### 3) Prediction after tuning"
   ]
  },
  {
   "cell_type": "code",
   "execution_count": 45,
   "id": "d0268223",
   "metadata": {
    "scrolled": true
   },
   "outputs": [
    {
     "name": "stdout",
     "output_type": "stream",
     "text": [
      "RMSE = 0.032\n",
      "MAE = 0.025\n"
     ]
    }
   ],
   "source": [
    "# Do prediction on test set\n",
    "xgb_test_rmse_aft_tuning, xgb_test_mae_aft_tuning,xgb_pred = model_test_eval(X_test, y_test,xgb_model_aft_tuning)\n",
    "\n",
    "print(\"RMSE = %0.3f\" % xgb_test_rmse_aft_tuning)\n",
    "print(\"MAE = %0.3f\" % xgb_test_mae_aft_tuning)"
   ]
  },
  {
   "cell_type": "code",
   "execution_count": 46,
   "id": "b83cf827",
   "metadata": {},
   "outputs": [],
   "source": [
    "# xgb_pred = pd.DataFrame(xgb_pred,columns = ['002475_xgb'])\n",
    "# xgb_pred.to_excel('D:\\海康威视1.xlsx', index = False)"
   ]
  },
  {
   "cell_type": "markdown",
   "id": "4f9b153d",
   "metadata": {},
   "source": [
    "### 4) Importance Analysis"
   ]
  },
  {
   "cell_type": "code",
   "execution_count": 49,
   "id": "c4d97909",
   "metadata": {},
   "outputs": [
    {
     "data": {
      "text/html": [
       "<div>\n",
       "<style scoped>\n",
       "    .dataframe tbody tr th:only-of-type {\n",
       "        vertical-align: middle;\n",
       "    }\n",
       "\n",
       "    .dataframe tbody tr th {\n",
       "        vertical-align: top;\n",
       "    }\n",
       "\n",
       "    .dataframe thead th {\n",
       "        text-align: right;\n",
       "    }\n",
       "</style>\n",
       "<table border=\"1\" class=\"dataframe\">\n",
       "  <thead>\n",
       "    <tr style=\"text-align: right;\">\n",
       "      <th></th>\n",
       "      <th>features</th>\n",
       "      <th>importance</th>\n",
       "    </tr>\n",
       "  </thead>\n",
       "  <tbody>\n",
       "    <tr>\n",
       "      <th>0</th>\n",
       "      <td>ret_lag1</td>\n",
       "      <td>0.0</td>\n",
       "    </tr>\n",
       "    <tr>\n",
       "      <th>45</th>\n",
       "      <td>info_tech_涨跌幅</td>\n",
       "      <td>0.0</td>\n",
       "    </tr>\n",
       "    <tr>\n",
       "      <th>51</th>\n",
       "      <td>info_tech_周均价_diff1</td>\n",
       "      <td>0.0</td>\n",
       "    </tr>\n",
       "    <tr>\n",
       "      <th>50</th>\n",
       "      <td>info_tech_周最低价_diff1</td>\n",
       "      <td>0.0</td>\n",
       "    </tr>\n",
       "    <tr>\n",
       "      <th>49</th>\n",
       "      <td>info_tech_周最高价_diff1</td>\n",
       "      <td>0.0</td>\n",
       "    </tr>\n",
       "    <tr>\n",
       "      <th>...</th>\n",
       "      <td>...</td>\n",
       "      <td>...</td>\n",
       "    </tr>\n",
       "    <tr>\n",
       "      <th>23</th>\n",
       "      <td>股息率_diff1</td>\n",
       "      <td>0.0</td>\n",
       "    </tr>\n",
       "    <tr>\n",
       "      <th>22</th>\n",
       "      <td>市现率_diff1</td>\n",
       "      <td>0.0</td>\n",
       "    </tr>\n",
       "    <tr>\n",
       "      <th>21</th>\n",
       "      <td>市销率_diff1</td>\n",
       "      <td>0.0</td>\n",
       "    </tr>\n",
       "    <tr>\n",
       "      <th>20</th>\n",
       "      <td>市净率_diff1</td>\n",
       "      <td>0.0</td>\n",
       "    </tr>\n",
       "    <tr>\n",
       "      <th>70</th>\n",
       "      <td>宏观_社会融资规模_diff1</td>\n",
       "      <td>0.0</td>\n",
       "    </tr>\n",
       "  </tbody>\n",
       "</table>\n",
       "<p>71 rows × 2 columns</p>\n",
       "</div>"
      ],
      "text/plain": [
       "                features  importance\n",
       "0               ret_lag1         0.0\n",
       "45         info_tech_涨跌幅         0.0\n",
       "51   info_tech_周均价_diff1         0.0\n",
       "50  info_tech_周最低价_diff1         0.0\n",
       "49  info_tech_周最高价_diff1         0.0\n",
       "..                   ...         ...\n",
       "23             股息率_diff1         0.0\n",
       "22             市现率_diff1         0.0\n",
       "21             市销率_diff1         0.0\n",
       "20             市净率_diff1         0.0\n",
       "70       宏观_社会融资规模_diff1         0.0\n",
       "\n",
       "[71 rows x 2 columns]"
      ]
     },
     "execution_count": 49,
     "metadata": {},
     "output_type": "execute_result"
    }
   ],
   "source": [
    "a =xgb_model_aft_tuning.feature_importances_\n",
    "a1 = pd.DataFrame(a)\n",
    "a1.columns = ['importance']\n",
    "b = X_train.columns\n",
    "b1 = pd.DataFrame(b)\n",
    "b1.columns = ['features']\n",
    "c = pd.concat([b1,a1],axis = 1)\n",
    "c.sort_values(by= 'importance' , inplace=True, ascending=False) \n",
    "c"
   ]
  },
  {
   "cell_type": "code",
   "execution_count": 50,
   "id": "b29638ab",
   "metadata": {},
   "outputs": [
    {
     "name": "stdout",
     "output_type": "stream",
     "text": [
      "                    features  importance\n",
      "0                   ret_lag1         0.0\n",
      "45             info_tech_涨跌幅         0.0\n",
      "51       info_tech_周均价_diff1         0.0\n",
      "50      info_tech_周最低价_diff1         0.0\n",
      "49      info_tech_周最高价_diff1         0.0\n",
      "48       info_tech_换手率_diff1         0.0\n",
      "47       info_tech_成交量_diff1         0.0\n",
      "46       info_tech_收盘价_diff1         0.0\n",
      "44  WindA_一致预测净利润(FY2)_diff1         0.0\n",
      "53            info_tech_周涨跌幅         0.0\n"
     ]
    },
    {
     "data": {
      "text/plain": [
       "<AxesSubplot:ylabel='features'>"
      ]
     },
     "execution_count": 50,
     "metadata": {},
     "output_type": "execute_result"
    },
    {
     "data": {
      "image/png": "[encoded data removed]",
      "text/plain": [
       "<Figure size 864x576 with 1 Axes>"
      ]
     },
     "metadata": {
      "needs_background": "light"
     },
     "output_type": "display_data"
    }
   ],
   "source": [
    "matplotlib.rcParams['font.sans-serif'] = ['SimHei']     # 显示中文\n",
    "# 为了坐标轴负号正常显示。matplotlib默认不支持中文，设置中文字体后，负号会显示异常。需要手动将坐标轴负号设为False才能正常显示负号。\n",
    "matplotlib.rcParams['axes.unicode_minus'] = False\n",
    "\n",
    "hkws_top10 = c.head(10)\n",
    "print(hkws_top10)\n",
    "imp = pd.DataFrame(np.array(hkws_top10['importance']), index=hkws_top10['features'], columns=['importance'])\n",
    "imp.plot(kind='barh', figsize=(12, 8))\n",
    "#hkws_top10.sort_values('importance').plot(kind='barh', figsize=(12, 8))"
   ]
  },
  {
   "cell_type": "markdown",
   "id": "174ce3c3",
   "metadata": {},
   "source": [
    "## 4. Model construction_Random Forest"
   ]
  },
  {
   "cell_type": "code",
   "execution_count": 51,
   "id": "2541695b",
   "metadata": {},
   "outputs": [],
   "source": [
    "def rf_model_train_val(X_train, y_train, X_val, y_val,\n",
    "                          n_estimators=100, \n",
    "                          max_depth=3, \n",
    "                          min_samples_split=2,\n",
    "                          min_samples_leaf=1):\n",
    "\n",
    "    model = RandomForestRegressor(n_estimators=n_estimators,\n",
    "                         max_depth=max_depth,\n",
    "                          min_samples_split=min_samples_split,\n",
    "                          min_samples_leaf=min_samples_leaf)\n",
    "        \n",
    "    # Train the model\n",
    "    model.fit(X_train, y_train)\n",
    "    \n",
    "    # Get predicted labels\n",
    "    est = model.predict(X_val)\n",
    "\n",
    "    # Calculate RMSE,MAE\n",
    "    rmse = get_rmse(y_val, est)\n",
    "    mae = get_mae(y_val, est)\n",
    "    \n",
    "    return rmse, mae, model"
   ]
  },
  {
   "cell_type": "markdown",
   "id": "d798343f",
   "metadata": {},
   "source": [
    "### 1) Tuning aprameters"
   ]
  },
  {
   "cell_type": "markdown",
   "id": "61bb356a",
   "metadata": {},
   "source": [
    "#### Tuning n_estimators (default=100) and max_depth (default=3)"
   ]
  },
  {
   "cell_type": "code",
   "execution_count": 52,
   "id": "7d1c2867",
   "metadata": {
    "scrolled": true
   },
   "outputs": [
    {
     "name": "stderr",
     "output_type": "stream",
     "text": [
      "<ipython-input-52-51dd0c999a81>:11: TqdmDeprecationWarning: This function will be removed in tqdm==5.0.0\n",
      "Please use `tqdm.notebook.tqdm` instead of `tqdm.tqdm_notebook`\n",
      "  for param in tqdm_notebook(param_list):\n"
     ]
    },
    {
     "data": {
      "application/vnd.jupyter.widget-view+json": {
       "model_id": "dda7053affda49c19c15b90dd090bfaf",
       "version_major": 2,
       "version_minor": 0
      },
      "text/plain": [
       "  0%|          | 0/10 [00:00<?, ?it/s]"
      ]
     },
     "metadata": {},
     "output_type": "display_data"
    },
    {
     "name": "stdout",
     "output_type": "stream",
     "text": [
      "Minutes taken = 4.73\n"
     ]
    },
    {
     "data": {
      "text/html": [
       "<div>\n",
       "<style scoped>\n",
       "    .dataframe tbody tr th:only-of-type {\n",
       "        vertical-align: middle;\n",
       "    }\n",
       "\n",
       "    .dataframe tbody tr th {\n",
       "        vertical-align: top;\n",
       "    }\n",
       "\n",
       "    .dataframe thead th {\n",
       "        text-align: right;\n",
       "    }\n",
       "</style>\n",
       "<table border=\"1\" class=\"dataframe\">\n",
       "  <thead>\n",
       "    <tr style=\"text-align: right;\">\n",
       "      <th></th>\n",
       "      <th>n_estimators</th>\n",
       "      <th>max_depth</th>\n",
       "      <th>rmse</th>\n",
       "      <th>mae</th>\n",
       "    </tr>\n",
       "  </thead>\n",
       "  <tbody>\n",
       "    <tr>\n",
       "      <th>0</th>\n",
       "      <td>40</td>\n",
       "      <td>30</td>\n",
       "      <td>0.033054</td>\n",
       "      <td>0.025552</td>\n",
       "    </tr>\n",
       "    <tr>\n",
       "      <th>1</th>\n",
       "      <td>40</td>\n",
       "      <td>31</td>\n",
       "      <td>0.032034</td>\n",
       "      <td>0.025189</td>\n",
       "    </tr>\n",
       "    <tr>\n",
       "      <th>2</th>\n",
       "      <td>40</td>\n",
       "      <td>32</td>\n",
       "      <td>0.032626</td>\n",
       "      <td>0.025832</td>\n",
       "    </tr>\n",
       "    <tr>\n",
       "      <th>3</th>\n",
       "      <td>40</td>\n",
       "      <td>33</td>\n",
       "      <td>0.032177</td>\n",
       "      <td>0.025630</td>\n",
       "    </tr>\n",
       "    <tr>\n",
       "      <th>4</th>\n",
       "      <td>40</td>\n",
       "      <td>34</td>\n",
       "      <td>0.032804</td>\n",
       "      <td>0.025499</td>\n",
       "    </tr>\n",
       "    <tr>\n",
       "      <th>...</th>\n",
       "      <td>...</td>\n",
       "      <td>...</td>\n",
       "      <td>...</td>\n",
       "      <td>...</td>\n",
       "    </tr>\n",
       "    <tr>\n",
       "      <th>95</th>\n",
       "      <td>58</td>\n",
       "      <td>35</td>\n",
       "      <td>0.031208</td>\n",
       "      <td>0.025089</td>\n",
       "    </tr>\n",
       "    <tr>\n",
       "      <th>96</th>\n",
       "      <td>58</td>\n",
       "      <td>36</td>\n",
       "      <td>0.031881</td>\n",
       "      <td>0.025274</td>\n",
       "    </tr>\n",
       "    <tr>\n",
       "      <th>97</th>\n",
       "      <td>58</td>\n",
       "      <td>37</td>\n",
       "      <td>0.032251</td>\n",
       "      <td>0.025615</td>\n",
       "    </tr>\n",
       "    <tr>\n",
       "      <th>98</th>\n",
       "      <td>58</td>\n",
       "      <td>38</td>\n",
       "      <td>0.032621</td>\n",
       "      <td>0.025682</td>\n",
       "    </tr>\n",
       "    <tr>\n",
       "      <th>99</th>\n",
       "      <td>58</td>\n",
       "      <td>39</td>\n",
       "      <td>0.031797</td>\n",
       "      <td>0.025533</td>\n",
       "    </tr>\n",
       "  </tbody>\n",
       "</table>\n",
       "<p>100 rows × 4 columns</p>\n",
       "</div>"
      ],
      "text/plain": [
       "    n_estimators  max_depth      rmse       mae\n",
       "0             40         30  0.033054  0.025552\n",
       "1             40         31  0.032034  0.025189\n",
       "2             40         32  0.032626  0.025832\n",
       "3             40         33  0.032177  0.025630\n",
       "4             40         34  0.032804  0.025499\n",
       "..           ...        ...       ...       ...\n",
       "95            58         35  0.031208  0.025089\n",
       "96            58         36  0.031881  0.025274\n",
       "97            58         37  0.032251  0.025615\n",
       "98            58         38  0.032621  0.025682\n",
       "99            58         39  0.031797  0.025533\n",
       "\n",
       "[100 rows x 4 columns]"
      ]
     },
     "execution_count": 52,
     "metadata": {},
     "output_type": "execute_result"
    }
   ],
   "source": [
    "from tqdm import tqdm_notebook\n",
    "param_label = 'n_estimators'\n",
    "param_list = range(40, 60, 2)\n",
    "\n",
    "param2_label = 'max_depth'\n",
    "param2_list = range(30,40,1)\n",
    "\n",
    "error_rate = defaultdict(list)\n",
    "\n",
    "tic = time.time()\n",
    "for param in tqdm_notebook(param_list):\n",
    "    for param2 in param2_list:\n",
    "        rmse_mean, mae_mean,m = rf_model_train_val(X_train, y_train, X_val, y_val,\n",
    "                                                            n_estimators=param,max_depth=param2)\n",
    "    \n",
    "        # Collect results\n",
    "        error_rate[param_label].append(param)\n",
    "        error_rate[param2_label].append(param2)\n",
    "        error_rate['rmse'].append(rmse_mean)\n",
    "        error_rate['mae'].append(mae_mean)\n",
    "    \n",
    "error_rate = pd.DataFrame(error_rate)\n",
    "toc = time.time()\n",
    "print(\"Minutes taken = {0:.2f}\".format((toc-tic)/60.0))\n",
    "\n",
    "error_rate   "
   ]
  },
  {
   "cell_type": "code",
   "execution_count": 53,
   "id": "2f012ab5",
   "metadata": {
    "scrolled": true
   },
   "outputs": [
    {
     "data": {
      "text/plain": [
       "<matplotlib.legend.Legend at 0x27f2899bfa0>"
      ]
     },
     "execution_count": 53,
     "metadata": {},
     "output_type": "execute_result"
    },
    {
     "data": {
      "image/png": "[encoded data removed]",
      "text/plain": [
       "<Figure size 720x576 with 1 Axes>"
      ]
     },
     "metadata": {
      "needs_background": "light"
     },
     "output_type": "display_data"
    }
   ],
   "source": [
    "# Plot performance versus params\n",
    "from pylab import rcParams\n",
    "import matplotlib\n",
    "rcParams['figure.figsize'] = 10, 8 # width 10, height 8\n",
    "temp = error_rate[error_rate[param2_label]==param2_list[0]]\n",
    "ax = temp.plot(x=param_label, y='rmse', style='bs-', grid=True)\n",
    "legend_list = [param2_label + '_' + str(param2_list[0])]\n",
    "\n",
    "color_list = ['r', 'g', 'k', 'y', 'm', 'c', '0.75']\n",
    "for i in range(1,len(param2_list)):\n",
    "    temp = error_rate[error_rate[param2_label]==param2_list[i]]\n",
    "    ax = temp.plot(x=param_label, y='rmse', color=color_list[i%len(color_list)], marker='s', grid=True, ax=ax)\n",
    "    legend_list.append(param2_label + '_' + str(param2_list[i]))\n",
    "\n",
    "ax.set_xlabel(param_label)\n",
    "ax.set_ylabel(\"RMSE\")\n",
    "# ax.set_ylim([0, 20])\n",
    "matplotlib.rcParams.update({'font.size': 14})\n",
    "plt.legend(legend_list, loc='center left', bbox_to_anchor=(1.0, 0.5)) # positions legend outside figure"
   ]
  },
  {
   "cell_type": "code",
   "execution_count": 54,
   "id": "49b8271f",
   "metadata": {},
   "outputs": [
    {
     "name": "stdout",
     "output_type": "stream",
     "text": [
      "min RMSE = 0.031\n",
      "optimum params = \n"
     ]
    },
    {
     "data": {
      "text/plain": [
       "(50, 36)"
      ]
     },
     "execution_count": 54,
     "metadata": {},
     "output_type": "execute_result"
    }
   ],
   "source": [
    "# Get optimum value for param and param2, using RMSE\n",
    "temp = error_rate[error_rate['rmse'] == error_rate['rmse'].min()]\n",
    "n_estimators_opt = temp['n_estimators'].values[0]\n",
    "max_depth_opt = temp['max_depth'].values[0]\n",
    "print(\"min RMSE = %0.3f\" % error_rate['rmse'].min())\n",
    "print(\"optimum params = \")\n",
    "n_estimators_opt, max_depth_opt"
   ]
  },
  {
   "cell_type": "markdown",
   "id": "0e6eb6e7",
   "metadata": {},
   "source": [
    "#### Tuning min_samples_split(default=2) and  min_samples_leaf(default=1)"
   ]
  },
  {
   "cell_type": "code",
   "execution_count": 55,
   "id": "5e023008",
   "metadata": {
    "scrolled": true
   },
   "outputs": [
    {
     "name": "stderr",
     "output_type": "stream",
     "text": [
      "<ipython-input-55-7cf10e88798f>:11: TqdmDeprecationWarning: This function will be removed in tqdm==5.0.0\n",
      "Please use `tqdm.notebook.tqdm` instead of `tqdm.tqdm_notebook`\n",
      "  for param in tqdm_notebook(param_list):\n"
     ]
    },
    {
     "data": {
      "application/vnd.jupyter.widget-view+json": {
       "model_id": "6709e42f844b479c897f8ccc61299e35",
       "version_major": 2,
       "version_minor": 0
      },
      "text/plain": [
       "  0%|          | 0/3 [00:00<?, ?it/s]"
      ]
     },
     "metadata": {},
     "output_type": "display_data"
    },
    {
     "name": "stdout",
     "output_type": "stream",
     "text": [
      "Minutes taken = 0.95\n"
     ]
    },
    {
     "data": {
      "text/html": [
       "<div>\n",
       "<style scoped>\n",
       "    .dataframe tbody tr th:only-of-type {\n",
       "        vertical-align: middle;\n",
       "    }\n",
       "\n",
       "    .dataframe tbody tr th {\n",
       "        vertical-align: top;\n",
       "    }\n",
       "\n",
       "    .dataframe thead th {\n",
       "        text-align: right;\n",
       "    }\n",
       "</style>\n",
       "<table border=\"1\" class=\"dataframe\">\n",
       "  <thead>\n",
       "    <tr style=\"text-align: right;\">\n",
       "      <th></th>\n",
       "      <th>min_samples_split</th>\n",
       "      <th>min_samples_leaf</th>\n",
       "      <th>rmse</th>\n",
       "      <th>mae</th>\n",
       "    </tr>\n",
       "  </thead>\n",
       "  <tbody>\n",
       "    <tr>\n",
       "      <th>0</th>\n",
       "      <td>2</td>\n",
       "      <td>5</td>\n",
       "      <td>0.030919</td>\n",
       "      <td>0.024678</td>\n",
       "    </tr>\n",
       "    <tr>\n",
       "      <th>1</th>\n",
       "      <td>2</td>\n",
       "      <td>6</td>\n",
       "      <td>0.030694</td>\n",
       "      <td>0.024504</td>\n",
       "    </tr>\n",
       "    <tr>\n",
       "      <th>2</th>\n",
       "      <td>2</td>\n",
       "      <td>7</td>\n",
       "      <td>0.030703</td>\n",
       "      <td>0.024553</td>\n",
       "    </tr>\n",
       "    <tr>\n",
       "      <th>3</th>\n",
       "      <td>2</td>\n",
       "      <td>8</td>\n",
       "      <td>0.030476</td>\n",
       "      <td>0.024273</td>\n",
       "    </tr>\n",
       "    <tr>\n",
       "      <th>4</th>\n",
       "      <td>2</td>\n",
       "      <td>9</td>\n",
       "      <td>0.030421</td>\n",
       "      <td>0.024123</td>\n",
       "    </tr>\n",
       "    <tr>\n",
       "      <th>5</th>\n",
       "      <td>2</td>\n",
       "      <td>10</td>\n",
       "      <td>0.030596</td>\n",
       "      <td>0.024270</td>\n",
       "    </tr>\n",
       "    <tr>\n",
       "      <th>6</th>\n",
       "      <td>2</td>\n",
       "      <td>11</td>\n",
       "      <td>0.030432</td>\n",
       "      <td>0.024015</td>\n",
       "    </tr>\n",
       "    <tr>\n",
       "      <th>7</th>\n",
       "      <td>3</td>\n",
       "      <td>5</td>\n",
       "      <td>0.030918</td>\n",
       "      <td>0.024408</td>\n",
       "    </tr>\n",
       "    <tr>\n",
       "      <th>8</th>\n",
       "      <td>3</td>\n",
       "      <td>6</td>\n",
       "      <td>0.030656</td>\n",
       "      <td>0.024441</td>\n",
       "    </tr>\n",
       "    <tr>\n",
       "      <th>9</th>\n",
       "      <td>3</td>\n",
       "      <td>7</td>\n",
       "      <td>0.031227</td>\n",
       "      <td>0.024706</td>\n",
       "    </tr>\n",
       "    <tr>\n",
       "      <th>10</th>\n",
       "      <td>3</td>\n",
       "      <td>8</td>\n",
       "      <td>0.030713</td>\n",
       "      <td>0.024263</td>\n",
       "    </tr>\n",
       "    <tr>\n",
       "      <th>11</th>\n",
       "      <td>3</td>\n",
       "      <td>9</td>\n",
       "      <td>0.030117</td>\n",
       "      <td>0.023964</td>\n",
       "    </tr>\n",
       "    <tr>\n",
       "      <th>12</th>\n",
       "      <td>3</td>\n",
       "      <td>10</td>\n",
       "      <td>0.030429</td>\n",
       "      <td>0.023979</td>\n",
       "    </tr>\n",
       "    <tr>\n",
       "      <th>13</th>\n",
       "      <td>3</td>\n",
       "      <td>11</td>\n",
       "      <td>0.030895</td>\n",
       "      <td>0.024321</td>\n",
       "    </tr>\n",
       "    <tr>\n",
       "      <th>14</th>\n",
       "      <td>4</td>\n",
       "      <td>5</td>\n",
       "      <td>0.031132</td>\n",
       "      <td>0.024743</td>\n",
       "    </tr>\n",
       "    <tr>\n",
       "      <th>15</th>\n",
       "      <td>4</td>\n",
       "      <td>6</td>\n",
       "      <td>0.030697</td>\n",
       "      <td>0.024193</td>\n",
       "    </tr>\n",
       "    <tr>\n",
       "      <th>16</th>\n",
       "      <td>4</td>\n",
       "      <td>7</td>\n",
       "      <td>0.030813</td>\n",
       "      <td>0.024543</td>\n",
       "    </tr>\n",
       "    <tr>\n",
       "      <th>17</th>\n",
       "      <td>4</td>\n",
       "      <td>8</td>\n",
       "      <td>0.031160</td>\n",
       "      <td>0.024436</td>\n",
       "    </tr>\n",
       "    <tr>\n",
       "      <th>18</th>\n",
       "      <td>4</td>\n",
       "      <td>9</td>\n",
       "      <td>0.030636</td>\n",
       "      <td>0.024405</td>\n",
       "    </tr>\n",
       "    <tr>\n",
       "      <th>19</th>\n",
       "      <td>4</td>\n",
       "      <td>10</td>\n",
       "      <td>0.030348</td>\n",
       "      <td>0.023884</td>\n",
       "    </tr>\n",
       "    <tr>\n",
       "      <th>20</th>\n",
       "      <td>4</td>\n",
       "      <td>11</td>\n",
       "      <td>0.030653</td>\n",
       "      <td>0.024437</td>\n",
       "    </tr>\n",
       "  </tbody>\n",
       "</table>\n",
       "</div>"
      ],
      "text/plain": [
       "    min_samples_split  min_samples_leaf      rmse       mae\n",
       "0                   2                 5  0.030919  0.024678\n",
       "1                   2                 6  0.030694  0.024504\n",
       "2                   2                 7  0.030703  0.024553\n",
       "3                   2                 8  0.030476  0.024273\n",
       "4                   2                 9  0.030421  0.024123\n",
       "5                   2                10  0.030596  0.024270\n",
       "6                   2                11  0.030432  0.024015\n",
       "7                   3                 5  0.030918  0.024408\n",
       "8                   3                 6  0.030656  0.024441\n",
       "9                   3                 7  0.031227  0.024706\n",
       "10                  3                 8  0.030713  0.024263\n",
       "11                  3                 9  0.030117  0.023964\n",
       "12                  3                10  0.030429  0.023979\n",
       "13                  3                11  0.030895  0.024321\n",
       "14                  4                 5  0.031132  0.024743\n",
       "15                  4                 6  0.030697  0.024193\n",
       "16                  4                 7  0.030813  0.024543\n",
       "17                  4                 8  0.031160  0.024436\n",
       "18                  4                 9  0.030636  0.024405\n",
       "19                  4                10  0.030348  0.023884\n",
       "20                  4                11  0.030653  0.024437"
      ]
     },
     "execution_count": 55,
     "metadata": {},
     "output_type": "execute_result"
    }
   ],
   "source": [
    "from tqdm import tqdm_notebook\n",
    "param_label = 'min_samples_split'\n",
    "param_list = range(2, 5)\n",
    "\n",
    "param2_label = 'min_samples_leaf'\n",
    "param2_list = range(5,12)\n",
    "\n",
    "error_rate = defaultdict(list)\n",
    "\n",
    "tic = time.time()\n",
    "for param in tqdm_notebook(param_list):\n",
    "    for param2 in param2_list:\n",
    "        rmse_mean, mae_mean,m = rf_model_train_val(X_train, y_train, X_val, y_val,\n",
    "                                                                    n_estimators=n_estimators_opt,\n",
    "                                                                     max_depth=max_depth_opt,\n",
    "                                                                    min_samples_split=param,\n",
    "                                                                    min_samples_leaf=param2)\n",
    "    \n",
    "        # Collect results\n",
    "        error_rate[param_label].append(param)\n",
    "        error_rate[param2_label].append(param2)\n",
    "        error_rate['rmse'].append(rmse_mean)\n",
    "        error_rate['mae'].append(mae_mean)\n",
    "    \n",
    "error_rate = pd.DataFrame(error_rate)\n",
    "toc = time.time()\n",
    "print(\"Minutes taken = {0:.2f}\".format((toc-tic)/60.0))\n",
    "\n",
    "error_rate   "
   ]
  },
  {
   "cell_type": "code",
   "execution_count": 56,
   "id": "8be733b2",
   "metadata": {},
   "outputs": [
    {
     "data": {
      "text/plain": [
       "<matplotlib.legend.Legend at 0x27f28f883d0>"
      ]
     },
     "execution_count": 56,
     "metadata": {},
     "output_type": "execute_result"
    },
    {
     "data": {
      "image/png": "[encoded data removed]",
      "text/plain": [
       "<Figure size 720x576 with 1 Axes>"
      ]
     },
     "metadata": {
      "needs_background": "light"
     },
     "output_type": "display_data"
    }
   ],
   "source": [
    "# Plot performance versus params\n",
    "rcParams['figure.figsize'] = 10, 8 # width 10, height 8\n",
    "temp = error_rate[error_rate[param2_label]==param2_list[0]]\n",
    "ax = temp.plot(x=param_label, y='rmse', style='bs-', grid=True)\n",
    "legend_list = [param2_label + '_' + str(param2_list[0])]\n",
    "\n",
    "color_list = ['r', 'g', 'k', 'y', 'm', 'c', '0.75']\n",
    "for i in range(1,len(param2_list)):\n",
    "    temp = error_rate[error_rate[param2_label]==param2_list[i]]\n",
    "    ax = temp.plot(x=param_label, y='rmse', color=color_list[i%len(color_list)], marker='s', grid=True, ax=ax)\n",
    "    legend_list.append(param2_label + '_' + str(param2_list[i]))\n",
    "\n",
    "ax.set_xlabel(param_label)\n",
    "ax.set_ylabel(\"RMSE\")\n",
    "matplotlib.rcParams.update({'font.size': 14})\n",
    "plt.legend(legend_list, loc='center left', bbox_to_anchor=(1.0, 0.5)) # positions legend outside figure"
   ]
  },
  {
   "cell_type": "code",
   "execution_count": 57,
   "id": "4e5efacb",
   "metadata": {},
   "outputs": [
    {
     "name": "stdout",
     "output_type": "stream",
     "text": [
      "min RMSE = 0.030\n",
      "optimum params = \n"
     ]
    },
    {
     "data": {
      "text/plain": [
       "(3, 9)"
      ]
     },
     "execution_count": 57,
     "metadata": {},
     "output_type": "execute_result"
    }
   ],
   "source": [
    "# Get optimum value for param and param2, using RMSE\n",
    "temp = error_rate[error_rate['rmse'] == error_rate['rmse'].min()]\n",
    "min_samples_split_opt = temp['min_samples_split'].values[0]\n",
    "min_samples_leaf_opt = temp['min_samples_leaf'].values[0]\n",
    "print(\"min RMSE = %0.3f\" % error_rate['rmse'].min())\n",
    "print(\"optimum params = \")\n",
    "min_samples_split_opt, min_samples_leaf_opt"
   ]
  },
  {
   "cell_type": "markdown",
   "id": "24082890",
   "metadata": {},
   "source": [
    "#### Final Model"
   ]
  },
  {
   "cell_type": "code",
   "execution_count": 58,
   "id": "3b81a811",
   "metadata": {},
   "outputs": [
    {
     "name": "stdout",
     "output_type": "stream",
     "text": [
      "RMSE = 0.031\n",
      "MAE = 0.025\n"
     ]
    }
   ],
   "source": [
    "# Get error metrics on validation set after hyperparameter tuning\n",
    "rf_rmse_aft_tuning,rf_mae_aft_tuning, rf_model_aft_tuning = \\\n",
    "                                                                        rf_model_train_val(X_train, y_train, X_val, y_val,                                                        \n",
    "                                                                        n_estimators=n_estimators_opt,\n",
    "                                                                        max_depth=max_depth_opt,                                                                        \n",
    "                                                                        min_samples_split=min_samples_split_opt,\n",
    "                                                                        min_samples_leaf=min_samples_leaf_opt)\n",
    "print(\"RMSE = %0.3f\" % rf_rmse_aft_tuning)\n",
    "print(\"MAE = %0.3f\" % rf_mae_aft_tuning)"
   ]
  },
  {
   "cell_type": "code",
   "execution_count": 59,
   "id": "17803e77",
   "metadata": {},
   "outputs": [
    {
     "name": "stdout",
     "output_type": "stream",
     "text": [
      "RMSE = 0.032\n",
      "MAE = 0.025\n"
     ]
    }
   ],
   "source": [
    "# Do prediction on test set\n",
    "rf_test_rmse_aft_tuning, rf_test_mae_aft_tuning,rf_pred = model_test_eval(X_test, y_test,rf_model_aft_tuning)\n",
    "\n",
    "print(\"RMSE = %0.3f\" % rf_test_rmse_aft_tuning)\n",
    "print(\"MAE = %0.3f\" % rf_test_mae_aft_tuning)"
   ]
  },
  {
   "cell_type": "markdown",
   "id": "274dee06",
   "metadata": {},
   "source": [
    "### Importance Analysis"
   ]
  },
  {
   "cell_type": "code",
   "execution_count": 60,
   "id": "69a6f4bd",
   "metadata": {},
   "outputs": [
    {
     "data": {
      "text/html": [
       "<div>\n",
       "<style scoped>\n",
       "    .dataframe tbody tr th:only-of-type {\n",
       "        vertical-align: middle;\n",
       "    }\n",
       "\n",
       "    .dataframe tbody tr th {\n",
       "        vertical-align: top;\n",
       "    }\n",
       "\n",
       "    .dataframe thead th {\n",
       "        text-align: right;\n",
       "    }\n",
       "</style>\n",
       "<table border=\"1\" class=\"dataframe\">\n",
       "  <thead>\n",
       "    <tr style=\"text-align: right;\">\n",
       "      <th></th>\n",
       "      <th>features</th>\n",
       "      <th>importance</th>\n",
       "    </tr>\n",
       "  </thead>\n",
       "  <tbody>\n",
       "    <tr>\n",
       "      <th>3</th>\n",
       "      <td>ret_lag4</td>\n",
       "      <td>0.055609</td>\n",
       "    </tr>\n",
       "    <tr>\n",
       "      <th>2</th>\n",
       "      <td>ret_lag3</td>\n",
       "      <td>0.051084</td>\n",
       "    </tr>\n",
       "    <tr>\n",
       "      <th>8</th>\n",
       "      <td>开盘价(元)_diff1</td>\n",
       "      <td>0.041205</td>\n",
       "    </tr>\n",
       "    <tr>\n",
       "      <th>5</th>\n",
       "      <td>ret_lag6</td>\n",
       "      <td>0.037208</td>\n",
       "    </tr>\n",
       "    <tr>\n",
       "      <th>4</th>\n",
       "      <td>ret_lag5</td>\n",
       "      <td>0.036183</td>\n",
       "    </tr>\n",
       "    <tr>\n",
       "      <th>...</th>\n",
       "      <td>...</td>\n",
       "      <td>...</td>\n",
       "    </tr>\n",
       "    <tr>\n",
       "      <th>64</th>\n",
       "      <td>宏观_进口价格指数(总)_diff1</td>\n",
       "      <td>0.001293</td>\n",
       "    </tr>\n",
       "    <tr>\n",
       "      <th>70</th>\n",
       "      <td>宏观_社会融资规模_diff1</td>\n",
       "      <td>0.000979</td>\n",
       "    </tr>\n",
       "    <tr>\n",
       "      <th>61</th>\n",
       "      <td>宏观_PPI_diff1</td>\n",
       "      <td>0.000885</td>\n",
       "    </tr>\n",
       "    <tr>\n",
       "      <th>67</th>\n",
       "      <td>宏观_社会消费品零售总额_diff1</td>\n",
       "      <td>0.000752</td>\n",
       "    </tr>\n",
       "    <tr>\n",
       "      <th>69</th>\n",
       "      <td>宏观_金融机构各项贷款余额_diff1</td>\n",
       "      <td>0.000662</td>\n",
       "    </tr>\n",
       "  </tbody>\n",
       "</table>\n",
       "<p>71 rows × 2 columns</p>\n",
       "</div>"
      ],
      "text/plain": [
       "               features  importance\n",
       "3              ret_lag4    0.055609\n",
       "2              ret_lag3    0.051084\n",
       "8          开盘价(元)_diff1    0.041205\n",
       "5              ret_lag6    0.037208\n",
       "4              ret_lag5    0.036183\n",
       "..                  ...         ...\n",
       "64   宏观_进口价格指数(总)_diff1    0.001293\n",
       "70      宏观_社会融资规模_diff1    0.000979\n",
       "61         宏观_PPI_diff1    0.000885\n",
       "67   宏观_社会消费品零售总额_diff1    0.000752\n",
       "69  宏观_金融机构各项贷款余额_diff1    0.000662\n",
       "\n",
       "[71 rows x 2 columns]"
      ]
     },
     "execution_count": 60,
     "metadata": {},
     "output_type": "execute_result"
    }
   ],
   "source": [
    "a =rf_model_aft_tuning.feature_importances_\n",
    "a1 = pd.DataFrame(a)\n",
    "a1.columns = ['importance']\n",
    "b = X_train.columns\n",
    "b1 = pd.DataFrame(b)\n",
    "b1.columns = ['features']\n",
    "c = pd.concat([b1,a1],axis = 1)\n",
    "c.sort_values(by= 'importance' , inplace=True, ascending=False) \n",
    "c"
   ]
  },
  {
   "cell_type": "code",
   "execution_count": 61,
   "id": "a43d0a6c",
   "metadata": {},
   "outputs": [
    {
     "name": "stdout",
     "output_type": "stream",
     "text": [
      "                  features  importance\n",
      "3                 ret_lag4    0.055609\n",
      "2                 ret_lag3    0.051084\n",
      "8             开盘价(元)_diff1    0.041205\n",
      "5                 ret_lag6    0.037208\n",
      "4                 ret_lag5    0.036183\n",
      "42  WindA_股息率(近12个月)_diff1    0.034532\n",
      "22               市现率_diff1    0.031605\n",
      "10            最低价(元)_diff1    0.031441\n",
      "6                 ret_lag7    0.029757\n",
      "26         主力净流入量(股)_diff1    0.028545\n"
     ]
    },
    {
     "data": {
      "text/plain": [
       "<AxesSubplot:ylabel='features'>"
      ]
     },
     "execution_count": 61,
     "metadata": {},
     "output_type": "execute_result"
    },
    {
     "data": {
      "image/png": "[encoded data removed]",
      "text/plain": [
       "<Figure size 864x576 with 1 Axes>"
      ]
     },
     "metadata": {
      "needs_background": "light"
     },
     "output_type": "display_data"
    }
   ],
   "source": [
    "matplotlib.rcParams['font.sans-serif'] = ['SimHei']     # 显示中文\n",
    "# 为了坐标轴负号正常显示。matplotlib默认不支持中文，设置中文字体后，负号会显示异常。需要手动将坐标轴负号设为False才能正常显示负号。\n",
    "matplotlib.rcParams['axes.unicode_minus'] = False\n",
    "\n",
    "hkws_top10 = c.head(10)\n",
    "print(hkws_top10)\n",
    "imp = pd.DataFrame(np.array(hkws_top10['importance']), index=hkws_top10['features'], columns=['importance'])\n",
    "imp.plot(kind='barh', figsize=(12, 8))\n",
    "#hkws_top10.sort_values('importance').plot(kind='barh', figsize=(12, 8))"
   ]
  },
  {
   "cell_type": "code",
   "execution_count": 41,
   "id": "8bb4d1bf",
   "metadata": {},
   "outputs": [],
   "source": [
    "# rf_pred = pd.DataFrame(rf_pred,columns = ['002475_rf'])\n",
    "# rf_pred.to_excel('D:\\海康威视1.xlsx', index = False)"
   ]
  },
  {
   "cell_type": "markdown",
   "id": "eccb2731",
   "metadata": {},
   "source": [
    "## 5. Model comparison"
   ]
  },
  {
   "cell_type": "code",
   "execution_count": 62,
   "id": "3afc2d51",
   "metadata": {},
   "outputs": [
    {
     "data": {
      "text/html": [
       "<div>\n",
       "<style scoped>\n",
       "    .dataframe tbody tr th:only-of-type {\n",
       "        vertical-align: middle;\n",
       "    }\n",
       "\n",
       "    .dataframe tbody tr th {\n",
       "        vertical-align: top;\n",
       "    }\n",
       "\n",
       "    .dataframe thead th {\n",
       "        text-align: right;\n",
       "    }\n",
       "</style>\n",
       "<table border=\"1\" class=\"dataframe\">\n",
       "  <thead>\n",
       "    <tr style=\"text-align: right;\">\n",
       "      <th></th>\n",
       "      <th>XGBOOST_validation</th>\n",
       "      <th>Random Forest_validation</th>\n",
       "      <th>XGBOOST_test</th>\n",
       "      <th>Random Forest_test</th>\n",
       "    </tr>\n",
       "  </thead>\n",
       "  <tbody>\n",
       "    <tr>\n",
       "      <th>RMSE</th>\n",
       "      <td>0.030</td>\n",
       "      <td>0.031</td>\n",
       "      <td>0.032</td>\n",
       "      <td>0.032</td>\n",
       "    </tr>\n",
       "    <tr>\n",
       "      <th>MAE</th>\n",
       "      <td>0.024</td>\n",
       "      <td>0.025</td>\n",
       "      <td>0.025</td>\n",
       "      <td>0.025</td>\n",
       "    </tr>\n",
       "  </tbody>\n",
       "</table>\n",
       "</div>"
      ],
      "text/plain": [
       "      XGBOOST_validation  Random Forest_validation  XGBOOST_test  \\\n",
       "RMSE               0.030                     0.031         0.032   \n",
       "MAE                0.024                     0.025         0.025   \n",
       "\n",
       "      Random Forest_test  \n",
       "RMSE               0.032  \n",
       "MAE                0.025  "
      ]
     },
     "execution_count": 62,
     "metadata": {},
     "output_type": "execute_result"
    }
   ],
   "source": [
    "# Tuned params and before and after error metrics\n",
    "c = {'XGBOOST_validation': [ xgb_rmse_aft_tuning, xgb_mae_aft_tuning],\n",
    "     'Random Forest_validation': [rf_rmse_aft_tuning,rf_mae_aft_tuning],\n",
    "     'XGBOOST_test': [ xgb_test_rmse_aft_tuning,  xgb_test_mae_aft_tuning],\n",
    "     'Random Forest_test': [rf_test_rmse_aft_tuning, rf_test_mae_aft_tuning],}\n",
    "comparison = pd.DataFrame(c)\n",
    "comparison.index = ['RMSE','MAE']\n",
    "comparison = comparison.round(3)\n",
    "comparison"
   ]
  },
  {
   "cell_type": "code",
   "execution_count": null,
   "id": "19fd3ae8",
   "metadata": {},
   "outputs": [],
   "source": []
  }
 ],
 "metadata": {
  "kernelspec": {
   "display_name": "Python 3",
   "language": "python",
   "name": "python3"
  },
  "language_info": {
   "codemirror_mode": {
    "name": "ipython",
    "version": 3
   },
   "file_extension": ".py",
   "mimetype": "text/x-python",
   "name": "python",
   "nbconvert_exporter": "python",
   "pygments_lexer": "ipython3",
   "version": "3.8.8"
  }
 },
 "nbformat": 4,
 "nbformat_minor": 5
}
