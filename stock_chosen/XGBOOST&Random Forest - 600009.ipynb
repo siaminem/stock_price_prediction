{
 "cells": [
  {
   "cell_type": "code",
   "execution_count": 1,
   "id": "51329ca0",
   "metadata": {},
   "outputs": [],
   "source": [
    "import pandas as pd\n",
    "import numpy as np\n",
    "import os\n",
    "import matplotlib.pyplot as plt\n",
    "import time\n",
    "from xgboost import XGBRegressor\n",
    "import math\n",
    "import plotly.graph_objs as go\n",
    "import chart_studio.plotly as py\n",
    "from collections import defaultdict\n",
    "from sklearn.decomposition import PCA\n",
    "from xgboost import XGBRegressor\n",
    "from sklearn.ensemble import RandomForestRegressor"
   ]
  },
  {
   "cell_type": "code",
   "execution_count": 2,
   "id": "ad7acf68",
   "metadata": {},
   "outputs": [],
   "source": [
    "def get_mae(a, b):\n",
    "    return np.mean(abs(np.array(a)-np.array(b)))\n",
    "\n",
    "def get_rmse(a, b):\n",
    "    return math.sqrt(np.mean((np.array(a)-np.array(b))**2))"
   ]
  },
  {
   "cell_type": "markdown",
   "id": "ff567b43",
   "metadata": {},
   "source": [
    "# 海康威视"
   ]
  },
  {
   "cell_type": "markdown",
   "id": "81095baa",
   "metadata": {},
   "source": [
    "## 1. Load Data"
   ]
  },
  {
   "cell_type": "code",
   "execution_count": 3,
   "id": "fe875101",
   "metadata": {},
   "outputs": [
    {
     "data": {
      "text/html": [
       "<div>\n",
       "<style scoped>\n",
       "    .dataframe tbody tr th:only-of-type {\n",
       "        vertical-align: middle;\n",
       "    }\n",
       "\n",
       "    .dataframe tbody tr th {\n",
       "        vertical-align: top;\n",
       "    }\n",
       "\n",
       "    .dataframe thead th {\n",
       "        text-align: right;\n",
       "    }\n",
       "</style>\n",
       "<table border=\"1\" class=\"dataframe\">\n",
       "  <thead>\n",
       "    <tr style=\"text-align: right;\">\n",
       "      <th></th>\n",
       "      <th>日期</th>\n",
       "      <th>收益率</th>\n",
       "      <th>ret_lag1</th>\n",
       "      <th>ret_lag2</th>\n",
       "      <th>ret_lag3</th>\n",
       "      <th>ret_lag4</th>\n",
       "      <th>ret_lag5</th>\n",
       "      <th>ret_lag6</th>\n",
       "      <th>ret_lag7</th>\n",
       "      <th>前收盘价(元)_diff1</th>\n",
       "      <th>...</th>\n",
       "      <th>宏观_PPI_diff1</th>\n",
       "      <th>宏观_出口价格指数(总)</th>\n",
       "      <th>宏观_出口价格指数(车船航)</th>\n",
       "      <th>宏观_进口价格指数(总)_diff1</th>\n",
       "      <th>宏观_进口价格指数(车船航)</th>\n",
       "      <th>宏观_固定资产投资完成额</th>\n",
       "      <th>宏观_社会消费品零售总额_diff1</th>\n",
       "      <th>宏观_M2_diff2</th>\n",
       "      <th>宏观_金融机构各项贷款余额_diff1</th>\n",
       "      <th>宏观_社会融资规模_diff1</th>\n",
       "    </tr>\n",
       "  </thead>\n",
       "  <tbody>\n",
       "    <tr>\n",
       "      <th>0</th>\n",
       "      <td>2016-01-22</td>\n",
       "      <td>0.006988</td>\n",
       "      <td>0.014174</td>\n",
       "      <td>-0.015786</td>\n",
       "      <td>-0.003658</td>\n",
       "      <td>0.028206</td>\n",
       "      <td>0.003775</td>\n",
       "      <td>-0.014142</td>\n",
       "      <td>0.002986</td>\n",
       "      <td>-0.457292</td>\n",
       "      <td>...</td>\n",
       "      <td>-0.051989</td>\n",
       "      <td>-2.162753</td>\n",
       "      <td>-0.746224</td>\n",
       "      <td>-0.028079</td>\n",
       "      <td>-0.53487</td>\n",
       "      <td>-0.820241</td>\n",
       "      <td>-0.149665</td>\n",
       "      <td>0.0</td>\n",
       "      <td>0.031278</td>\n",
       "      <td>0.018098</td>\n",
       "    </tr>\n",
       "    <tr>\n",
       "      <th>1</th>\n",
       "      <td>2016-01-25</td>\n",
       "      <td>-0.027027</td>\n",
       "      <td>0.006988</td>\n",
       "      <td>0.014174</td>\n",
       "      <td>-0.015786</td>\n",
       "      <td>-0.003658</td>\n",
       "      <td>0.028206</td>\n",
       "      <td>0.003775</td>\n",
       "      <td>-0.014142</td>\n",
       "      <td>0.338560</td>\n",
       "      <td>...</td>\n",
       "      <td>-0.051989</td>\n",
       "      <td>-2.162753</td>\n",
       "      <td>-0.746224</td>\n",
       "      <td>-0.028079</td>\n",
       "      <td>-0.53487</td>\n",
       "      <td>-0.820241</td>\n",
       "      <td>-0.149665</td>\n",
       "      <td>0.0</td>\n",
       "      <td>0.031278</td>\n",
       "      <td>0.018098</td>\n",
       "    </tr>\n",
       "    <tr>\n",
       "      <th>2</th>\n",
       "      <td>2016-01-26</td>\n",
       "      <td>-0.028904</td>\n",
       "      <td>-0.027027</td>\n",
       "      <td>0.006988</td>\n",
       "      <td>0.014174</td>\n",
       "      <td>-0.015786</td>\n",
       "      <td>-0.003658</td>\n",
       "      <td>0.028206</td>\n",
       "      <td>0.003775</td>\n",
       "      <td>0.151878</td>\n",
       "      <td>...</td>\n",
       "      <td>-0.051989</td>\n",
       "      <td>-2.162753</td>\n",
       "      <td>-0.746224</td>\n",
       "      <td>-0.028079</td>\n",
       "      <td>-0.53487</td>\n",
       "      <td>-0.820241</td>\n",
       "      <td>-0.149665</td>\n",
       "      <td>0.0</td>\n",
       "      <td>0.031278</td>\n",
       "      <td>0.018098</td>\n",
       "    </tr>\n",
       "    <tr>\n",
       "      <th>3</th>\n",
       "      <td>2016-01-27</td>\n",
       "      <td>-0.024353</td>\n",
       "      <td>-0.028904</td>\n",
       "      <td>-0.027027</td>\n",
       "      <td>0.006988</td>\n",
       "      <td>0.014174</td>\n",
       "      <td>-0.015786</td>\n",
       "      <td>-0.003658</td>\n",
       "      <td>0.028206</td>\n",
       "      <td>-0.761877</td>\n",
       "      <td>...</td>\n",
       "      <td>-0.051989</td>\n",
       "      <td>-2.162753</td>\n",
       "      <td>-0.746224</td>\n",
       "      <td>-0.028079</td>\n",
       "      <td>-0.53487</td>\n",
       "      <td>-0.820241</td>\n",
       "      <td>-0.149665</td>\n",
       "      <td>0.0</td>\n",
       "      <td>0.031278</td>\n",
       "      <td>0.018098</td>\n",
       "    </tr>\n",
       "    <tr>\n",
       "      <th>4</th>\n",
       "      <td>2016-01-28</td>\n",
       "      <td>0.024564</td>\n",
       "      <td>-0.024353</td>\n",
       "      <td>-0.028904</td>\n",
       "      <td>-0.027027</td>\n",
       "      <td>0.006988</td>\n",
       "      <td>0.014174</td>\n",
       "      <td>-0.015786</td>\n",
       "      <td>-0.003658</td>\n",
       "      <td>-0.791353</td>\n",
       "      <td>...</td>\n",
       "      <td>-0.051989</td>\n",
       "      <td>-2.162753</td>\n",
       "      <td>-0.746224</td>\n",
       "      <td>-0.028079</td>\n",
       "      <td>-0.53487</td>\n",
       "      <td>-0.820241</td>\n",
       "      <td>-0.149665</td>\n",
       "      <td>0.0</td>\n",
       "      <td>0.031278</td>\n",
       "      <td>0.018098</td>\n",
       "    </tr>\n",
       "  </tbody>\n",
       "</table>\n",
       "<p>5 rows × 73 columns</p>\n",
       "</div>"
      ],
      "text/plain": [
       "          日期       收益率  ret_lag1  ret_lag2  ret_lag3  ret_lag4  ret_lag5  \\\n",
       "0 2016-01-22  0.006988  0.014174 -0.015786 -0.003658  0.028206  0.003775   \n",
       "1 2016-01-25 -0.027027  0.006988  0.014174 -0.015786 -0.003658  0.028206   \n",
       "2 2016-01-26 -0.028904 -0.027027  0.006988  0.014174 -0.015786 -0.003658   \n",
       "3 2016-01-27 -0.024353 -0.028904 -0.027027  0.006988  0.014174 -0.015786   \n",
       "4 2016-01-28  0.024564 -0.024353 -0.028904 -0.027027  0.006988  0.014174   \n",
       "\n",
       "   ret_lag6  ret_lag7  前收盘价(元)_diff1  ...  宏观_PPI_diff1  宏观_出口价格指数(总)  \\\n",
       "0 -0.014142  0.002986      -0.457292  ...     -0.051989     -2.162753   \n",
       "1  0.003775 -0.014142       0.338560  ...     -0.051989     -2.162753   \n",
       "2  0.028206  0.003775       0.151878  ...     -0.051989     -2.162753   \n",
       "3 -0.003658  0.028206      -0.761877  ...     -0.051989     -2.162753   \n",
       "4 -0.015786 -0.003658      -0.791353  ...     -0.051989     -2.162753   \n",
       "\n",
       "   宏观_出口价格指数(车船航)  宏观_进口价格指数(总)_diff1  宏观_进口价格指数(车船航)  宏观_固定资产投资完成额  \\\n",
       "0       -0.746224           -0.028079        -0.53487     -0.820241   \n",
       "1       -0.746224           -0.028079        -0.53487     -0.820241   \n",
       "2       -0.746224           -0.028079        -0.53487     -0.820241   \n",
       "3       -0.746224           -0.028079        -0.53487     -0.820241   \n",
       "4       -0.746224           -0.028079        -0.53487     -0.820241   \n",
       "\n",
       "   宏观_社会消费品零售总额_diff1  宏观_M2_diff2  宏观_金融机构各项贷款余额_diff1  宏观_社会融资规模_diff1  \n",
       "0           -0.149665          0.0             0.031278         0.018098  \n",
       "1           -0.149665          0.0             0.031278         0.018098  \n",
       "2           -0.149665          0.0             0.031278         0.018098  \n",
       "3           -0.149665          0.0             0.031278         0.018098  \n",
       "4           -0.149665          0.0             0.031278         0.018098  \n",
       "\n",
       "[5 rows x 73 columns]"
      ]
     },
     "execution_count": 3,
     "metadata": {},
     "output_type": "execute_result"
    }
   ],
   "source": [
    "hkws_path = 'D:/DeskTop-Files/CUHK-SZ/2022-2023 Fall term/1-Wed-14~17-IBA6 Fintech and Application/Group_final/data_new5_withdiff_withlag/data_new5_withdiff_withlag/600009_stable.xlsx'\n",
    "df = pd.DataFrame(pd.read_excel(hkws_path)) \n",
    "df.head()"
   ]
  },
  {
   "cell_type": "code",
   "execution_count": 4,
   "id": "d3515363",
   "metadata": {
    "scrolled": true
   },
   "outputs": [],
   "source": [
    "# hkws_path = 'D:/DeskTop-Files/CUHK-SZ/2022-2023 Fall term/1-Wed-14~17-IBA6 Fintech and Application/Group_final/data_new4_withdiff/data_new4_withdiff/海康威视_002415_成长.xlsx'\n",
    "# df = pd.DataFrame(pd.read_excel(hkws_path)) \n",
    "# df.head()"
   ]
  },
  {
   "cell_type": "code",
   "execution_count": 5,
   "id": "981e9900",
   "metadata": {
    "scrolled": true
   },
   "outputs": [
    {
     "name": "stdout",
     "output_type": "stream",
     "text": [
      "1204 1447\n"
     ]
    }
   ],
   "source": [
    "index_val = df[df.日期 == '2021-01-04'].index[0]\n",
    "index_test = df[df.日期 == '2022-01-04'].index[0]\n",
    "print(index_val,index_test)"
   ]
  },
  {
   "cell_type": "code",
   "execution_count": 6,
   "id": "bbff1294",
   "metadata": {},
   "outputs": [],
   "source": [
    "df.dropna(inplace=True)\n",
    "df = df.drop(['日期'], axis=1)\n",
    "y = df['收益率']\n",
    "X = df.drop('收益率', axis=1) "
   ]
  },
  {
   "cell_type": "markdown",
   "id": "2afa52b6",
   "metadata": {},
   "source": [
    "## 2. Split train set，validation set and test set "
   ]
  },
  {
   "cell_type": "code",
   "execution_count": 7,
   "id": "4d1e757e",
   "metadata": {},
   "outputs": [
    {
     "name": "stdout",
     "output_type": "stream",
     "text": [
      "X_train.shape = (1204, 71)\n",
      "X_val.shape = (243, 71)\n",
      "X_test.shape = (221, 71)\n"
     ]
    }
   ],
   "source": [
    "X_train = X[0:index_val].copy()\n",
    "X_val = X[index_val:index_test].copy()\n",
    "X_test = X[index_test:].copy()\n",
    "y_train = y[0:index_val].copy()\n",
    "y_val = y[index_val:index_test].copy()\n",
    "y_test = y[index_test:].copy()\n",
    "print(\"X_train.shape = \" + str(X_train.shape))\n",
    "print(\"X_val.shape = \" + str(X_val.shape))\n",
    "print(\"X_test.shape = \" + str(X_test.shape))"
   ]
  },
  {
   "cell_type": "markdown",
   "id": "fa69420d",
   "metadata": {},
   "source": [
    "## 3. Model cinstruction_XGBOOST"
   ]
  },
  {
   "cell_type": "code",
   "execution_count": 8,
   "id": "06be6ce6",
   "metadata": {},
   "outputs": [],
   "source": [
    "def xgb_model_train_val(X_train, y_train, X_val, y_val,\n",
    "                          seed=100, n_estimators=100, max_depth=3, learning_rate=0.1,\n",
    "                          min_child_weight=1, subsample=1, colsample_bytree=1, colsample_bylevel=1, gamma=0):\n",
    "\n",
    "    model = XGBRegressor(objective ='reg:squarederror',\n",
    "                         seed=seed, n_estimators=n_estimators,\n",
    "                         max_depth=max_depth,\n",
    "                         learning_rate=learning_rate,\n",
    "                         min_child_weight=min_child_weight,\n",
    "                         subsample=subsample,\n",
    "                         colsample_bytree=colsample_bytree,\n",
    "                         colsample_bylevel=colsample_bylevel,\n",
    "                         gamma=gamma)\n",
    "        \n",
    "    # Train the model\n",
    "    model.fit(X_train, y_train)\n",
    "    \n",
    "    # Get predicted labels\n",
    "    est = model.predict(X_val)\n",
    "\n",
    "    # Calculate RMSE, MAPE, MAE\n",
    "    rmse = get_rmse(y_val, est)\n",
    "    mae = get_mae(y_val, est)\n",
    "    \n",
    "    return rmse, mae, model"
   ]
  },
  {
   "cell_type": "code",
   "execution_count": 9,
   "id": "c785fb15",
   "metadata": {},
   "outputs": [],
   "source": [
    "def model_test_eval(X_test, y_test, model):\n",
    "    \n",
    "    # Get predicted labels\n",
    "    est = model.predict(X_test)\n",
    "\n",
    "    # Calculate RMSE, MAPE, MAE\n",
    "    rmse = get_rmse(y_test, est)\n",
    "    mae = get_mae(y_test, est)\n",
    "    \n",
    "    return rmse, mae, est"
   ]
  },
  {
   "cell_type": "markdown",
   "id": "766bb19d",
   "metadata": {},
   "source": [
    "### 1) Prediction before tuning on validation set"
   ]
  },
  {
   "cell_type": "code",
   "execution_count": 10,
   "id": "5ecf16b2",
   "metadata": {},
   "outputs": [
    {
     "name": "stdout",
     "output_type": "stream",
     "text": [
      "RMSE = 0.028\n",
      "MAE = 0.019\n"
     ]
    }
   ],
   "source": [
    "# Get error metrics on validation set before hyperparameter tuning\n",
    "xgb_rmse_bef_tuning, xgb_mae_bef_tuning,xgb_model_bef_tuning = xgb_model_train_val(X_train, y_train, X_val, y_val)\n",
    "                                                                \n",
    "print(\"RMSE = %0.3f\" % xgb_rmse_bef_tuning)\n",
    "print(\"MAE = %0.3f\" % xgb_mae_bef_tuning)"
   ]
  },
  {
   "cell_type": "markdown",
   "id": "9eeeeef4",
   "metadata": {},
   "source": [
    "### 2) Tuning parameters"
   ]
  },
  {
   "cell_type": "markdown",
   "id": "0cea71c3",
   "metadata": {},
   "source": [
    "#### Tuning n_estimators (default=100) and max_depth (default=3)"
   ]
  },
  {
   "cell_type": "code",
   "execution_count": 17,
   "id": "b427f939",
   "metadata": {
    "scrolled": true
   },
   "outputs": [
    {
     "name": "stderr",
     "output_type": "stream",
     "text": [
      "<ipython-input-17-256a1b781448>:11: TqdmDeprecationWarning: This function will be removed in tqdm==5.0.0\n",
      "Please use `tqdm.notebook.tqdm` instead of `tqdm.tqdm_notebook`\n",
      "  for param in tqdm_notebook(param_list):\n"
     ]
    },
    {
     "data": {
      "application/vnd.jupyter.widget-view+json": {
       "model_id": "1ca33353a6cd4c3b90df139d88445dcd",
       "version_major": 2,
       "version_minor": 0
      },
      "text/plain": [
       "  0%|          | 0/4 [00:00<?, ?it/s]"
      ]
     },
     "metadata": {},
     "output_type": "display_data"
    },
    {
     "name": "stdout",
     "output_type": "stream",
     "text": [
      "Minutes taken = 0.30\n"
     ]
    },
    {
     "data": {
      "text/html": [
       "<div>\n",
       "<style scoped>\n",
       "    .dataframe tbody tr th:only-of-type {\n",
       "        vertical-align: middle;\n",
       "    }\n",
       "\n",
       "    .dataframe tbody tr th {\n",
       "        vertical-align: top;\n",
       "    }\n",
       "\n",
       "    .dataframe thead th {\n",
       "        text-align: right;\n",
       "    }\n",
       "</style>\n",
       "<table border=\"1\" class=\"dataframe\">\n",
       "  <thead>\n",
       "    <tr style=\"text-align: right;\">\n",
       "      <th></th>\n",
       "      <th>n_estimators</th>\n",
       "      <th>max_depth</th>\n",
       "      <th>rmse</th>\n",
       "      <th>mae</th>\n",
       "    </tr>\n",
       "  </thead>\n",
       "  <tbody>\n",
       "    <tr>\n",
       "      <th>0</th>\n",
       "      <td>50</td>\n",
       "      <td>4</td>\n",
       "      <td>0.028148</td>\n",
       "      <td>0.018809</td>\n",
       "    </tr>\n",
       "    <tr>\n",
       "      <th>1</th>\n",
       "      <td>50</td>\n",
       "      <td>5</td>\n",
       "      <td>0.028979</td>\n",
       "      <td>0.019395</td>\n",
       "    </tr>\n",
       "    <tr>\n",
       "      <th>2</th>\n",
       "      <td>50</td>\n",
       "      <td>6</td>\n",
       "      <td>0.028438</td>\n",
       "      <td>0.019404</td>\n",
       "    </tr>\n",
       "    <tr>\n",
       "      <th>3</th>\n",
       "      <td>50</td>\n",
       "      <td>7</td>\n",
       "      <td>0.029015</td>\n",
       "      <td>0.019728</td>\n",
       "    </tr>\n",
       "    <tr>\n",
       "      <th>4</th>\n",
       "      <td>50</td>\n",
       "      <td>8</td>\n",
       "      <td>0.028652</td>\n",
       "      <td>0.019384</td>\n",
       "    </tr>\n",
       "    <tr>\n",
       "      <th>5</th>\n",
       "      <td>50</td>\n",
       "      <td>9</td>\n",
       "      <td>0.029373</td>\n",
       "      <td>0.019954</td>\n",
       "    </tr>\n",
       "    <tr>\n",
       "      <th>6</th>\n",
       "      <td>75</td>\n",
       "      <td>4</td>\n",
       "      <td>0.027931</td>\n",
       "      <td>0.018957</td>\n",
       "    </tr>\n",
       "    <tr>\n",
       "      <th>7</th>\n",
       "      <td>75</td>\n",
       "      <td>5</td>\n",
       "      <td>0.028471</td>\n",
       "      <td>0.019022</td>\n",
       "    </tr>\n",
       "    <tr>\n",
       "      <th>8</th>\n",
       "      <td>75</td>\n",
       "      <td>6</td>\n",
       "      <td>0.027893</td>\n",
       "      <td>0.018984</td>\n",
       "    </tr>\n",
       "    <tr>\n",
       "      <th>9</th>\n",
       "      <td>75</td>\n",
       "      <td>7</td>\n",
       "      <td>0.028873</td>\n",
       "      <td>0.019393</td>\n",
       "    </tr>\n",
       "    <tr>\n",
       "      <th>10</th>\n",
       "      <td>75</td>\n",
       "      <td>8</td>\n",
       "      <td>0.027933</td>\n",
       "      <td>0.018853</td>\n",
       "    </tr>\n",
       "    <tr>\n",
       "      <th>11</th>\n",
       "      <td>75</td>\n",
       "      <td>9</td>\n",
       "      <td>0.028550</td>\n",
       "      <td>0.019192</td>\n",
       "    </tr>\n",
       "    <tr>\n",
       "      <th>12</th>\n",
       "      <td>100</td>\n",
       "      <td>4</td>\n",
       "      <td>0.027898</td>\n",
       "      <td>0.018980</td>\n",
       "    </tr>\n",
       "    <tr>\n",
       "      <th>13</th>\n",
       "      <td>100</td>\n",
       "      <td>5</td>\n",
       "      <td>0.028461</td>\n",
       "      <td>0.019094</td>\n",
       "    </tr>\n",
       "    <tr>\n",
       "      <th>14</th>\n",
       "      <td>100</td>\n",
       "      <td>6</td>\n",
       "      <td>0.028126</td>\n",
       "      <td>0.019175</td>\n",
       "    </tr>\n",
       "    <tr>\n",
       "      <th>15</th>\n",
       "      <td>100</td>\n",
       "      <td>7</td>\n",
       "      <td>0.029071</td>\n",
       "      <td>0.019553</td>\n",
       "    </tr>\n",
       "    <tr>\n",
       "      <th>16</th>\n",
       "      <td>100</td>\n",
       "      <td>8</td>\n",
       "      <td>0.027915</td>\n",
       "      <td>0.018851</td>\n",
       "    </tr>\n",
       "    <tr>\n",
       "      <th>17</th>\n",
       "      <td>100</td>\n",
       "      <td>9</td>\n",
       "      <td>0.028562</td>\n",
       "      <td>0.019228</td>\n",
       "    </tr>\n",
       "    <tr>\n",
       "      <th>18</th>\n",
       "      <td>200</td>\n",
       "      <td>4</td>\n",
       "      <td>0.028293</td>\n",
       "      <td>0.019700</td>\n",
       "    </tr>\n",
       "    <tr>\n",
       "      <th>19</th>\n",
       "      <td>200</td>\n",
       "      <td>5</td>\n",
       "      <td>0.028800</td>\n",
       "      <td>0.019561</td>\n",
       "    </tr>\n",
       "    <tr>\n",
       "      <th>20</th>\n",
       "      <td>200</td>\n",
       "      <td>6</td>\n",
       "      <td>0.028328</td>\n",
       "      <td>0.019393</td>\n",
       "    </tr>\n",
       "    <tr>\n",
       "      <th>21</th>\n",
       "      <td>200</td>\n",
       "      <td>7</td>\n",
       "      <td>0.029237</td>\n",
       "      <td>0.019793</td>\n",
       "    </tr>\n",
       "    <tr>\n",
       "      <th>22</th>\n",
       "      <td>200</td>\n",
       "      <td>8</td>\n",
       "      <td>0.027949</td>\n",
       "      <td>0.018872</td>\n",
       "    </tr>\n",
       "    <tr>\n",
       "      <th>23</th>\n",
       "      <td>200</td>\n",
       "      <td>9</td>\n",
       "      <td>0.028611</td>\n",
       "      <td>0.019289</td>\n",
       "    </tr>\n",
       "  </tbody>\n",
       "</table>\n",
       "</div>"
      ],
      "text/plain": [
       "    n_estimators  max_depth      rmse       mae\n",
       "0             50          4  0.028148  0.018809\n",
       "1             50          5  0.028979  0.019395\n",
       "2             50          6  0.028438  0.019404\n",
       "3             50          7  0.029015  0.019728\n",
       "4             50          8  0.028652  0.019384\n",
       "5             50          9  0.029373  0.019954\n",
       "6             75          4  0.027931  0.018957\n",
       "7             75          5  0.028471  0.019022\n",
       "8             75          6  0.027893  0.018984\n",
       "9             75          7  0.028873  0.019393\n",
       "10            75          8  0.027933  0.018853\n",
       "11            75          9  0.028550  0.019192\n",
       "12           100          4  0.027898  0.018980\n",
       "13           100          5  0.028461  0.019094\n",
       "14           100          6  0.028126  0.019175\n",
       "15           100          7  0.029071  0.019553\n",
       "16           100          8  0.027915  0.018851\n",
       "17           100          9  0.028562  0.019228\n",
       "18           200          4  0.028293  0.019700\n",
       "19           200          5  0.028800  0.019561\n",
       "20           200          6  0.028328  0.019393\n",
       "21           200          7  0.029237  0.019793\n",
       "22           200          8  0.027949  0.018872\n",
       "23           200          9  0.028611  0.019289"
      ]
     },
     "execution_count": 17,
     "metadata": {},
     "output_type": "execute_result"
    }
   ],
   "source": [
    "from tqdm import tqdm_notebook\n",
    "param_label = 'n_estimators'\n",
    "param_list = [50,75,100,200]\n",
    "\n",
    "param2_label = 'max_depth'\n",
    "param2_list = [4, 5, 6, 7, 8, 9]\n",
    "\n",
    "error_rate = defaultdict(list)\n",
    "\n",
    "tic = time.time()\n",
    "for param in tqdm_notebook(param_list):\n",
    "    for param2 in param2_list:\n",
    "        rmse_mean, mae_mean,m = xgb_model_train_val(X_train, y_train, X_val, y_val,\n",
    "                                                            seed = 100,n_estimators=param,max_depth=param2)\n",
    "    \n",
    "        # Collect results\n",
    "        error_rate[param_label].append(param)\n",
    "        error_rate[param2_label].append(param2)\n",
    "        error_rate['rmse'].append(rmse_mean)\n",
    "        error_rate['mae'].append(mae_mean)\n",
    "    \n",
    "error_rate = pd.DataFrame(error_rate)\n",
    "toc = time.time()\n",
    "print(\"Minutes taken = {0:.2f}\".format((toc-tic)/60.0))\n",
    "\n",
    "error_rate   "
   ]
  },
  {
   "cell_type": "code",
   "execution_count": 18,
   "id": "93a532be",
   "metadata": {},
   "outputs": [
    {
     "data": {
      "text/plain": [
       "<matplotlib.legend.Legend at 0x21ac5d79280>"
      ]
     },
     "execution_count": 18,
     "metadata": {},
     "output_type": "execute_result"
    },
    {
     "data": {
      "image/png": "[encoded data removed]",
      "text/plain": [
       "<Figure size 720x576 with 1 Axes>"
      ]
     },
     "metadata": {
      "needs_background": "light"
     },
     "output_type": "display_data"
    }
   ],
   "source": [
    "# Plot performance versus params\n",
    "from pylab import rcParams\n",
    "import matplotlib\n",
    "rcParams['figure.figsize'] = 10, 8 # width 10, height 8\n",
    "temp = error_rate[error_rate[param2_label]==param2_list[0]]\n",
    "ax = temp.plot(x=param_label, y='rmse', style='bs-', grid=True)\n",
    "legend_list = [param2_label + '_' + str(param2_list[0])]\n",
    "\n",
    "color_list = ['r', 'g', 'k', 'y', 'm', 'c', '0.75']\n",
    "for i in range(1,len(param2_list)):\n",
    "    temp = error_rate[error_rate[param2_label]==param2_list[i]]\n",
    "    ax = temp.plot(x=param_label, y='rmse', color=color_list[i%len(color_list)], marker='s', grid=True, ax=ax)\n",
    "    legend_list.append(param2_label + '_' + str(param2_list[i]))\n",
    "\n",
    "ax.set_xlabel(param_label)\n",
    "ax.set_ylabel(\"RMSE\")\n",
    "# ax.set_ylim([0, 20])\n",
    "matplotlib.rcParams.update({'font.size': 14})\n",
    "plt.legend(legend_list, loc='center left', bbox_to_anchor=(1.0, 0.5)) # positions legend outside figure"
   ]
  },
  {
   "cell_type": "code",
   "execution_count": 19,
   "id": "7d9b8e7f",
   "metadata": {},
   "outputs": [
    {
     "name": "stdout",
     "output_type": "stream",
     "text": [
      "min RMSE = 0.028\n",
      "optimum params = \n"
     ]
    },
    {
     "data": {
      "text/plain": [
       "(75, 6)"
      ]
     },
     "execution_count": 19,
     "metadata": {},
     "output_type": "execute_result"
    }
   ],
   "source": [
    "# Get optimum value for param and param2, using RMSE\n",
    "temp = error_rate[error_rate['rmse'] == error_rate['rmse'].min()]\n",
    "n_estimators_opt = temp['n_estimators'].values[0]\n",
    "max_depth_opt = temp['max_depth'].values[0]\n",
    "print(\"min RMSE = %0.3f\" % error_rate['rmse'].min())\n",
    "print(\"optimum params = \")\n",
    "n_estimators_opt, max_depth_opt"
   ]
  },
  {
   "cell_type": "markdown",
   "id": "42150f1c",
   "metadata": {},
   "source": [
    "#### Tuning learning_rate(default=0.1) and min_child_weight(default=1)"
   ]
  },
  {
   "cell_type": "code",
   "execution_count": 20,
   "id": "7d78d856",
   "metadata": {
    "scrolled": true
   },
   "outputs": [
    {
     "name": "stderr",
     "output_type": "stream",
     "text": [
      "<ipython-input-20-6dd8cafe6c94>:10: TqdmDeprecationWarning: This function will be removed in tqdm==5.0.0\n",
      "Please use `tqdm.notebook.tqdm` instead of `tqdm.tqdm_notebook`\n",
      "  for param in tqdm_notebook(param_list):\n"
     ]
    },
    {
     "data": {
      "application/vnd.jupyter.widget-view+json": {
       "model_id": "de8492d3877b449781fe00b2f22688d8",
       "version_major": 2,
       "version_minor": 0
      },
      "text/plain": [
       "  0%|          | 0/5 [00:00<?, ?it/s]"
      ]
     },
     "metadata": {},
     "output_type": "display_data"
    },
    {
     "name": "stdout",
     "output_type": "stream",
     "text": [
      "Minutes taken = 0.34\n"
     ]
    },
    {
     "data": {
      "text/html": [
       "<div>\n",
       "<style scoped>\n",
       "    .dataframe tbody tr th:only-of-type {\n",
       "        vertical-align: middle;\n",
       "    }\n",
       "\n",
       "    .dataframe tbody tr th {\n",
       "        vertical-align: top;\n",
       "    }\n",
       "\n",
       "    .dataframe thead th {\n",
       "        text-align: right;\n",
       "    }\n",
       "</style>\n",
       "<table border=\"1\" class=\"dataframe\">\n",
       "  <thead>\n",
       "    <tr style=\"text-align: right;\">\n",
       "      <th></th>\n",
       "      <th>learning_rate</th>\n",
       "      <th>min_child_weight</th>\n",
       "      <th>rmse</th>\n",
       "      <th>mae</th>\n",
       "    </tr>\n",
       "  </thead>\n",
       "  <tbody>\n",
       "    <tr>\n",
       "      <th>0</th>\n",
       "      <td>0.01</td>\n",
       "      <td>1</td>\n",
       "      <td>0.238921</td>\n",
       "      <td>0.237618</td>\n",
       "    </tr>\n",
       "    <tr>\n",
       "      <th>1</th>\n",
       "      <td>0.01</td>\n",
       "      <td>2</td>\n",
       "      <td>0.238921</td>\n",
       "      <td>0.237618</td>\n",
       "    </tr>\n",
       "    <tr>\n",
       "      <th>2</th>\n",
       "      <td>0.01</td>\n",
       "      <td>3</td>\n",
       "      <td>0.238921</td>\n",
       "      <td>0.237618</td>\n",
       "    </tr>\n",
       "    <tr>\n",
       "      <th>3</th>\n",
       "      <td>0.01</td>\n",
       "      <td>4</td>\n",
       "      <td>0.238921</td>\n",
       "      <td>0.237618</td>\n",
       "    </tr>\n",
       "    <tr>\n",
       "      <th>4</th>\n",
       "      <td>0.01</td>\n",
       "      <td>5</td>\n",
       "      <td>0.238921</td>\n",
       "      <td>0.237618</td>\n",
       "    </tr>\n",
       "    <tr>\n",
       "      <th>5</th>\n",
       "      <td>0.01</td>\n",
       "      <td>6</td>\n",
       "      <td>0.238921</td>\n",
       "      <td>0.237618</td>\n",
       "    </tr>\n",
       "    <tr>\n",
       "      <th>6</th>\n",
       "      <td>0.01</td>\n",
       "      <td>7</td>\n",
       "      <td>0.238921</td>\n",
       "      <td>0.237618</td>\n",
       "    </tr>\n",
       "    <tr>\n",
       "      <th>7</th>\n",
       "      <td>0.01</td>\n",
       "      <td>8</td>\n",
       "      <td>0.238921</td>\n",
       "      <td>0.237618</td>\n",
       "    </tr>\n",
       "    <tr>\n",
       "      <th>8</th>\n",
       "      <td>0.01</td>\n",
       "      <td>9</td>\n",
       "      <td>0.238921</td>\n",
       "      <td>0.237618</td>\n",
       "    </tr>\n",
       "    <tr>\n",
       "      <th>9</th>\n",
       "      <td>0.05</td>\n",
       "      <td>1</td>\n",
       "      <td>0.031822</td>\n",
       "      <td>0.023019</td>\n",
       "    </tr>\n",
       "    <tr>\n",
       "      <th>10</th>\n",
       "      <td>0.05</td>\n",
       "      <td>2</td>\n",
       "      <td>0.030764</td>\n",
       "      <td>0.022720</td>\n",
       "    </tr>\n",
       "    <tr>\n",
       "      <th>11</th>\n",
       "      <td>0.05</td>\n",
       "      <td>3</td>\n",
       "      <td>0.030802</td>\n",
       "      <td>0.022664</td>\n",
       "    </tr>\n",
       "    <tr>\n",
       "      <th>12</th>\n",
       "      <td>0.05</td>\n",
       "      <td>4</td>\n",
       "      <td>0.030365</td>\n",
       "      <td>0.022654</td>\n",
       "    </tr>\n",
       "    <tr>\n",
       "      <th>13</th>\n",
       "      <td>0.05</td>\n",
       "      <td>5</td>\n",
       "      <td>0.030119</td>\n",
       "      <td>0.022458</td>\n",
       "    </tr>\n",
       "    <tr>\n",
       "      <th>14</th>\n",
       "      <td>0.05</td>\n",
       "      <td>6</td>\n",
       "      <td>0.030523</td>\n",
       "      <td>0.022869</td>\n",
       "    </tr>\n",
       "    <tr>\n",
       "      <th>15</th>\n",
       "      <td>0.05</td>\n",
       "      <td>7</td>\n",
       "      <td>0.029841</td>\n",
       "      <td>0.022567</td>\n",
       "    </tr>\n",
       "    <tr>\n",
       "      <th>16</th>\n",
       "      <td>0.05</td>\n",
       "      <td>8</td>\n",
       "      <td>0.029368</td>\n",
       "      <td>0.022228</td>\n",
       "    </tr>\n",
       "    <tr>\n",
       "      <th>17</th>\n",
       "      <td>0.05</td>\n",
       "      <td>9</td>\n",
       "      <td>0.029841</td>\n",
       "      <td>0.022552</td>\n",
       "    </tr>\n",
       "    <tr>\n",
       "      <th>18</th>\n",
       "      <td>0.10</td>\n",
       "      <td>1</td>\n",
       "      <td>0.027893</td>\n",
       "      <td>0.018984</td>\n",
       "    </tr>\n",
       "    <tr>\n",
       "      <th>19</th>\n",
       "      <td>0.10</td>\n",
       "      <td>2</td>\n",
       "      <td>0.027135</td>\n",
       "      <td>0.018412</td>\n",
       "    </tr>\n",
       "    <tr>\n",
       "      <th>20</th>\n",
       "      <td>0.10</td>\n",
       "      <td>3</td>\n",
       "      <td>0.027231</td>\n",
       "      <td>0.018902</td>\n",
       "    </tr>\n",
       "    <tr>\n",
       "      <th>21</th>\n",
       "      <td>0.10</td>\n",
       "      <td>4</td>\n",
       "      <td>0.026784</td>\n",
       "      <td>0.018972</td>\n",
       "    </tr>\n",
       "    <tr>\n",
       "      <th>22</th>\n",
       "      <td>0.10</td>\n",
       "      <td>5</td>\n",
       "      <td>0.027203</td>\n",
       "      <td>0.018803</td>\n",
       "    </tr>\n",
       "    <tr>\n",
       "      <th>23</th>\n",
       "      <td>0.10</td>\n",
       "      <td>6</td>\n",
       "      <td>0.026633</td>\n",
       "      <td>0.018889</td>\n",
       "    </tr>\n",
       "    <tr>\n",
       "      <th>24</th>\n",
       "      <td>0.10</td>\n",
       "      <td>7</td>\n",
       "      <td>0.026685</td>\n",
       "      <td>0.018640</td>\n",
       "    </tr>\n",
       "    <tr>\n",
       "      <th>25</th>\n",
       "      <td>0.10</td>\n",
       "      <td>8</td>\n",
       "      <td>0.026376</td>\n",
       "      <td>0.018532</td>\n",
       "    </tr>\n",
       "    <tr>\n",
       "      <th>26</th>\n",
       "      <td>0.10</td>\n",
       "      <td>9</td>\n",
       "      <td>0.026505</td>\n",
       "      <td>0.018686</td>\n",
       "    </tr>\n",
       "    <tr>\n",
       "      <th>27</th>\n",
       "      <td>0.20</td>\n",
       "      <td>1</td>\n",
       "      <td>0.029228</td>\n",
       "      <td>0.019502</td>\n",
       "    </tr>\n",
       "    <tr>\n",
       "      <th>28</th>\n",
       "      <td>0.20</td>\n",
       "      <td>2</td>\n",
       "      <td>0.027660</td>\n",
       "      <td>0.019140</td>\n",
       "    </tr>\n",
       "    <tr>\n",
       "      <th>29</th>\n",
       "      <td>0.20</td>\n",
       "      <td>3</td>\n",
       "      <td>0.027163</td>\n",
       "      <td>0.019034</td>\n",
       "    </tr>\n",
       "    <tr>\n",
       "      <th>30</th>\n",
       "      <td>0.20</td>\n",
       "      <td>4</td>\n",
       "      <td>0.026512</td>\n",
       "      <td>0.018871</td>\n",
       "    </tr>\n",
       "    <tr>\n",
       "      <th>31</th>\n",
       "      <td>0.20</td>\n",
       "      <td>5</td>\n",
       "      <td>0.028014</td>\n",
       "      <td>0.019573</td>\n",
       "    </tr>\n",
       "    <tr>\n",
       "      <th>32</th>\n",
       "      <td>0.20</td>\n",
       "      <td>6</td>\n",
       "      <td>0.027486</td>\n",
       "      <td>0.019487</td>\n",
       "    </tr>\n",
       "    <tr>\n",
       "      <th>33</th>\n",
       "      <td>0.20</td>\n",
       "      <td>7</td>\n",
       "      <td>0.027660</td>\n",
       "      <td>0.019207</td>\n",
       "    </tr>\n",
       "    <tr>\n",
       "      <th>34</th>\n",
       "      <td>0.20</td>\n",
       "      <td>8</td>\n",
       "      <td>0.027315</td>\n",
       "      <td>0.019507</td>\n",
       "    </tr>\n",
       "    <tr>\n",
       "      <th>35</th>\n",
       "      <td>0.20</td>\n",
       "      <td>9</td>\n",
       "      <td>0.027322</td>\n",
       "      <td>0.019248</td>\n",
       "    </tr>\n",
       "    <tr>\n",
       "      <th>36</th>\n",
       "      <td>0.30</td>\n",
       "      <td>1</td>\n",
       "      <td>0.029328</td>\n",
       "      <td>0.019349</td>\n",
       "    </tr>\n",
       "    <tr>\n",
       "      <th>37</th>\n",
       "      <td>0.30</td>\n",
       "      <td>2</td>\n",
       "      <td>0.027907</td>\n",
       "      <td>0.019746</td>\n",
       "    </tr>\n",
       "    <tr>\n",
       "      <th>38</th>\n",
       "      <td>0.30</td>\n",
       "      <td>3</td>\n",
       "      <td>0.028636</td>\n",
       "      <td>0.019923</td>\n",
       "    </tr>\n",
       "    <tr>\n",
       "      <th>39</th>\n",
       "      <td>0.30</td>\n",
       "      <td>4</td>\n",
       "      <td>0.028269</td>\n",
       "      <td>0.020092</td>\n",
       "    </tr>\n",
       "    <tr>\n",
       "      <th>40</th>\n",
       "      <td>0.30</td>\n",
       "      <td>5</td>\n",
       "      <td>0.029475</td>\n",
       "      <td>0.020998</td>\n",
       "    </tr>\n",
       "    <tr>\n",
       "      <th>41</th>\n",
       "      <td>0.30</td>\n",
       "      <td>6</td>\n",
       "      <td>0.028314</td>\n",
       "      <td>0.020923</td>\n",
       "    </tr>\n",
       "    <tr>\n",
       "      <th>42</th>\n",
       "      <td>0.30</td>\n",
       "      <td>7</td>\n",
       "      <td>0.027374</td>\n",
       "      <td>0.019879</td>\n",
       "    </tr>\n",
       "    <tr>\n",
       "      <th>43</th>\n",
       "      <td>0.30</td>\n",
       "      <td>8</td>\n",
       "      <td>0.027680</td>\n",
       "      <td>0.019850</td>\n",
       "    </tr>\n",
       "    <tr>\n",
       "      <th>44</th>\n",
       "      <td>0.30</td>\n",
       "      <td>9</td>\n",
       "      <td>0.027400</td>\n",
       "      <td>0.019702</td>\n",
       "    </tr>\n",
       "  </tbody>\n",
       "</table>\n",
       "</div>"
      ],
      "text/plain": [
       "    learning_rate  min_child_weight      rmse       mae\n",
       "0            0.01                 1  0.238921  0.237618\n",
       "1            0.01                 2  0.238921  0.237618\n",
       "2            0.01                 3  0.238921  0.237618\n",
       "3            0.01                 4  0.238921  0.237618\n",
       "4            0.01                 5  0.238921  0.237618\n",
       "5            0.01                 6  0.238921  0.237618\n",
       "6            0.01                 7  0.238921  0.237618\n",
       "7            0.01                 8  0.238921  0.237618\n",
       "8            0.01                 9  0.238921  0.237618\n",
       "9            0.05                 1  0.031822  0.023019\n",
       "10           0.05                 2  0.030764  0.022720\n",
       "11           0.05                 3  0.030802  0.022664\n",
       "12           0.05                 4  0.030365  0.022654\n",
       "13           0.05                 5  0.030119  0.022458\n",
       "14           0.05                 6  0.030523  0.022869\n",
       "15           0.05                 7  0.029841  0.022567\n",
       "16           0.05                 8  0.029368  0.022228\n",
       "17           0.05                 9  0.029841  0.022552\n",
       "18           0.10                 1  0.027893  0.018984\n",
       "19           0.10                 2  0.027135  0.018412\n",
       "20           0.10                 3  0.027231  0.018902\n",
       "21           0.10                 4  0.026784  0.018972\n",
       "22           0.10                 5  0.027203  0.018803\n",
       "23           0.10                 6  0.026633  0.018889\n",
       "24           0.10                 7  0.026685  0.018640\n",
       "25           0.10                 8  0.026376  0.018532\n",
       "26           0.10                 9  0.026505  0.018686\n",
       "27           0.20                 1  0.029228  0.019502\n",
       "28           0.20                 2  0.027660  0.019140\n",
       "29           0.20                 3  0.027163  0.019034\n",
       "30           0.20                 4  0.026512  0.018871\n",
       "31           0.20                 5  0.028014  0.019573\n",
       "32           0.20                 6  0.027486  0.019487\n",
       "33           0.20                 7  0.027660  0.019207\n",
       "34           0.20                 8  0.027315  0.019507\n",
       "35           0.20                 9  0.027322  0.019248\n",
       "36           0.30                 1  0.029328  0.019349\n",
       "37           0.30                 2  0.027907  0.019746\n",
       "38           0.30                 3  0.028636  0.019923\n",
       "39           0.30                 4  0.028269  0.020092\n",
       "40           0.30                 5  0.029475  0.020998\n",
       "41           0.30                 6  0.028314  0.020923\n",
       "42           0.30                 7  0.027374  0.019879\n",
       "43           0.30                 8  0.027680  0.019850\n",
       "44           0.30                 9  0.027400  0.019702"
      ]
     },
     "execution_count": 20,
     "metadata": {},
     "output_type": "execute_result"
    }
   ],
   "source": [
    "param_label = 'learning_rate'\n",
    "param_list = [ 0.01, 0.05, 0.1, 0.2, 0.3]\n",
    "\n",
    "param2_label = 'min_child_weight'\n",
    "param2_list = range(1, 10, 1)\n",
    "\n",
    "error_rate = defaultdict(list)\n",
    "\n",
    "tic = time.time()\n",
    "for param in tqdm_notebook(param_list):\n",
    "    for param2 in param2_list:\n",
    "        rmse_mean, mae_mean,m = xgb_model_train_val(X_train, y_train, X_val, y_val,                                                        \n",
    "                                                              n_estimators=n_estimators_opt,\n",
    "                                                              max_depth=max_depth_opt,\n",
    "                                                              learning_rate=param,\n",
    "                                                              min_child_weight=param2)\n",
    "    \n",
    "        # Collect results\n",
    "        error_rate[param_label].append(param)\n",
    "        error_rate[param2_label].append(param2)\n",
    "        error_rate['rmse'].append(rmse_mean)\n",
    "        error_rate['mae'].append(mae_mean)\n",
    "    \n",
    "error_rate = pd.DataFrame(error_rate)\n",
    "toc = time.time()\n",
    "print(\"Minutes taken = {0:.2f}\".format((toc-tic)/60.0))\n",
    "\n",
    "error_rate   "
   ]
  },
  {
   "cell_type": "code",
   "execution_count": 21,
   "id": "a71d4a47",
   "metadata": {},
   "outputs": [
    {
     "data": {
      "text/plain": [
       "<matplotlib.legend.Legend at 0x21ac781d5b0>"
      ]
     },
     "execution_count": 21,
     "metadata": {},
     "output_type": "execute_result"
    },
    {
     "data": {
      "image/png": "[encoded data removed]",
      "text/plain": [
       "<Figure size 720x576 with 1 Axes>"
      ]
     },
     "metadata": {
      "needs_background": "light"
     },
     "output_type": "display_data"
    }
   ],
   "source": [
    "# Plot performance versus params\n",
    "rcParams['figure.figsize'] = 10, 8 # width 10, height 8\n",
    "temp = error_rate[error_rate[param2_label]==param2_list[0]]\n",
    "ax = temp.plot(x=param_label, y='rmse', style='bs-', grid=True)\n",
    "legend_list = [param2_label + '_' + str(param2_list[0])]\n",
    "\n",
    "color_list = ['r', 'g', 'k', 'y', 'm', 'c', '0.75']\n",
    "for i in range(1,len(param2_list)):\n",
    "    temp = error_rate[error_rate[param2_label]==param2_list[i]]\n",
    "    ax = temp.plot(x=param_label, y='rmse', color=color_list[i%len(color_list)], marker='s', grid=True, ax=ax)\n",
    "    legend_list.append(param2_label + '_' + str(param2_list[i]))\n",
    "\n",
    "ax.set_xlabel(param_label)\n",
    "ax.set_ylabel(\"RMSE\")\n",
    "# ax.set_ylim([0, 4])\n",
    "matplotlib.rcParams.update({'font.size': 14})\n",
    "plt.legend(legend_list, loc='center left', bbox_to_anchor=(1.0, 0.5)) # positions legend outside figure"
   ]
  },
  {
   "cell_type": "code",
   "execution_count": 22,
   "id": "e67c63c0",
   "metadata": {},
   "outputs": [
    {
     "name": "stdout",
     "output_type": "stream",
     "text": [
      "min RMSE = 0.026\n",
      "optimum params = \n"
     ]
    },
    {
     "data": {
      "text/plain": [
       "(0.1, 8)"
      ]
     },
     "execution_count": 22,
     "metadata": {},
     "output_type": "execute_result"
    }
   ],
   "source": [
    "# Get optimum value for param and param2, using RMSE\n",
    "temp = error_rate[error_rate['rmse'] == error_rate['rmse'].min()]\n",
    "learning_rate_opt = temp['learning_rate'].values[0]\n",
    "min_child_weight_opt = temp['min_child_weight'].values[0]\n",
    "print(\"min RMSE = %0.3f\" % error_rate['rmse'].min())\n",
    "print(\"optimum params = \")\n",
    "learning_rate_opt, min_child_weight_opt"
   ]
  },
  {
   "cell_type": "markdown",
   "id": "01bb267a",
   "metadata": {},
   "source": [
    "#### Tuning subsample(default=1) and gamma(default=0)"
   ]
  },
  {
   "cell_type": "code",
   "execution_count": 23,
   "id": "f4631ccd",
   "metadata": {
    "scrolled": true
   },
   "outputs": [
    {
     "name": "stderr",
     "output_type": "stream",
     "text": [
      "<ipython-input-23-d9f5d0e5dbc7>:10: TqdmDeprecationWarning: This function will be removed in tqdm==5.0.0\n",
      "Please use `tqdm.notebook.tqdm` instead of `tqdm.tqdm_notebook`\n",
      "  for param in tqdm_notebook(param_list):\n"
     ]
    },
    {
     "data": {
      "application/vnd.jupyter.widget-view+json": {
       "model_id": "c1e4b2ca6cb94be48f5b9ae0d62c4962",
       "version_major": 2,
       "version_minor": 0
      },
      "text/plain": [
       "  0%|          | 0/10 [00:00<?, ?it/s]"
      ]
     },
     "metadata": {},
     "output_type": "display_data"
    },
    {
     "name": "stdout",
     "output_type": "stream",
     "text": [
      "Minutes taken = 0.86\n"
     ]
    },
    {
     "data": {
      "text/html": [
       "<div>\n",
       "<style scoped>\n",
       "    .dataframe tbody tr th:only-of-type {\n",
       "        vertical-align: middle;\n",
       "    }\n",
       "\n",
       "    .dataframe tbody tr th {\n",
       "        vertical-align: top;\n",
       "    }\n",
       "\n",
       "    .dataframe thead th {\n",
       "        text-align: right;\n",
       "    }\n",
       "</style>\n",
       "<table border=\"1\" class=\"dataframe\">\n",
       "  <thead>\n",
       "    <tr style=\"text-align: right;\">\n",
       "      <th></th>\n",
       "      <th>subsample</th>\n",
       "      <th>gamma</th>\n",
       "      <th>rmse</th>\n",
       "      <th>mae</th>\n",
       "    </tr>\n",
       "  </thead>\n",
       "  <tbody>\n",
       "    <tr>\n",
       "      <th>0</th>\n",
       "      <td>0.1</td>\n",
       "      <td>0.0</td>\n",
       "      <td>0.026310</td>\n",
       "      <td>0.018832</td>\n",
       "    </tr>\n",
       "    <tr>\n",
       "      <th>1</th>\n",
       "      <td>0.1</td>\n",
       "      <td>0.1</td>\n",
       "      <td>0.025031</td>\n",
       "      <td>0.017096</td>\n",
       "    </tr>\n",
       "    <tr>\n",
       "      <th>2</th>\n",
       "      <td>0.1</td>\n",
       "      <td>0.2</td>\n",
       "      <td>0.025031</td>\n",
       "      <td>0.017096</td>\n",
       "    </tr>\n",
       "    <tr>\n",
       "      <th>3</th>\n",
       "      <td>0.1</td>\n",
       "      <td>0.3</td>\n",
       "      <td>0.025031</td>\n",
       "      <td>0.017096</td>\n",
       "    </tr>\n",
       "    <tr>\n",
       "      <th>4</th>\n",
       "      <td>0.1</td>\n",
       "      <td>0.4</td>\n",
       "      <td>0.025031</td>\n",
       "      <td>0.017096</td>\n",
       "    </tr>\n",
       "    <tr>\n",
       "      <th>...</th>\n",
       "      <td>...</td>\n",
       "      <td>...</td>\n",
       "      <td>...</td>\n",
       "      <td>...</td>\n",
       "    </tr>\n",
       "    <tr>\n",
       "      <th>105</th>\n",
       "      <td>1.0</td>\n",
       "      <td>0.6</td>\n",
       "      <td>0.025082</td>\n",
       "      <td>0.017162</td>\n",
       "    </tr>\n",
       "    <tr>\n",
       "      <th>106</th>\n",
       "      <td>1.0</td>\n",
       "      <td>0.7</td>\n",
       "      <td>0.025082</td>\n",
       "      <td>0.017162</td>\n",
       "    </tr>\n",
       "    <tr>\n",
       "      <th>107</th>\n",
       "      <td>1.0</td>\n",
       "      <td>0.8</td>\n",
       "      <td>0.025082</td>\n",
       "      <td>0.017162</td>\n",
       "    </tr>\n",
       "    <tr>\n",
       "      <th>108</th>\n",
       "      <td>1.0</td>\n",
       "      <td>0.9</td>\n",
       "      <td>0.025082</td>\n",
       "      <td>0.017162</td>\n",
       "    </tr>\n",
       "    <tr>\n",
       "      <th>109</th>\n",
       "      <td>1.0</td>\n",
       "      <td>1.0</td>\n",
       "      <td>0.025082</td>\n",
       "      <td>0.017162</td>\n",
       "    </tr>\n",
       "  </tbody>\n",
       "</table>\n",
       "<p>110 rows × 4 columns</p>\n",
       "</div>"
      ],
      "text/plain": [
       "     subsample  gamma      rmse       mae\n",
       "0          0.1    0.0  0.026310  0.018832\n",
       "1          0.1    0.1  0.025031  0.017096\n",
       "2          0.1    0.2  0.025031  0.017096\n",
       "3          0.1    0.3  0.025031  0.017096\n",
       "4          0.1    0.4  0.025031  0.017096\n",
       "..         ...    ...       ...       ...\n",
       "105        1.0    0.6  0.025082  0.017162\n",
       "106        1.0    0.7  0.025082  0.017162\n",
       "107        1.0    0.8  0.025082  0.017162\n",
       "108        1.0    0.9  0.025082  0.017162\n",
       "109        1.0    1.0  0.025082  0.017162\n",
       "\n",
       "[110 rows x 4 columns]"
      ]
     },
     "execution_count": 23,
     "metadata": {},
     "output_type": "execute_result"
    }
   ],
   "source": [
    "param_label = 'subsample'\n",
    "param_list = [0.1, 0.2, 0.3, 0.4, 0.5, 0.6, 0.7, 0.8, 0.9, 1]\n",
    "\n",
    "param2_label = 'gamma'\n",
    "param2_list = [0, 0.1, 0.2, 0.3, 0.4, 0.5, 0.6, 0.7, 0.8, 0.9, 1]\n",
    "\n",
    "error_rate = defaultdict(list)\n",
    "\n",
    "tic = time.time()\n",
    "for param in tqdm_notebook(param_list):\n",
    "    for param2 in param2_list:\n",
    "        rmse_mean,  mae_mean,m = xgb_model_train_val(X_train, y_train, X_val, y_val,                                                        \n",
    "                                                              n_estimators=n_estimators_opt,\n",
    "                                                              max_depth=max_depth_opt,\n",
    "                                                              learning_rate=learning_rate_opt,\n",
    "                                                              min_child_weight=min_child_weight_opt,\n",
    "                                                              subsample=param,\n",
    "                                                              gamma=param2)\n",
    "\n",
    "        # Collect results\n",
    "        error_rate[param_label].append(param)\n",
    "        error_rate[param2_label].append(param2)\n",
    "        error_rate['rmse'].append(rmse_mean)\n",
    "        error_rate['mae'].append(mae_mean)\n",
    "    \n",
    "error_rate = pd.DataFrame(error_rate)\n",
    "toc = time.time()\n",
    "print(\"Minutes taken = {0:.2f}\".format((toc-tic)/60.0))\n",
    "\n",
    "error_rate   "
   ]
  },
  {
   "cell_type": "code",
   "execution_count": 24,
   "id": "4455c693",
   "metadata": {},
   "outputs": [
    {
     "data": {
      "text/plain": [
       "<matplotlib.legend.Legend at 0x21abfabb910>"
      ]
     },
     "execution_count": 24,
     "metadata": {},
     "output_type": "execute_result"
    },
    {
     "data": {
      "image/png": "[encoded data removed]",
      "text/plain": [
       "<Figure size 720x576 with 1 Axes>"
      ]
     },
     "metadata": {
      "needs_background": "light"
     },
     "output_type": "display_data"
    }
   ],
   "source": [
    "# Plot performance versus params\n",
    "rcParams['figure.figsize'] = 10, 8 # width 10, height 8\n",
    "temp = error_rate[error_rate[param2_label]==param2_list[0]]\n",
    "ax = temp.plot(x=param_label, y='rmse', style='bs-', grid=True)\n",
    "legend_list = [param2_label + '_' + str(param2_list[0])]\n",
    "\n",
    "color_list = ['r', 'g', 'k', 'y', 'm', 'c', '0.75']\n",
    "for i in range(1,len(param2_list)):\n",
    "    temp = error_rate[error_rate[param2_label]==param2_list[i]]\n",
    "    ax = temp.plot(x=param_label, y='rmse', color=color_list[i%len(color_list)], marker='s', grid=True, ax=ax)\n",
    "    legend_list.append(param2_label + '_' + str(param2_list[i]))\n",
    "\n",
    "ax.set_xlabel(param_label)\n",
    "ax.set_ylabel(\"RMSE\")\n",
    "matplotlib.rcParams.update({'font.size': 14})\n",
    "plt.legend(legend_list, loc='center left', bbox_to_anchor=(1.0, 0.5)) # positions legend outside figure"
   ]
  },
  {
   "cell_type": "code",
   "execution_count": 25,
   "id": "1faa8dcb",
   "metadata": {},
   "outputs": [
    {
     "name": "stdout",
     "output_type": "stream",
     "text": [
      "min RMSE = 0.025\n",
      "optimum params = \n"
     ]
    },
    {
     "data": {
      "text/plain": [
       "(0.2, 0.1)"
      ]
     },
     "execution_count": 25,
     "metadata": {},
     "output_type": "execute_result"
    }
   ],
   "source": [
    "# Get optimum value for param and param2, using RMSE\n",
    "temp = error_rate[error_rate['rmse'] == error_rate['rmse'].min()]\n",
    "subsample_opt = temp['subsample'].values[0]\n",
    "gamma_opt = temp['gamma'].values[0]\n",
    "print(\"min RMSE = %0.3f\" % error_rate['rmse'].min())\n",
    "print(\"optimum params = \")\n",
    "subsample_opt, gamma_opt"
   ]
  },
  {
   "cell_type": "markdown",
   "id": "98a9297f",
   "metadata": {},
   "source": [
    "#### Tuning colsample_bytree(default=1) and colsample_bylevel(default=1)"
   ]
  },
  {
   "cell_type": "code",
   "execution_count": 26,
   "id": "568973f5",
   "metadata": {
    "scrolled": true
   },
   "outputs": [
    {
     "name": "stderr",
     "output_type": "stream",
     "text": [
      "<ipython-input-26-4e70ea290268>:10: TqdmDeprecationWarning: This function will be removed in tqdm==5.0.0\n",
      "Please use `tqdm.notebook.tqdm` instead of `tqdm.tqdm_notebook`\n",
      "  for param in tqdm_notebook(param_list):\n"
     ]
    },
    {
     "data": {
      "application/vnd.jupyter.widget-view+json": {
       "model_id": "aca7131ffe484beea155d5a8e2efbcbb",
       "version_major": 2,
       "version_minor": 0
      },
      "text/plain": [
       "  0%|          | 0/10 [00:00<?, ?it/s]"
      ]
     },
     "metadata": {},
     "output_type": "display_data"
    },
    {
     "name": "stdout",
     "output_type": "stream",
     "text": [
      "Minutes taken = 0.55\n"
     ]
    },
    {
     "data": {
      "text/html": [
       "<div>\n",
       "<style scoped>\n",
       "    .dataframe tbody tr th:only-of-type {\n",
       "        vertical-align: middle;\n",
       "    }\n",
       "\n",
       "    .dataframe tbody tr th {\n",
       "        vertical-align: top;\n",
       "    }\n",
       "\n",
       "    .dataframe thead th {\n",
       "        text-align: right;\n",
       "    }\n",
       "</style>\n",
       "<table border=\"1\" class=\"dataframe\">\n",
       "  <thead>\n",
       "    <tr style=\"text-align: right;\">\n",
       "      <th></th>\n",
       "      <th>colsample_bytree</th>\n",
       "      <th>colsample_bylevel</th>\n",
       "      <th>rmse</th>\n",
       "      <th>mae</th>\n",
       "    </tr>\n",
       "  </thead>\n",
       "  <tbody>\n",
       "    <tr>\n",
       "      <th>0</th>\n",
       "      <td>0.1</td>\n",
       "      <td>0.1</td>\n",
       "      <td>0.02502</td>\n",
       "      <td>0.017083</td>\n",
       "    </tr>\n",
       "    <tr>\n",
       "      <th>1</th>\n",
       "      <td>0.1</td>\n",
       "      <td>0.2</td>\n",
       "      <td>0.02502</td>\n",
       "      <td>0.017083</td>\n",
       "    </tr>\n",
       "    <tr>\n",
       "      <th>2</th>\n",
       "      <td>0.1</td>\n",
       "      <td>0.3</td>\n",
       "      <td>0.02502</td>\n",
       "      <td>0.017083</td>\n",
       "    </tr>\n",
       "    <tr>\n",
       "      <th>3</th>\n",
       "      <td>0.1</td>\n",
       "      <td>0.4</td>\n",
       "      <td>0.02502</td>\n",
       "      <td>0.017083</td>\n",
       "    </tr>\n",
       "    <tr>\n",
       "      <th>4</th>\n",
       "      <td>0.1</td>\n",
       "      <td>0.5</td>\n",
       "      <td>0.02502</td>\n",
       "      <td>0.017083</td>\n",
       "    </tr>\n",
       "    <tr>\n",
       "      <th>...</th>\n",
       "      <td>...</td>\n",
       "      <td>...</td>\n",
       "      <td>...</td>\n",
       "      <td>...</td>\n",
       "    </tr>\n",
       "    <tr>\n",
       "      <th>95</th>\n",
       "      <td>1.0</td>\n",
       "      <td>0.6</td>\n",
       "      <td>0.02502</td>\n",
       "      <td>0.017083</td>\n",
       "    </tr>\n",
       "    <tr>\n",
       "      <th>96</th>\n",
       "      <td>1.0</td>\n",
       "      <td>0.7</td>\n",
       "      <td>0.02502</td>\n",
       "      <td>0.017083</td>\n",
       "    </tr>\n",
       "    <tr>\n",
       "      <th>97</th>\n",
       "      <td>1.0</td>\n",
       "      <td>0.8</td>\n",
       "      <td>0.02502</td>\n",
       "      <td>0.017083</td>\n",
       "    </tr>\n",
       "    <tr>\n",
       "      <th>98</th>\n",
       "      <td>1.0</td>\n",
       "      <td>0.9</td>\n",
       "      <td>0.02502</td>\n",
       "      <td>0.017083</td>\n",
       "    </tr>\n",
       "    <tr>\n",
       "      <th>99</th>\n",
       "      <td>1.0</td>\n",
       "      <td>1.0</td>\n",
       "      <td>0.02502</td>\n",
       "      <td>0.017083</td>\n",
       "    </tr>\n",
       "  </tbody>\n",
       "</table>\n",
       "<p>100 rows × 4 columns</p>\n",
       "</div>"
      ],
      "text/plain": [
       "    colsample_bytree  colsample_bylevel     rmse       mae\n",
       "0                0.1                0.1  0.02502  0.017083\n",
       "1                0.1                0.2  0.02502  0.017083\n",
       "2                0.1                0.3  0.02502  0.017083\n",
       "3                0.1                0.4  0.02502  0.017083\n",
       "4                0.1                0.5  0.02502  0.017083\n",
       "..               ...                ...      ...       ...\n",
       "95               1.0                0.6  0.02502  0.017083\n",
       "96               1.0                0.7  0.02502  0.017083\n",
       "97               1.0                0.8  0.02502  0.017083\n",
       "98               1.0                0.9  0.02502  0.017083\n",
       "99               1.0                1.0  0.02502  0.017083\n",
       "\n",
       "[100 rows x 4 columns]"
      ]
     },
     "execution_count": 26,
     "metadata": {},
     "output_type": "execute_result"
    }
   ],
   "source": [
    "param_label = 'colsample_bytree'\n",
    "param_list = [0.1, 0.2, 0.3, 0.4, 0.5, 0.6, 0.7, 0.8, 0.9, 1]\n",
    "\n",
    "param2_label = 'colsample_bylevel'\n",
    "param2_list = [0.1, 0.2, 0.3, 0.4, 0.5, 0.6, 0.7, 0.8, 0.9, 1]\n",
    "\n",
    "error_rate = defaultdict(list)\n",
    "\n",
    "tic = time.time()\n",
    "for param in tqdm_notebook(param_list):    \n",
    "    for param2 in param2_list:\n",
    "        rmse_mean, mae_mean,m = xgb_model_train_val(X_train, y_train, X_val, y_val,                                                        \n",
    "                                                              n_estimators=n_estimators_opt,\n",
    "                                                              max_depth=max_depth_opt,\n",
    "                                                              learning_rate=learning_rate_opt,\n",
    "                                                              min_child_weight=min_child_weight_opt,\n",
    "                                                              subsample=subsample_opt,\n",
    "                                                              colsample_bytree=param,\n",
    "                                                              colsample_bylevel=param2,\n",
    "                                                              gamma=gamma_opt)\n",
    "    \n",
    "        # Collect results\n",
    "        error_rate[param_label].append(param)\n",
    "        error_rate[param2_label].append(param2)\n",
    "        error_rate['rmse'].append(rmse_mean)\n",
    "        error_rate['mae'].append(mae_mean)\n",
    "    \n",
    "error_rate = pd.DataFrame(error_rate)\n",
    "toc = time.time()\n",
    "print(\"Minutes taken = {0:.2f}\".format((toc-tic)/60.0))\n",
    "\n",
    "error_rate   "
   ]
  },
  {
   "cell_type": "code",
   "execution_count": 27,
   "id": "eea1f510",
   "metadata": {},
   "outputs": [
    {
     "data": {
      "text/plain": [
       "<matplotlib.legend.Legend at 0x21ac7d7c160>"
      ]
     },
     "execution_count": 27,
     "metadata": {},
     "output_type": "execute_result"
    },
    {
     "data": {
      "image/png": "[encoded data removed]",
      "text/plain": [
       "<Figure size 720x576 with 1 Axes>"
      ]
     },
     "metadata": {
      "needs_background": "light"
     },
     "output_type": "display_data"
    }
   ],
   "source": [
    "# Plot performance versus params\n",
    "rcParams['figure.figsize'] = 10, 8 # width 10, height 8\n",
    "temp = error_rate[error_rate[param2_label]==param2_list[0]]\n",
    "ax = temp.plot(x=param_label, y='rmse', style='bs-', grid=True)\n",
    "legend_list = [param2_label + '_' + str(param2_list[0])]\n",
    "\n",
    "color_list = ['r', 'g', 'k', 'y', 'm', 'c', '0.75']\n",
    "for i in range(1,len(param2_list)):\n",
    "    temp = error_rate[error_rate[param2_label]==param2_list[i]]\n",
    "    ax = temp.plot(x=param_label, y='rmse', color=color_list[i%len(color_list)], marker='s', grid=True, ax=ax)\n",
    "    legend_list.append(param2_label + '_' + str(param2_list[i]))\n",
    "\n",
    "ax.set_xlabel(param_label)\n",
    "ax.set_ylabel(\"RMSE\")\n",
    "matplotlib.rcParams.update({'font.size': 14})\n",
    "plt.legend(legend_list, loc='center left', bbox_to_anchor=(1.0, 0.5)) # positions legend outside figure"
   ]
  },
  {
   "cell_type": "code",
   "execution_count": 28,
   "id": "619306eb",
   "metadata": {},
   "outputs": [
    {
     "name": "stdout",
     "output_type": "stream",
     "text": [
      "min RMSE = 0.025\n",
      "optimum params = \n"
     ]
    },
    {
     "data": {
      "text/plain": [
       "(0.1, 0.1)"
      ]
     },
     "execution_count": 28,
     "metadata": {},
     "output_type": "execute_result"
    }
   ],
   "source": [
    "# Get optimum value for param and param2, using RMSE\n",
    "temp = error_rate[error_rate['rmse'] == error_rate['rmse'].min()]\n",
    "colsample_bytree_opt = temp['colsample_bytree'].values[0]\n",
    "colsample_bylevel_opt = temp['colsample_bylevel'].values[0]\n",
    "print(\"min RMSE = %0.3f\" % error_rate['rmse'].min())\n",
    "print(\"optimum params = \")\n",
    "colsample_bytree_opt, colsample_bylevel_opt"
   ]
  },
  {
   "cell_type": "markdown",
   "id": "bc0425f9",
   "metadata": {},
   "source": [
    "#### Final model"
   ]
  },
  {
   "cell_type": "code",
   "execution_count": 30,
   "id": "a9abc2b4",
   "metadata": {},
   "outputs": [
    {
     "name": "stdout",
     "output_type": "stream",
     "text": [
      "RMSE = 0.025\n",
      "MAE = 0.017\n"
     ]
    }
   ],
   "source": [
    "# Get error metrics on validation set after hyperparameter tuning\n",
    "xgb_rmse_aft_tuning, xgb_mae_aft_tuning, xgb_model_aft_tuning = \\\n",
    "                                                                        xgb_model_train_val(X_train, y_train, X_val, y_val,                                                        \n",
    "                                                                        n_estimators=n_estimators_opt,\n",
    "                                                                        max_depth=max_depth_opt,\n",
    "                                                                        learning_rate=learning_rate_opt,\n",
    "                                                                        min_child_weight=min_child_weight_opt,\n",
    "                                                                        subsample=subsample_opt,\n",
    "                                                                        colsample_bytree=colsample_bytree_opt,\n",
    "                                                                        colsample_bylevel=colsample_bylevel_opt,\n",
    "                                                                        gamma=gamma_opt)\n",
    "print(\"RMSE = %0.3f\" % xgb_rmse_aft_tuning)\n",
    "print(\"MAE = %0.3f\" % xgb_mae_aft_tuning)"
   ]
  },
  {
   "cell_type": "markdown",
   "id": "49e497b4",
   "metadata": {},
   "source": [
    "#### Tuned params"
   ]
  },
  {
   "cell_type": "code",
   "execution_count": 31,
   "id": "0589497f",
   "metadata": {},
   "outputs": [],
   "source": [
    "n_estimators = 100             # Number of boosted trees to fit. default = 100\n",
    "max_depth = 3                  # Maximum tree depth for base learners. default = 3\n",
    "learning_rate = 0.1            # Boosting learning rate (xgb’s “eta”). default = 0.1\n",
    "min_child_weight = 1           # Minimum sum of instance weight(hessian) needed in a child. default = 1\n",
    "subsample = 1                  # Subsample ratio of the training instance. default = 1\n",
    "colsample_bytree = 1           # Subsample ratio of columns when constructing each tree. default = 1\n",
    "colsample_bylevel = 1          # Subsample ratio of columns for each split, in each level. default = 1\n",
    "gamma = 0 "
   ]
  },
  {
   "cell_type": "code",
   "execution_count": 33,
   "id": "8ecfd67e",
   "metadata": {},
   "outputs": [
    {
     "data": {
      "text/html": [
       "<div>\n",
       "<style scoped>\n",
       "    .dataframe tbody tr th:only-of-type {\n",
       "        vertical-align: middle;\n",
       "    }\n",
       "\n",
       "    .dataframe tbody tr th {\n",
       "        vertical-align: top;\n",
       "    }\n",
       "\n",
       "    .dataframe thead th {\n",
       "        text-align: right;\n",
       "    }\n",
       "</style>\n",
       "<table border=\"1\" class=\"dataframe\">\n",
       "  <thead>\n",
       "    <tr style=\"text-align: right;\">\n",
       "      <th></th>\n",
       "      <th>param</th>\n",
       "      <th>before_tuning</th>\n",
       "      <th>after_tuning</th>\n",
       "    </tr>\n",
       "  </thead>\n",
       "  <tbody>\n",
       "    <tr>\n",
       "      <th>0</th>\n",
       "      <td>n_estimators</td>\n",
       "      <td>100.000</td>\n",
       "      <td>75.000</td>\n",
       "    </tr>\n",
       "    <tr>\n",
       "      <th>1</th>\n",
       "      <td>max_depth</td>\n",
       "      <td>3.000</td>\n",
       "      <td>6.000</td>\n",
       "    </tr>\n",
       "    <tr>\n",
       "      <th>2</th>\n",
       "      <td>learning_rate</td>\n",
       "      <td>0.100</td>\n",
       "      <td>0.100</td>\n",
       "    </tr>\n",
       "    <tr>\n",
       "      <th>3</th>\n",
       "      <td>min_child_weight</td>\n",
       "      <td>1.000</td>\n",
       "      <td>8.000</td>\n",
       "    </tr>\n",
       "    <tr>\n",
       "      <th>4</th>\n",
       "      <td>subsample</td>\n",
       "      <td>1.000</td>\n",
       "      <td>0.200</td>\n",
       "    </tr>\n",
       "    <tr>\n",
       "      <th>5</th>\n",
       "      <td>colsample_bytree</td>\n",
       "      <td>1.000</td>\n",
       "      <td>0.100</td>\n",
       "    </tr>\n",
       "    <tr>\n",
       "      <th>6</th>\n",
       "      <td>colsample_bylevel</td>\n",
       "      <td>1.000</td>\n",
       "      <td>0.100</td>\n",
       "    </tr>\n",
       "    <tr>\n",
       "      <th>7</th>\n",
       "      <td>gamma</td>\n",
       "      <td>0.000</td>\n",
       "      <td>0.100</td>\n",
       "    </tr>\n",
       "    <tr>\n",
       "      <th>8</th>\n",
       "      <td>val_rmse</td>\n",
       "      <td>0.028</td>\n",
       "      <td>0.025</td>\n",
       "    </tr>\n",
       "    <tr>\n",
       "      <th>9</th>\n",
       "      <td>val_mae</td>\n",
       "      <td>0.019</td>\n",
       "      <td>0.017</td>\n",
       "    </tr>\n",
       "  </tbody>\n",
       "</table>\n",
       "</div>"
      ],
      "text/plain": [
       "               param  before_tuning  after_tuning\n",
       "0       n_estimators        100.000        75.000\n",
       "1          max_depth          3.000         6.000\n",
       "2      learning_rate          0.100         0.100\n",
       "3   min_child_weight          1.000         8.000\n",
       "4          subsample          1.000         0.200\n",
       "5   colsample_bytree          1.000         0.100\n",
       "6  colsample_bylevel          1.000         0.100\n",
       "7              gamma          0.000         0.100\n",
       "8           val_rmse          0.028         0.025\n",
       "9            val_mae          0.019         0.017"
      ]
     },
     "execution_count": 33,
     "metadata": {},
     "output_type": "execute_result"
    }
   ],
   "source": [
    "# Tuned params and before and after error metrics\n",
    "d = {'param': ['n_estimators', 'max_depth', 'learning_rate', 'min_child_weight', 'subsample', 'colsample_bytree', 'colsample_bylevel', 'gamma', 'val_rmse', 'val_mae'],\n",
    "     'before_tuning': [n_estimators, max_depth, learning_rate, min_child_weight, subsample, colsample_bytree, colsample_bylevel, gamma, xgb_rmse_bef_tuning, xgb_mae_bef_tuning],\n",
    "     'after_tuning': [n_estimators_opt, max_depth_opt, learning_rate_opt, min_child_weight_opt, subsample_opt, colsample_bytree_opt, colsample_bylevel_opt, gamma_opt, xgb_rmse_aft_tuning, xgb_mae_aft_tuning]}\n",
    "tuned_params = pd.DataFrame(d)\n",
    "tuned_params = tuned_params.round(3)\n",
    "tuned_params"
   ]
  },
  {
   "cell_type": "markdown",
   "id": "c487ea8a",
   "metadata": {},
   "source": [
    "### 3) Prediction after tuning"
   ]
  },
  {
   "cell_type": "code",
   "execution_count": 34,
   "id": "d0268223",
   "metadata": {
    "scrolled": true
   },
   "outputs": [
    {
     "name": "stdout",
     "output_type": "stream",
     "text": [
      "RMSE = 0.026\n",
      "MAE = 0.019\n"
     ]
    }
   ],
   "source": [
    "# Do prediction on test set\n",
    "xgb_test_rmse_aft_tuning, xgb_test_mae_aft_tuning,xgb_pred = model_test_eval(X_test, y_test,xgb_model_aft_tuning)\n",
    "\n",
    "print(\"RMSE = %0.3f\" % xgb_test_rmse_aft_tuning)\n",
    "print(\"MAE = %0.3f\" % xgb_test_mae_aft_tuning)"
   ]
  },
  {
   "cell_type": "code",
   "execution_count": 35,
   "id": "b83cf827",
   "metadata": {},
   "outputs": [],
   "source": [
    "# xgb_pred = pd.DataFrame(xgb_pred,columns = ['600009_xgb'])\n",
    "# xgb_pred.to_excel('D:\\海康威视1.xlsx', index = False)"
   ]
  },
  {
   "cell_type": "markdown",
   "id": "4f9b153d",
   "metadata": {},
   "source": [
    "### 4) Importance Analysis"
   ]
  },
  {
   "cell_type": "code",
   "execution_count": 37,
   "id": "c4d97909",
   "metadata": {},
   "outputs": [
    {
     "data": {
      "text/html": [
       "<div>\n",
       "<style scoped>\n",
       "    .dataframe tbody tr th:only-of-type {\n",
       "        vertical-align: middle;\n",
       "    }\n",
       "\n",
       "    .dataframe tbody tr th {\n",
       "        vertical-align: top;\n",
       "    }\n",
       "\n",
       "    .dataframe thead th {\n",
       "        text-align: right;\n",
       "    }\n",
       "</style>\n",
       "<table border=\"1\" class=\"dataframe\">\n",
       "  <thead>\n",
       "    <tr style=\"text-align: right;\">\n",
       "      <th></th>\n",
       "      <th>features</th>\n",
       "      <th>importance</th>\n",
       "    </tr>\n",
       "  </thead>\n",
       "  <tbody>\n",
       "    <tr>\n",
       "      <th>0</th>\n",
       "      <td>ret_lag1</td>\n",
       "      <td>0.0</td>\n",
       "    </tr>\n",
       "    <tr>\n",
       "      <th>45</th>\n",
       "      <td>Industry_涨跌幅</td>\n",
       "      <td>0.0</td>\n",
       "    </tr>\n",
       "    <tr>\n",
       "      <th>51</th>\n",
       "      <td>Industry_周均价_diff1</td>\n",
       "      <td>0.0</td>\n",
       "    </tr>\n",
       "    <tr>\n",
       "      <th>50</th>\n",
       "      <td>Industry_周最低价_diff1</td>\n",
       "      <td>0.0</td>\n",
       "    </tr>\n",
       "    <tr>\n",
       "      <th>49</th>\n",
       "      <td>Industry_周最高价_diff1</td>\n",
       "      <td>0.0</td>\n",
       "    </tr>\n",
       "    <tr>\n",
       "      <th>...</th>\n",
       "      <td>...</td>\n",
       "      <td>...</td>\n",
       "    </tr>\n",
       "    <tr>\n",
       "      <th>23</th>\n",
       "      <td>股息率_diff1</td>\n",
       "      <td>0.0</td>\n",
       "    </tr>\n",
       "    <tr>\n",
       "      <th>22</th>\n",
       "      <td>市现率_diff1</td>\n",
       "      <td>0.0</td>\n",
       "    </tr>\n",
       "    <tr>\n",
       "      <th>21</th>\n",
       "      <td>市销率_diff1</td>\n",
       "      <td>0.0</td>\n",
       "    </tr>\n",
       "    <tr>\n",
       "      <th>20</th>\n",
       "      <td>市净率_diff1</td>\n",
       "      <td>0.0</td>\n",
       "    </tr>\n",
       "    <tr>\n",
       "      <th>70</th>\n",
       "      <td>宏观_社会融资规模_diff1</td>\n",
       "      <td>0.0</td>\n",
       "    </tr>\n",
       "  </tbody>\n",
       "</table>\n",
       "<p>71 rows × 2 columns</p>\n",
       "</div>"
      ],
      "text/plain": [
       "               features  importance\n",
       "0              ret_lag1         0.0\n",
       "45         Industry_涨跌幅         0.0\n",
       "51   Industry_周均价_diff1         0.0\n",
       "50  Industry_周最低价_diff1         0.0\n",
       "49  Industry_周最高价_diff1         0.0\n",
       "..                  ...         ...\n",
       "23            股息率_diff1         0.0\n",
       "22            市现率_diff1         0.0\n",
       "21            市销率_diff1         0.0\n",
       "20            市净率_diff1         0.0\n",
       "70      宏观_社会融资规模_diff1         0.0\n",
       "\n",
       "[71 rows x 2 columns]"
      ]
     },
     "execution_count": 37,
     "metadata": {},
     "output_type": "execute_result"
    }
   ],
   "source": [
    "a =xgb_model_aft_tuning.feature_importances_\n",
    "a1 = pd.DataFrame(a)\n",
    "a1.columns = ['importance']\n",
    "b = X_train.columns\n",
    "b1 = pd.DataFrame(b)\n",
    "b1.columns = ['features']\n",
    "c = pd.concat([b1,a1],axis = 1)\n",
    "c.sort_values(by= 'importance' , inplace=True, ascending=False) \n",
    "c"
   ]
  },
  {
   "cell_type": "code",
   "execution_count": 38,
   "id": "b29638ab",
   "metadata": {},
   "outputs": [
    {
     "name": "stdout",
     "output_type": "stream",
     "text": [
      "                    features  importance\n",
      "0                   ret_lag1         0.0\n",
      "45              Industry_涨跌幅         0.0\n",
      "51        Industry_周均价_diff1         0.0\n",
      "50       Industry_周最低价_diff1         0.0\n",
      "49       Industry_周最高价_diff1         0.0\n",
      "48        Industry_换手率_diff1         0.0\n",
      "47        Industry_成交量_diff1         0.0\n",
      "46        Industry_收盘价_diff1         0.0\n",
      "44  WindA_一致预测净利润(FY2)_diff1         0.0\n",
      "53             Industry_周涨跌幅         0.0\n"
     ]
    },
    {
     "data": {
      "text/plain": [
       "<AxesSubplot:ylabel='features'>"
      ]
     },
     "execution_count": 38,
     "metadata": {},
     "output_type": "execute_result"
    },
    {
     "data": {
      "image/png": "[encoded data removed]",
      "text/plain": [
       "<Figure size 864x576 with 1 Axes>"
      ]
     },
     "metadata": {
      "needs_background": "light"
     },
     "output_type": "display_data"
    }
   ],
   "source": [
    "matplotlib.rcParams['font.sans-serif'] = ['SimHei']     # 显示中文\n",
    "# 为了坐标轴负号正常显示。matplotlib默认不支持中文，设置中文字体后，负号会显示异常。需要手动将坐标轴负号设为False才能正常显示负号。\n",
    "matplotlib.rcParams['axes.unicode_minus'] = False\n",
    "\n",
    "hkws_top10 = c.head(10)\n",
    "print(hkws_top10)\n",
    "imp = pd.DataFrame(np.array(hkws_top10['importance']), index=hkws_top10['features'], columns=['importance'])\n",
    "imp.plot(kind='barh', figsize=(12, 8))\n",
    "#hkws_top10.sort_values('importance').plot(kind='barh', figsize=(12, 8))"
   ]
  },
  {
   "cell_type": "markdown",
   "id": "174ce3c3",
   "metadata": {},
   "source": [
    "## 4. Model construction_Random Forest"
   ]
  },
  {
   "cell_type": "code",
   "execution_count": 39,
   "id": "2541695b",
   "metadata": {},
   "outputs": [],
   "source": [
    "def rf_model_train_val(X_train, y_train, X_val, y_val,\n",
    "                          n_estimators=100, \n",
    "                          max_depth=3, \n",
    "                          min_samples_split=2,\n",
    "                          min_samples_leaf=1):\n",
    "\n",
    "    model = RandomForestRegressor(n_estimators=n_estimators,\n",
    "                         max_depth=max_depth,\n",
    "                          min_samples_split=min_samples_split,\n",
    "                          min_samples_leaf=min_samples_leaf)\n",
    "        \n",
    "    # Train the model\n",
    "    model.fit(X_train, y_train)\n",
    "    \n",
    "    # Get predicted labels\n",
    "    est = model.predict(X_val)\n",
    "\n",
    "    # Calculate RMSE,MAE\n",
    "    rmse = get_rmse(y_val, est)\n",
    "    mae = get_mae(y_val, est)\n",
    "    \n",
    "    return rmse, mae, model"
   ]
  },
  {
   "cell_type": "markdown",
   "id": "d798343f",
   "metadata": {},
   "source": [
    "### 1) Tuning aprameters"
   ]
  },
  {
   "cell_type": "markdown",
   "id": "61bb356a",
   "metadata": {},
   "source": [
    "#### Tuning n_estimators (default=100) and max_depth (default=3)"
   ]
  },
  {
   "cell_type": "code",
   "execution_count": 47,
   "id": "7d1c2867",
   "metadata": {
    "scrolled": true
   },
   "outputs": [
    {
     "name": "stderr",
     "output_type": "stream",
     "text": [
      "<ipython-input-47-51dd0c999a81>:11: TqdmDeprecationWarning: This function will be removed in tqdm==5.0.0\n",
      "Please use `tqdm.notebook.tqdm` instead of `tqdm.tqdm_notebook`\n",
      "  for param in tqdm_notebook(param_list):\n"
     ]
    },
    {
     "data": {
      "application/vnd.jupyter.widget-view+json": {
       "model_id": "d66daf7f741e41c6baad60338334e856",
       "version_major": 2,
       "version_minor": 0
      },
      "text/plain": [
       "  0%|          | 0/10 [00:00<?, ?it/s]"
      ]
     },
     "metadata": {},
     "output_type": "display_data"
    },
    {
     "name": "stdout",
     "output_type": "stream",
     "text": [
      "Minutes taken = 4.07\n"
     ]
    },
    {
     "data": {
      "text/html": [
       "<div>\n",
       "<style scoped>\n",
       "    .dataframe tbody tr th:only-of-type {\n",
       "        vertical-align: middle;\n",
       "    }\n",
       "\n",
       "    .dataframe tbody tr th {\n",
       "        vertical-align: top;\n",
       "    }\n",
       "\n",
       "    .dataframe thead th {\n",
       "        text-align: right;\n",
       "    }\n",
       "</style>\n",
       "<table border=\"1\" class=\"dataframe\">\n",
       "  <thead>\n",
       "    <tr style=\"text-align: right;\">\n",
       "      <th></th>\n",
       "      <th>n_estimators</th>\n",
       "      <th>max_depth</th>\n",
       "      <th>rmse</th>\n",
       "      <th>mae</th>\n",
       "    </tr>\n",
       "  </thead>\n",
       "  <tbody>\n",
       "    <tr>\n",
       "      <th>0</th>\n",
       "      <td>40</td>\n",
       "      <td>30</td>\n",
       "      <td>0.026062</td>\n",
       "      <td>0.017902</td>\n",
       "    </tr>\n",
       "    <tr>\n",
       "      <th>1</th>\n",
       "      <td>40</td>\n",
       "      <td>31</td>\n",
       "      <td>0.026417</td>\n",
       "      <td>0.018284</td>\n",
       "    </tr>\n",
       "    <tr>\n",
       "      <th>2</th>\n",
       "      <td>40</td>\n",
       "      <td>32</td>\n",
       "      <td>0.027629</td>\n",
       "      <td>0.019089</td>\n",
       "    </tr>\n",
       "    <tr>\n",
       "      <th>3</th>\n",
       "      <td>40</td>\n",
       "      <td>33</td>\n",
       "      <td>0.026377</td>\n",
       "      <td>0.018457</td>\n",
       "    </tr>\n",
       "    <tr>\n",
       "      <th>4</th>\n",
       "      <td>40</td>\n",
       "      <td>34</td>\n",
       "      <td>0.026415</td>\n",
       "      <td>0.018229</td>\n",
       "    </tr>\n",
       "    <tr>\n",
       "      <th>...</th>\n",
       "      <td>...</td>\n",
       "      <td>...</td>\n",
       "      <td>...</td>\n",
       "      <td>...</td>\n",
       "    </tr>\n",
       "    <tr>\n",
       "      <th>95</th>\n",
       "      <td>58</td>\n",
       "      <td>35</td>\n",
       "      <td>0.025941</td>\n",
       "      <td>0.017745</td>\n",
       "    </tr>\n",
       "    <tr>\n",
       "      <th>96</th>\n",
       "      <td>58</td>\n",
       "      <td>36</td>\n",
       "      <td>0.026643</td>\n",
       "      <td>0.018279</td>\n",
       "    </tr>\n",
       "    <tr>\n",
       "      <th>97</th>\n",
       "      <td>58</td>\n",
       "      <td>37</td>\n",
       "      <td>0.025869</td>\n",
       "      <td>0.017861</td>\n",
       "    </tr>\n",
       "    <tr>\n",
       "      <th>98</th>\n",
       "      <td>58</td>\n",
       "      <td>38</td>\n",
       "      <td>0.026178</td>\n",
       "      <td>0.018146</td>\n",
       "    </tr>\n",
       "    <tr>\n",
       "      <th>99</th>\n",
       "      <td>58</td>\n",
       "      <td>39</td>\n",
       "      <td>0.026345</td>\n",
       "      <td>0.018414</td>\n",
       "    </tr>\n",
       "  </tbody>\n",
       "</table>\n",
       "<p>100 rows × 4 columns</p>\n",
       "</div>"
      ],
      "text/plain": [
       "    n_estimators  max_depth      rmse       mae\n",
       "0             40         30  0.026062  0.017902\n",
       "1             40         31  0.026417  0.018284\n",
       "2             40         32  0.027629  0.019089\n",
       "3             40         33  0.026377  0.018457\n",
       "4             40         34  0.026415  0.018229\n",
       "..           ...        ...       ...       ...\n",
       "95            58         35  0.025941  0.017745\n",
       "96            58         36  0.026643  0.018279\n",
       "97            58         37  0.025869  0.017861\n",
       "98            58         38  0.026178  0.018146\n",
       "99            58         39  0.026345  0.018414\n",
       "\n",
       "[100 rows x 4 columns]"
      ]
     },
     "execution_count": 47,
     "metadata": {},
     "output_type": "execute_result"
    }
   ],
   "source": [
    "from tqdm import tqdm_notebook\n",
    "param_label = 'n_estimators'\n",
    "param_list = range(40, 60, 2)\n",
    "\n",
    "param2_label = 'max_depth'\n",
    "param2_list = range(30,40,1)\n",
    "\n",
    "error_rate = defaultdict(list)\n",
    "\n",
    "tic = time.time()\n",
    "for param in tqdm_notebook(param_list):\n",
    "    for param2 in param2_list:\n",
    "        rmse_mean, mae_mean,m = rf_model_train_val(X_train, y_train, X_val, y_val,\n",
    "                                                            n_estimators=param,max_depth=param2)\n",
    "    \n",
    "        # Collect results\n",
    "        error_rate[param_label].append(param)\n",
    "        error_rate[param2_label].append(param2)\n",
    "        error_rate['rmse'].append(rmse_mean)\n",
    "        error_rate['mae'].append(mae_mean)\n",
    "    \n",
    "error_rate = pd.DataFrame(error_rate)\n",
    "toc = time.time()\n",
    "print(\"Minutes taken = {0:.2f}\".format((toc-tic)/60.0))\n",
    "\n",
    "error_rate   "
   ]
  },
  {
   "cell_type": "code",
   "execution_count": 48,
   "id": "2f012ab5",
   "metadata": {},
   "outputs": [
    {
     "data": {
      "text/plain": [
       "<matplotlib.legend.Legend at 0x21ac983a0a0>"
      ]
     },
     "execution_count": 48,
     "metadata": {},
     "output_type": "execute_result"
    },
    {
     "data": {
      "image/png": "[encoded data removed]",
      "text/plain": [
       "<Figure size 720x576 with 1 Axes>"
      ]
     },
     "metadata": {
      "needs_background": "light"
     },
     "output_type": "display_data"
    }
   ],
   "source": [
    "# Plot performance versus params\n",
    "from pylab import rcParams\n",
    "import matplotlib\n",
    "rcParams['figure.figsize'] = 10, 8 # width 10, height 8\n",
    "temp = error_rate[error_rate[param2_label]==param2_list[0]]\n",
    "ax = temp.plot(x=param_label, y='rmse', style='bs-', grid=True)\n",
    "legend_list = [param2_label + '_' + str(param2_list[0])]\n",
    "\n",
    "color_list = ['r', 'g', 'k', 'y', 'm', 'c', '0.75']\n",
    "for i in range(1,len(param2_list)):\n",
    "    temp = error_rate[error_rate[param2_label]==param2_list[i]]\n",
    "    ax = temp.plot(x=param_label, y='rmse', color=color_list[i%len(color_list)], marker='s', grid=True, ax=ax)\n",
    "    legend_list.append(param2_label + '_' + str(param2_list[i]))\n",
    "\n",
    "ax.set_xlabel(param_label)\n",
    "ax.set_ylabel(\"RMSE\")\n",
    "# ax.set_ylim([0, 20])\n",
    "matplotlib.rcParams.update({'font.size': 14})\n",
    "plt.legend(legend_list, loc='center left', bbox_to_anchor=(1.0, 0.5)) # positions legend outside figure"
   ]
  },
  {
   "cell_type": "code",
   "execution_count": 49,
   "id": "49b8271f",
   "metadata": {},
   "outputs": [
    {
     "name": "stdout",
     "output_type": "stream",
     "text": [
      "min RMSE = 0.025\n",
      "optimum params = \n"
     ]
    },
    {
     "data": {
      "text/plain": [
       "(44, 38)"
      ]
     },
     "execution_count": 49,
     "metadata": {},
     "output_type": "execute_result"
    }
   ],
   "source": [
    "# Get optimum value for param and param2, using RMSE\n",
    "temp = error_rate[error_rate['rmse'] == error_rate['rmse'].min()]\n",
    "n_estimators_opt = temp['n_estimators'].values[0]\n",
    "max_depth_opt = temp['max_depth'].values[0]\n",
    "print(\"min RMSE = %0.3f\" % error_rate['rmse'].min())\n",
    "print(\"optimum params = \")\n",
    "n_estimators_opt, max_depth_opt"
   ]
  },
  {
   "cell_type": "markdown",
   "id": "0e6eb6e7",
   "metadata": {},
   "source": [
    "#### Tuning min_samples_split(default=2) and  min_samples_leaf(default=1)"
   ]
  },
  {
   "cell_type": "code",
   "execution_count": 43,
   "id": "5e023008",
   "metadata": {
    "scrolled": true
   },
   "outputs": [
    {
     "name": "stderr",
     "output_type": "stream",
     "text": [
      "<ipython-input-43-7cf10e88798f>:11: TqdmDeprecationWarning: This function will be removed in tqdm==5.0.0\n",
      "Please use `tqdm.notebook.tqdm` instead of `tqdm.tqdm_notebook`\n",
      "  for param in tqdm_notebook(param_list):\n"
     ]
    },
    {
     "data": {
      "application/vnd.jupyter.widget-view+json": {
       "model_id": "cd01e608fed644618229617da1f3c0db",
       "version_major": 2,
       "version_minor": 0
      },
      "text/plain": [
       "  0%|          | 0/3 [00:00<?, ?it/s]"
      ]
     },
     "metadata": {},
     "output_type": "display_data"
    },
    {
     "name": "stdout",
     "output_type": "stream",
     "text": [
      "Minutes taken = 0.63\n"
     ]
    },
    {
     "data": {
      "text/html": [
       "<div>\n",
       "<style scoped>\n",
       "    .dataframe tbody tr th:only-of-type {\n",
       "        vertical-align: middle;\n",
       "    }\n",
       "\n",
       "    .dataframe tbody tr th {\n",
       "        vertical-align: top;\n",
       "    }\n",
       "\n",
       "    .dataframe thead th {\n",
       "        text-align: right;\n",
       "    }\n",
       "</style>\n",
       "<table border=\"1\" class=\"dataframe\">\n",
       "  <thead>\n",
       "    <tr style=\"text-align: right;\">\n",
       "      <th></th>\n",
       "      <th>min_samples_split</th>\n",
       "      <th>min_samples_leaf</th>\n",
       "      <th>rmse</th>\n",
       "      <th>mae</th>\n",
       "    </tr>\n",
       "  </thead>\n",
       "  <tbody>\n",
       "    <tr>\n",
       "      <th>0</th>\n",
       "      <td>2</td>\n",
       "      <td>5</td>\n",
       "      <td>0.025953</td>\n",
       "      <td>0.017979</td>\n",
       "    </tr>\n",
       "    <tr>\n",
       "      <th>1</th>\n",
       "      <td>2</td>\n",
       "      <td>6</td>\n",
       "      <td>0.025540</td>\n",
       "      <td>0.017692</td>\n",
       "    </tr>\n",
       "    <tr>\n",
       "      <th>2</th>\n",
       "      <td>2</td>\n",
       "      <td>7</td>\n",
       "      <td>0.025413</td>\n",
       "      <td>0.017507</td>\n",
       "    </tr>\n",
       "    <tr>\n",
       "      <th>3</th>\n",
       "      <td>2</td>\n",
       "      <td>8</td>\n",
       "      <td>0.025246</td>\n",
       "      <td>0.017480</td>\n",
       "    </tr>\n",
       "    <tr>\n",
       "      <th>4</th>\n",
       "      <td>2</td>\n",
       "      <td>9</td>\n",
       "      <td>0.025499</td>\n",
       "      <td>0.017478</td>\n",
       "    </tr>\n",
       "    <tr>\n",
       "      <th>5</th>\n",
       "      <td>2</td>\n",
       "      <td>10</td>\n",
       "      <td>0.025343</td>\n",
       "      <td>0.017391</td>\n",
       "    </tr>\n",
       "    <tr>\n",
       "      <th>6</th>\n",
       "      <td>2</td>\n",
       "      <td>11</td>\n",
       "      <td>0.025374</td>\n",
       "      <td>0.017569</td>\n",
       "    </tr>\n",
       "    <tr>\n",
       "      <th>7</th>\n",
       "      <td>3</td>\n",
       "      <td>5</td>\n",
       "      <td>0.025756</td>\n",
       "      <td>0.017678</td>\n",
       "    </tr>\n",
       "    <tr>\n",
       "      <th>8</th>\n",
       "      <td>3</td>\n",
       "      <td>6</td>\n",
       "      <td>0.025680</td>\n",
       "      <td>0.017719</td>\n",
       "    </tr>\n",
       "    <tr>\n",
       "      <th>9</th>\n",
       "      <td>3</td>\n",
       "      <td>7</td>\n",
       "      <td>0.025409</td>\n",
       "      <td>0.017562</td>\n",
       "    </tr>\n",
       "    <tr>\n",
       "      <th>10</th>\n",
       "      <td>3</td>\n",
       "      <td>8</td>\n",
       "      <td>0.025243</td>\n",
       "      <td>0.017316</td>\n",
       "    </tr>\n",
       "    <tr>\n",
       "      <th>11</th>\n",
       "      <td>3</td>\n",
       "      <td>9</td>\n",
       "      <td>0.025324</td>\n",
       "      <td>0.017461</td>\n",
       "    </tr>\n",
       "    <tr>\n",
       "      <th>12</th>\n",
       "      <td>3</td>\n",
       "      <td>10</td>\n",
       "      <td>0.025251</td>\n",
       "      <td>0.017349</td>\n",
       "    </tr>\n",
       "    <tr>\n",
       "      <th>13</th>\n",
       "      <td>3</td>\n",
       "      <td>11</td>\n",
       "      <td>0.025521</td>\n",
       "      <td>0.017653</td>\n",
       "    </tr>\n",
       "    <tr>\n",
       "      <th>14</th>\n",
       "      <td>4</td>\n",
       "      <td>5</td>\n",
       "      <td>0.026235</td>\n",
       "      <td>0.018093</td>\n",
       "    </tr>\n",
       "    <tr>\n",
       "      <th>15</th>\n",
       "      <td>4</td>\n",
       "      <td>6</td>\n",
       "      <td>0.025662</td>\n",
       "      <td>0.017621</td>\n",
       "    </tr>\n",
       "    <tr>\n",
       "      <th>16</th>\n",
       "      <td>4</td>\n",
       "      <td>7</td>\n",
       "      <td>0.025492</td>\n",
       "      <td>0.017539</td>\n",
       "    </tr>\n",
       "    <tr>\n",
       "      <th>17</th>\n",
       "      <td>4</td>\n",
       "      <td>8</td>\n",
       "      <td>0.024999</td>\n",
       "      <td>0.017285</td>\n",
       "    </tr>\n",
       "    <tr>\n",
       "      <th>18</th>\n",
       "      <td>4</td>\n",
       "      <td>9</td>\n",
       "      <td>0.025119</td>\n",
       "      <td>0.017271</td>\n",
       "    </tr>\n",
       "    <tr>\n",
       "      <th>19</th>\n",
       "      <td>4</td>\n",
       "      <td>10</td>\n",
       "      <td>0.025561</td>\n",
       "      <td>0.017695</td>\n",
       "    </tr>\n",
       "    <tr>\n",
       "      <th>20</th>\n",
       "      <td>4</td>\n",
       "      <td>11</td>\n",
       "      <td>0.025348</td>\n",
       "      <td>0.017383</td>\n",
       "    </tr>\n",
       "  </tbody>\n",
       "</table>\n",
       "</div>"
      ],
      "text/plain": [
       "    min_samples_split  min_samples_leaf      rmse       mae\n",
       "0                   2                 5  0.025953  0.017979\n",
       "1                   2                 6  0.025540  0.017692\n",
       "2                   2                 7  0.025413  0.017507\n",
       "3                   2                 8  0.025246  0.017480\n",
       "4                   2                 9  0.025499  0.017478\n",
       "5                   2                10  0.025343  0.017391\n",
       "6                   2                11  0.025374  0.017569\n",
       "7                   3                 5  0.025756  0.017678\n",
       "8                   3                 6  0.025680  0.017719\n",
       "9                   3                 7  0.025409  0.017562\n",
       "10                  3                 8  0.025243  0.017316\n",
       "11                  3                 9  0.025324  0.017461\n",
       "12                  3                10  0.025251  0.017349\n",
       "13                  3                11  0.025521  0.017653\n",
       "14                  4                 5  0.026235  0.018093\n",
       "15                  4                 6  0.025662  0.017621\n",
       "16                  4                 7  0.025492  0.017539\n",
       "17                  4                 8  0.024999  0.017285\n",
       "18                  4                 9  0.025119  0.017271\n",
       "19                  4                10  0.025561  0.017695\n",
       "20                  4                11  0.025348  0.017383"
      ]
     },
     "execution_count": 43,
     "metadata": {},
     "output_type": "execute_result"
    }
   ],
   "source": [
    "from tqdm import tqdm_notebook\n",
    "param_label = 'min_samples_split'\n",
    "param_list = range(2, 5)\n",
    "\n",
    "param2_label = 'min_samples_leaf'\n",
    "param2_list = range(5,12)\n",
    "\n",
    "error_rate = defaultdict(list)\n",
    "\n",
    "tic = time.time()\n",
    "for param in tqdm_notebook(param_list):\n",
    "    for param2 in param2_list:\n",
    "        rmse_mean, mae_mean,m = rf_model_train_val(X_train, y_train, X_val, y_val,\n",
    "                                                                    n_estimators=n_estimators_opt,\n",
    "                                                                     max_depth=max_depth_opt,\n",
    "                                                                    min_samples_split=param,\n",
    "                                                                    min_samples_leaf=param2)\n",
    "    \n",
    "        # Collect results\n",
    "        error_rate[param_label].append(param)\n",
    "        error_rate[param2_label].append(param2)\n",
    "        error_rate['rmse'].append(rmse_mean)\n",
    "        error_rate['mae'].append(mae_mean)\n",
    "    \n",
    "error_rate = pd.DataFrame(error_rate)\n",
    "toc = time.time()\n",
    "print(\"Minutes taken = {0:.2f}\".format((toc-tic)/60.0))\n",
    "\n",
    "error_rate   "
   ]
  },
  {
   "cell_type": "code",
   "execution_count": 44,
   "id": "8be733b2",
   "metadata": {},
   "outputs": [
    {
     "data": {
      "text/plain": [
       "<matplotlib.legend.Legend at 0x21ac838ec10>"
      ]
     },
     "execution_count": 44,
     "metadata": {},
     "output_type": "execute_result"
    },
    {
     "data": {
      "image/png": "[encoded data removed]",
      "text/plain": [
       "<Figure size 720x576 with 1 Axes>"
      ]
     },
     "metadata": {
      "needs_background": "light"
     },
     "output_type": "display_data"
    }
   ],
   "source": [
    "# Plot performance versus params\n",
    "rcParams['figure.figsize'] = 10, 8 # width 10, height 8\n",
    "temp = error_rate[error_rate[param2_label]==param2_list[0]]\n",
    "ax = temp.plot(x=param_label, y='rmse', style='bs-', grid=True)\n",
    "legend_list = [param2_label + '_' + str(param2_list[0])]\n",
    "\n",
    "color_list = ['r', 'g', 'k', 'y', 'm', 'c', '0.75']\n",
    "for i in range(1,len(param2_list)):\n",
    "    temp = error_rate[error_rate[param2_label]==param2_list[i]]\n",
    "    ax = temp.plot(x=param_label, y='rmse', color=color_list[i%len(color_list)], marker='s', grid=True, ax=ax)\n",
    "    legend_list.append(param2_label + '_' + str(param2_list[i]))\n",
    "\n",
    "ax.set_xlabel(param_label)\n",
    "ax.set_ylabel(\"RMSE\")\n",
    "matplotlib.rcParams.update({'font.size': 14})\n",
    "plt.legend(legend_list, loc='center left', bbox_to_anchor=(1.0, 0.5)) # positions legend outside figure"
   ]
  },
  {
   "cell_type": "code",
   "execution_count": 45,
   "id": "4e5efacb",
   "metadata": {},
   "outputs": [
    {
     "name": "stdout",
     "output_type": "stream",
     "text": [
      "min RMSE = 0.025\n",
      "optimum params = \n"
     ]
    },
    {
     "data": {
      "text/plain": [
       "(4, 8)"
      ]
     },
     "execution_count": 45,
     "metadata": {},
     "output_type": "execute_result"
    }
   ],
   "source": [
    "# Get optimum value for param and param2, using RMSE\n",
    "temp = error_rate[error_rate['rmse'] == error_rate['rmse'].min()]\n",
    "min_samples_split_opt = temp['min_samples_split'].values[0]\n",
    "min_samples_leaf_opt = temp['min_samples_leaf'].values[0]\n",
    "print(\"min RMSE = %0.3f\" % error_rate['rmse'].min())\n",
    "print(\"optimum params = \")\n",
    "min_samples_split_opt, min_samples_leaf_opt"
   ]
  },
  {
   "cell_type": "markdown",
   "id": "24082890",
   "metadata": {},
   "source": [
    "#### Final Model"
   ]
  },
  {
   "cell_type": "code",
   "execution_count": 50,
   "id": "3b81a811",
   "metadata": {},
   "outputs": [
    {
     "name": "stdout",
     "output_type": "stream",
     "text": [
      "RMSE = 0.026\n",
      "MAE = 0.018\n"
     ]
    }
   ],
   "source": [
    "# Get error metrics on validation set after hyperparameter tuning\n",
    "rf_rmse_aft_tuning,rf_mae_aft_tuning, rf_model_aft_tuning = \\\n",
    "                                                                        rf_model_train_val(X_train, y_train, X_val, y_val,                                                        \n",
    "                                                                        n_estimators=n_estimators_opt,\n",
    "                                                                        max_depth=max_depth_opt,                                                                        \n",
    "                                                                        min_samples_split=min_samples_split_opt,\n",
    "                                                                        min_samples_leaf=min_samples_leaf_opt)\n",
    "print(\"RMSE = %0.3f\" % rf_rmse_aft_tuning)\n",
    "print(\"MAE = %0.3f\" % rf_mae_aft_tuning)"
   ]
  },
  {
   "cell_type": "code",
   "execution_count": 51,
   "id": "17803e77",
   "metadata": {},
   "outputs": [
    {
     "name": "stdout",
     "output_type": "stream",
     "text": [
      "RMSE = 0.026\n",
      "MAE = 0.019\n"
     ]
    }
   ],
   "source": [
    "# Do prediction on test set\n",
    "rf_test_rmse_aft_tuning, rf_test_mae_aft_tuning,rf_pred = model_test_eval(X_test, y_test,rf_model_aft_tuning)\n",
    "\n",
    "print(\"RMSE = %0.3f\" % rf_test_rmse_aft_tuning)\n",
    "print(\"MAE = %0.3f\" % rf_test_mae_aft_tuning)"
   ]
  },
  {
   "cell_type": "markdown",
   "id": "274dee06",
   "metadata": {},
   "source": [
    "### Importance Analysis"
   ]
  },
  {
   "cell_type": "code",
   "execution_count": 52,
   "id": "69a6f4bd",
   "metadata": {},
   "outputs": [
    {
     "data": {
      "text/html": [
       "<div>\n",
       "<style scoped>\n",
       "    .dataframe tbody tr th:only-of-type {\n",
       "        vertical-align: middle;\n",
       "    }\n",
       "\n",
       "    .dataframe tbody tr th {\n",
       "        vertical-align: top;\n",
       "    }\n",
       "\n",
       "    .dataframe thead th {\n",
       "        text-align: right;\n",
       "    }\n",
       "</style>\n",
       "<table border=\"1\" class=\"dataframe\">\n",
       "  <thead>\n",
       "    <tr style=\"text-align: right;\">\n",
       "      <th></th>\n",
       "      <th>features</th>\n",
       "      <th>importance</th>\n",
       "    </tr>\n",
       "  </thead>\n",
       "  <tbody>\n",
       "    <tr>\n",
       "      <th>70</th>\n",
       "      <td>宏观_社会融资规模_diff1</td>\n",
       "      <td>0.001405</td>\n",
       "    </tr>\n",
       "    <tr>\n",
       "      <th>61</th>\n",
       "      <td>宏观_PPI_diff1</td>\n",
       "      <td>0.001455</td>\n",
       "    </tr>\n",
       "    <tr>\n",
       "      <th>69</th>\n",
       "      <td>宏观_金融机构各项贷款余额_diff1</td>\n",
       "      <td>0.001664</td>\n",
       "    </tr>\n",
       "    <tr>\n",
       "      <th>29</th>\n",
       "      <td>周换手率_diff1</td>\n",
       "      <td>0.001678</td>\n",
       "    </tr>\n",
       "    <tr>\n",
       "      <th>18</th>\n",
       "      <td>A股流通市值(元)_diff1</td>\n",
       "      <td>0.001994</td>\n",
       "    </tr>\n",
       "    <tr>\n",
       "      <th>...</th>\n",
       "      <td>...</td>\n",
       "      <td>...</td>\n",
       "    </tr>\n",
       "    <tr>\n",
       "      <th>1</th>\n",
       "      <td>ret_lag2</td>\n",
       "      <td>0.030852</td>\n",
       "    </tr>\n",
       "    <tr>\n",
       "      <th>4</th>\n",
       "      <td>ret_lag5</td>\n",
       "      <td>0.038521</td>\n",
       "    </tr>\n",
       "    <tr>\n",
       "      <th>2</th>\n",
       "      <td>ret_lag3</td>\n",
       "      <td>0.040488</td>\n",
       "    </tr>\n",
       "    <tr>\n",
       "      <th>10</th>\n",
       "      <td>最低价(元)_diff1</td>\n",
       "      <td>0.049070</td>\n",
       "    </tr>\n",
       "    <tr>\n",
       "      <th>3</th>\n",
       "      <td>ret_lag4</td>\n",
       "      <td>0.067627</td>\n",
       "    </tr>\n",
       "  </tbody>\n",
       "</table>\n",
       "<p>71 rows × 2 columns</p>\n",
       "</div>"
      ],
      "text/plain": [
       "               features  importance\n",
       "70      宏观_社会融资规模_diff1    0.001405\n",
       "61         宏观_PPI_diff1    0.001455\n",
       "69  宏观_金融机构各项贷款余额_diff1    0.001664\n",
       "29           周换手率_diff1    0.001678\n",
       "18      A股流通市值(元)_diff1    0.001994\n",
       "..                  ...         ...\n",
       "1              ret_lag2    0.030852\n",
       "4              ret_lag5    0.038521\n",
       "2              ret_lag3    0.040488\n",
       "10         最低价(元)_diff1    0.049070\n",
       "3              ret_lag4    0.067627\n",
       "\n",
       "[71 rows x 2 columns]"
      ]
     },
     "execution_count": 52,
     "metadata": {},
     "output_type": "execute_result"
    }
   ],
   "source": [
    "a =rf_model_aft_tuning.feature_importances_\n",
    "a1 = pd.DataFrame(a)\n",
    "a1.columns = ['importance']\n",
    "b = X_train.columns\n",
    "b1 = pd.DataFrame(b)\n",
    "b1.columns = ['features']\n",
    "c = pd.concat([b1,a1],axis = 1)\n",
    "c.sort_values(by= 'importance' , inplace=True, ascending=True) \n",
    "c"
   ]
  },
  {
   "cell_type": "code",
   "execution_count": 53,
   "id": "a43d0a6c",
   "metadata": {},
   "outputs": [
    {
     "name": "stdout",
     "output_type": "stream",
     "text": [
      "               features  importance\n",
      "70      宏观_社会融资规模_diff1    0.001405\n",
      "61         宏观_PPI_diff1    0.001455\n",
      "69  宏观_金融机构各项贷款余额_diff1    0.001664\n",
      "29           周换手率_diff1    0.001678\n",
      "18      A股流通市值(元)_diff1    0.001994\n",
      "11         收盘价(元)_diff1    0.002024\n",
      "67   宏观_社会消费品零售总额_diff1    0.002363\n",
      "64   宏观_进口价格指数(总)_diff1    0.003965\n",
      "33      WindA_换手率_diff1    0.004212\n",
      "21            市销率_diff1    0.004817\n"
     ]
    },
    {
     "data": {
      "text/plain": [
       "<AxesSubplot:ylabel='features'>"
      ]
     },
     "execution_count": 53,
     "metadata": {},
     "output_type": "execute_result"
    },
    {
     "data": {
      "image/png": "[encoded data removed]",
      "text/plain": [
       "<Figure size 864x576 with 1 Axes>"
      ]
     },
     "metadata": {
      "needs_background": "light"
     },
     "output_type": "display_data"
    }
   ],
   "source": [
    "matplotlib.rcParams['font.sans-serif'] = ['SimHei']     # 显示中文\n",
    "# 为了坐标轴负号正常显示。matplotlib默认不支持中文，设置中文字体后，负号会显示异常。需要手动将坐标轴负号设为False才能正常显示负号。\n",
    "matplotlib.rcParams['axes.unicode_minus'] = False\n",
    "\n",
    "hkws_top10 = c.head(10)\n",
    "print(hkws_top10)\n",
    "imp = pd.DataFrame(np.array(hkws_top10['importance']), index=hkws_top10['features'], columns=['importance'])\n",
    "imp.plot(kind='barh', figsize=(12, 8))\n",
    "#hkws_top10.sort_values('importance').plot(kind='barh', figsize=(12, 8))"
   ]
  },
  {
   "cell_type": "code",
   "execution_count": 54,
   "id": "8bb4d1bf",
   "metadata": {},
   "outputs": [],
   "source": [
    "# rf_pred = pd.DataFrame(rf_pred,columns = ['600009_rf'])\n",
    "# rf_pred.to_excel('D:\\海康威视1.xlsx', index = False)"
   ]
  },
  {
   "cell_type": "markdown",
   "id": "eccb2731",
   "metadata": {},
   "source": [
    "## 5. Model comparison"
   ]
  },
  {
   "cell_type": "code",
   "execution_count": 56,
   "id": "3afc2d51",
   "metadata": {},
   "outputs": [
    {
     "data": {
      "text/html": [
       "<div>\n",
       "<style scoped>\n",
       "    .dataframe tbody tr th:only-of-type {\n",
       "        vertical-align: middle;\n",
       "    }\n",
       "\n",
       "    .dataframe tbody tr th {\n",
       "        vertical-align: top;\n",
       "    }\n",
       "\n",
       "    .dataframe thead th {\n",
       "        text-align: right;\n",
       "    }\n",
       "</style>\n",
       "<table border=\"1\" class=\"dataframe\">\n",
       "  <thead>\n",
       "    <tr style=\"text-align: right;\">\n",
       "      <th></th>\n",
       "      <th>XGBOOST_validation</th>\n",
       "      <th>Random Forest_validation</th>\n",
       "      <th>XGBOOST_test</th>\n",
       "      <th>Random Forest_test</th>\n",
       "    </tr>\n",
       "  </thead>\n",
       "  <tbody>\n",
       "    <tr>\n",
       "      <th>RMSE</th>\n",
       "      <td>0.025</td>\n",
       "      <td>0.026</td>\n",
       "      <td>0.026</td>\n",
       "      <td>0.026</td>\n",
       "    </tr>\n",
       "    <tr>\n",
       "      <th>MAE</th>\n",
       "      <td>0.017</td>\n",
       "      <td>0.018</td>\n",
       "      <td>0.019</td>\n",
       "      <td>0.019</td>\n",
       "    </tr>\n",
       "  </tbody>\n",
       "</table>\n",
       "</div>"
      ],
      "text/plain": [
       "      XGBOOST_validation  Random Forest_validation  XGBOOST_test  \\\n",
       "RMSE               0.025                     0.026         0.026   \n",
       "MAE                0.017                     0.018         0.019   \n",
       "\n",
       "      Random Forest_test  \n",
       "RMSE               0.026  \n",
       "MAE                0.019  "
      ]
     },
     "execution_count": 56,
     "metadata": {},
     "output_type": "execute_result"
    }
   ],
   "source": [
    "# Tuned params and before and after error metrics\n",
    "c = {'XGBOOST_validation': [ xgb_rmse_aft_tuning, xgb_mae_aft_tuning],\n",
    "     'Random Forest_validation': [rf_rmse_aft_tuning,rf_mae_aft_tuning],\n",
    "     'XGBOOST_test': [ xgb_test_rmse_aft_tuning,  xgb_test_mae_aft_tuning],\n",
    "     'Random Forest_test': [rf_test_rmse_aft_tuning, rf_test_mae_aft_tuning],}\n",
    "comparison = pd.DataFrame(c)\n",
    "comparison.index = ['RMSE','MAE']\n",
    "comparison = comparison.round(3)\n",
    "comparison"
   ]
  },
  {
   "cell_type": "code",
   "execution_count": null,
   "id": "02d49e7e",
   "metadata": {},
   "outputs": [],
   "source": []
  }
 ],
 "metadata": {
  "kernelspec": {
   "display_name": "Python 3",
   "language": "python",
   "name": "python3"
  },
  "language_info": {
   "codemirror_mode": {
    "name": "ipython",
    "version": 3
   },
   "file_extension": ".py",
   "mimetype": "text/x-python",
   "name": "python",
   "nbconvert_exporter": "python",
   "pygments_lexer": "ipython3",
   "version": "3.8.8"
  }
 },
 "nbformat": 4,
 "nbformat_minor": 5
}
