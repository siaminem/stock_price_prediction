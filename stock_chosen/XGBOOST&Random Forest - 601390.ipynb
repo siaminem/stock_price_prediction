{
 "cells": [
  {
   "cell_type": "code",
   "execution_count": 47,
   "id": "51329ca0",
   "metadata": {},
   "outputs": [],
   "source": [
    "import pandas as pd\n",
    "import numpy as np\n",
    "import os\n",
    "import matplotlib.pyplot as plt\n",
    "import time\n",
    "from xgboost import XGBRegressor\n",
    "import math\n",
    "import plotly.graph_objs as go\n",
    "import chart_studio.plotly as py\n",
    "from collections import defaultdict\n",
    "from sklearn.decomposition import PCA\n",
    "from xgboost import XGBRegressor\n",
    "from sklearn.ensemble import RandomForestRegressor"
   ]
  },
  {
   "cell_type": "code",
   "execution_count": 48,
   "id": "ad7acf68",
   "metadata": {},
   "outputs": [],
   "source": [
    "def get_mae(a, b):\n",
    "    return np.mean(abs(np.array(a)-np.array(b)))\n",
    "\n",
    "def get_rmse(a, b):\n",
    "    return math.sqrt(np.mean((np.array(a)-np.array(b))**2))"
   ]
  },
  {
   "cell_type": "markdown",
   "id": "ff567b43",
   "metadata": {},
   "source": [
    "# 601390"
   ]
  },
  {
   "cell_type": "markdown",
   "id": "81095baa",
   "metadata": {},
   "source": [
    "## 1. Load Data"
   ]
  },
  {
   "cell_type": "code",
   "execution_count": 49,
   "id": "fe875101",
   "metadata": {},
   "outputs": [
    {
     "data": {
      "text/html": [
       "<div>\n",
       "<style scoped>\n",
       "    .dataframe tbody tr th:only-of-type {\n",
       "        vertical-align: middle;\n",
       "    }\n",
       "\n",
       "    .dataframe tbody tr th {\n",
       "        vertical-align: top;\n",
       "    }\n",
       "\n",
       "    .dataframe thead th {\n",
       "        text-align: right;\n",
       "    }\n",
       "</style>\n",
       "<table border=\"1\" class=\"dataframe\">\n",
       "  <thead>\n",
       "    <tr style=\"text-align: right;\">\n",
       "      <th></th>\n",
       "      <th>日期</th>\n",
       "      <th>收益率</th>\n",
       "      <th>ret_lag1</th>\n",
       "      <th>ret_lag2</th>\n",
       "      <th>ret_lag3</th>\n",
       "      <th>ret_lag4</th>\n",
       "      <th>ret_lag5</th>\n",
       "      <th>ret_lag6</th>\n",
       "      <th>ret_lag7</th>\n",
       "      <th>前收盘价(元)_diff1</th>\n",
       "      <th>...</th>\n",
       "      <th>宏观_PPI_diff1</th>\n",
       "      <th>宏观_出口价格指数(总)</th>\n",
       "      <th>宏观_出口价格指数(车船航)</th>\n",
       "      <th>宏观_进口价格指数(总)_diff1</th>\n",
       "      <th>宏观_进口价格指数(车船航)</th>\n",
       "      <th>宏观_固定资产投资完成额</th>\n",
       "      <th>宏观_社会消费品零售总额_diff1</th>\n",
       "      <th>宏观_M2_diff2</th>\n",
       "      <th>宏观_金融机构各项贷款余额_diff1</th>\n",
       "      <th>宏观_社会融资规模_diff1</th>\n",
       "    </tr>\n",
       "  </thead>\n",
       "  <tbody>\n",
       "    <tr>\n",
       "      <th>0</th>\n",
       "      <td>2016-01-22</td>\n",
       "      <td>-0.006757</td>\n",
       "      <td>0.033760</td>\n",
       "      <td>-0.059146</td>\n",
       "      <td>-0.020386</td>\n",
       "      <td>0.100354</td>\n",
       "      <td>0.009535</td>\n",
       "      <td>-0.062570</td>\n",
       "      <td>0.015891</td>\n",
       "      <td>-2.557826</td>\n",
       "      <td>...</td>\n",
       "      <td>-0.051989</td>\n",
       "      <td>-2.162753</td>\n",
       "      <td>-0.746224</td>\n",
       "      <td>-0.028079</td>\n",
       "      <td>-0.53487</td>\n",
       "      <td>-0.820241</td>\n",
       "      <td>-0.149665</td>\n",
       "      <td>0.0</td>\n",
       "      <td>0.031278</td>\n",
       "      <td>0.018098</td>\n",
       "    </tr>\n",
       "    <tr>\n",
       "      <th>1</th>\n",
       "      <td>2016-01-25</td>\n",
       "      <td>-0.089569</td>\n",
       "      <td>-0.006757</td>\n",
       "      <td>0.033760</td>\n",
       "      <td>-0.059146</td>\n",
       "      <td>-0.020386</td>\n",
       "      <td>0.100354</td>\n",
       "      <td>0.009535</td>\n",
       "      <td>-0.062570</td>\n",
       "      <td>2.730887</td>\n",
       "      <td>...</td>\n",
       "      <td>-0.051989</td>\n",
       "      <td>-2.162753</td>\n",
       "      <td>-0.746224</td>\n",
       "      <td>-0.028079</td>\n",
       "      <td>-0.53487</td>\n",
       "      <td>-0.820241</td>\n",
       "      <td>-0.149665</td>\n",
       "      <td>0.0</td>\n",
       "      <td>0.031278</td>\n",
       "      <td>0.018098</td>\n",
       "    </tr>\n",
       "    <tr>\n",
       "      <th>2</th>\n",
       "      <td>2016-01-26</td>\n",
       "      <td>-0.017435</td>\n",
       "      <td>-0.089569</td>\n",
       "      <td>-0.006757</td>\n",
       "      <td>0.033760</td>\n",
       "      <td>-0.059146</td>\n",
       "      <td>-0.020386</td>\n",
       "      <td>0.100354</td>\n",
       "      <td>0.009535</td>\n",
       "      <td>-0.587521</td>\n",
       "      <td>...</td>\n",
       "      <td>-0.051989</td>\n",
       "      <td>-2.162753</td>\n",
       "      <td>-0.746224</td>\n",
       "      <td>-0.028079</td>\n",
       "      <td>-0.53487</td>\n",
       "      <td>-0.820241</td>\n",
       "      <td>-0.149665</td>\n",
       "      <td>0.0</td>\n",
       "      <td>0.031278</td>\n",
       "      <td>0.018098</td>\n",
       "    </tr>\n",
       "    <tr>\n",
       "      <th>3</th>\n",
       "      <td>2016-01-27</td>\n",
       "      <td>-0.082383</td>\n",
       "      <td>-0.017435</td>\n",
       "      <td>-0.089569</td>\n",
       "      <td>-0.006757</td>\n",
       "      <td>0.033760</td>\n",
       "      <td>-0.059146</td>\n",
       "      <td>-0.020386</td>\n",
       "      <td>0.100354</td>\n",
       "      <td>-2.557826</td>\n",
       "      <td>...</td>\n",
       "      <td>-0.051989</td>\n",
       "      <td>-2.162753</td>\n",
       "      <td>-0.746224</td>\n",
       "      <td>-0.028079</td>\n",
       "      <td>-0.53487</td>\n",
       "      <td>-0.820241</td>\n",
       "      <td>-0.149665</td>\n",
       "      <td>0.0</td>\n",
       "      <td>0.031278</td>\n",
       "      <td>0.018098</td>\n",
       "    </tr>\n",
       "    <tr>\n",
       "      <th>4</th>\n",
       "      <td>2016-01-28</td>\n",
       "      <td>0.099448</td>\n",
       "      <td>-0.082383</td>\n",
       "      <td>-0.017435</td>\n",
       "      <td>-0.089569</td>\n",
       "      <td>-0.006757</td>\n",
       "      <td>0.033760</td>\n",
       "      <td>-0.059146</td>\n",
       "      <td>-0.020386</td>\n",
       "      <td>-1.417123</td>\n",
       "      <td>...</td>\n",
       "      <td>-0.051989</td>\n",
       "      <td>-2.162753</td>\n",
       "      <td>-0.746224</td>\n",
       "      <td>-0.028079</td>\n",
       "      <td>-0.53487</td>\n",
       "      <td>-0.820241</td>\n",
       "      <td>-0.149665</td>\n",
       "      <td>0.0</td>\n",
       "      <td>0.031278</td>\n",
       "      <td>0.018098</td>\n",
       "    </tr>\n",
       "  </tbody>\n",
       "</table>\n",
       "<p>5 rows × 73 columns</p>\n",
       "</div>"
      ],
      "text/plain": [
       "          日期       收益率  ret_lag1  ret_lag2  ret_lag3  ret_lag4  ret_lag5  \\\n",
       "0 2016-01-22 -0.006757  0.033760 -0.059146 -0.020386  0.100354  0.009535   \n",
       "1 2016-01-25 -0.089569 -0.006757  0.033760 -0.059146 -0.020386  0.100354   \n",
       "2 2016-01-26 -0.017435 -0.089569 -0.006757  0.033760 -0.059146 -0.020386   \n",
       "3 2016-01-27 -0.082383 -0.017435 -0.089569 -0.006757  0.033760 -0.059146   \n",
       "4 2016-01-28  0.099448 -0.082383 -0.017435 -0.089569 -0.006757  0.033760   \n",
       "\n",
       "   ret_lag6  ret_lag7  前收盘价(元)_diff1  ...  宏观_PPI_diff1  宏观_出口价格指数(总)  \\\n",
       "0 -0.062570  0.015891      -2.557826  ...     -0.051989     -2.162753   \n",
       "1  0.009535 -0.062570       2.730887  ...     -0.051989     -2.162753   \n",
       "2  0.100354  0.009535      -0.587521  ...     -0.051989     -2.162753   \n",
       "3 -0.020386  0.100354      -2.557826  ...     -0.051989     -2.162753   \n",
       "4 -0.059146 -0.020386      -1.417123  ...     -0.051989     -2.162753   \n",
       "\n",
       "   宏观_出口价格指数(车船航)  宏观_进口价格指数(总)_diff1  宏观_进口价格指数(车船航)  宏观_固定资产投资完成额  \\\n",
       "0       -0.746224           -0.028079        -0.53487     -0.820241   \n",
       "1       -0.746224           -0.028079        -0.53487     -0.820241   \n",
       "2       -0.746224           -0.028079        -0.53487     -0.820241   \n",
       "3       -0.746224           -0.028079        -0.53487     -0.820241   \n",
       "4       -0.746224           -0.028079        -0.53487     -0.820241   \n",
       "\n",
       "   宏观_社会消费品零售总额_diff1  宏观_M2_diff2  宏观_金融机构各项贷款余额_diff1  宏观_社会融资规模_diff1  \n",
       "0           -0.149665          0.0             0.031278         0.018098  \n",
       "1           -0.149665          0.0             0.031278         0.018098  \n",
       "2           -0.149665          0.0             0.031278         0.018098  \n",
       "3           -0.149665          0.0             0.031278         0.018098  \n",
       "4           -0.149665          0.0             0.031278         0.018098  \n",
       "\n",
       "[5 rows x 73 columns]"
      ]
     },
     "execution_count": 49,
     "metadata": {},
     "output_type": "execute_result"
    }
   ],
   "source": [
    "hkws_path = 'D:/DeskTop-Files/CUHK-SZ/2022-2023 Fall term/1-Wed-14~17-IBA6 Fintech and Application/Group_final/data_new5_withdiff_withlag/data_new5_withdiff_withlag/601390_stable.xlsx'\n",
    "df = pd.DataFrame(pd.read_excel(hkws_path)) \n",
    "df.head()"
   ]
  },
  {
   "cell_type": "code",
   "execution_count": 50,
   "id": "d3515363",
   "metadata": {
    "scrolled": true
   },
   "outputs": [],
   "source": [
    "# hkws_path = 'D:/DeskTop-Files/CUHK-SZ/2022-2023 Fall term/1-Wed-14~17-IBA6 Fintech and Application/Group_final/data_new4_withdiff/data_new4_withdiff/海康威视_002415_成长.xlsx'\n",
    "# df = pd.DataFrame(pd.read_excel(hkws_path)) \n",
    "# df.head()"
   ]
  },
  {
   "cell_type": "code",
   "execution_count": 51,
   "id": "981e9900",
   "metadata": {
    "scrolled": true
   },
   "outputs": [
    {
     "name": "stdout",
     "output_type": "stream",
     "text": [
      "1204 1447\n"
     ]
    }
   ],
   "source": [
    "index_val = df[df.日期 == '2021-01-04'].index[0]\n",
    "index_test = df[df.日期 == '2022-01-04'].index[0]\n",
    "print(index_val,index_test)"
   ]
  },
  {
   "cell_type": "code",
   "execution_count": 52,
   "id": "bbff1294",
   "metadata": {},
   "outputs": [],
   "source": [
    "df.dropna(inplace=True)\n",
    "df = df.drop(['日期'], axis=1)\n",
    "y = df['收益率']\n",
    "X = df.drop('收益率', axis=1) "
   ]
  },
  {
   "cell_type": "markdown",
   "id": "2afa52b6",
   "metadata": {},
   "source": [
    "## 2. Split train set，validation set and test set "
   ]
  },
  {
   "cell_type": "code",
   "execution_count": 53,
   "id": "4d1e757e",
   "metadata": {},
   "outputs": [
    {
     "name": "stdout",
     "output_type": "stream",
     "text": [
      "X_train.shape = (1204, 71)\n",
      "X_val.shape = (243, 71)\n",
      "X_test.shape = (221, 71)\n"
     ]
    }
   ],
   "source": [
    "X_train = X[0:index_val].copy()\n",
    "X_val = X[index_val:index_test].copy()\n",
    "X_test = X[index_test:].copy()\n",
    "y_train = y[0:index_val].copy()\n",
    "y_val = y[index_val:index_test].copy()\n",
    "y_test = y[index_test:].copy()\n",
    "print(\"X_train.shape = \" + str(X_train.shape))\n",
    "print(\"X_val.shape = \" + str(X_val.shape))\n",
    "print(\"X_test.shape = \" + str(X_test.shape))"
   ]
  },
  {
   "cell_type": "markdown",
   "id": "fa69420d",
   "metadata": {},
   "source": [
    "## 3. Model cinstruction_XGBOOST"
   ]
  },
  {
   "cell_type": "code",
   "execution_count": 54,
   "id": "06be6ce6",
   "metadata": {},
   "outputs": [],
   "source": [
    "def xgb_model_train_val(X_train, y_train, X_val, y_val,\n",
    "                          seed=100, n_estimators=100, max_depth=3, learning_rate=0.1,\n",
    "                          min_child_weight=1, subsample=1, colsample_bytree=1, colsample_bylevel=1, gamma=0):\n",
    "\n",
    "    model = XGBRegressor(objective ='reg:squarederror',\n",
    "                         seed=seed, n_estimators=n_estimators,\n",
    "                         max_depth=max_depth,\n",
    "                         learning_rate=learning_rate,\n",
    "                         min_child_weight=min_child_weight,\n",
    "                         subsample=subsample,\n",
    "                         colsample_bytree=colsample_bytree,\n",
    "                         colsample_bylevel=colsample_bylevel,\n",
    "                         gamma=gamma)\n",
    "        \n",
    "    # Train the model\n",
    "    model.fit(X_train, y_train)\n",
    "    \n",
    "    # Get predicted labels\n",
    "    est = model.predict(X_val)\n",
    "\n",
    "    # Calculate RMSE, MAPE, MAE\n",
    "    rmse = get_rmse(y_val, est)\n",
    "    mae = get_mae(y_val, est)\n",
    "    \n",
    "    return rmse, mae, model"
   ]
  },
  {
   "cell_type": "code",
   "execution_count": 55,
   "id": "c785fb15",
   "metadata": {},
   "outputs": [],
   "source": [
    "def model_test_eval(X_test, y_test, model):\n",
    "    \n",
    "    # Get predicted labels\n",
    "    est = model.predict(X_test)\n",
    "\n",
    "    # Calculate RMSE, MAPE, MAE\n",
    "    rmse = get_rmse(y_test, est)\n",
    "    mae = get_mae(y_test, est)\n",
    "    \n",
    "    return rmse, mae, est"
   ]
  },
  {
   "cell_type": "markdown",
   "id": "766bb19d",
   "metadata": {},
   "source": [
    "### 1) Prediction before tuning on validation set"
   ]
  },
  {
   "cell_type": "code",
   "execution_count": 56,
   "id": "5ecf16b2",
   "metadata": {},
   "outputs": [
    {
     "name": "stdout",
     "output_type": "stream",
     "text": [
      "RMSE = 0.018\n",
      "MAE = 0.012\n"
     ]
    }
   ],
   "source": [
    "# Get error metrics on validation set before hyperparameter tuning\n",
    "xgb_rmse_bef_tuning, xgb_mae_bef_tuning,xgb_model_bef_tuning = xgb_model_train_val(X_train, y_train, X_val, y_val)\n",
    "                                                                \n",
    "print(\"RMSE = %0.3f\" % xgb_rmse_bef_tuning)\n",
    "print(\"MAE = %0.3f\" % xgb_mae_bef_tuning)"
   ]
  },
  {
   "cell_type": "markdown",
   "id": "9eeeeef4",
   "metadata": {},
   "source": [
    "### 2) Tuning parameters"
   ]
  },
  {
   "cell_type": "markdown",
   "id": "0cea71c3",
   "metadata": {},
   "source": [
    "#### Tuning n_estimators (default=100) and max_depth (default=3)"
   ]
  },
  {
   "cell_type": "code",
   "execution_count": 57,
   "id": "b427f939",
   "metadata": {
    "scrolled": true
   },
   "outputs": [
    {
     "name": "stderr",
     "output_type": "stream",
     "text": [
      "<ipython-input-57-256a1b781448>:11: TqdmDeprecationWarning: This function will be removed in tqdm==5.0.0\n",
      "Please use `tqdm.notebook.tqdm` instead of `tqdm.tqdm_notebook`\n",
      "  for param in tqdm_notebook(param_list):\n"
     ]
    },
    {
     "data": {
      "application/vnd.jupyter.widget-view+json": {
       "model_id": "11fac7fa4c304a7184d6ee5b907cb675",
       "version_major": 2,
       "version_minor": 0
      },
      "text/plain": [
       "  0%|          | 0/4 [00:00<?, ?it/s]"
      ]
     },
     "metadata": {},
     "output_type": "display_data"
    },
    {
     "name": "stdout",
     "output_type": "stream",
     "text": [
      "Minutes taken = 0.27\n"
     ]
    },
    {
     "data": {
      "text/html": [
       "<div>\n",
       "<style scoped>\n",
       "    .dataframe tbody tr th:only-of-type {\n",
       "        vertical-align: middle;\n",
       "    }\n",
       "\n",
       "    .dataframe tbody tr th {\n",
       "        vertical-align: top;\n",
       "    }\n",
       "\n",
       "    .dataframe thead th {\n",
       "        text-align: right;\n",
       "    }\n",
       "</style>\n",
       "<table border=\"1\" class=\"dataframe\">\n",
       "  <thead>\n",
       "    <tr style=\"text-align: right;\">\n",
       "      <th></th>\n",
       "      <th>n_estimators</th>\n",
       "      <th>max_depth</th>\n",
       "      <th>rmse</th>\n",
       "      <th>mae</th>\n",
       "    </tr>\n",
       "  </thead>\n",
       "  <tbody>\n",
       "    <tr>\n",
       "      <th>0</th>\n",
       "      <td>50</td>\n",
       "      <td>4</td>\n",
       "      <td>0.017110</td>\n",
       "      <td>0.012091</td>\n",
       "    </tr>\n",
       "    <tr>\n",
       "      <th>1</th>\n",
       "      <td>50</td>\n",
       "      <td>5</td>\n",
       "      <td>0.017173</td>\n",
       "      <td>0.012021</td>\n",
       "    </tr>\n",
       "    <tr>\n",
       "      <th>2</th>\n",
       "      <td>50</td>\n",
       "      <td>6</td>\n",
       "      <td>0.017269</td>\n",
       "      <td>0.012537</td>\n",
       "    </tr>\n",
       "    <tr>\n",
       "      <th>3</th>\n",
       "      <td>50</td>\n",
       "      <td>7</td>\n",
       "      <td>0.017250</td>\n",
       "      <td>0.012537</td>\n",
       "    </tr>\n",
       "    <tr>\n",
       "      <th>4</th>\n",
       "      <td>50</td>\n",
       "      <td>8</td>\n",
       "      <td>0.017198</td>\n",
       "      <td>0.012676</td>\n",
       "    </tr>\n",
       "    <tr>\n",
       "      <th>5</th>\n",
       "      <td>50</td>\n",
       "      <td>9</td>\n",
       "      <td>0.017506</td>\n",
       "      <td>0.012843</td>\n",
       "    </tr>\n",
       "    <tr>\n",
       "      <th>6</th>\n",
       "      <td>75</td>\n",
       "      <td>4</td>\n",
       "      <td>0.017280</td>\n",
       "      <td>0.012034</td>\n",
       "    </tr>\n",
       "    <tr>\n",
       "      <th>7</th>\n",
       "      <td>75</td>\n",
       "      <td>5</td>\n",
       "      <td>0.017340</td>\n",
       "      <td>0.012120</td>\n",
       "    </tr>\n",
       "    <tr>\n",
       "      <th>8</th>\n",
       "      <td>75</td>\n",
       "      <td>6</td>\n",
       "      <td>0.017272</td>\n",
       "      <td>0.012294</td>\n",
       "    </tr>\n",
       "    <tr>\n",
       "      <th>9</th>\n",
       "      <td>75</td>\n",
       "      <td>7</td>\n",
       "      <td>0.017147</td>\n",
       "      <td>0.012270</td>\n",
       "    </tr>\n",
       "    <tr>\n",
       "      <th>10</th>\n",
       "      <td>75</td>\n",
       "      <td>8</td>\n",
       "      <td>0.017017</td>\n",
       "      <td>0.012364</td>\n",
       "    </tr>\n",
       "    <tr>\n",
       "      <th>11</th>\n",
       "      <td>75</td>\n",
       "      <td>9</td>\n",
       "      <td>0.017463</td>\n",
       "      <td>0.012335</td>\n",
       "    </tr>\n",
       "    <tr>\n",
       "      <th>12</th>\n",
       "      <td>100</td>\n",
       "      <td>4</td>\n",
       "      <td>0.017328</td>\n",
       "      <td>0.012113</td>\n",
       "    </tr>\n",
       "    <tr>\n",
       "      <th>13</th>\n",
       "      <td>100</td>\n",
       "      <td>5</td>\n",
       "      <td>0.017449</td>\n",
       "      <td>0.012295</td>\n",
       "    </tr>\n",
       "    <tr>\n",
       "      <th>14</th>\n",
       "      <td>100</td>\n",
       "      <td>6</td>\n",
       "      <td>0.017458</td>\n",
       "      <td>0.012467</td>\n",
       "    </tr>\n",
       "    <tr>\n",
       "      <th>15</th>\n",
       "      <td>100</td>\n",
       "      <td>7</td>\n",
       "      <td>0.017273</td>\n",
       "      <td>0.012328</td>\n",
       "    </tr>\n",
       "    <tr>\n",
       "      <th>16</th>\n",
       "      <td>100</td>\n",
       "      <td>8</td>\n",
       "      <td>0.017175</td>\n",
       "      <td>0.012485</td>\n",
       "    </tr>\n",
       "    <tr>\n",
       "      <th>17</th>\n",
       "      <td>100</td>\n",
       "      <td>9</td>\n",
       "      <td>0.017510</td>\n",
       "      <td>0.012321</td>\n",
       "    </tr>\n",
       "    <tr>\n",
       "      <th>18</th>\n",
       "      <td>200</td>\n",
       "      <td>4</td>\n",
       "      <td>0.017467</td>\n",
       "      <td>0.012347</td>\n",
       "    </tr>\n",
       "    <tr>\n",
       "      <th>19</th>\n",
       "      <td>200</td>\n",
       "      <td>5</td>\n",
       "      <td>0.017610</td>\n",
       "      <td>0.012524</td>\n",
       "    </tr>\n",
       "    <tr>\n",
       "      <th>20</th>\n",
       "      <td>200</td>\n",
       "      <td>6</td>\n",
       "      <td>0.017550</td>\n",
       "      <td>0.012521</td>\n",
       "    </tr>\n",
       "    <tr>\n",
       "      <th>21</th>\n",
       "      <td>200</td>\n",
       "      <td>7</td>\n",
       "      <td>0.017404</td>\n",
       "      <td>0.012519</td>\n",
       "    </tr>\n",
       "    <tr>\n",
       "      <th>22</th>\n",
       "      <td>200</td>\n",
       "      <td>8</td>\n",
       "      <td>0.017194</td>\n",
       "      <td>0.012466</td>\n",
       "    </tr>\n",
       "    <tr>\n",
       "      <th>23</th>\n",
       "      <td>200</td>\n",
       "      <td>9</td>\n",
       "      <td>0.017523</td>\n",
       "      <td>0.012330</td>\n",
       "    </tr>\n",
       "  </tbody>\n",
       "</table>\n",
       "</div>"
      ],
      "text/plain": [
       "    n_estimators  max_depth      rmse       mae\n",
       "0             50          4  0.017110  0.012091\n",
       "1             50          5  0.017173  0.012021\n",
       "2             50          6  0.017269  0.012537\n",
       "3             50          7  0.017250  0.012537\n",
       "4             50          8  0.017198  0.012676\n",
       "5             50          9  0.017506  0.012843\n",
       "6             75          4  0.017280  0.012034\n",
       "7             75          5  0.017340  0.012120\n",
       "8             75          6  0.017272  0.012294\n",
       "9             75          7  0.017147  0.012270\n",
       "10            75          8  0.017017  0.012364\n",
       "11            75          9  0.017463  0.012335\n",
       "12           100          4  0.017328  0.012113\n",
       "13           100          5  0.017449  0.012295\n",
       "14           100          6  0.017458  0.012467\n",
       "15           100          7  0.017273  0.012328\n",
       "16           100          8  0.017175  0.012485\n",
       "17           100          9  0.017510  0.012321\n",
       "18           200          4  0.017467  0.012347\n",
       "19           200          5  0.017610  0.012524\n",
       "20           200          6  0.017550  0.012521\n",
       "21           200          7  0.017404  0.012519\n",
       "22           200          8  0.017194  0.012466\n",
       "23           200          9  0.017523  0.012330"
      ]
     },
     "execution_count": 57,
     "metadata": {},
     "output_type": "execute_result"
    }
   ],
   "source": [
    "from tqdm import tqdm_notebook\n",
    "param_label = 'n_estimators'\n",
    "param_list = [50,75,100,200]\n",
    "\n",
    "param2_label = 'max_depth'\n",
    "param2_list = [4, 5, 6, 7, 8, 9]\n",
    "\n",
    "error_rate = defaultdict(list)\n",
    "\n",
    "tic = time.time()\n",
    "for param in tqdm_notebook(param_list):\n",
    "    for param2 in param2_list:\n",
    "        rmse_mean, mae_mean,m = xgb_model_train_val(X_train, y_train, X_val, y_val,\n",
    "                                                            seed = 100,n_estimators=param,max_depth=param2)\n",
    "    \n",
    "        # Collect results\n",
    "        error_rate[param_label].append(param)\n",
    "        error_rate[param2_label].append(param2)\n",
    "        error_rate['rmse'].append(rmse_mean)\n",
    "        error_rate['mae'].append(mae_mean)\n",
    "    \n",
    "error_rate = pd.DataFrame(error_rate)\n",
    "toc = time.time()\n",
    "print(\"Minutes taken = {0:.2f}\".format((toc-tic)/60.0))\n",
    "\n",
    "error_rate   "
   ]
  },
  {
   "cell_type": "code",
   "execution_count": 58,
   "id": "93a532be",
   "metadata": {},
   "outputs": [
    {
     "data": {
      "text/plain": [
       "<matplotlib.legend.Legend at 0x13f42694640>"
      ]
     },
     "execution_count": 58,
     "metadata": {},
     "output_type": "execute_result"
    },
    {
     "data": {
      "image/png": "[encoded data removed]",
      "text/plain": [
       "<Figure size 720x576 with 1 Axes>"
      ]
     },
     "metadata": {
      "needs_background": "light"
     },
     "output_type": "display_data"
    }
   ],
   "source": [
    "# Plot performance versus params\n",
    "from pylab import rcParams\n",
    "import matplotlib\n",
    "rcParams['figure.figsize'] = 10, 8 # width 10, height 8\n",
    "temp = error_rate[error_rate[param2_label]==param2_list[0]]\n",
    "ax = temp.plot(x=param_label, y='rmse', style='bs-', grid=True)\n",
    "legend_list = [param2_label + '_' + str(param2_list[0])]\n",
    "\n",
    "color_list = ['r', 'g', 'k', 'y', 'm', 'c', '0.75']\n",
    "for i in range(1,len(param2_list)):\n",
    "    temp = error_rate[error_rate[param2_label]==param2_list[i]]\n",
    "    ax = temp.plot(x=param_label, y='rmse', color=color_list[i%len(color_list)], marker='s', grid=True, ax=ax)\n",
    "    legend_list.append(param2_label + '_' + str(param2_list[i]))\n",
    "\n",
    "ax.set_xlabel(param_label)\n",
    "ax.set_ylabel(\"RMSE\")\n",
    "# ax.set_ylim([0, 20])\n",
    "matplotlib.rcParams.update({'font.size': 14})\n",
    "plt.legend(legend_list, loc='center left', bbox_to_anchor=(1.0, 0.5)) # positions legend outside figure"
   ]
  },
  {
   "cell_type": "code",
   "execution_count": 59,
   "id": "7d9b8e7f",
   "metadata": {},
   "outputs": [
    {
     "name": "stdout",
     "output_type": "stream",
     "text": [
      "min RMSE = 0.017\n",
      "optimum params = \n"
     ]
    },
    {
     "data": {
      "text/plain": [
       "(75, 8)"
      ]
     },
     "execution_count": 59,
     "metadata": {},
     "output_type": "execute_result"
    }
   ],
   "source": [
    "# Get optimum value for param and param2, using RMSE\n",
    "temp = error_rate[error_rate['rmse'] == error_rate['rmse'].min()]\n",
    "n_estimators_opt = temp['n_estimators'].values[0]\n",
    "max_depth_opt = temp['max_depth'].values[0]\n",
    "print(\"min RMSE = %0.3f\" % error_rate['rmse'].min())\n",
    "print(\"optimum params = \")\n",
    "n_estimators_opt, max_depth_opt"
   ]
  },
  {
   "cell_type": "markdown",
   "id": "42150f1c",
   "metadata": {},
   "source": [
    "#### Tuning learning_rate(default=0.1) and min_child_weight(default=1)"
   ]
  },
  {
   "cell_type": "code",
   "execution_count": 60,
   "id": "7d78d856",
   "metadata": {
    "scrolled": true
   },
   "outputs": [
    {
     "name": "stderr",
     "output_type": "stream",
     "text": [
      "<ipython-input-60-6dd8cafe6c94>:10: TqdmDeprecationWarning: This function will be removed in tqdm==5.0.0\n",
      "Please use `tqdm.notebook.tqdm` instead of `tqdm.tqdm_notebook`\n",
      "  for param in tqdm_notebook(param_list):\n"
     ]
    },
    {
     "data": {
      "application/vnd.jupyter.widget-view+json": {
       "model_id": "8de15496693a48f5b0617ec28f45ec7f",
       "version_major": 2,
       "version_minor": 0
      },
      "text/plain": [
       "  0%|          | 0/5 [00:00<?, ?it/s]"
      ]
     },
     "metadata": {},
     "output_type": "display_data"
    },
    {
     "name": "stdout",
     "output_type": "stream",
     "text": [
      "Minutes taken = 0.42\n"
     ]
    },
    {
     "data": {
      "text/html": [
       "<div>\n",
       "<style scoped>\n",
       "    .dataframe tbody tr th:only-of-type {\n",
       "        vertical-align: middle;\n",
       "    }\n",
       "\n",
       "    .dataframe tbody tr th {\n",
       "        vertical-align: top;\n",
       "    }\n",
       "\n",
       "    .dataframe thead th {\n",
       "        text-align: right;\n",
       "    }\n",
       "</style>\n",
       "<table border=\"1\" class=\"dataframe\">\n",
       "  <thead>\n",
       "    <tr style=\"text-align: right;\">\n",
       "      <th></th>\n",
       "      <th>learning_rate</th>\n",
       "      <th>min_child_weight</th>\n",
       "      <th>rmse</th>\n",
       "      <th>mae</th>\n",
       "    </tr>\n",
       "  </thead>\n",
       "  <tbody>\n",
       "    <tr>\n",
       "      <th>0</th>\n",
       "      <td>0.01</td>\n",
       "      <td>1</td>\n",
       "      <td>0.235339</td>\n",
       "      <td>0.234731</td>\n",
       "    </tr>\n",
       "    <tr>\n",
       "      <th>1</th>\n",
       "      <td>0.01</td>\n",
       "      <td>2</td>\n",
       "      <td>0.235339</td>\n",
       "      <td>0.234731</td>\n",
       "    </tr>\n",
       "    <tr>\n",
       "      <th>2</th>\n",
       "      <td>0.01</td>\n",
       "      <td>3</td>\n",
       "      <td>0.235339</td>\n",
       "      <td>0.234731</td>\n",
       "    </tr>\n",
       "    <tr>\n",
       "      <th>3</th>\n",
       "      <td>0.01</td>\n",
       "      <td>4</td>\n",
       "      <td>0.235339</td>\n",
       "      <td>0.234731</td>\n",
       "    </tr>\n",
       "    <tr>\n",
       "      <th>4</th>\n",
       "      <td>0.01</td>\n",
       "      <td>5</td>\n",
       "      <td>0.235339</td>\n",
       "      <td>0.234731</td>\n",
       "    </tr>\n",
       "    <tr>\n",
       "      <th>5</th>\n",
       "      <td>0.01</td>\n",
       "      <td>6</td>\n",
       "      <td>0.235339</td>\n",
       "      <td>0.234731</td>\n",
       "    </tr>\n",
       "    <tr>\n",
       "      <th>6</th>\n",
       "      <td>0.01</td>\n",
       "      <td>7</td>\n",
       "      <td>0.235339</td>\n",
       "      <td>0.234731</td>\n",
       "    </tr>\n",
       "    <tr>\n",
       "      <th>7</th>\n",
       "      <td>0.01</td>\n",
       "      <td>8</td>\n",
       "      <td>0.235339</td>\n",
       "      <td>0.234731</td>\n",
       "    </tr>\n",
       "    <tr>\n",
       "      <th>8</th>\n",
       "      <td>0.01</td>\n",
       "      <td>9</td>\n",
       "      <td>0.235339</td>\n",
       "      <td>0.234731</td>\n",
       "    </tr>\n",
       "    <tr>\n",
       "      <th>9</th>\n",
       "      <td>0.05</td>\n",
       "      <td>1</td>\n",
       "      <td>0.019960</td>\n",
       "      <td>0.015680</td>\n",
       "    </tr>\n",
       "    <tr>\n",
       "      <th>10</th>\n",
       "      <td>0.05</td>\n",
       "      <td>2</td>\n",
       "      <td>0.020185</td>\n",
       "      <td>0.015690</td>\n",
       "    </tr>\n",
       "    <tr>\n",
       "      <th>11</th>\n",
       "      <td>0.05</td>\n",
       "      <td>3</td>\n",
       "      <td>0.019963</td>\n",
       "      <td>0.015466</td>\n",
       "    </tr>\n",
       "    <tr>\n",
       "      <th>12</th>\n",
       "      <td>0.05</td>\n",
       "      <td>4</td>\n",
       "      <td>0.019971</td>\n",
       "      <td>0.015302</td>\n",
       "    </tr>\n",
       "    <tr>\n",
       "      <th>13</th>\n",
       "      <td>0.05</td>\n",
       "      <td>5</td>\n",
       "      <td>0.019991</td>\n",
       "      <td>0.015490</td>\n",
       "    </tr>\n",
       "    <tr>\n",
       "      <th>14</th>\n",
       "      <td>0.05</td>\n",
       "      <td>6</td>\n",
       "      <td>0.020051</td>\n",
       "      <td>0.015548</td>\n",
       "    </tr>\n",
       "    <tr>\n",
       "      <th>15</th>\n",
       "      <td>0.05</td>\n",
       "      <td>7</td>\n",
       "      <td>0.020041</td>\n",
       "      <td>0.015442</td>\n",
       "    </tr>\n",
       "    <tr>\n",
       "      <th>16</th>\n",
       "      <td>0.05</td>\n",
       "      <td>8</td>\n",
       "      <td>0.020040</td>\n",
       "      <td>0.015574</td>\n",
       "    </tr>\n",
       "    <tr>\n",
       "      <th>17</th>\n",
       "      <td>0.05</td>\n",
       "      <td>9</td>\n",
       "      <td>0.019882</td>\n",
       "      <td>0.015291</td>\n",
       "    </tr>\n",
       "    <tr>\n",
       "      <th>18</th>\n",
       "      <td>0.10</td>\n",
       "      <td>1</td>\n",
       "      <td>0.017017</td>\n",
       "      <td>0.012364</td>\n",
       "    </tr>\n",
       "    <tr>\n",
       "      <th>19</th>\n",
       "      <td>0.10</td>\n",
       "      <td>2</td>\n",
       "      <td>0.017569</td>\n",
       "      <td>0.012400</td>\n",
       "    </tr>\n",
       "    <tr>\n",
       "      <th>20</th>\n",
       "      <td>0.10</td>\n",
       "      <td>3</td>\n",
       "      <td>0.017522</td>\n",
       "      <td>0.012591</td>\n",
       "    </tr>\n",
       "    <tr>\n",
       "      <th>21</th>\n",
       "      <td>0.10</td>\n",
       "      <td>4</td>\n",
       "      <td>0.017487</td>\n",
       "      <td>0.012645</td>\n",
       "    </tr>\n",
       "    <tr>\n",
       "      <th>22</th>\n",
       "      <td>0.10</td>\n",
       "      <td>5</td>\n",
       "      <td>0.017418</td>\n",
       "      <td>0.012407</td>\n",
       "    </tr>\n",
       "    <tr>\n",
       "      <th>23</th>\n",
       "      <td>0.10</td>\n",
       "      <td>6</td>\n",
       "      <td>0.017787</td>\n",
       "      <td>0.012527</td>\n",
       "    </tr>\n",
       "    <tr>\n",
       "      <th>24</th>\n",
       "      <td>0.10</td>\n",
       "      <td>7</td>\n",
       "      <td>0.017349</td>\n",
       "      <td>0.012104</td>\n",
       "    </tr>\n",
       "    <tr>\n",
       "      <th>25</th>\n",
       "      <td>0.10</td>\n",
       "      <td>8</td>\n",
       "      <td>0.017390</td>\n",
       "      <td>0.012489</td>\n",
       "    </tr>\n",
       "    <tr>\n",
       "      <th>26</th>\n",
       "      <td>0.10</td>\n",
       "      <td>9</td>\n",
       "      <td>0.017543</td>\n",
       "      <td>0.012595</td>\n",
       "    </tr>\n",
       "    <tr>\n",
       "      <th>27</th>\n",
       "      <td>0.20</td>\n",
       "      <td>1</td>\n",
       "      <td>0.017910</td>\n",
       "      <td>0.013044</td>\n",
       "    </tr>\n",
       "    <tr>\n",
       "      <th>28</th>\n",
       "      <td>0.20</td>\n",
       "      <td>2</td>\n",
       "      <td>0.018245</td>\n",
       "      <td>0.013033</td>\n",
       "    </tr>\n",
       "    <tr>\n",
       "      <th>29</th>\n",
       "      <td>0.20</td>\n",
       "      <td>3</td>\n",
       "      <td>0.018305</td>\n",
       "      <td>0.013395</td>\n",
       "    </tr>\n",
       "    <tr>\n",
       "      <th>30</th>\n",
       "      <td>0.20</td>\n",
       "      <td>4</td>\n",
       "      <td>0.018348</td>\n",
       "      <td>0.013393</td>\n",
       "    </tr>\n",
       "    <tr>\n",
       "      <th>31</th>\n",
       "      <td>0.20</td>\n",
       "      <td>5</td>\n",
       "      <td>0.017758</td>\n",
       "      <td>0.012773</td>\n",
       "    </tr>\n",
       "    <tr>\n",
       "      <th>32</th>\n",
       "      <td>0.20</td>\n",
       "      <td>6</td>\n",
       "      <td>0.018334</td>\n",
       "      <td>0.013161</td>\n",
       "    </tr>\n",
       "    <tr>\n",
       "      <th>33</th>\n",
       "      <td>0.20</td>\n",
       "      <td>7</td>\n",
       "      <td>0.018341</td>\n",
       "      <td>0.013089</td>\n",
       "    </tr>\n",
       "    <tr>\n",
       "      <th>34</th>\n",
       "      <td>0.20</td>\n",
       "      <td>8</td>\n",
       "      <td>0.018048</td>\n",
       "      <td>0.013167</td>\n",
       "    </tr>\n",
       "    <tr>\n",
       "      <th>35</th>\n",
       "      <td>0.20</td>\n",
       "      <td>9</td>\n",
       "      <td>0.018112</td>\n",
       "      <td>0.012813</td>\n",
       "    </tr>\n",
       "    <tr>\n",
       "      <th>36</th>\n",
       "      <td>0.30</td>\n",
       "      <td>1</td>\n",
       "      <td>0.017808</td>\n",
       "      <td>0.012701</td>\n",
       "    </tr>\n",
       "    <tr>\n",
       "      <th>37</th>\n",
       "      <td>0.30</td>\n",
       "      <td>2</td>\n",
       "      <td>0.018794</td>\n",
       "      <td>0.013160</td>\n",
       "    </tr>\n",
       "    <tr>\n",
       "      <th>38</th>\n",
       "      <td>0.30</td>\n",
       "      <td>3</td>\n",
       "      <td>0.018201</td>\n",
       "      <td>0.012577</td>\n",
       "    </tr>\n",
       "    <tr>\n",
       "      <th>39</th>\n",
       "      <td>0.30</td>\n",
       "      <td>4</td>\n",
       "      <td>0.019304</td>\n",
       "      <td>0.013854</td>\n",
       "    </tr>\n",
       "    <tr>\n",
       "      <th>40</th>\n",
       "      <td>0.30</td>\n",
       "      <td>5</td>\n",
       "      <td>0.018568</td>\n",
       "      <td>0.013394</td>\n",
       "    </tr>\n",
       "    <tr>\n",
       "      <th>41</th>\n",
       "      <td>0.30</td>\n",
       "      <td>6</td>\n",
       "      <td>0.018622</td>\n",
       "      <td>0.013952</td>\n",
       "    </tr>\n",
       "    <tr>\n",
       "      <th>42</th>\n",
       "      <td>0.30</td>\n",
       "      <td>7</td>\n",
       "      <td>0.018255</td>\n",
       "      <td>0.012858</td>\n",
       "    </tr>\n",
       "    <tr>\n",
       "      <th>43</th>\n",
       "      <td>0.30</td>\n",
       "      <td>8</td>\n",
       "      <td>0.017957</td>\n",
       "      <td>0.013055</td>\n",
       "    </tr>\n",
       "    <tr>\n",
       "      <th>44</th>\n",
       "      <td>0.30</td>\n",
       "      <td>9</td>\n",
       "      <td>0.018829</td>\n",
       "      <td>0.013436</td>\n",
       "    </tr>\n",
       "  </tbody>\n",
       "</table>\n",
       "</div>"
      ],
      "text/plain": [
       "    learning_rate  min_child_weight      rmse       mae\n",
       "0            0.01                 1  0.235339  0.234731\n",
       "1            0.01                 2  0.235339  0.234731\n",
       "2            0.01                 3  0.235339  0.234731\n",
       "3            0.01                 4  0.235339  0.234731\n",
       "4            0.01                 5  0.235339  0.234731\n",
       "5            0.01                 6  0.235339  0.234731\n",
       "6            0.01                 7  0.235339  0.234731\n",
       "7            0.01                 8  0.235339  0.234731\n",
       "8            0.01                 9  0.235339  0.234731\n",
       "9            0.05                 1  0.019960  0.015680\n",
       "10           0.05                 2  0.020185  0.015690\n",
       "11           0.05                 3  0.019963  0.015466\n",
       "12           0.05                 4  0.019971  0.015302\n",
       "13           0.05                 5  0.019991  0.015490\n",
       "14           0.05                 6  0.020051  0.015548\n",
       "15           0.05                 7  0.020041  0.015442\n",
       "16           0.05                 8  0.020040  0.015574\n",
       "17           0.05                 9  0.019882  0.015291\n",
       "18           0.10                 1  0.017017  0.012364\n",
       "19           0.10                 2  0.017569  0.012400\n",
       "20           0.10                 3  0.017522  0.012591\n",
       "21           0.10                 4  0.017487  0.012645\n",
       "22           0.10                 5  0.017418  0.012407\n",
       "23           0.10                 6  0.017787  0.012527\n",
       "24           0.10                 7  0.017349  0.012104\n",
       "25           0.10                 8  0.017390  0.012489\n",
       "26           0.10                 9  0.017543  0.012595\n",
       "27           0.20                 1  0.017910  0.013044\n",
       "28           0.20                 2  0.018245  0.013033\n",
       "29           0.20                 3  0.018305  0.013395\n",
       "30           0.20                 4  0.018348  0.013393\n",
       "31           0.20                 5  0.017758  0.012773\n",
       "32           0.20                 6  0.018334  0.013161\n",
       "33           0.20                 7  0.018341  0.013089\n",
       "34           0.20                 8  0.018048  0.013167\n",
       "35           0.20                 9  0.018112  0.012813\n",
       "36           0.30                 1  0.017808  0.012701\n",
       "37           0.30                 2  0.018794  0.013160\n",
       "38           0.30                 3  0.018201  0.012577\n",
       "39           0.30                 4  0.019304  0.013854\n",
       "40           0.30                 5  0.018568  0.013394\n",
       "41           0.30                 6  0.018622  0.013952\n",
       "42           0.30                 7  0.018255  0.012858\n",
       "43           0.30                 8  0.017957  0.013055\n",
       "44           0.30                 9  0.018829  0.013436"
      ]
     },
     "execution_count": 60,
     "metadata": {},
     "output_type": "execute_result"
    }
   ],
   "source": [
    "param_label = 'learning_rate'\n",
    "param_list = [ 0.01, 0.05, 0.1, 0.2, 0.3]\n",
    "\n",
    "param2_label = 'min_child_weight'\n",
    "param2_list = range(1, 10, 1)\n",
    "\n",
    "error_rate = defaultdict(list)\n",
    "\n",
    "tic = time.time()\n",
    "for param in tqdm_notebook(param_list):\n",
    "    for param2 in param2_list:\n",
    "        rmse_mean, mae_mean,m = xgb_model_train_val(X_train, y_train, X_val, y_val,                                                        \n",
    "                                                              n_estimators=n_estimators_opt,\n",
    "                                                              max_depth=max_depth_opt,\n",
    "                                                              learning_rate=param,\n",
    "                                                              min_child_weight=param2)\n",
    "    \n",
    "        # Collect results\n",
    "        error_rate[param_label].append(param)\n",
    "        error_rate[param2_label].append(param2)\n",
    "        error_rate['rmse'].append(rmse_mean)\n",
    "        error_rate['mae'].append(mae_mean)\n",
    "    \n",
    "error_rate = pd.DataFrame(error_rate)\n",
    "toc = time.time()\n",
    "print(\"Minutes taken = {0:.2f}\".format((toc-tic)/60.0))\n",
    "\n",
    "error_rate   "
   ]
  },
  {
   "cell_type": "code",
   "execution_count": 61,
   "id": "a71d4a47",
   "metadata": {},
   "outputs": [
    {
     "data": {
      "text/plain": [
       "<matplotlib.legend.Legend at 0x13f447e6670>"
      ]
     },
     "execution_count": 61,
     "metadata": {},
     "output_type": "execute_result"
    },
    {
     "data": {
      "image/png": "[encoded data removed]",
      "text/plain": [
       "<Figure size 720x576 with 1 Axes>"
      ]
     },
     "metadata": {
      "needs_background": "light"
     },
     "output_type": "display_data"
    }
   ],
   "source": [
    "# Plot performance versus params\n",
    "rcParams['figure.figsize'] = 10, 8 # width 10, height 8\n",
    "temp = error_rate[error_rate[param2_label]==param2_list[0]]\n",
    "ax = temp.plot(x=param_label, y='rmse', style='bs-', grid=True)\n",
    "legend_list = [param2_label + '_' + str(param2_list[0])]\n",
    "\n",
    "color_list = ['r', 'g', 'k', 'y', 'm', 'c', '0.75']\n",
    "for i in range(1,len(param2_list)):\n",
    "    temp = error_rate[error_rate[param2_label]==param2_list[i]]\n",
    "    ax = temp.plot(x=param_label, y='rmse', color=color_list[i%len(color_list)], marker='s', grid=True, ax=ax)\n",
    "    legend_list.append(param2_label + '_' + str(param2_list[i]))\n",
    "\n",
    "ax.set_xlabel(param_label)\n",
    "ax.set_ylabel(\"RMSE\")\n",
    "# ax.set_ylim([0, 4])\n",
    "matplotlib.rcParams.update({'font.size': 14})\n",
    "plt.legend(legend_list, loc='center left', bbox_to_anchor=(1.0, 0.5)) # positions legend outside figure"
   ]
  },
  {
   "cell_type": "code",
   "execution_count": 62,
   "id": "e67c63c0",
   "metadata": {},
   "outputs": [
    {
     "name": "stdout",
     "output_type": "stream",
     "text": [
      "min RMSE = 0.017\n",
      "optimum params = \n"
     ]
    },
    {
     "data": {
      "text/plain": [
       "(0.1, 1)"
      ]
     },
     "execution_count": 62,
     "metadata": {},
     "output_type": "execute_result"
    }
   ],
   "source": [
    "# Get optimum value for param and param2, using RMSE\n",
    "temp = error_rate[error_rate['rmse'] == error_rate['rmse'].min()]\n",
    "learning_rate_opt = temp['learning_rate'].values[0]\n",
    "min_child_weight_opt = temp['min_child_weight'].values[0]\n",
    "print(\"min RMSE = %0.3f\" % error_rate['rmse'].min())\n",
    "print(\"optimum params = \")\n",
    "learning_rate_opt, min_child_weight_opt"
   ]
  },
  {
   "cell_type": "markdown",
   "id": "01bb267a",
   "metadata": {},
   "source": [
    "#### Tuning subsample(default=1) and gamma(default=0)"
   ]
  },
  {
   "cell_type": "code",
   "execution_count": 63,
   "id": "f4631ccd",
   "metadata": {
    "scrolled": true
   },
   "outputs": [
    {
     "name": "stderr",
     "output_type": "stream",
     "text": [
      "<ipython-input-63-d9f5d0e5dbc7>:10: TqdmDeprecationWarning: This function will be removed in tqdm==5.0.0\n",
      "Please use `tqdm.notebook.tqdm` instead of `tqdm.tqdm_notebook`\n",
      "  for param in tqdm_notebook(param_list):\n"
     ]
    },
    {
     "data": {
      "application/vnd.jupyter.widget-view+json": {
       "model_id": "99bf892ebfed4f24aa0a45fe8bc960bf",
       "version_major": 2,
       "version_minor": 0
      },
      "text/plain": [
       "  0%|          | 0/10 [00:00<?, ?it/s]"
      ]
     },
     "metadata": {},
     "output_type": "display_data"
    },
    {
     "name": "stdout",
     "output_type": "stream",
     "text": [
      "Minutes taken = 1.07\n"
     ]
    },
    {
     "data": {
      "text/html": [
       "<div>\n",
       "<style scoped>\n",
       "    .dataframe tbody tr th:only-of-type {\n",
       "        vertical-align: middle;\n",
       "    }\n",
       "\n",
       "    .dataframe tbody tr th {\n",
       "        vertical-align: top;\n",
       "    }\n",
       "\n",
       "    .dataframe thead th {\n",
       "        text-align: right;\n",
       "    }\n",
       "</style>\n",
       "<table border=\"1\" class=\"dataframe\">\n",
       "  <thead>\n",
       "    <tr style=\"text-align: right;\">\n",
       "      <th></th>\n",
       "      <th>subsample</th>\n",
       "      <th>gamma</th>\n",
       "      <th>rmse</th>\n",
       "      <th>mae</th>\n",
       "    </tr>\n",
       "  </thead>\n",
       "  <tbody>\n",
       "    <tr>\n",
       "      <th>0</th>\n",
       "      <td>0.1</td>\n",
       "      <td>0.0</td>\n",
       "      <td>0.019206</td>\n",
       "      <td>0.013830</td>\n",
       "    </tr>\n",
       "    <tr>\n",
       "      <th>1</th>\n",
       "      <td>0.1</td>\n",
       "      <td>0.1</td>\n",
       "      <td>0.016928</td>\n",
       "      <td>0.011603</td>\n",
       "    </tr>\n",
       "    <tr>\n",
       "      <th>2</th>\n",
       "      <td>0.1</td>\n",
       "      <td>0.2</td>\n",
       "      <td>0.016928</td>\n",
       "      <td>0.011603</td>\n",
       "    </tr>\n",
       "    <tr>\n",
       "      <th>3</th>\n",
       "      <td>0.1</td>\n",
       "      <td>0.3</td>\n",
       "      <td>0.016928</td>\n",
       "      <td>0.011603</td>\n",
       "    </tr>\n",
       "    <tr>\n",
       "      <th>4</th>\n",
       "      <td>0.1</td>\n",
       "      <td>0.4</td>\n",
       "      <td>0.016928</td>\n",
       "      <td>0.011603</td>\n",
       "    </tr>\n",
       "    <tr>\n",
       "      <th>...</th>\n",
       "      <td>...</td>\n",
       "      <td>...</td>\n",
       "      <td>...</td>\n",
       "      <td>...</td>\n",
       "    </tr>\n",
       "    <tr>\n",
       "      <th>105</th>\n",
       "      <td>1.0</td>\n",
       "      <td>0.6</td>\n",
       "      <td>0.016916</td>\n",
       "      <td>0.011585</td>\n",
       "    </tr>\n",
       "    <tr>\n",
       "      <th>106</th>\n",
       "      <td>1.0</td>\n",
       "      <td>0.7</td>\n",
       "      <td>0.016916</td>\n",
       "      <td>0.011585</td>\n",
       "    </tr>\n",
       "    <tr>\n",
       "      <th>107</th>\n",
       "      <td>1.0</td>\n",
       "      <td>0.8</td>\n",
       "      <td>0.016916</td>\n",
       "      <td>0.011585</td>\n",
       "    </tr>\n",
       "    <tr>\n",
       "      <th>108</th>\n",
       "      <td>1.0</td>\n",
       "      <td>0.9</td>\n",
       "      <td>0.016916</td>\n",
       "      <td>0.011585</td>\n",
       "    </tr>\n",
       "    <tr>\n",
       "      <th>109</th>\n",
       "      <td>1.0</td>\n",
       "      <td>1.0</td>\n",
       "      <td>0.016916</td>\n",
       "      <td>0.011585</td>\n",
       "    </tr>\n",
       "  </tbody>\n",
       "</table>\n",
       "<p>110 rows × 4 columns</p>\n",
       "</div>"
      ],
      "text/plain": [
       "     subsample  gamma      rmse       mae\n",
       "0          0.1    0.0  0.019206  0.013830\n",
       "1          0.1    0.1  0.016928  0.011603\n",
       "2          0.1    0.2  0.016928  0.011603\n",
       "3          0.1    0.3  0.016928  0.011603\n",
       "4          0.1    0.4  0.016928  0.011603\n",
       "..         ...    ...       ...       ...\n",
       "105        1.0    0.6  0.016916  0.011585\n",
       "106        1.0    0.7  0.016916  0.011585\n",
       "107        1.0    0.8  0.016916  0.011585\n",
       "108        1.0    0.9  0.016916  0.011585\n",
       "109        1.0    1.0  0.016916  0.011585\n",
       "\n",
       "[110 rows x 4 columns]"
      ]
     },
     "execution_count": 63,
     "metadata": {},
     "output_type": "execute_result"
    }
   ],
   "source": [
    "param_label = 'subsample'\n",
    "param_list = [0.1, 0.2, 0.3, 0.4, 0.5, 0.6, 0.7, 0.8, 0.9, 1]\n",
    "\n",
    "param2_label = 'gamma'\n",
    "param2_list = [0, 0.1, 0.2, 0.3, 0.4, 0.5, 0.6, 0.7, 0.8, 0.9, 1]\n",
    "\n",
    "error_rate = defaultdict(list)\n",
    "\n",
    "tic = time.time()\n",
    "for param in tqdm_notebook(param_list):\n",
    "    for param2 in param2_list:\n",
    "        rmse_mean,  mae_mean,m = xgb_model_train_val(X_train, y_train, X_val, y_val,                                                        \n",
    "                                                              n_estimators=n_estimators_opt,\n",
    "                                                              max_depth=max_depth_opt,\n",
    "                                                              learning_rate=learning_rate_opt,\n",
    "                                                              min_child_weight=min_child_weight_opt,\n",
    "                                                              subsample=param,\n",
    "                                                              gamma=param2)\n",
    "\n",
    "        # Collect results\n",
    "        error_rate[param_label].append(param)\n",
    "        error_rate[param2_label].append(param2)\n",
    "        error_rate['rmse'].append(rmse_mean)\n",
    "        error_rate['mae'].append(mae_mean)\n",
    "    \n",
    "error_rate = pd.DataFrame(error_rate)\n",
    "toc = time.time()\n",
    "print(\"Minutes taken = {0:.2f}\".format((toc-tic)/60.0))\n",
    "\n",
    "error_rate   "
   ]
  },
  {
   "cell_type": "code",
   "execution_count": 64,
   "id": "4455c693",
   "metadata": {},
   "outputs": [
    {
     "data": {
      "text/plain": [
       "<matplotlib.legend.Legend at 0x13f4409e2e0>"
      ]
     },
     "execution_count": 64,
     "metadata": {},
     "output_type": "execute_result"
    },
    {
     "data": {
      "image/png": "[encoded data removed]",
      "text/plain": [
       "<Figure size 720x576 with 1 Axes>"
      ]
     },
     "metadata": {
      "needs_background": "light"
     },
     "output_type": "display_data"
    }
   ],
   "source": [
    "# Plot performance versus params\n",
    "rcParams['figure.figsize'] = 10, 8 # width 10, height 8\n",
    "temp = error_rate[error_rate[param2_label]==param2_list[0]]\n",
    "ax = temp.plot(x=param_label, y='rmse', style='bs-', grid=True)\n",
    "legend_list = [param2_label + '_' + str(param2_list[0])]\n",
    "\n",
    "color_list = ['r', 'g', 'k', 'y', 'm', 'c', '0.75']\n",
    "for i in range(1,len(param2_list)):\n",
    "    temp = error_rate[error_rate[param2_label]==param2_list[i]]\n",
    "    ax = temp.plot(x=param_label, y='rmse', color=color_list[i%len(color_list)], marker='s', grid=True, ax=ax)\n",
    "    legend_list.append(param2_label + '_' + str(param2_list[i]))\n",
    "\n",
    "ax.set_xlabel(param_label)\n",
    "ax.set_ylabel(\"RMSE\")\n",
    "matplotlib.rcParams.update({'font.size': 14})\n",
    "plt.legend(legend_list, loc='center left', bbox_to_anchor=(1.0, 0.5)) # positions legend outside figure"
   ]
  },
  {
   "cell_type": "code",
   "execution_count": 65,
   "id": "1faa8dcb",
   "metadata": {},
   "outputs": [
    {
     "name": "stdout",
     "output_type": "stream",
     "text": [
      "min RMSE = 0.017\n",
      "optimum params = \n"
     ]
    },
    {
     "data": {
      "text/plain": [
       "(0.5, 0.1)"
      ]
     },
     "execution_count": 65,
     "metadata": {},
     "output_type": "execute_result"
    }
   ],
   "source": [
    "# Get optimum value for param and param2, using RMSE\n",
    "temp = error_rate[error_rate['rmse'] == error_rate['rmse'].min()]\n",
    "subsample_opt = temp['subsample'].values[0]\n",
    "gamma_opt = temp['gamma'].values[0]\n",
    "print(\"min RMSE = %0.3f\" % error_rate['rmse'].min())\n",
    "print(\"optimum params = \")\n",
    "subsample_opt, gamma_opt"
   ]
  },
  {
   "cell_type": "markdown",
   "id": "98a9297f",
   "metadata": {},
   "source": [
    "#### Tuning colsample_bytree(default=1) and colsample_bylevel(default=1)"
   ]
  },
  {
   "cell_type": "code",
   "execution_count": 66,
   "id": "568973f5",
   "metadata": {
    "scrolled": true
   },
   "outputs": [
    {
     "name": "stderr",
     "output_type": "stream",
     "text": [
      "<ipython-input-66-4e70ea290268>:10: TqdmDeprecationWarning: This function will be removed in tqdm==5.0.0\n",
      "Please use `tqdm.notebook.tqdm` instead of `tqdm.tqdm_notebook`\n",
      "  for param in tqdm_notebook(param_list):\n"
     ]
    },
    {
     "data": {
      "application/vnd.jupyter.widget-view+json": {
       "model_id": "263f9f5da9f948148857767db745551c",
       "version_major": 2,
       "version_minor": 0
      },
      "text/plain": [
       "  0%|          | 0/10 [00:00<?, ?it/s]"
      ]
     },
     "metadata": {},
     "output_type": "display_data"
    },
    {
     "name": "stdout",
     "output_type": "stream",
     "text": [
      "Minutes taken = 0.75\n"
     ]
    },
    {
     "data": {
      "text/html": [
       "<div>\n",
       "<style scoped>\n",
       "    .dataframe tbody tr th:only-of-type {\n",
       "        vertical-align: middle;\n",
       "    }\n",
       "\n",
       "    .dataframe tbody tr th {\n",
       "        vertical-align: top;\n",
       "    }\n",
       "\n",
       "    .dataframe thead th {\n",
       "        text-align: right;\n",
       "    }\n",
       "</style>\n",
       "<table border=\"1\" class=\"dataframe\">\n",
       "  <thead>\n",
       "    <tr style=\"text-align: right;\">\n",
       "      <th></th>\n",
       "      <th>colsample_bytree</th>\n",
       "      <th>colsample_bylevel</th>\n",
       "      <th>rmse</th>\n",
       "      <th>mae</th>\n",
       "    </tr>\n",
       "  </thead>\n",
       "  <tbody>\n",
       "    <tr>\n",
       "      <th>0</th>\n",
       "      <td>0.1</td>\n",
       "      <td>0.1</td>\n",
       "      <td>0.016914</td>\n",
       "      <td>0.011581</td>\n",
       "    </tr>\n",
       "    <tr>\n",
       "      <th>1</th>\n",
       "      <td>0.1</td>\n",
       "      <td>0.2</td>\n",
       "      <td>0.016914</td>\n",
       "      <td>0.011581</td>\n",
       "    </tr>\n",
       "    <tr>\n",
       "      <th>2</th>\n",
       "      <td>0.1</td>\n",
       "      <td>0.3</td>\n",
       "      <td>0.016914</td>\n",
       "      <td>0.011581</td>\n",
       "    </tr>\n",
       "    <tr>\n",
       "      <th>3</th>\n",
       "      <td>0.1</td>\n",
       "      <td>0.4</td>\n",
       "      <td>0.016914</td>\n",
       "      <td>0.011581</td>\n",
       "    </tr>\n",
       "    <tr>\n",
       "      <th>4</th>\n",
       "      <td>0.1</td>\n",
       "      <td>0.5</td>\n",
       "      <td>0.016914</td>\n",
       "      <td>0.011581</td>\n",
       "    </tr>\n",
       "    <tr>\n",
       "      <th>...</th>\n",
       "      <td>...</td>\n",
       "      <td>...</td>\n",
       "      <td>...</td>\n",
       "      <td>...</td>\n",
       "    </tr>\n",
       "    <tr>\n",
       "      <th>95</th>\n",
       "      <td>1.0</td>\n",
       "      <td>0.6</td>\n",
       "      <td>0.016914</td>\n",
       "      <td>0.011581</td>\n",
       "    </tr>\n",
       "    <tr>\n",
       "      <th>96</th>\n",
       "      <td>1.0</td>\n",
       "      <td>0.7</td>\n",
       "      <td>0.016914</td>\n",
       "      <td>0.011581</td>\n",
       "    </tr>\n",
       "    <tr>\n",
       "      <th>97</th>\n",
       "      <td>1.0</td>\n",
       "      <td>0.8</td>\n",
       "      <td>0.016914</td>\n",
       "      <td>0.011581</td>\n",
       "    </tr>\n",
       "    <tr>\n",
       "      <th>98</th>\n",
       "      <td>1.0</td>\n",
       "      <td>0.9</td>\n",
       "      <td>0.016914</td>\n",
       "      <td>0.011581</td>\n",
       "    </tr>\n",
       "    <tr>\n",
       "      <th>99</th>\n",
       "      <td>1.0</td>\n",
       "      <td>1.0</td>\n",
       "      <td>0.016914</td>\n",
       "      <td>0.011581</td>\n",
       "    </tr>\n",
       "  </tbody>\n",
       "</table>\n",
       "<p>100 rows × 4 columns</p>\n",
       "</div>"
      ],
      "text/plain": [
       "    colsample_bytree  colsample_bylevel      rmse       mae\n",
       "0                0.1                0.1  0.016914  0.011581\n",
       "1                0.1                0.2  0.016914  0.011581\n",
       "2                0.1                0.3  0.016914  0.011581\n",
       "3                0.1                0.4  0.016914  0.011581\n",
       "4                0.1                0.5  0.016914  0.011581\n",
       "..               ...                ...       ...       ...\n",
       "95               1.0                0.6  0.016914  0.011581\n",
       "96               1.0                0.7  0.016914  0.011581\n",
       "97               1.0                0.8  0.016914  0.011581\n",
       "98               1.0                0.9  0.016914  0.011581\n",
       "99               1.0                1.0  0.016914  0.011581\n",
       "\n",
       "[100 rows x 4 columns]"
      ]
     },
     "execution_count": 66,
     "metadata": {},
     "output_type": "execute_result"
    }
   ],
   "source": [
    "param_label = 'colsample_bytree'\n",
    "param_list = [0.1, 0.2, 0.3, 0.4, 0.5, 0.6, 0.7, 0.8, 0.9, 1]\n",
    "\n",
    "param2_label = 'colsample_bylevel'\n",
    "param2_list = [0.1, 0.2, 0.3, 0.4, 0.5, 0.6, 0.7, 0.8, 0.9, 1]\n",
    "\n",
    "error_rate = defaultdict(list)\n",
    "\n",
    "tic = time.time()\n",
    "for param in tqdm_notebook(param_list):    \n",
    "    for param2 in param2_list:\n",
    "        rmse_mean, mae_mean,m = xgb_model_train_val(X_train, y_train, X_val, y_val,                                                        \n",
    "                                                              n_estimators=n_estimators_opt,\n",
    "                                                              max_depth=max_depth_opt,\n",
    "                                                              learning_rate=learning_rate_opt,\n",
    "                                                              min_child_weight=min_child_weight_opt,\n",
    "                                                              subsample=subsample_opt,\n",
    "                                                              colsample_bytree=param,\n",
    "                                                              colsample_bylevel=param2,\n",
    "                                                              gamma=gamma_opt)\n",
    "    \n",
    "        # Collect results\n",
    "        error_rate[param_label].append(param)\n",
    "        error_rate[param2_label].append(param2)\n",
    "        error_rate['rmse'].append(rmse_mean)\n",
    "        error_rate['mae'].append(mae_mean)\n",
    "    \n",
    "error_rate = pd.DataFrame(error_rate)\n",
    "toc = time.time()\n",
    "print(\"Minutes taken = {0:.2f}\".format((toc-tic)/60.0))\n",
    "\n",
    "error_rate   "
   ]
  },
  {
   "cell_type": "code",
   "execution_count": 67,
   "id": "eea1f510",
   "metadata": {},
   "outputs": [
    {
     "data": {
      "text/plain": [
       "<matplotlib.legend.Legend at 0x13f446e5ac0>"
      ]
     },
     "execution_count": 67,
     "metadata": {},
     "output_type": "execute_result"
    },
    {
     "data": {
      "image/png": "[encoded data removed]",
      "text/plain": [
       "<Figure size 720x576 with 1 Axes>"
      ]
     },
     "metadata": {
      "needs_background": "light"
     },
     "output_type": "display_data"
    }
   ],
   "source": [
    "# Plot performance versus params\n",
    "rcParams['figure.figsize'] = 10, 8 # width 10, height 8\n",
    "temp = error_rate[error_rate[param2_label]==param2_list[0]]\n",
    "ax = temp.plot(x=param_label, y='rmse', style='bs-', grid=True)\n",
    "legend_list = [param2_label + '_' + str(param2_list[0])]\n",
    "\n",
    "color_list = ['r', 'g', 'k', 'y', 'm', 'c', '0.75']\n",
    "for i in range(1,len(param2_list)):\n",
    "    temp = error_rate[error_rate[param2_label]==param2_list[i]]\n",
    "    ax = temp.plot(x=param_label, y='rmse', color=color_list[i%len(color_list)], marker='s', grid=True, ax=ax)\n",
    "    legend_list.append(param2_label + '_' + str(param2_list[i]))\n",
    "\n",
    "ax.set_xlabel(param_label)\n",
    "ax.set_ylabel(\"RMSE\")\n",
    "matplotlib.rcParams.update({'font.size': 14})\n",
    "plt.legend(legend_list, loc='center left', bbox_to_anchor=(1.0, 0.5)) # positions legend outside figure"
   ]
  },
  {
   "cell_type": "code",
   "execution_count": 68,
   "id": "619306eb",
   "metadata": {},
   "outputs": [
    {
     "name": "stdout",
     "output_type": "stream",
     "text": [
      "min RMSE = 0.017\n",
      "optimum params = \n"
     ]
    },
    {
     "data": {
      "text/plain": [
       "(0.1, 0.1)"
      ]
     },
     "execution_count": 68,
     "metadata": {},
     "output_type": "execute_result"
    }
   ],
   "source": [
    "# Get optimum value for param and param2, using RMSE\n",
    "temp = error_rate[error_rate['rmse'] == error_rate['rmse'].min()]\n",
    "colsample_bytree_opt = temp['colsample_bytree'].values[0]\n",
    "colsample_bylevel_opt = temp['colsample_bylevel'].values[0]\n",
    "print(\"min RMSE = %0.3f\" % error_rate['rmse'].min())\n",
    "print(\"optimum params = \")\n",
    "colsample_bytree_opt, colsample_bylevel_opt"
   ]
  },
  {
   "cell_type": "markdown",
   "id": "bc0425f9",
   "metadata": {},
   "source": [
    "#### Final model"
   ]
  },
  {
   "cell_type": "code",
   "execution_count": 69,
   "id": "a9abc2b4",
   "metadata": {},
   "outputs": [
    {
     "name": "stdout",
     "output_type": "stream",
     "text": [
      "RMSE = 0.017\n",
      "MAE = 0.012\n"
     ]
    }
   ],
   "source": [
    "# Get error metrics on validation set after hyperparameter tuning\n",
    "xgb_rmse_aft_tuning, xgb_mae_aft_tuning, xgb_model_aft_tuning = \\\n",
    "                                                                        xgb_model_train_val(X_train, y_train, X_val, y_val,                                                        \n",
    "                                                                        n_estimators=n_estimators_opt,\n",
    "                                                                        max_depth=max_depth_opt,\n",
    "                                                                        learning_rate=learning_rate_opt,\n",
    "                                                                        min_child_weight=min_child_weight_opt,\n",
    "                                                                        subsample=subsample_opt,\n",
    "                                                                        colsample_bytree=colsample_bytree_opt,\n",
    "                                                                        colsample_bylevel=colsample_bylevel_opt,\n",
    "                                                                        gamma=gamma_opt)\n",
    "print(\"RMSE = %0.3f\" % xgb_rmse_aft_tuning)\n",
    "print(\"MAE = %0.3f\" % xgb_mae_aft_tuning)"
   ]
  },
  {
   "cell_type": "markdown",
   "id": "49e497b4",
   "metadata": {},
   "source": [
    "#### Tuned params"
   ]
  },
  {
   "cell_type": "code",
   "execution_count": 70,
   "id": "0589497f",
   "metadata": {},
   "outputs": [],
   "source": [
    "n_estimators = 100             # Number of boosted trees to fit. default = 100\n",
    "max_depth = 3                  # Maximum tree depth for base learners. default = 3\n",
    "learning_rate = 0.1            # Boosting learning rate (xgb’s “eta”). default = 0.1\n",
    "min_child_weight = 1           # Minimum sum of instance weight(hessian) needed in a child. default = 1\n",
    "subsample = 1                  # Subsample ratio of the training instance. default = 1\n",
    "colsample_bytree = 1           # Subsample ratio of columns when constructing each tree. default = 1\n",
    "colsample_bylevel = 1          # Subsample ratio of columns for each split, in each level. default = 1\n",
    "gamma = 0 "
   ]
  },
  {
   "cell_type": "code",
   "execution_count": 71,
   "id": "8ecfd67e",
   "metadata": {},
   "outputs": [
    {
     "data": {
      "text/html": [
       "<div>\n",
       "<style scoped>\n",
       "    .dataframe tbody tr th:only-of-type {\n",
       "        vertical-align: middle;\n",
       "    }\n",
       "\n",
       "    .dataframe tbody tr th {\n",
       "        vertical-align: top;\n",
       "    }\n",
       "\n",
       "    .dataframe thead th {\n",
       "        text-align: right;\n",
       "    }\n",
       "</style>\n",
       "<table border=\"1\" class=\"dataframe\">\n",
       "  <thead>\n",
       "    <tr style=\"text-align: right;\">\n",
       "      <th></th>\n",
       "      <th>param</th>\n",
       "      <th>before_tuning</th>\n",
       "      <th>after_tuning</th>\n",
       "    </tr>\n",
       "  </thead>\n",
       "  <tbody>\n",
       "    <tr>\n",
       "      <th>0</th>\n",
       "      <td>n_estimators</td>\n",
       "      <td>100.000</td>\n",
       "      <td>75.000</td>\n",
       "    </tr>\n",
       "    <tr>\n",
       "      <th>1</th>\n",
       "      <td>max_depth</td>\n",
       "      <td>3.000</td>\n",
       "      <td>8.000</td>\n",
       "    </tr>\n",
       "    <tr>\n",
       "      <th>2</th>\n",
       "      <td>learning_rate</td>\n",
       "      <td>0.100</td>\n",
       "      <td>0.100</td>\n",
       "    </tr>\n",
       "    <tr>\n",
       "      <th>3</th>\n",
       "      <td>min_child_weight</td>\n",
       "      <td>1.000</td>\n",
       "      <td>1.000</td>\n",
       "    </tr>\n",
       "    <tr>\n",
       "      <th>4</th>\n",
       "      <td>subsample</td>\n",
       "      <td>1.000</td>\n",
       "      <td>0.500</td>\n",
       "    </tr>\n",
       "    <tr>\n",
       "      <th>5</th>\n",
       "      <td>colsample_bytree</td>\n",
       "      <td>1.000</td>\n",
       "      <td>0.100</td>\n",
       "    </tr>\n",
       "    <tr>\n",
       "      <th>6</th>\n",
       "      <td>colsample_bylevel</td>\n",
       "      <td>1.000</td>\n",
       "      <td>0.100</td>\n",
       "    </tr>\n",
       "    <tr>\n",
       "      <th>7</th>\n",
       "      <td>gamma</td>\n",
       "      <td>0.000</td>\n",
       "      <td>0.100</td>\n",
       "    </tr>\n",
       "    <tr>\n",
       "      <th>8</th>\n",
       "      <td>val_rmse</td>\n",
       "      <td>0.018</td>\n",
       "      <td>0.017</td>\n",
       "    </tr>\n",
       "    <tr>\n",
       "      <th>9</th>\n",
       "      <td>val_mae</td>\n",
       "      <td>0.012</td>\n",
       "      <td>0.012</td>\n",
       "    </tr>\n",
       "  </tbody>\n",
       "</table>\n",
       "</div>"
      ],
      "text/plain": [
       "               param  before_tuning  after_tuning\n",
       "0       n_estimators        100.000        75.000\n",
       "1          max_depth          3.000         8.000\n",
       "2      learning_rate          0.100         0.100\n",
       "3   min_child_weight          1.000         1.000\n",
       "4          subsample          1.000         0.500\n",
       "5   colsample_bytree          1.000         0.100\n",
       "6  colsample_bylevel          1.000         0.100\n",
       "7              gamma          0.000         0.100\n",
       "8           val_rmse          0.018         0.017\n",
       "9            val_mae          0.012         0.012"
      ]
     },
     "execution_count": 71,
     "metadata": {},
     "output_type": "execute_result"
    }
   ],
   "source": [
    "# Tuned params and before and after error metrics\n",
    "d = {'param': ['n_estimators', 'max_depth', 'learning_rate', 'min_child_weight', 'subsample', 'colsample_bytree', 'colsample_bylevel', 'gamma', 'val_rmse', 'val_mae'],\n",
    "     'before_tuning': [n_estimators, max_depth, learning_rate, min_child_weight, subsample, colsample_bytree, colsample_bylevel, gamma, xgb_rmse_bef_tuning, xgb_mae_bef_tuning],\n",
    "     'after_tuning': [n_estimators_opt, max_depth_opt, learning_rate_opt, min_child_weight_opt, subsample_opt, colsample_bytree_opt, colsample_bylevel_opt, gamma_opt, xgb_rmse_aft_tuning, xgb_mae_aft_tuning]}\n",
    "tuned_params = pd.DataFrame(d)\n",
    "tuned_params = tuned_params.round(3)\n",
    "tuned_params"
   ]
  },
  {
   "cell_type": "markdown",
   "id": "c487ea8a",
   "metadata": {},
   "source": [
    "### 3) Prediction after tuning"
   ]
  },
  {
   "cell_type": "code",
   "execution_count": 72,
   "id": "d0268223",
   "metadata": {
    "scrolled": true
   },
   "outputs": [
    {
     "name": "stdout",
     "output_type": "stream",
     "text": [
      "RMSE = 0.021\n",
      "MAE = 0.016\n"
     ]
    }
   ],
   "source": [
    "# Do prediction on test set\n",
    "xgb_test_rmse_aft_tuning, xgb_test_mae_aft_tuning,xgb_pred = model_test_eval(X_test, y_test,xgb_model_aft_tuning)\n",
    "\n",
    "print(\"RMSE = %0.3f\" % xgb_test_rmse_aft_tuning)\n",
    "print(\"MAE = %0.3f\" % xgb_test_mae_aft_tuning)"
   ]
  },
  {
   "cell_type": "code",
   "execution_count": 73,
   "id": "b83cf827",
   "metadata": {},
   "outputs": [],
   "source": [
    "# xgb_pred = pd.DataFrame(xgb_pred,columns = ['601390_xgb'])\n",
    "# xgb_pred.to_excel('D:\\海康威视1.xlsx', index = False)"
   ]
  },
  {
   "cell_type": "markdown",
   "id": "4f9b153d",
   "metadata": {},
   "source": [
    "### 4) Importance Analysis"
   ]
  },
  {
   "cell_type": "code",
   "execution_count": null,
   "id": "c4d97909",
   "metadata": {},
   "outputs": [],
   "source": [
    "a =xgb_model_aft_tuning.feature_importances_\n",
    "a1 = pd.DataFrame(a)\n",
    "a1.columns = ['importance']\n",
    "b = X_train.columns\n",
    "b1 = pd.DataFrame(b)\n",
    "b1.columns = ['features']\n",
    "c = pd.concat([b1,a1],axis = 1)\n",
    "c.sort_values(by= 'importance' , inplace=True, ascending=False) \n",
    "c"
   ]
  },
  {
   "cell_type": "code",
   "execution_count": null,
   "id": "b29638ab",
   "metadata": {},
   "outputs": [],
   "source": [
    "matplotlib.rcParams['font.sans-serif'] = ['SimHei']     # 显示中文\n",
    "# 为了坐标轴负号正常显示。matplotlib默认不支持中文，设置中文字体后，负号会显示异常。需要手动将坐标轴负号设为False才能正常显示负号。\n",
    "matplotlib.rcParams['axes.unicode_minus'] = False\n",
    "\n",
    "hkws_top10 = c.head(10)\n",
    "print(hkws_top10)\n",
    "imp = pd.DataFrame(np.array(hkws_top10['importance']), index=hkws_top10['features'], columns=['importance'])\n",
    "imp.plot(kind='barh', figsize=(12, 8))\n",
    "#hkws_top10.sort_values('importance').plot(kind='barh', figsize=(12, 8))"
   ]
  },
  {
   "cell_type": "markdown",
   "id": "174ce3c3",
   "metadata": {},
   "source": [
    "## 4. Model construction_Random Forest"
   ]
  },
  {
   "cell_type": "code",
   "execution_count": 76,
   "id": "2541695b",
   "metadata": {},
   "outputs": [],
   "source": [
    "def rf_model_train_val(X_train, y_train, X_val, y_val,\n",
    "                          n_estimators=100, \n",
    "                          max_depth=3, \n",
    "                          min_samples_split=2,\n",
    "                          min_samples_leaf=1):\n",
    "\n",
    "    model = RandomForestRegressor(n_estimators=n_estimators,\n",
    "                         max_depth=max_depth,\n",
    "                          min_samples_split=min_samples_split,\n",
    "                          min_samples_leaf=min_samples_leaf)\n",
    "        \n",
    "    # Train the model\n",
    "    model.fit(X_train, y_train)\n",
    "    \n",
    "    # Get predicted labels\n",
    "    est = model.predict(X_val)\n",
    "\n",
    "    # Calculate RMSE,MAE\n",
    "    rmse = get_rmse(y_val, est)\n",
    "    mae = get_mae(y_val, est)\n",
    "    \n",
    "    return rmse, mae, model"
   ]
  },
  {
   "cell_type": "markdown",
   "id": "d798343f",
   "metadata": {},
   "source": [
    "### 1) Tuning aprameters"
   ]
  },
  {
   "cell_type": "markdown",
   "id": "61bb356a",
   "metadata": {},
   "source": [
    "#### Tuning n_estimators (default=100) and max_depth (default=3)"
   ]
  },
  {
   "cell_type": "code",
   "execution_count": 81,
   "id": "7d1c2867",
   "metadata": {
    "scrolled": true
   },
   "outputs": [
    {
     "name": "stderr",
     "output_type": "stream",
     "text": [
      "<ipython-input-81-0f903179d86f>:11: TqdmDeprecationWarning: This function will be removed in tqdm==5.0.0\n",
      "Please use `tqdm.notebook.tqdm` instead of `tqdm.tqdm_notebook`\n",
      "  for param in tqdm_notebook(param_list):\n"
     ]
    },
    {
     "data": {
      "application/vnd.jupyter.widget-view+json": {
       "model_id": "d6e2b19877b14f619d328b894818bd84",
       "version_major": 2,
       "version_minor": 0
      },
      "text/plain": [
       "  0%|          | 0/8 [00:00<?, ?it/s]"
      ]
     },
     "metadata": {},
     "output_type": "display_data"
    },
    {
     "name": "stdout",
     "output_type": "stream",
     "text": [
      "Minutes taken = 4.10\n"
     ]
    },
    {
     "data": {
      "text/html": [
       "<div>\n",
       "<style scoped>\n",
       "    .dataframe tbody tr th:only-of-type {\n",
       "        vertical-align: middle;\n",
       "    }\n",
       "\n",
       "    .dataframe tbody tr th {\n",
       "        vertical-align: top;\n",
       "    }\n",
       "\n",
       "    .dataframe thead th {\n",
       "        text-align: right;\n",
       "    }\n",
       "</style>\n",
       "<table border=\"1\" class=\"dataframe\">\n",
       "  <thead>\n",
       "    <tr style=\"text-align: right;\">\n",
       "      <th></th>\n",
       "      <th>n_estimators</th>\n",
       "      <th>max_depth</th>\n",
       "      <th>rmse</th>\n",
       "      <th>mae</th>\n",
       "    </tr>\n",
       "  </thead>\n",
       "  <tbody>\n",
       "    <tr>\n",
       "      <th>0</th>\n",
       "      <td>55</td>\n",
       "      <td>30</td>\n",
       "      <td>0.017648</td>\n",
       "      <td>0.012328</td>\n",
       "    </tr>\n",
       "    <tr>\n",
       "      <th>1</th>\n",
       "      <td>55</td>\n",
       "      <td>31</td>\n",
       "      <td>0.017298</td>\n",
       "      <td>0.012157</td>\n",
       "    </tr>\n",
       "    <tr>\n",
       "      <th>2</th>\n",
       "      <td>55</td>\n",
       "      <td>32</td>\n",
       "      <td>0.017029</td>\n",
       "      <td>0.011948</td>\n",
       "    </tr>\n",
       "    <tr>\n",
       "      <th>3</th>\n",
       "      <td>55</td>\n",
       "      <td>33</td>\n",
       "      <td>0.016950</td>\n",
       "      <td>0.011832</td>\n",
       "    </tr>\n",
       "    <tr>\n",
       "      <th>4</th>\n",
       "      <td>55</td>\n",
       "      <td>34</td>\n",
       "      <td>0.016930</td>\n",
       "      <td>0.011952</td>\n",
       "    </tr>\n",
       "    <tr>\n",
       "      <th>...</th>\n",
       "      <td>...</td>\n",
       "      <td>...</td>\n",
       "      <td>...</td>\n",
       "      <td>...</td>\n",
       "    </tr>\n",
       "    <tr>\n",
       "      <th>75</th>\n",
       "      <td>69</td>\n",
       "      <td>35</td>\n",
       "      <td>0.017336</td>\n",
       "      <td>0.012036</td>\n",
       "    </tr>\n",
       "    <tr>\n",
       "      <th>76</th>\n",
       "      <td>69</td>\n",
       "      <td>36</td>\n",
       "      <td>0.017538</td>\n",
       "      <td>0.012501</td>\n",
       "    </tr>\n",
       "    <tr>\n",
       "      <th>77</th>\n",
       "      <td>69</td>\n",
       "      <td>37</td>\n",
       "      <td>0.017200</td>\n",
       "      <td>0.012033</td>\n",
       "    </tr>\n",
       "    <tr>\n",
       "      <th>78</th>\n",
       "      <td>69</td>\n",
       "      <td>38</td>\n",
       "      <td>0.017274</td>\n",
       "      <td>0.012195</td>\n",
       "    </tr>\n",
       "    <tr>\n",
       "      <th>79</th>\n",
       "      <td>69</td>\n",
       "      <td>39</td>\n",
       "      <td>0.017685</td>\n",
       "      <td>0.012399</td>\n",
       "    </tr>\n",
       "  </tbody>\n",
       "</table>\n",
       "<p>80 rows × 4 columns</p>\n",
       "</div>"
      ],
      "text/plain": [
       "    n_estimators  max_depth      rmse       mae\n",
       "0             55         30  0.017648  0.012328\n",
       "1             55         31  0.017298  0.012157\n",
       "2             55         32  0.017029  0.011948\n",
       "3             55         33  0.016950  0.011832\n",
       "4             55         34  0.016930  0.011952\n",
       "..           ...        ...       ...       ...\n",
       "75            69         35  0.017336  0.012036\n",
       "76            69         36  0.017538  0.012501\n",
       "77            69         37  0.017200  0.012033\n",
       "78            69         38  0.017274  0.012195\n",
       "79            69         39  0.017685  0.012399\n",
       "\n",
       "[80 rows x 4 columns]"
      ]
     },
     "execution_count": 81,
     "metadata": {},
     "output_type": "execute_result"
    }
   ],
   "source": [
    "from tqdm import tqdm_notebook\n",
    "param_label = 'n_estimators'\n",
    "param_list = range(55, 70, 2)\n",
    "\n",
    "param2_label = 'max_depth'\n",
    "param2_list = range(30,40,1)\n",
    "\n",
    "error_rate = defaultdict(list)\n",
    "\n",
    "tic = time.time()\n",
    "for param in tqdm_notebook(param_list):\n",
    "    for param2 in param2_list:\n",
    "        rmse_mean, mae_mean,m = rf_model_train_val(X_train, y_train, X_val, y_val,\n",
    "                                                            n_estimators=param,max_depth=param2)\n",
    "    \n",
    "        # Collect results\n",
    "        error_rate[param_label].append(param)\n",
    "        error_rate[param2_label].append(param2)\n",
    "        error_rate['rmse'].append(rmse_mean)\n",
    "        error_rate['mae'].append(mae_mean)\n",
    "    \n",
    "error_rate = pd.DataFrame(error_rate)\n",
    "toc = time.time()\n",
    "print(\"Minutes taken = {0:.2f}\".format((toc-tic)/60.0))\n",
    "\n",
    "error_rate   "
   ]
  },
  {
   "cell_type": "code",
   "execution_count": 82,
   "id": "2f012ab5",
   "metadata": {},
   "outputs": [
    {
     "data": {
      "text/plain": [
       "<matplotlib.legend.Legend at 0x13f454623a0>"
      ]
     },
     "execution_count": 82,
     "metadata": {},
     "output_type": "execute_result"
    },
    {
     "data": {
      "image/png": "[encoded data removed]",
      "text/plain": [
       "<Figure size 720x576 with 1 Axes>"
      ]
     },
     "metadata": {
      "needs_background": "light"
     },
     "output_type": "display_data"
    }
   ],
   "source": [
    "# Plot performance versus params\n",
    "from pylab import rcParams\n",
    "import matplotlib\n",
    "rcParams['figure.figsize'] = 10, 8 # width 10, height 8\n",
    "temp = error_rate[error_rate[param2_label]==param2_list[0]]\n",
    "ax = temp.plot(x=param_label, y='rmse', style='bs-', grid=True)\n",
    "legend_list = [param2_label + '_' + str(param2_list[0])]\n",
    "\n",
    "color_list = ['r', 'g', 'k', 'y', 'm', 'c', '0.75']\n",
    "for i in range(1,len(param2_list)):\n",
    "    temp = error_rate[error_rate[param2_label]==param2_list[i]]\n",
    "    ax = temp.plot(x=param_label, y='rmse', color=color_list[i%len(color_list)], marker='s', grid=True, ax=ax)\n",
    "    legend_list.append(param2_label + '_' + str(param2_list[i]))\n",
    "\n",
    "ax.set_xlabel(param_label)\n",
    "ax.set_ylabel(\"RMSE\")\n",
    "# ax.set_ylim([0, 20])\n",
    "matplotlib.rcParams.update({'font.size': 14})\n",
    "plt.legend(legend_list, loc='center left', bbox_to_anchor=(1.0, 0.5)) # positions legend outside figure"
   ]
  },
  {
   "cell_type": "code",
   "execution_count": 83,
   "id": "49b8271f",
   "metadata": {},
   "outputs": [
    {
     "name": "stdout",
     "output_type": "stream",
     "text": [
      "min RMSE = 0.017\n",
      "optimum params = \n"
     ]
    },
    {
     "data": {
      "text/plain": [
       "(57, 37)"
      ]
     },
     "execution_count": 83,
     "metadata": {},
     "output_type": "execute_result"
    }
   ],
   "source": [
    "# Get optimum value for param and param2, using RMSE\n",
    "temp = error_rate[error_rate['rmse'] == error_rate['rmse'].min()]\n",
    "n_estimators_opt = temp['n_estimators'].values[0]\n",
    "max_depth_opt = temp['max_depth'].values[0]\n",
    "print(\"min RMSE = %0.3f\" % error_rate['rmse'].min())\n",
    "print(\"optimum params = \")\n",
    "n_estimators_opt, max_depth_opt"
   ]
  },
  {
   "cell_type": "markdown",
   "id": "0e6eb6e7",
   "metadata": {},
   "source": [
    "#### Tuning min_samples_split(default=2) and  min_samples_leaf(default=1)"
   ]
  },
  {
   "cell_type": "code",
   "execution_count": 84,
   "id": "5e023008",
   "metadata": {
    "scrolled": true
   },
   "outputs": [
    {
     "name": "stderr",
     "output_type": "stream",
     "text": [
      "<ipython-input-84-7cf10e88798f>:11: TqdmDeprecationWarning: This function will be removed in tqdm==5.0.0\n",
      "Please use `tqdm.notebook.tqdm` instead of `tqdm.tqdm_notebook`\n",
      "  for param in tqdm_notebook(param_list):\n"
     ]
    },
    {
     "data": {
      "application/vnd.jupyter.widget-view+json": {
       "model_id": "ddb8dbf3578d40f9bb1194bb00f2b8f6",
       "version_major": 2,
       "version_minor": 0
      },
      "text/plain": [
       "  0%|          | 0/3 [00:00<?, ?it/s]"
      ]
     },
     "metadata": {},
     "output_type": "display_data"
    },
    {
     "name": "stdout",
     "output_type": "stream",
     "text": [
      "Minutes taken = 0.65\n"
     ]
    },
    {
     "data": {
      "text/html": [
       "<div>\n",
       "<style scoped>\n",
       "    .dataframe tbody tr th:only-of-type {\n",
       "        vertical-align: middle;\n",
       "    }\n",
       "\n",
       "    .dataframe tbody tr th {\n",
       "        vertical-align: top;\n",
       "    }\n",
       "\n",
       "    .dataframe thead th {\n",
       "        text-align: right;\n",
       "    }\n",
       "</style>\n",
       "<table border=\"1\" class=\"dataframe\">\n",
       "  <thead>\n",
       "    <tr style=\"text-align: right;\">\n",
       "      <th></th>\n",
       "      <th>min_samples_split</th>\n",
       "      <th>min_samples_leaf</th>\n",
       "      <th>rmse</th>\n",
       "      <th>mae</th>\n",
       "    </tr>\n",
       "  </thead>\n",
       "  <tbody>\n",
       "    <tr>\n",
       "      <th>0</th>\n",
       "      <td>2</td>\n",
       "      <td>5</td>\n",
       "      <td>0.017058</td>\n",
       "      <td>0.011983</td>\n",
       "    </tr>\n",
       "    <tr>\n",
       "      <th>1</th>\n",
       "      <td>2</td>\n",
       "      <td>6</td>\n",
       "      <td>0.017134</td>\n",
       "      <td>0.011901</td>\n",
       "    </tr>\n",
       "    <tr>\n",
       "      <th>2</th>\n",
       "      <td>2</td>\n",
       "      <td>7</td>\n",
       "      <td>0.017030</td>\n",
       "      <td>0.011927</td>\n",
       "    </tr>\n",
       "    <tr>\n",
       "      <th>3</th>\n",
       "      <td>2</td>\n",
       "      <td>8</td>\n",
       "      <td>0.016829</td>\n",
       "      <td>0.011747</td>\n",
       "    </tr>\n",
       "    <tr>\n",
       "      <th>4</th>\n",
       "      <td>2</td>\n",
       "      <td>9</td>\n",
       "      <td>0.017110</td>\n",
       "      <td>0.011989</td>\n",
       "    </tr>\n",
       "    <tr>\n",
       "      <th>5</th>\n",
       "      <td>2</td>\n",
       "      <td>10</td>\n",
       "      <td>0.016819</td>\n",
       "      <td>0.011660</td>\n",
       "    </tr>\n",
       "    <tr>\n",
       "      <th>6</th>\n",
       "      <td>2</td>\n",
       "      <td>11</td>\n",
       "      <td>0.016911</td>\n",
       "      <td>0.011767</td>\n",
       "    </tr>\n",
       "    <tr>\n",
       "      <th>7</th>\n",
       "      <td>3</td>\n",
       "      <td>5</td>\n",
       "      <td>0.017137</td>\n",
       "      <td>0.011946</td>\n",
       "    </tr>\n",
       "    <tr>\n",
       "      <th>8</th>\n",
       "      <td>3</td>\n",
       "      <td>6</td>\n",
       "      <td>0.017176</td>\n",
       "      <td>0.011896</td>\n",
       "    </tr>\n",
       "    <tr>\n",
       "      <th>9</th>\n",
       "      <td>3</td>\n",
       "      <td>7</td>\n",
       "      <td>0.017172</td>\n",
       "      <td>0.011945</td>\n",
       "    </tr>\n",
       "    <tr>\n",
       "      <th>10</th>\n",
       "      <td>3</td>\n",
       "      <td>8</td>\n",
       "      <td>0.016869</td>\n",
       "      <td>0.011725</td>\n",
       "    </tr>\n",
       "    <tr>\n",
       "      <th>11</th>\n",
       "      <td>3</td>\n",
       "      <td>9</td>\n",
       "      <td>0.017025</td>\n",
       "      <td>0.011814</td>\n",
       "    </tr>\n",
       "    <tr>\n",
       "      <th>12</th>\n",
       "      <td>3</td>\n",
       "      <td>10</td>\n",
       "      <td>0.017069</td>\n",
       "      <td>0.011924</td>\n",
       "    </tr>\n",
       "    <tr>\n",
       "      <th>13</th>\n",
       "      <td>3</td>\n",
       "      <td>11</td>\n",
       "      <td>0.017298</td>\n",
       "      <td>0.011911</td>\n",
       "    </tr>\n",
       "    <tr>\n",
       "      <th>14</th>\n",
       "      <td>4</td>\n",
       "      <td>5</td>\n",
       "      <td>0.016979</td>\n",
       "      <td>0.011935</td>\n",
       "    </tr>\n",
       "    <tr>\n",
       "      <th>15</th>\n",
       "      <td>4</td>\n",
       "      <td>6</td>\n",
       "      <td>0.017071</td>\n",
       "      <td>0.011875</td>\n",
       "    </tr>\n",
       "    <tr>\n",
       "      <th>16</th>\n",
       "      <td>4</td>\n",
       "      <td>7</td>\n",
       "      <td>0.017117</td>\n",
       "      <td>0.011917</td>\n",
       "    </tr>\n",
       "    <tr>\n",
       "      <th>17</th>\n",
       "      <td>4</td>\n",
       "      <td>8</td>\n",
       "      <td>0.017088</td>\n",
       "      <td>0.011839</td>\n",
       "    </tr>\n",
       "    <tr>\n",
       "      <th>18</th>\n",
       "      <td>4</td>\n",
       "      <td>9</td>\n",
       "      <td>0.017145</td>\n",
       "      <td>0.011867</td>\n",
       "    </tr>\n",
       "    <tr>\n",
       "      <th>19</th>\n",
       "      <td>4</td>\n",
       "      <td>10</td>\n",
       "      <td>0.017006</td>\n",
       "      <td>0.011853</td>\n",
       "    </tr>\n",
       "    <tr>\n",
       "      <th>20</th>\n",
       "      <td>4</td>\n",
       "      <td>11</td>\n",
       "      <td>0.017027</td>\n",
       "      <td>0.011787</td>\n",
       "    </tr>\n",
       "  </tbody>\n",
       "</table>\n",
       "</div>"
      ],
      "text/plain": [
       "    min_samples_split  min_samples_leaf      rmse       mae\n",
       "0                   2                 5  0.017058  0.011983\n",
       "1                   2                 6  0.017134  0.011901\n",
       "2                   2                 7  0.017030  0.011927\n",
       "3                   2                 8  0.016829  0.011747\n",
       "4                   2                 9  0.017110  0.011989\n",
       "5                   2                10  0.016819  0.011660\n",
       "6                   2                11  0.016911  0.011767\n",
       "7                   3                 5  0.017137  0.011946\n",
       "8                   3                 6  0.017176  0.011896\n",
       "9                   3                 7  0.017172  0.011945\n",
       "10                  3                 8  0.016869  0.011725\n",
       "11                  3                 9  0.017025  0.011814\n",
       "12                  3                10  0.017069  0.011924\n",
       "13                  3                11  0.017298  0.011911\n",
       "14                  4                 5  0.016979  0.011935\n",
       "15                  4                 6  0.017071  0.011875\n",
       "16                  4                 7  0.017117  0.011917\n",
       "17                  4                 8  0.017088  0.011839\n",
       "18                  4                 9  0.017145  0.011867\n",
       "19                  4                10  0.017006  0.011853\n",
       "20                  4                11  0.017027  0.011787"
      ]
     },
     "execution_count": 84,
     "metadata": {},
     "output_type": "execute_result"
    }
   ],
   "source": [
    "from tqdm import tqdm_notebook\n",
    "param_label = 'min_samples_split'\n",
    "param_list = range(2, 5)\n",
    "\n",
    "param2_label = 'min_samples_leaf'\n",
    "param2_list = range(5,12)\n",
    "\n",
    "error_rate = defaultdict(list)\n",
    "\n",
    "tic = time.time()\n",
    "for param in tqdm_notebook(param_list):\n",
    "    for param2 in param2_list:\n",
    "        rmse_mean, mae_mean,m = rf_model_train_val(X_train, y_train, X_val, y_val,\n",
    "                                                                    n_estimators=n_estimators_opt,\n",
    "                                                                     max_depth=max_depth_opt,\n",
    "                                                                    min_samples_split=param,\n",
    "                                                                    min_samples_leaf=param2)\n",
    "    \n",
    "        # Collect results\n",
    "        error_rate[param_label].append(param)\n",
    "        error_rate[param2_label].append(param2)\n",
    "        error_rate['rmse'].append(rmse_mean)\n",
    "        error_rate['mae'].append(mae_mean)\n",
    "    \n",
    "error_rate = pd.DataFrame(error_rate)\n",
    "toc = time.time()\n",
    "print(\"Minutes taken = {0:.2f}\".format((toc-tic)/60.0))\n",
    "\n",
    "error_rate   "
   ]
  },
  {
   "cell_type": "code",
   "execution_count": 85,
   "id": "8be733b2",
   "metadata": {},
   "outputs": [
    {
     "data": {
      "text/plain": [
       "<matplotlib.legend.Legend at 0x13f4552dca0>"
      ]
     },
     "execution_count": 85,
     "metadata": {},
     "output_type": "execute_result"
    },
    {
     "data": {
      "image/png": "[encoded data removed]",
      "text/plain": [
       "<Figure size 720x576 with 1 Axes>"
      ]
     },
     "metadata": {
      "needs_background": "light"
     },
     "output_type": "display_data"
    }
   ],
   "source": [
    "# Plot performance versus params\n",
    "rcParams['figure.figsize'] = 10, 8 # width 10, height 8\n",
    "temp = error_rate[error_rate[param2_label]==param2_list[0]]\n",
    "ax = temp.plot(x=param_label, y='rmse', style='bs-', grid=True)\n",
    "legend_list = [param2_label + '_' + str(param2_list[0])]\n",
    "\n",
    "color_list = ['r', 'g', 'k', 'y', 'm', 'c', '0.75']\n",
    "for i in range(1,len(param2_list)):\n",
    "    temp = error_rate[error_rate[param2_label]==param2_list[i]]\n",
    "    ax = temp.plot(x=param_label, y='rmse', color=color_list[i%len(color_list)], marker='s', grid=True, ax=ax)\n",
    "    legend_list.append(param2_label + '_' + str(param2_list[i]))\n",
    "\n",
    "ax.set_xlabel(param_label)\n",
    "ax.set_ylabel(\"RMSE\")\n",
    "matplotlib.rcParams.update({'font.size': 14})\n",
    "plt.legend(legend_list, loc='center left', bbox_to_anchor=(1.0, 0.5)) # positions legend outside figure"
   ]
  },
  {
   "cell_type": "code",
   "execution_count": 86,
   "id": "4e5efacb",
   "metadata": {},
   "outputs": [
    {
     "name": "stdout",
     "output_type": "stream",
     "text": [
      "min RMSE = 0.017\n",
      "optimum params = \n"
     ]
    },
    {
     "data": {
      "text/plain": [
       "(2, 10)"
      ]
     },
     "execution_count": 86,
     "metadata": {},
     "output_type": "execute_result"
    }
   ],
   "source": [
    "# Get optimum value for param and param2, using RMSE\n",
    "temp = error_rate[error_rate['rmse'] == error_rate['rmse'].min()]\n",
    "min_samples_split_opt = temp['min_samples_split'].values[0]\n",
    "min_samples_leaf_opt = temp['min_samples_leaf'].values[0]\n",
    "print(\"min RMSE = %0.3f\" % error_rate['rmse'].min())\n",
    "print(\"optimum params = \")\n",
    "min_samples_split_opt, min_samples_leaf_opt"
   ]
  },
  {
   "cell_type": "markdown",
   "id": "24082890",
   "metadata": {},
   "source": [
    "#### Final Model"
   ]
  },
  {
   "cell_type": "code",
   "execution_count": 87,
   "id": "3b81a811",
   "metadata": {},
   "outputs": [
    {
     "name": "stdout",
     "output_type": "stream",
     "text": [
      "RMSE = 0.017\n",
      "MAE = 0.012\n"
     ]
    }
   ],
   "source": [
    "# Get error metrics on validation set after hyperparameter tuning\n",
    "rf_rmse_aft_tuning,rf_mae_aft_tuning, rf_model_aft_tuning = \\\n",
    "                                                                        rf_model_train_val(X_train, y_train, X_val, y_val,                                                        \n",
    "                                                                        n_estimators=n_estimators_opt,\n",
    "                                                                        max_depth=max_depth_opt,                                                                        \n",
    "                                                                        min_samples_split=min_samples_split_opt,\n",
    "                                                                        min_samples_leaf=min_samples_leaf_opt)\n",
    "print(\"RMSE = %0.3f\" % rf_rmse_aft_tuning)\n",
    "print(\"MAE = %0.3f\" % rf_mae_aft_tuning)"
   ]
  },
  {
   "cell_type": "code",
   "execution_count": 88,
   "id": "17803e77",
   "metadata": {},
   "outputs": [
    {
     "name": "stdout",
     "output_type": "stream",
     "text": [
      "RMSE = 0.021\n",
      "MAE = 0.016\n"
     ]
    }
   ],
   "source": [
    "# Do prediction on test set\n",
    "rf_test_rmse_aft_tuning, rf_test_mae_aft_tuning,rf_pred = model_test_eval(X_test, y_test,rf_model_aft_tuning)\n",
    "\n",
    "print(\"RMSE = %0.3f\" % rf_test_rmse_aft_tuning)\n",
    "print(\"MAE = %0.3f\" % rf_test_mae_aft_tuning)"
   ]
  },
  {
   "cell_type": "markdown",
   "id": "274dee06",
   "metadata": {},
   "source": [
    "### Importance Analysis"
   ]
  },
  {
   "cell_type": "code",
   "execution_count": 91,
   "id": "69a6f4bd",
   "metadata": {},
   "outputs": [
    {
     "data": {
      "text/html": [
       "<div>\n",
       "<style scoped>\n",
       "    .dataframe tbody tr th:only-of-type {\n",
       "        vertical-align: middle;\n",
       "    }\n",
       "\n",
       "    .dataframe tbody tr th {\n",
       "        vertical-align: top;\n",
       "    }\n",
       "\n",
       "    .dataframe thead th {\n",
       "        text-align: right;\n",
       "    }\n",
       "</style>\n",
       "<table border=\"1\" class=\"dataframe\">\n",
       "  <thead>\n",
       "    <tr style=\"text-align: right;\">\n",
       "      <th></th>\n",
       "      <th>features</th>\n",
       "      <th>importance</th>\n",
       "    </tr>\n",
       "  </thead>\n",
       "  <tbody>\n",
       "    <tr>\n",
       "      <th>2</th>\n",
       "      <td>ret_lag3</td>\n",
       "      <td>0.058873</td>\n",
       "    </tr>\n",
       "    <tr>\n",
       "      <th>4</th>\n",
       "      <td>ret_lag5</td>\n",
       "      <td>0.053939</td>\n",
       "    </tr>\n",
       "    <tr>\n",
       "      <th>5</th>\n",
       "      <td>ret_lag6</td>\n",
       "      <td>0.046349</td>\n",
       "    </tr>\n",
       "    <tr>\n",
       "      <th>3</th>\n",
       "      <td>ret_lag4</td>\n",
       "      <td>0.037920</td>\n",
       "    </tr>\n",
       "    <tr>\n",
       "      <th>6</th>\n",
       "      <td>ret_lag7</td>\n",
       "      <td>0.036709</td>\n",
       "    </tr>\n",
       "    <tr>\n",
       "      <th>...</th>\n",
       "      <td>...</td>\n",
       "      <td>...</td>\n",
       "    </tr>\n",
       "    <tr>\n",
       "      <th>64</th>\n",
       "      <td>宏观_进口价格指数(总)_diff1</td>\n",
       "      <td>0.001674</td>\n",
       "    </tr>\n",
       "    <tr>\n",
       "      <th>69</th>\n",
       "      <td>宏观_金融机构各项贷款余额_diff1</td>\n",
       "      <td>0.001624</td>\n",
       "    </tr>\n",
       "    <tr>\n",
       "      <th>11</th>\n",
       "      <td>收盘价(元)_diff1</td>\n",
       "      <td>0.001520</td>\n",
       "    </tr>\n",
       "    <tr>\n",
       "      <th>70</th>\n",
       "      <td>宏观_社会融资规模_diff1</td>\n",
       "      <td>0.001147</td>\n",
       "    </tr>\n",
       "    <tr>\n",
       "      <th>67</th>\n",
       "      <td>宏观_社会消费品零售总额_diff1</td>\n",
       "      <td>0.000651</td>\n",
       "    </tr>\n",
       "  </tbody>\n",
       "</table>\n",
       "<p>71 rows × 2 columns</p>\n",
       "</div>"
      ],
      "text/plain": [
       "               features  importance\n",
       "2              ret_lag3    0.058873\n",
       "4              ret_lag5    0.053939\n",
       "5              ret_lag6    0.046349\n",
       "3              ret_lag4    0.037920\n",
       "6              ret_lag7    0.036709\n",
       "..                  ...         ...\n",
       "64   宏观_进口价格指数(总)_diff1    0.001674\n",
       "69  宏观_金融机构各项贷款余额_diff1    0.001624\n",
       "11         收盘价(元)_diff1    0.001520\n",
       "70      宏观_社会融资规模_diff1    0.001147\n",
       "67   宏观_社会消费品零售总额_diff1    0.000651\n",
       "\n",
       "[71 rows x 2 columns]"
      ]
     },
     "execution_count": 91,
     "metadata": {},
     "output_type": "execute_result"
    }
   ],
   "source": [
    "a =rf_model_aft_tuning.feature_importances_\n",
    "a1 = pd.DataFrame(a)\n",
    "a1.columns = ['importance']\n",
    "b = X_train.columns\n",
    "b1 = pd.DataFrame(b)\n",
    "b1.columns = ['features']\n",
    "c = pd.concat([b1,a1],axis = 1)\n",
    "c.sort_values(by= 'importance' , inplace=True, ascending=False) \n",
    "c"
   ]
  },
  {
   "cell_type": "code",
   "execution_count": 92,
   "id": "a43d0a6c",
   "metadata": {},
   "outputs": [
    {
     "name": "stdout",
     "output_type": "stream",
     "text": [
      "                     features  importance\n",
      "2                    ret_lag3    0.058873\n",
      "4                    ret_lag5    0.053939\n",
      "5                    ret_lag6    0.046349\n",
      "3                    ret_lag4    0.037920\n",
      "6                    ret_lag7    0.036709\n",
      "27              周最高价(元)_diff1    0.032451\n",
      "55  Industry_市盈率PE(TTM)_diff1    0.030608\n",
      "8                开盘价(元)_diff1    0.025475\n",
      "1                    ret_lag2    0.025422\n",
      "16                均价(元)_diff1    0.025152\n"
     ]
    },
    {
     "data": {
      "text/plain": [
       "<AxesSubplot:ylabel='features'>"
      ]
     },
     "execution_count": 92,
     "metadata": {},
     "output_type": "execute_result"
    },
    {
     "data": {
      "image/png": "[encoded data removed]",
      "text/plain": [
       "<Figure size 864x576 with 1 Axes>"
      ]
     },
     "metadata": {
      "needs_background": "light"
     },
     "output_type": "display_data"
    }
   ],
   "source": [
    "matplotlib.rcParams['font.sans-serif'] = ['SimHei']     # 显示中文\n",
    "# 为了坐标轴负号正常显示。matplotlib默认不支持中文，设置中文字体后，负号会显示异常。需要手动将坐标轴负号设为False才能正常显示负号。\n",
    "matplotlib.rcParams['axes.unicode_minus'] = False\n",
    "\n",
    "hkws_top10 = c.head(10)\n",
    "print(hkws_top10)\n",
    "imp = pd.DataFrame(np.array(hkws_top10['importance']), index=hkws_top10['features'], columns=['importance'])\n",
    "imp.plot(kind='barh', figsize=(12, 8))\n",
    "#hkws_top10.sort_values('importance').plot(kind='barh', figsize=(12, 8))"
   ]
  },
  {
   "cell_type": "code",
   "execution_count": null,
   "id": "8bb4d1bf",
   "metadata": {},
   "outputs": [],
   "source": [
    "# rf_pred = pd.DataFrame(rf_pred,columns = ['601390_rf'])\n",
    "# rf_pred.to_excel('D:\\海康威视1.xlsx', index = False)"
   ]
  },
  {
   "cell_type": "markdown",
   "id": "eccb2731",
   "metadata": {},
   "source": [
    "## 5. Model comparison"
   ]
  },
  {
   "cell_type": "code",
   "execution_count": 93,
   "id": "3afc2d51",
   "metadata": {},
   "outputs": [
    {
     "data": {
      "text/html": [
       "<div>\n",
       "<style scoped>\n",
       "    .dataframe tbody tr th:only-of-type {\n",
       "        vertical-align: middle;\n",
       "    }\n",
       "\n",
       "    .dataframe tbody tr th {\n",
       "        vertical-align: top;\n",
       "    }\n",
       "\n",
       "    .dataframe thead th {\n",
       "        text-align: right;\n",
       "    }\n",
       "</style>\n",
       "<table border=\"1\" class=\"dataframe\">\n",
       "  <thead>\n",
       "    <tr style=\"text-align: right;\">\n",
       "      <th></th>\n",
       "      <th>XGBOOST_validation</th>\n",
       "      <th>Random Forest_validation</th>\n",
       "      <th>XGBOOST_test</th>\n",
       "      <th>Random Forest_test</th>\n",
       "    </tr>\n",
       "  </thead>\n",
       "  <tbody>\n",
       "    <tr>\n",
       "      <th>RMSE</th>\n",
       "      <td>0.017</td>\n",
       "      <td>0.017</td>\n",
       "      <td>0.021</td>\n",
       "      <td>0.021</td>\n",
       "    </tr>\n",
       "    <tr>\n",
       "      <th>MAE</th>\n",
       "      <td>0.012</td>\n",
       "      <td>0.012</td>\n",
       "      <td>0.016</td>\n",
       "      <td>0.016</td>\n",
       "    </tr>\n",
       "  </tbody>\n",
       "</table>\n",
       "</div>"
      ],
      "text/plain": [
       "      XGBOOST_validation  Random Forest_validation  XGBOOST_test  \\\n",
       "RMSE               0.017                     0.017         0.021   \n",
       "MAE                0.012                     0.012         0.016   \n",
       "\n",
       "      Random Forest_test  \n",
       "RMSE               0.021  \n",
       "MAE                0.016  "
      ]
     },
     "execution_count": 93,
     "metadata": {},
     "output_type": "execute_result"
    }
   ],
   "source": [
    "# Tuned params and before and after error metrics\n",
    "c = {'XGBOOST_validation': [ xgb_rmse_aft_tuning, xgb_mae_aft_tuning],\n",
    "     'Random Forest_validation': [rf_rmse_aft_tuning,rf_mae_aft_tuning],\n",
    "     'XGBOOST_test': [ xgb_test_rmse_aft_tuning,  xgb_test_mae_aft_tuning],\n",
    "     'Random Forest_test': [rf_test_rmse_aft_tuning, rf_test_mae_aft_tuning],}\n",
    "comparison = pd.DataFrame(c)\n",
    "comparison.index = ['RMSE','MAE']\n",
    "comparison = comparison.round(3)\n",
    "comparison"
   ]
  },
  {
   "cell_type": "code",
   "execution_count": null,
   "id": "32bc0ab0",
   "metadata": {},
   "outputs": [],
   "source": []
  }
 ],
 "metadata": {
  "kernelspec": {
   "display_name": "Python 3",
   "language": "python",
   "name": "python3"
  },
  "language_info": {
   "codemirror_mode": {
    "name": "ipython",
    "version": 3
   },
   "file_extension": ".py",
   "mimetype": "text/x-python",
   "name": "python",
   "nbconvert_exporter": "python",
   "pygments_lexer": "ipython3",
   "version": "3.8.8"
  }
 },
 "nbformat": 4,
 "nbformat_minor": 5
}
