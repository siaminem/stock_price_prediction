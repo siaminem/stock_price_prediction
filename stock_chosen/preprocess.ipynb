{
 "cells": [
  {
   "cell_type": "code",
   "execution_count": 53,
   "id": "97a879c0",
   "metadata": {},
   "outputs": [],
   "source": [
    "import numpy as np\n",
    "import pandas as pd\n",
    "import os"
   ]
  },
  {
   "cell_type": "code",
   "execution_count": 112,
   "id": "a3eee627",
   "metadata": {},
   "outputs": [],
   "source": [
    "def scale(x):\n",
    "    return (x - x.mean())/x.std()\n",
    "\n",
    "def winsor(x, floor, root): \n",
    "    x[x < x.quantile(floor)] = x.quantile(floor)\n",
    "    x[x > x.quantile(root)] = x.quantile(root)\n",
    "    return x\n",
    "\n",
    "def type_change(x):\n",
    "    res = []\n",
    "    for i in x:\n",
    "        try:\n",
    "            res.append(float(i))\n",
    "        except (ValueError):\n",
    "            res.append(np.nan)\n",
    "    return res"
   ]
  },
  {
   "cell_type": "code",
   "execution_count": 3,
   "id": "0e6a7cb5",
   "metadata": {},
   "outputs": [],
   "source": [
    "WindA = pd.read_excel('wind全A行情.xlsx', parse_dates = True)\n",
    "WindA = WindA.iloc[:WindA.shape[0]-2,:]\n",
    "WindA.columns = list(map(lambda x: x.split(sep=\"\\n\")[0],WindA.columns.tolist()))\n",
    "WindA.set_index(\"时间\",inplace=True)"
   ]
  },
  {
   "cell_type": "code",
   "execution_count": 25,
   "id": "e5ba6967",
   "metadata": {},
   "outputs": [],
   "source": [
    "WindA_v1 = pd.DataFrame()\n",
    "WindA_v1[\"涨跌幅\"] = (WindA[\"收盘价\"] - WindA[\"前收盘价\"])/WindA[\"前收盘价\"]\n",
    "WindA_v1[['收盘价','成交量', '换手率', '周最高价',\n",
    "       '周最低价', '周均价', '周成交量', '周涨跌幅', '自由流通股本', '市盈率PE(TTM)',\n",
    "       '市净率PB(LF)', '股息率(近12个月)', '一致预测净利润(FY1)', '一致预测净利润(FY2)']] = WindA[['收盘价','成交量', '换手率', '周最高价',\n",
    "       '周最低价', '周均价', '周成交量', '周涨跌幅', '自由流通股本', '市盈率PE(TTM)',\n",
    "       '市净率PB(LF)', '股息率(近12个月)', '一致预测净利润(FY1)', '一致预测净利润(FY2)']]\n",
    "WindA_v1 = WindA_v1.apply(winsor,floor=0.025,root=0.975,axis = 0)\n",
    "WindA_v1 = WindA_v1.apply(scale,axis=0)\n",
    "WindA_v1.columns = \"WindA_\" + WindA_v1.columns"
   ]
  },
  {
   "cell_type": "markdown",
   "id": "4aae4d9d",
   "metadata": {},
   "source": [
    "## 工业行情"
   ]
  },
  {
   "cell_type": "code",
   "execution_count": 17,
   "id": "9c242f37",
   "metadata": {},
   "outputs": [],
   "source": [
    "Industry = pd.read_excel('工业行情.xlsx', parse_dates = True)\n",
    "Industry = Industry.iloc[:Industry.shape[0]-2,:]\n",
    "Industry.columns = list(map(lambda x: x.split(sep=\"\\n\")[0],Industry.columns.tolist()))\n",
    "Industry.set_index(\"时间\",inplace=True)"
   ]
  },
  {
   "cell_type": "code",
   "execution_count": 26,
   "id": "ae6656e5",
   "metadata": {},
   "outputs": [],
   "source": [
    "Industry_v1 = pd.DataFrame()\n",
    "Industry_v1[\"涨跌幅\"] = (Industry[\"收盘价\"] - Industry[\"前收盘价\"])/Industry[\"前收盘价\"]\n",
    "Industry_v1[['收盘价','成交量', '换手率', '周最高价',\n",
    "       '周最低价', '周均价', '周成交量', '周涨跌幅', '自由流通股本', '市盈率PE(TTM)',\n",
    "       '市净率PB(LF)', '股息率(近12个月)', '一致预测净利润(FY1)', '一致预测净利润(FY2)']] = Industry[['收盘价','成交量', '换手率', '周最高价',\n",
    "       '周最低价', '周均价', '周成交量', '周涨跌幅', '自由流通股本', '市盈率PE(TTM)',\n",
    "       '市净率PB(LF)', '股息率(近12个月)', '一致预测净利润(FY1)', '一致预测净利润(FY2)']]\n",
    "Industry_v1 = Industry_v1.apply(winsor,floor=0.025,root=0.975,axis = 0)\n",
    "Industry_v1 = Industry_v1.apply(scale,axis=0)\n",
    "Industry_v1.columns = \"Industry_\" + Industry_v1.columns"
   ]
  },
  {
   "cell_type": "markdown",
   "id": "15467aeb",
   "metadata": {},
   "source": [
    "## 信息技术"
   ]
  },
  {
   "cell_type": "code",
   "execution_count": 27,
   "id": "0312dedd",
   "metadata": {},
   "outputs": [],
   "source": [
    "info_tech = pd.read_excel('工业行情.xlsx', parse_dates = True)\n",
    "info_tech = info_tech.iloc[:info_tech.shape[0]-2,:]\n",
    "info_tech.columns = list(map(lambda x: x.split(sep=\"\\n\")[0],info_tech.columns.tolist()))\n",
    "info_tech.set_index(\"时间\",inplace=True)"
   ]
  },
  {
   "cell_type": "code",
   "execution_count": 28,
   "id": "1c1990b6",
   "metadata": {},
   "outputs": [],
   "source": [
    "info_tech_v1 = pd.DataFrame()\n",
    "info_tech_v1[\"涨跌幅\"] = (info_tech[\"收盘价\"] - info_tech[\"前收盘价\"])/info_tech[\"前收盘价\"]\n",
    "info_tech_v1[['收盘价','成交量', '换手率', '周最高价',\n",
    "       '周最低价', '周均价', '周成交量', '周涨跌幅', '自由流通股本', '市盈率PE(TTM)',\n",
    "       '市净率PB(LF)', '股息率(近12个月)', '一致预测净利润(FY1)', '一致预测净利润(FY2)']] = info_tech[['收盘价','成交量', '换手率', '周最高价',\n",
    "       '周最低价', '周均价', '周成交量', '周涨跌幅', '自由流通股本', '市盈率PE(TTM)',\n",
    "       '市净率PB(LF)', '股息率(近12个月)', '一致预测净利润(FY1)', '一致预测净利润(FY2)']]\n",
    "info_tech_v1 = info_tech_v1.apply(winsor,floor=0.025,root=0.975,axis = 0)\n",
    "info_tech_v1 = info_tech_v1.apply(scale,axis=0)\n",
    "info_tech_v1.columns = \"info_tech_\" + info_tech_v1.columns"
   ]
  },
  {
   "cell_type": "markdown",
   "id": "9ba22bde",
   "metadata": {},
   "source": [
    "## 宏观变量"
   ]
  },
  {
   "cell_type": "code",
   "execution_count": 30,
   "id": "34ba0e0a",
   "metadata": {},
   "outputs": [],
   "source": [
    "macro_var = pd.read_excel('宏观变量.xlsx', parse_dates = True)"
   ]
  },
  {
   "cell_type": "code",
   "execution_count": 36,
   "id": "3d585252",
   "metadata": {},
   "outputs": [],
   "source": [
    "macro_var.columns = ['时间', 'CPI', 'PPI', '出口价格指数(总)',\n",
    "       '出口价格指数(车船航)', '进口价格指数(总)',\n",
    "       '进口价格指数(车船航)', '固定资产投资完成额', '社会消费品零售总额',\n",
    "       'M2', '金融机构各项贷款余额', '社会融资规模']\n",
    "       \n",
    "macro_var.set_index('时间',inplace=True)\n",
    "macro_var.index = macro_var.index.strftime(\"%Y-%m\")\n",
    "macro_var.columns = \"宏观_\" + macro_var.columns"
   ]
  },
  {
   "cell_type": "code",
   "execution_count": 47,
   "id": "035e7beb",
   "metadata": {},
   "outputs": [],
   "source": [
    "temp = info_tech_v1\n",
    "temp[\"date_trans\"] = info_tech_v1.index.strftime(\"%Y-%m\")\n",
    "info_macro = pd.merge(temp,macro_var,left_on=\"date_trans\",right_index=True)\n",
    "del info_macro[\"date_trans\"]"
   ]
  },
  {
   "cell_type": "code",
   "execution_count": 49,
   "id": "23f302e7",
   "metadata": {},
   "outputs": [],
   "source": [
    "temp = Industry_v1\n",
    "temp[\"date_trans\"] = Industry_v1.index.strftime(\"%Y-%m\")\n",
    "industry_macro = pd.merge(temp,macro_var,left_on=\"date_trans\",right_index=True)\n",
    "del industry_macro[\"date_trans\"]"
   ]
  },
  {
   "cell_type": "code",
   "execution_count": 52,
   "id": "a2f580eb",
   "metadata": {},
   "outputs": [],
   "source": [
    "info_macro.to_excel(\"data_prepocessed/信息行业和宏观.xlsx\")\n",
    "industry_macro.to_excel(\"data_prepocessed/工业行业和宏观.xlsx\")"
   ]
  },
  {
   "cell_type": "markdown",
   "id": "72527695",
   "metadata": {},
   "source": [
    "### 个股"
   ]
  },
  {
   "cell_type": "code",
   "execution_count": 54,
   "id": "9abe0027",
   "metadata": {},
   "outputs": [
    {
     "data": {
      "text/plain": [
       "['002415.SZ.xlsx', '002475.SZ.xlsx', '601012.SH.xlsx']"
      ]
     },
     "execution_count": 54,
     "metadata": {},
     "output_type": "execute_result"
    }
   ],
   "source": [
    "os.listdir(\"成长\")"
   ]
  },
  {
   "cell_type": "code",
   "execution_count": null,
   "id": "0960cc35",
   "metadata": {},
   "outputs": [],
   "source": [
    "temp = pd.read_excel(\"成长/\"+,parse_dates=True)"
   ]
  },
  {
   "cell_type": "code",
   "execution_count": null,
   "id": "602be10f",
   "metadata": {},
   "outputs": [],
   "source": [
    "os.listdir(\"成长\")"
   ]
  },
  {
   "cell_type": "code",
   "execution_count": 179,
   "id": "c3adf15a",
   "metadata": {},
   "outputs": [],
   "source": [
    "## 成长\n",
    "for i, stk in enumerate(os.listdir(\"成长\")):\n",
    "    temp = pd.read_excel(\"成长/\"+stk,parse_dates=True)\n",
    "    temp = temp.iloc[:temp.shape[0]-2,:]\n",
    "    temp.columns = list(map(lambda x: x.split(sep=\"\\n\")[0],temp.columns.tolist()))\n",
    "    temp.set_index(\"日期\",inplace=True)\n",
    "    stk_name = temp[\"简称\"][-1]\n",
    "    temp.drop(temp.loc[:,\"代码\":\"简称\"].columns, axis = 1, inplace=True)\n",
    "    del temp[\"B股流通市值(元)\"]\n",
    "    ## 因变脸\n",
    "    ## 未来一期价格\n",
    "    Y = pd.Series(temp[\"收盘价(元)\"][1:].tolist(), index = list(temp.index)[:-1],name=\"股价\")\n",
    "    pd.merge(Y,temp,left_index=True,right_index=True,how=\"left\")\n",
    "\n",
    "    ## 类型转化\n",
    "    for column in temp.columns:\n",
    "        if temp[column].dtype == object:\n",
    "            temp[column] = type_change(temp[column])\n",
    "        temp[column].astype(float)\n",
    "\n",
    "    ## 缺失值填充\n",
    "    if temp.isnull().sum().sum() == 0:\n",
    "        pass\n",
    "    else:\n",
    "        temp.apply(lambda x: x.fillna(x.mean()))\n",
    "\n",
    "    temp = temp.apply(winsor,floor=0.025,root=0.975,axis = 0)\n",
    "    temp= temp.apply(scale,axis=0)\n",
    "\n",
    "    temp = pd.merge(Y,temp,left_index=True,right_index=True,how=\"left\")\n",
    "    res = pd.merge(temp, industry_macro,left_index=True,right_index=True,how=\"left\").fillna(method=\"ffill\")\n",
    "    res = res.dropna(axis = 0)\n",
    "    res.to_excel(\"data_prepocessed/\"+stk_name+\"_\"+stk[:6]+\"_稳定.xlsx\")"
   ]
  },
  {
   "cell_type": "code",
   "execution_count": 180,
   "id": "5a5da6d6",
   "metadata": {},
   "outputs": [],
   "source": [
    "## 稳定\n",
    "for i, stk in enumerate(os.listdir(\"稳定\")):\n",
    "    temp = pd.read_excel(\"稳定/\"+stk,parse_dates=True)\n",
    "    temp = temp.iloc[:temp.shape[0]-2,:]\n",
    "    temp.columns = list(map(lambda x: x.split(sep=\"\\n\")[0],temp.columns.tolist()))\n",
    "    temp.set_index(\"日期\",inplace=True)\n",
    "    stk_name = temp[\"简称\"][-1]\n",
    "    temp.drop(temp.loc[:,\"代码\":\"简称\"].columns, axis = 1, inplace=True)\n",
    "    del temp[\"B股流通市值(元)\"]\n",
    "    ## 因变脸\n",
    "    ## 未来一期价格\n",
    "    Y = pd.Series(temp[\"收盘价(元)\"][1:].tolist(), index = list(temp.index)[:-1],name=\"股价\")\n",
    "    pd.merge(Y,temp,left_index=True,right_index=True,how=\"left\")\n",
    "\n",
    "    ## 类型转化\n",
    "    for column in temp.columns:\n",
    "        if temp[column].dtype == object:\n",
    "            temp[column] = type_change(temp[column])\n",
    "        temp[column].astype(float)\n",
    "\n",
    "    ## 缺失值填充\n",
    "    if temp.isnull().sum().sum() == 0:\n",
    "        pass\n",
    "    else:\n",
    "        temp.apply(lambda x: x.fillna(x.mean()))\n",
    "\n",
    "    temp = temp.apply(winsor,floor=0.025,root=0.975,axis = 0)\n",
    "    temp= temp.apply(scale,axis=0)\n",
    "\n",
    "    temp = pd.merge(Y,temp,left_index=True,right_index=True,how=\"left\")\n",
    "    res = pd.merge(temp, info_macro,left_index=True,right_index=True,how=\"left\").fillna(method=\"ffill\")\n",
    "    res = res.dropna(axis = 0)\n",
    "    res.to_excel(\"data_prepocessed/\"+stk_name+\"_\"+stk[:6]+\"_稳定.xlsx\")"
   ]
  }
 ],
 "metadata": {
  "kernelspec": {
   "display_name": "Python 3.9.15 ('py39')",
   "language": "python",
   "name": "python3"
  },
  "language_info": {
   "codemirror_mode": {
    "name": "ipython",
    "version": 3
   },
   "file_extension": ".py",
   "mimetype": "text/x-python",
   "name": "python",
   "nbconvert_exporter": "python",
   "pygments_lexer": "ipython3",
   "version": "3.9.15"
  },
  "vscode": {
   "interpreter": {
    "hash": "a06a86945558717ceee205d08794ea0538a88ea381b375d591e8181b3d6611ce"
   }
  }
 },
 "nbformat": 4,
 "nbformat_minor": 5
}
